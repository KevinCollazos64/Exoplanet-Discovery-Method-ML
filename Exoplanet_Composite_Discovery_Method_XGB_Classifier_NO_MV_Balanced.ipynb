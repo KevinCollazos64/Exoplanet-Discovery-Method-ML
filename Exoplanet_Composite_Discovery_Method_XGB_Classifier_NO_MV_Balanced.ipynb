{
 "cells": [
  {
   "cell_type": "code",
   "execution_count": 1,
   "id": "42153274-7526-423a-bc55-c23c906faf26",
   "metadata": {},
   "outputs": [],
   "source": [
    "import pandas as pd"
   ]
  },
  {
   "cell_type": "markdown",
   "id": "5eb0685e-02f9-4dee-bb50-ef64bf69782c",
   "metadata": {},
   "source": [
    "# XGB Model\n",
    "\n",
    "## Load the preprocessed data"
   ]
  },
  {
   "cell_type": "code",
   "execution_count": 2,
   "id": "225a2390-23b3-46ef-b3aa-ee1eba1cc0b7",
   "metadata": {},
   "outputs": [
    {
     "data": {
      "text/html": [
       "<div>\n",
       "<style scoped>\n",
       "    .dataframe tbody tr th:only-of-type {\n",
       "        vertical-align: middle;\n",
       "    }\n",
       "\n",
       "    .dataframe tbody tr th {\n",
       "        vertical-align: top;\n",
       "    }\n",
       "\n",
       "    .dataframe thead th {\n",
       "        text-align: right;\n",
       "    }\n",
       "</style>\n",
       "<table border=\"1\" class=\"dataframe\">\n",
       "  <thead>\n",
       "    <tr style=\"text-align: right;\">\n",
       "      <th></th>\n",
       "      <th>Number of Stars</th>\n",
       "      <th>Number of Planets</th>\n",
       "      <th>Number of Moons</th>\n",
       "      <th>Circumbinary Flag</th>\n",
       "      <th>Discovery Year</th>\n",
       "      <th>Detected by Radial Velocity Variations</th>\n",
       "      <th>Detected by Pulsar Timing Variations</th>\n",
       "      <th>Detected by Pulsation Timing Variations</th>\n",
       "      <th>Detected by Transits</th>\n",
       "      <th>Detected by Astrometric Variations</th>\n",
       "      <th>Detected by Orbital Brightness Modulations</th>\n",
       "      <th>Detected by Microlensing</th>\n",
       "      <th>Detected by Eclipse Timing Variations</th>\n",
       "      <th>Detected by Imaging</th>\n",
       "      <th>Detected by Disk Kinematics</th>\n",
       "      <th>Controversial Flag</th>\n",
       "      <th>Galactic Latitude [deg]</th>\n",
       "      <th>Galactic Longitude [deg]</th>\n",
       "      <th>Ecliptic Latitude [deg]</th>\n",
       "      <th>Ecliptic Longitude [deg]</th>\n",
       "      <th>Number of Photometry Time Series</th>\n",
       "      <th>Number of Radial Velocity Time Series</th>\n",
       "      <th>Number of Stellar Spectra Measurements</th>\n",
       "      <th>Number of Emission Spectroscopy Measurements</th>\n",
       "      <th>Number of Transmission Spectroscopy Measurements</th>\n",
       "    </tr>\n",
       "  </thead>\n",
       "  <tbody>\n",
       "    <tr>\n",
       "      <th>0</th>\n",
       "      <td>2</td>\n",
       "      <td>1</td>\n",
       "      <td>0</td>\n",
       "      <td>0</td>\n",
       "      <td>2007</td>\n",
       "      <td>1</td>\n",
       "      <td>0</td>\n",
       "      <td>0</td>\n",
       "      <td>0</td>\n",
       "      <td>0</td>\n",
       "      <td>0</td>\n",
       "      <td>0</td>\n",
       "      <td>0</td>\n",
       "      <td>0</td>\n",
       "      <td>0</td>\n",
       "      <td>0</td>\n",
       "      <td>78.28058</td>\n",
       "      <td>264.13775</td>\n",
       "      <td>18.33392</td>\n",
       "      <td>177.41790</td>\n",
       "      <td>1</td>\n",
       "      <td>2</td>\n",
       "      <td>0</td>\n",
       "      <td>0</td>\n",
       "      <td>0</td>\n",
       "    </tr>\n",
       "    <tr>\n",
       "      <th>1</th>\n",
       "      <td>1</td>\n",
       "      <td>1</td>\n",
       "      <td>0</td>\n",
       "      <td>0</td>\n",
       "      <td>2009</td>\n",
       "      <td>1</td>\n",
       "      <td>0</td>\n",
       "      <td>0</td>\n",
       "      <td>0</td>\n",
       "      <td>0</td>\n",
       "      <td>0</td>\n",
       "      <td>0</td>\n",
       "      <td>0</td>\n",
       "      <td>0</td>\n",
       "      <td>0</td>\n",
       "      <td>0</td>\n",
       "      <td>41.04437</td>\n",
       "      <td>108.71900</td>\n",
       "      <td>74.95821</td>\n",
       "      <td>141.64699</td>\n",
       "      <td>1</td>\n",
       "      <td>1</td>\n",
       "      <td>0</td>\n",
       "      <td>0</td>\n",
       "      <td>0</td>\n",
       "    </tr>\n",
       "    <tr>\n",
       "      <th>2</th>\n",
       "      <td>1</td>\n",
       "      <td>1</td>\n",
       "      <td>0</td>\n",
       "      <td>0</td>\n",
       "      <td>2008</td>\n",
       "      <td>1</td>\n",
       "      <td>0</td>\n",
       "      <td>0</td>\n",
       "      <td>0</td>\n",
       "      <td>0</td>\n",
       "      <td>0</td>\n",
       "      <td>0</td>\n",
       "      <td>0</td>\n",
       "      <td>0</td>\n",
       "      <td>0</td>\n",
       "      <td>0</td>\n",
       "      <td>-21.05141</td>\n",
       "      <td>106.41269</td>\n",
       "      <td>38.22901</td>\n",
       "      <td>11.95935</td>\n",
       "      <td>1</td>\n",
       "      <td>1</td>\n",
       "      <td>0</td>\n",
       "      <td>0</td>\n",
       "      <td>0</td>\n",
       "    </tr>\n",
       "    <tr>\n",
       "      <th>3</th>\n",
       "      <td>1</td>\n",
       "      <td>2</td>\n",
       "      <td>0</td>\n",
       "      <td>0</td>\n",
       "      <td>2002</td>\n",
       "      <td>1</td>\n",
       "      <td>0</td>\n",
       "      <td>0</td>\n",
       "      <td>0</td>\n",
       "      <td>0</td>\n",
       "      <td>0</td>\n",
       "      <td>0</td>\n",
       "      <td>0</td>\n",
       "      <td>0</td>\n",
       "      <td>0</td>\n",
       "      <td>0</td>\n",
       "      <td>46.94447</td>\n",
       "      <td>69.16849</td>\n",
       "      <td>62.87885</td>\n",
       "      <td>223.24717</td>\n",
       "      <td>1</td>\n",
       "      <td>4</td>\n",
       "      <td>1</td>\n",
       "      <td>0</td>\n",
       "      <td>0</td>\n",
       "    </tr>\n",
       "    <tr>\n",
       "      <th>4</th>\n",
       "      <td>3</td>\n",
       "      <td>1</td>\n",
       "      <td>0</td>\n",
       "      <td>0</td>\n",
       "      <td>1996</td>\n",
       "      <td>1</td>\n",
       "      <td>0</td>\n",
       "      <td>0</td>\n",
       "      <td>0</td>\n",
       "      <td>0</td>\n",
       "      <td>0</td>\n",
       "      <td>0</td>\n",
       "      <td>0</td>\n",
       "      <td>0</td>\n",
       "      <td>0</td>\n",
       "      <td>0</td>\n",
       "      <td>13.20446</td>\n",
       "      <td>83.33558</td>\n",
       "      <td>69.46803</td>\n",
       "      <td>321.21176</td>\n",
       "      <td>1</td>\n",
       "      <td>4</td>\n",
       "      <td>3</td>\n",
       "      <td>0</td>\n",
       "      <td>0</td>\n",
       "    </tr>\n",
       "  </tbody>\n",
       "</table>\n",
       "</div>"
      ],
      "text/plain": [
       "   Number of Stars  Number of Planets  Number of Moons  Circumbinary Flag  \\\n",
       "0                2                  1                0                  0   \n",
       "1                1                  1                0                  0   \n",
       "2                1                  1                0                  0   \n",
       "3                1                  2                0                  0   \n",
       "4                3                  1                0                  0   \n",
       "\n",
       "   Discovery Year  Detected by Radial Velocity Variations  \\\n",
       "0            2007                                       1   \n",
       "1            2009                                       1   \n",
       "2            2008                                       1   \n",
       "3            2002                                       1   \n",
       "4            1996                                       1   \n",
       "\n",
       "   Detected by Pulsar Timing Variations  \\\n",
       "0                                     0   \n",
       "1                                     0   \n",
       "2                                     0   \n",
       "3                                     0   \n",
       "4                                     0   \n",
       "\n",
       "   Detected by Pulsation Timing Variations  Detected by Transits  \\\n",
       "0                                        0                     0   \n",
       "1                                        0                     0   \n",
       "2                                        0                     0   \n",
       "3                                        0                     0   \n",
       "4                                        0                     0   \n",
       "\n",
       "   Detected by Astrometric Variations  \\\n",
       "0                                   0   \n",
       "1                                   0   \n",
       "2                                   0   \n",
       "3                                   0   \n",
       "4                                   0   \n",
       "\n",
       "   Detected by Orbital Brightness Modulations  Detected by Microlensing  \\\n",
       "0                                           0                         0   \n",
       "1                                           0                         0   \n",
       "2                                           0                         0   \n",
       "3                                           0                         0   \n",
       "4                                           0                         0   \n",
       "\n",
       "   Detected by Eclipse Timing Variations  Detected by Imaging  \\\n",
       "0                                      0                    0   \n",
       "1                                      0                    0   \n",
       "2                                      0                    0   \n",
       "3                                      0                    0   \n",
       "4                                      0                    0   \n",
       "\n",
       "   Detected by Disk Kinematics  Controversial Flag  Galactic Latitude [deg]  \\\n",
       "0                            0                   0                 78.28058   \n",
       "1                            0                   0                 41.04437   \n",
       "2                            0                   0                -21.05141   \n",
       "3                            0                   0                 46.94447   \n",
       "4                            0                   0                 13.20446   \n",
       "\n",
       "   Galactic Longitude [deg]  Ecliptic Latitude [deg]  \\\n",
       "0                 264.13775                 18.33392   \n",
       "1                 108.71900                 74.95821   \n",
       "2                 106.41269                 38.22901   \n",
       "3                  69.16849                 62.87885   \n",
       "4                  83.33558                 69.46803   \n",
       "\n",
       "   Ecliptic Longitude [deg]  Number of Photometry Time Series  \\\n",
       "0                 177.41790                                 1   \n",
       "1                 141.64699                                 1   \n",
       "2                  11.95935                                 1   \n",
       "3                 223.24717                                 1   \n",
       "4                 321.21176                                 1   \n",
       "\n",
       "   Number of Radial Velocity Time Series  \\\n",
       "0                                      2   \n",
       "1                                      1   \n",
       "2                                      1   \n",
       "3                                      4   \n",
       "4                                      4   \n",
       "\n",
       "   Number of Stellar Spectra Measurements  \\\n",
       "0                                       0   \n",
       "1                                       0   \n",
       "2                                       0   \n",
       "3                                       1   \n",
       "4                                       3   \n",
       "\n",
       "   Number of Emission Spectroscopy Measurements  \\\n",
       "0                                             0   \n",
       "1                                             0   \n",
       "2                                             0   \n",
       "3                                             0   \n",
       "4                                             0   \n",
       "\n",
       "   Number of Transmission Spectroscopy Measurements  \n",
       "0                                                 0  \n",
       "1                                                 0  \n",
       "2                                                 0  \n",
       "3                                                 0  \n",
       "4                                                 0  "
      ]
     },
     "execution_count": 2,
     "metadata": {},
     "output_type": "execute_result"
    }
   ],
   "source": [
    "composite_preprocessed = pd.read_csv('Composite_preprocessed_NO_MV.csv')\n",
    "pd.options.display.max_columns=None\n",
    "pd.options.display.max_rows=None\n",
    "composite_preprocessed.head()"
   ]
  },
  {
   "cell_type": "markdown",
   "id": "ce5ad038-088e-4e3e-acb9-105a0e0163f2",
   "metadata": {},
   "source": [
    "### We expect that half of these features will not have merit in predicting discovery method \n",
    "### Feature Analysis from the XGB model trained on the imbalanced, < 7% MV dataset told us these are the 5 features with most weight in the model:\n",
    "\n",
    "### TESS Magnitude\n",
    "### Ks (2MASS) Magnitude\n",
    "### Orbital Period Limit Flag\n",
    "### H (2MASS) Magnitude\n",
    "### Planet Radius (Earth Radius) \n"
   ]
  },
  {
   "cell_type": "code",
   "execution_count": 3,
   "id": "2a42a8f6-4f62-49f5-89c1-2da69698a621",
   "metadata": {},
   "outputs": [],
   "source": [
    "target_dummies = ['Detected by Radial Velocity Variations',\n",
    "           'Detected by Pulsar Timing Variations',\n",
    "           'Detected by Pulsation Timing Variations',\n",
    "           'Detected by Transits',\t\n",
    "           'Detected by Astrometric Variations',\n",
    "           'Detected by Orbital Brightness Modulations',\n",
    "           'Detected by Microlensing',\n",
    "           'Detected by Eclipse Timing Variations',\n",
    "           'Detected by Imaging',\n",
    "           'Detected by Disk Kinematics']"
   ]
  },
  {
   "cell_type": "code",
   "execution_count": 4,
   "id": "a5e41455",
   "metadata": {},
   "outputs": [],
   "source": [
    "features = composite_preprocessed.drop(target_dummies, axis=1)\n",
    "targets = composite_preprocessed[target_dummies]"
   ]
  },
  {
   "cell_type": "markdown",
   "id": "c400b50e-ab1d-4500-8af7-3ada64258cda",
   "metadata": {},
   "source": [
    "### for xgb boost, feature columns cannot include [, ] or <\n",
    "### so we will replace these characters"
   ]
  },
  {
   "cell_type": "code",
   "execution_count": 5,
   "id": "6fb11bd0-92f2-4ad6-a7dd-5f35c992f04a",
   "metadata": {},
   "outputs": [],
   "source": [
    "features.columns = features.columns.str.replace('[', '(').str.replace(']',')')"
   ]
  },
  {
   "cell_type": "markdown",
   "id": "2acd4bb9-5615-44d0-8697-4af1005134c6",
   "metadata": {},
   "source": [
    "## Split data into training and testing"
   ]
  },
  {
   "cell_type": "code",
   "execution_count": 6,
   "id": "3df43836-f551-410b-b3d8-6c1dd06032b8",
   "metadata": {},
   "outputs": [
    {
     "data": {
      "text/plain": [
       "((4481, 15), (4481, 10))"
      ]
     },
     "execution_count": 6,
     "metadata": {},
     "output_type": "execute_result"
    }
   ],
   "source": [
    "from sklearn.model_selection import train_test_split\n",
    "x_train, x_test, y_train, y_test = train_test_split(features,targets, train_size=0.8, random_state=42)\n",
    "x_train.shape, y_train.shape"
   ]
  },
  {
   "cell_type": "markdown",
   "id": "2724235e-2eff-41a3-b21d-1171c5074de6",
   "metadata": {},
   "source": [
    "## Apply SMOTE to balance the classes"
   ]
  },
  {
   "cell_type": "code",
   "execution_count": 7,
   "id": "119a9f47-dd41-48b7-a281-6e3695d2d23d",
   "metadata": {},
   "outputs": [
    {
     "ename": "ValueError",
     "evalue": "Imbalanced-learn currently supports binary, multiclass and binarized encoded multiclasss targets. Multilabel and multioutput targets are not supported.",
     "output_type": "error",
     "traceback": [
      "\u001b[0;31m---------------------------------------------------------------------------\u001b[0m",
      "\u001b[0;31mValueError\u001b[0m                                Traceback (most recent call last)",
      "Cell \u001b[0;32mIn[7], line 4\u001b[0m\n\u001b[1;32m      1\u001b[0m \u001b[38;5;28;01mfrom\u001b[39;00m \u001b[38;5;21;01mimblearn\u001b[39;00m\u001b[38;5;21;01m.\u001b[39;00m\u001b[38;5;21;01mover_sampling\u001b[39;00m \u001b[38;5;28;01mimport\u001b[39;00m SMOTE\n\u001b[1;32m      3\u001b[0m smote \u001b[38;5;241m=\u001b[39m SMOTE(random_state\u001b[38;5;241m=\u001b[39m\u001b[38;5;241m42\u001b[39m)\n\u001b[0;32m----> 4\u001b[0m x_train_resampled, y_train_resampled \u001b[38;5;241m=\u001b[39m \u001b[43msmote\u001b[49m\u001b[38;5;241;43m.\u001b[39;49m\u001b[43mfit_resample\u001b[49m\u001b[43m(\u001b[49m\u001b[43mx_train\u001b[49m\u001b[43m,\u001b[49m\u001b[43m \u001b[49m\u001b[43my_train\u001b[49m\u001b[43m)\u001b[49m\n",
      "File \u001b[0;32m~/anaconda3/envs/py310_ds/lib/python3.10/site-packages/imblearn/base.py:208\u001b[0m, in \u001b[0;36mBaseSampler.fit_resample\u001b[0;34m(self, X, y)\u001b[0m\n\u001b[1;32m    187\u001b[0m \u001b[38;5;250m\u001b[39m\u001b[38;5;124;03m\"\"\"Resample the dataset.\u001b[39;00m\n\u001b[1;32m    188\u001b[0m \n\u001b[1;32m    189\u001b[0m \u001b[38;5;124;03mParameters\u001b[39;00m\n\u001b[0;32m   (...)\u001b[0m\n\u001b[1;32m    205\u001b[0m \u001b[38;5;124;03m    The corresponding label of `X_resampled`.\u001b[39;00m\n\u001b[1;32m    206\u001b[0m \u001b[38;5;124;03m\"\"\"\u001b[39;00m\n\u001b[1;32m    207\u001b[0m \u001b[38;5;28mself\u001b[39m\u001b[38;5;241m.\u001b[39m_validate_params()\n\u001b[0;32m--> 208\u001b[0m \u001b[38;5;28;01mreturn\u001b[39;00m \u001b[38;5;28;43msuper\u001b[39;49m\u001b[43m(\u001b[49m\u001b[43m)\u001b[49m\u001b[38;5;241;43m.\u001b[39;49m\u001b[43mfit_resample\u001b[49m\u001b[43m(\u001b[49m\u001b[43mX\u001b[49m\u001b[43m,\u001b[49m\u001b[43m \u001b[49m\u001b[43my\u001b[49m\u001b[43m)\u001b[49m\n",
      "File \u001b[0;32m~/anaconda3/envs/py310_ds/lib/python3.10/site-packages/imblearn/base.py:106\u001b[0m, in \u001b[0;36mSamplerMixin.fit_resample\u001b[0;34m(self, X, y)\u001b[0m\n\u001b[1;32m    104\u001b[0m check_classification_targets(y)\n\u001b[1;32m    105\u001b[0m arrays_transformer \u001b[38;5;241m=\u001b[39m ArraysTransformer(X, y)\n\u001b[0;32m--> 106\u001b[0m X, y, binarize_y \u001b[38;5;241m=\u001b[39m \u001b[38;5;28;43mself\u001b[39;49m\u001b[38;5;241;43m.\u001b[39;49m\u001b[43m_check_X_y\u001b[49m\u001b[43m(\u001b[49m\u001b[43mX\u001b[49m\u001b[43m,\u001b[49m\u001b[43m \u001b[49m\u001b[43my\u001b[49m\u001b[43m)\u001b[49m\n\u001b[1;32m    108\u001b[0m \u001b[38;5;28mself\u001b[39m\u001b[38;5;241m.\u001b[39msampling_strategy_ \u001b[38;5;241m=\u001b[39m check_sampling_strategy(\n\u001b[1;32m    109\u001b[0m     \u001b[38;5;28mself\u001b[39m\u001b[38;5;241m.\u001b[39msampling_strategy, y, \u001b[38;5;28mself\u001b[39m\u001b[38;5;241m.\u001b[39m_sampling_type\n\u001b[1;32m    110\u001b[0m )\n\u001b[1;32m    112\u001b[0m output \u001b[38;5;241m=\u001b[39m \u001b[38;5;28mself\u001b[39m\u001b[38;5;241m.\u001b[39m_fit_resample(X, y)\n",
      "File \u001b[0;32m~/anaconda3/envs/py310_ds/lib/python3.10/site-packages/imblearn/base.py:160\u001b[0m, in \u001b[0;36mBaseSampler._check_X_y\u001b[0;34m(self, X, y, accept_sparse)\u001b[0m\n\u001b[1;32m    158\u001b[0m \u001b[38;5;28;01mif\u001b[39;00m accept_sparse \u001b[38;5;129;01mis\u001b[39;00m \u001b[38;5;28;01mNone\u001b[39;00m:\n\u001b[1;32m    159\u001b[0m     accept_sparse \u001b[38;5;241m=\u001b[39m [\u001b[38;5;124m\"\u001b[39m\u001b[38;5;124mcsr\u001b[39m\u001b[38;5;124m\"\u001b[39m, \u001b[38;5;124m\"\u001b[39m\u001b[38;5;124mcsc\u001b[39m\u001b[38;5;124m\"\u001b[39m]\n\u001b[0;32m--> 160\u001b[0m y, binarize_y \u001b[38;5;241m=\u001b[39m \u001b[43mcheck_target_type\u001b[49m\u001b[43m(\u001b[49m\u001b[43my\u001b[49m\u001b[43m,\u001b[49m\u001b[43m \u001b[49m\u001b[43mindicate_one_vs_all\u001b[49m\u001b[38;5;241;43m=\u001b[39;49m\u001b[38;5;28;43;01mTrue\u001b[39;49;00m\u001b[43m)\u001b[49m\n\u001b[1;32m    161\u001b[0m X, y \u001b[38;5;241m=\u001b[39m \u001b[38;5;28mself\u001b[39m\u001b[38;5;241m.\u001b[39m_validate_data(X, y, reset\u001b[38;5;241m=\u001b[39m\u001b[38;5;28;01mTrue\u001b[39;00m, accept_sparse\u001b[38;5;241m=\u001b[39maccept_sparse)\n\u001b[1;32m    162\u001b[0m \u001b[38;5;28;01mreturn\u001b[39;00m X, y, binarize_y\n",
      "File \u001b[0;32m~/anaconda3/envs/py310_ds/lib/python3.10/site-packages/imblearn/utils/_validation.py:177\u001b[0m, in \u001b[0;36mcheck_target_type\u001b[0;34m(y, indicate_one_vs_all)\u001b[0m\n\u001b[1;32m    175\u001b[0m \u001b[38;5;28;01mif\u001b[39;00m type_y \u001b[38;5;241m==\u001b[39m \u001b[38;5;124m\"\u001b[39m\u001b[38;5;124mmultilabel-indicator\u001b[39m\u001b[38;5;124m\"\u001b[39m:\n\u001b[1;32m    176\u001b[0m     \u001b[38;5;28;01mif\u001b[39;00m np\u001b[38;5;241m.\u001b[39many(y\u001b[38;5;241m.\u001b[39msum(axis\u001b[38;5;241m=\u001b[39m\u001b[38;5;241m1\u001b[39m) \u001b[38;5;241m>\u001b[39m \u001b[38;5;241m1\u001b[39m):\n\u001b[0;32m--> 177\u001b[0m         \u001b[38;5;28;01mraise\u001b[39;00m \u001b[38;5;167;01mValueError\u001b[39;00m(\n\u001b[1;32m    178\u001b[0m             \u001b[38;5;124m\"\u001b[39m\u001b[38;5;124mImbalanced-learn currently supports binary, multiclass and \u001b[39m\u001b[38;5;124m\"\u001b[39m\n\u001b[1;32m    179\u001b[0m             \u001b[38;5;124m\"\u001b[39m\u001b[38;5;124mbinarized encoded multiclasss targets. Multilabel and \u001b[39m\u001b[38;5;124m\"\u001b[39m\n\u001b[1;32m    180\u001b[0m             \u001b[38;5;124m\"\u001b[39m\u001b[38;5;124mmultioutput targets are not supported.\u001b[39m\u001b[38;5;124m\"\u001b[39m\n\u001b[1;32m    181\u001b[0m         )\n\u001b[1;32m    182\u001b[0m     y \u001b[38;5;241m=\u001b[39m y\u001b[38;5;241m.\u001b[39margmax(axis\u001b[38;5;241m=\u001b[39m\u001b[38;5;241m1\u001b[39m)\n\u001b[1;32m    183\u001b[0m \u001b[38;5;28;01melse\u001b[39;00m:\n",
      "\u001b[0;31mValueError\u001b[0m: Imbalanced-learn currently supports binary, multiclass and binarized encoded multiclasss targets. Multilabel and multioutput targets are not supported."
     ]
    }
   ],
   "source": [
    "from imblearn.over_sampling import SMOTE\n",
    "\n",
    "smote = SMOTE(random_state=42)\n",
    "x_train_resampled, y_train_resampled = smote.fit_resample(x_train, y_train)\n",
    "\n",
    "# we only balance the training data ; test data will remain unbalanced to get an unbiased estimate of the model's performance"
   ]
  },
  {
   "cell_type": "markdown",
   "id": "a5f187c2-0c27-415e-b87d-c0ee1b4946af",
   "metadata": {},
   "source": [
    "### Import and train the model"
   ]
  },
  {
   "cell_type": "code",
   "execution_count": null,
   "id": "a7cf425a-da66-47d1-abcf-2bc11aecdb43",
   "metadata": {},
   "outputs": [],
   "source": [
    "# in this case we will use Extreme Gradient Boosting because it is flexible, tuneable, high performing and robust against missing values\n",
    "import xgboost as xgb\n",
    "from sklearn.metrics import accuracy_score, classification_report, precision_score, recall_score, f1_score"
   ]
  },
  {
   "cell_type": "code",
   "execution_count": null,
   "id": "72d11071-84ed-4ab0-84ba-265758ae6c38",
   "metadata": {},
   "outputs": [],
   "source": [
    "xgb_classifier = xgb.XGBClassifier()\n",
    "xgb_classifier.fit(x_train_resampled, y_train_resampled)"
   ]
  },
  {
   "cell_type": "markdown",
   "id": "7c3c749c-1f7c-475e-bf59-222633bf2bdc",
   "metadata": {},
   "source": [
    "## Model prediction and accuracy"
   ]
  },
  {
   "cell_type": "code",
   "execution_count": null,
   "id": "d8e5fe1d-6d38-40ae-a4d3-44bfb09f81e7",
   "metadata": {},
   "outputs": [],
   "source": [
    "y_pred = xgb_classifier.predict(x_test)\n",
    "accuracy= accuracy_score(y_test,y_pred)\n",
    "accuracy "
   ]
  },
  {
   "cell_type": "code",
   "execution_count": null,
   "id": "363346c8-4064-4ba1-a614-87886f365cbf",
   "metadata": {},
   "outputs": [],
   "source": [
    "clf_rep = classification_report(y_test,y_pred, zero_division=1, digits=4)\n",
    "print(clf_rep)"
   ]
  },
  {
   "cell_type": "markdown",
   "id": "45226390-1a5c-40a3-bcb6-967f5dc94bca",
   "metadata": {},
   "source": [
    "## XGB Classifier Model Evaluation (weighted average values accounts for class imbalances)\n",
    "### Accuracy: 94.55%\n",
    "### Precision: 97.54%\n",
    "### Recall: 97.54% \n",
    "### F1: 97.40%\n",
    "### Support: Represents the number of actual occurrences of each class in the dataset (provides context on the size of each class)\n",
    "### Classes with higher support values typically have more influence on the overall evaluation metrics, while classes with lower support values may have less impact, especially in imbalanced datasets"
   ]
  },
  {
   "cell_type": "markdown",
   "id": "5e4be7f4-c118-4e0c-9f44-a987fcba151d",
   "metadata": {},
   "source": [
    "### Overall, while the model shows good performance for most classes, it struggles to correctly predict class 1, resulting in poor precision, recall, and F1-score for that class."
   ]
  },
  {
   "cell_type": "markdown",
   "id": "9089edc6-db53-43e2-a249-c2e3aab37ce2",
   "metadata": {},
   "source": [
    "# Extract and Plot Feature Importance"
   ]
  },
  {
   "cell_type": "code",
   "execution_count": null,
   "id": "c0835323-6cba-40ff-8710-07d85f80f46c",
   "metadata": {},
   "outputs": [],
   "source": [
    "import matplotlib.pyplot as plt\n",
    "\n",
    "feature_importance = xgb_classifier.feature_importances_\n",
    "feature_names = x_train.columns\n",
    "\n",
    "# set it up as a dataframe\n",
    "feature_importance_df = pd.DataFrame({'Feature': feature_names, 'Weight': feature_importance})\n",
    "\n",
    "# sort by importance\n",
    "feature_importance_df = feature_importance_df.sort_values(by= 'Weight', ascending=False)\n",
    "\n",
    "feature_importance_df"
   ]
  },
  {
   "cell_type": "code",
   "execution_count": null,
   "id": "8443c8cc-a5c5-4dc4-bcac-5a037115c262",
   "metadata": {},
   "outputs": [],
   "source": [
    "# Plot features by importance ; top 40 to fit in graph\n",
    "n = 40\n",
    "plt.figure(figsize=(10,8))\n",
    "plt.barh(feature_importance_df['Feature'][:n], feature_importance_df['Weight'][:n])\n",
    "plt.xlabel('Feature')\n",
    "plt.ylabel('Weight')\n",
    "plt.title('Feature vs Weight')\n",
    "plt.show()"
   ]
  },
  {
   "cell_type": "markdown",
   "id": "f5346fe7-8eb3-4b3e-95b2-996ce69be494",
   "metadata": {},
   "source": [
    "## The Feature Importance Plot suggests that the top 5 features with most weight in the xgb model and dataset with MV are:\n",
    "### TESS Magnitude\n",
    "### Ks (2MASS) Magnitude\n",
    "### Orbital Period Limit Flag\n",
    "### H (2MASS) Magnitude\n",
    "### Planet Radius (Earth Radius) "
   ]
  }
 ],
 "metadata": {
  "kernelspec": {
   "display_name": "Python (py310_ds)",
   "language": "python",
   "name": "myenv"
  },
  "language_info": {
   "codemirror_mode": {
    "name": "ipython",
    "version": 3
   },
   "file_extension": ".py",
   "mimetype": "text/x-python",
   "name": "python",
   "nbconvert_exporter": "python",
   "pygments_lexer": "ipython3",
   "version": "3.10.14"
  }
 },
 "nbformat": 4,
 "nbformat_minor": 5
}
