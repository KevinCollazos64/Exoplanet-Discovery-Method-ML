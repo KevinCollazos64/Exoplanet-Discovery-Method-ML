{
 "cells": [
  {
   "cell_type": "markdown",
   "id": "e53d7d09-3165-4c07-99fd-413eb6fbc86e",
   "metadata": {},
   "source": [
    "# Logistic Regression Including REFINED Variables"
   ]
  },
  {
   "cell_type": "markdown",
   "id": "79bebe8f-c098-49a5-b831-e23d4a4a3b47",
   "metadata": {},
   "source": [
    "### We will use the features from the XGBoost refined features model \n",
    "### This ensures consistency, reduces complexity, and leverages the feature selection process that has already been validated with my refined features XGBoost model\n",
    "### This would also allow for a fair comparison between models"
   ]
  },
  {
   "cell_type": "code",
   "execution_count": 1,
   "id": "8a97ac8c-5432-4397-94c7-b813d29f6fd7",
   "metadata": {},
   "outputs": [
    {
     "data": {
      "text/html": [
       "<div>\n",
       "<style scoped>\n",
       "    .dataframe tbody tr th:only-of-type {\n",
       "        vertical-align: middle;\n",
       "    }\n",
       "\n",
       "    .dataframe tbody tr th {\n",
       "        vertical-align: top;\n",
       "    }\n",
       "\n",
       "    .dataframe thead th {\n",
       "        text-align: right;\n",
       "    }\n",
       "</style>\n",
       "<table border=\"1\" class=\"dataframe\">\n",
       "  <thead>\n",
       "    <tr style=\"text-align: right;\">\n",
       "      <th></th>\n",
       "      <th>Number of Stars</th>\n",
       "      <th>Number of Planets</th>\n",
       "      <th>Number of Moons</th>\n",
       "      <th>Galactic Latitude [deg]</th>\n",
       "      <th>Galactic Longitude [deg]</th>\n",
       "      <th>Ecliptic Latitude [deg]</th>\n",
       "      <th>Ecliptic Longitude [deg]</th>\n",
       "      <th>Number of Photometry Time Series</th>\n",
       "      <th>Number of Radial Velocity Time Series</th>\n",
       "      <th>Number of Stellar Spectra Measurements</th>\n",
       "      <th>Number of Emission Spectroscopy Measurements</th>\n",
       "      <th>Number of Transmission Spectroscopy Measurements</th>\n",
       "      <th>Circumbinary Flag</th>\n",
       "      <th>Controversial Flag</th>\n",
       "      <th>Discovery Year</th>\n",
       "      <th>Detected by Transits</th>\n",
       "    </tr>\n",
       "  </thead>\n",
       "  <tbody>\n",
       "    <tr>\n",
       "      <th>0</th>\n",
       "      <td>3.094076</td>\n",
       "      <td>-0.666894</td>\n",
       "      <td>0.0</td>\n",
       "      <td>2.424559</td>\n",
       "      <td>1.234306</td>\n",
       "      <td>-0.145901</td>\n",
       "      <td>-0.624689</td>\n",
       "      <td>0.613405</td>\n",
       "      <td>1.731519</td>\n",
       "      <td>-0.261600</td>\n",
       "      <td>-0.012466</td>\n",
       "      <td>-0.044364</td>\n",
       "      <td>0</td>\n",
       "      <td>0</td>\n",
       "      <td>2007</td>\n",
       "      <td>0</td>\n",
       "    </tr>\n",
       "    <tr>\n",
       "      <th>1</th>\n",
       "      <td>-0.256668</td>\n",
       "      <td>-0.666894</td>\n",
       "      <td>0.0</td>\n",
       "      <td>1.186720</td>\n",
       "      <td>-0.283545</td>\n",
       "      <td>1.148661</td>\n",
       "      <td>-0.992906</td>\n",
       "      <td>0.613405</td>\n",
       "      <td>0.729626</td>\n",
       "      <td>-0.261600</td>\n",
       "      <td>-0.012466</td>\n",
       "      <td>-0.044364</td>\n",
       "      <td>0</td>\n",
       "      <td>0</td>\n",
       "      <td>2009</td>\n",
       "      <td>0</td>\n",
       "    </tr>\n",
       "    <tr>\n",
       "      <th>2</th>\n",
       "      <td>-0.256668</td>\n",
       "      <td>-0.666894</td>\n",
       "      <td>0.0</td>\n",
       "      <td>-0.877523</td>\n",
       "      <td>-0.306068</td>\n",
       "      <td>0.308947</td>\n",
       "      <td>-2.327878</td>\n",
       "      <td>0.613405</td>\n",
       "      <td>0.729626</td>\n",
       "      <td>-0.261600</td>\n",
       "      <td>-0.012466</td>\n",
       "      <td>-0.044364</td>\n",
       "      <td>0</td>\n",
       "      <td>0</td>\n",
       "      <td>2008</td>\n",
       "      <td>0</td>\n",
       "    </tr>\n",
       "    <tr>\n",
       "      <th>3</th>\n",
       "      <td>-0.256668</td>\n",
       "      <td>0.216988</td>\n",
       "      <td>0.0</td>\n",
       "      <td>1.382856</td>\n",
       "      <td>-0.669803</td>\n",
       "      <td>0.872499</td>\n",
       "      <td>-0.152934</td>\n",
       "      <td>0.613405</td>\n",
       "      <td>3.735304</td>\n",
       "      <td>0.591749</td>\n",
       "      <td>-0.012466</td>\n",
       "      <td>-0.044364</td>\n",
       "      <td>0</td>\n",
       "      <td>0</td>\n",
       "      <td>2002</td>\n",
       "      <td>0</td>\n",
       "    </tr>\n",
       "    <tr>\n",
       "      <th>4</th>\n",
       "      <td>6.444820</td>\n",
       "      <td>-0.666894</td>\n",
       "      <td>0.0</td>\n",
       "      <td>0.261241</td>\n",
       "      <td>-0.531444</td>\n",
       "      <td>1.023143</td>\n",
       "      <td>0.855489</td>\n",
       "      <td>0.613405</td>\n",
       "      <td>3.735304</td>\n",
       "      <td>2.298449</td>\n",
       "      <td>-0.012466</td>\n",
       "      <td>-0.044364</td>\n",
       "      <td>0</td>\n",
       "      <td>0</td>\n",
       "      <td>1996</td>\n",
       "      <td>0</td>\n",
       "    </tr>\n",
       "  </tbody>\n",
       "</table>\n",
       "</div>"
      ],
      "text/plain": [
       "   Number of Stars  Number of Planets  Number of Moons  \\\n",
       "0         3.094076          -0.666894              0.0   \n",
       "1        -0.256668          -0.666894              0.0   \n",
       "2        -0.256668          -0.666894              0.0   \n",
       "3        -0.256668           0.216988              0.0   \n",
       "4         6.444820          -0.666894              0.0   \n",
       "\n",
       "   Galactic Latitude [deg]  Galactic Longitude [deg]  Ecliptic Latitude [deg]  \\\n",
       "0                 2.424559                  1.234306                -0.145901   \n",
       "1                 1.186720                 -0.283545                 1.148661   \n",
       "2                -0.877523                 -0.306068                 0.308947   \n",
       "3                 1.382856                 -0.669803                 0.872499   \n",
       "4                 0.261241                 -0.531444                 1.023143   \n",
       "\n",
       "   Ecliptic Longitude [deg]  Number of Photometry Time Series  \\\n",
       "0                 -0.624689                          0.613405   \n",
       "1                 -0.992906                          0.613405   \n",
       "2                 -2.327878                          0.613405   \n",
       "3                 -0.152934                          0.613405   \n",
       "4                  0.855489                          0.613405   \n",
       "\n",
       "   Number of Radial Velocity Time Series  \\\n",
       "0                               1.731519   \n",
       "1                               0.729626   \n",
       "2                               0.729626   \n",
       "3                               3.735304   \n",
       "4                               3.735304   \n",
       "\n",
       "   Number of Stellar Spectra Measurements  \\\n",
       "0                               -0.261600   \n",
       "1                               -0.261600   \n",
       "2                               -0.261600   \n",
       "3                                0.591749   \n",
       "4                                2.298449   \n",
       "\n",
       "   Number of Emission Spectroscopy Measurements  \\\n",
       "0                                     -0.012466   \n",
       "1                                     -0.012466   \n",
       "2                                     -0.012466   \n",
       "3                                     -0.012466   \n",
       "4                                     -0.012466   \n",
       "\n",
       "   Number of Transmission Spectroscopy Measurements  Circumbinary Flag  \\\n",
       "0                                         -0.044364                  0   \n",
       "1                                         -0.044364                  0   \n",
       "2                                         -0.044364                  0   \n",
       "3                                         -0.044364                  0   \n",
       "4                                         -0.044364                  0   \n",
       "\n",
       "   Controversial Flag  Discovery Year  Detected by Transits  \n",
       "0                   0            2007                     0  \n",
       "1                   0            2009                     0  \n",
       "2                   0            2008                     0  \n",
       "3                   0            2002                     0  \n",
       "4                   0            1996                     0  "
      ]
     },
     "execution_count": 1,
     "metadata": {},
     "output_type": "execute_result"
    }
   ],
   "source": [
    "import pandas as pd\n",
    "composite_preprocessed = pd.read_csv('Composite_preprocessed_NO_MV_BALANCED.csv')\n",
    "composite_preprocessed.head()"
   ]
  },
  {
   "cell_type": "markdown",
   "id": "5ba163b7-f6fb-4848-8ed2-96e96de3b9ca",
   "metadata": {},
   "source": [
    "# Drop Unnecessary"
   ]
  },
  {
   "cell_type": "code",
   "execution_count": 2,
   "id": "0f5f5431-4007-4d76-8b1e-ef66289aeba9",
   "metadata": {},
   "outputs": [
    {
     "data": {
      "text/html": [
       "<div>\n",
       "<style scoped>\n",
       "    .dataframe tbody tr th:only-of-type {\n",
       "        vertical-align: middle;\n",
       "    }\n",
       "\n",
       "    .dataframe tbody tr th {\n",
       "        vertical-align: top;\n",
       "    }\n",
       "\n",
       "    .dataframe thead th {\n",
       "        text-align: right;\n",
       "    }\n",
       "</style>\n",
       "<table border=\"1\" class=\"dataframe\">\n",
       "  <thead>\n",
       "    <tr style=\"text-align: right;\">\n",
       "      <th></th>\n",
       "      <th>Number of Stars</th>\n",
       "      <th>Number of Planets</th>\n",
       "      <th>Galactic Latitude [deg]</th>\n",
       "      <th>Galactic Longitude [deg]</th>\n",
       "      <th>Ecliptic Latitude [deg]</th>\n",
       "      <th>Ecliptic Longitude [deg]</th>\n",
       "      <th>Number of Photometry Time Series</th>\n",
       "      <th>Number of Emission Spectroscopy Measurements</th>\n",
       "      <th>Number of Transmission Spectroscopy Measurements</th>\n",
       "      <th>Discovery Year</th>\n",
       "      <th>Detected by Transits</th>\n",
       "    </tr>\n",
       "  </thead>\n",
       "  <tbody>\n",
       "    <tr>\n",
       "      <th>0</th>\n",
       "      <td>3.094076</td>\n",
       "      <td>-0.666894</td>\n",
       "      <td>2.424559</td>\n",
       "      <td>1.234306</td>\n",
       "      <td>-0.145901</td>\n",
       "      <td>-0.624689</td>\n",
       "      <td>0.613405</td>\n",
       "      <td>-0.012466</td>\n",
       "      <td>-0.044364</td>\n",
       "      <td>2007</td>\n",
       "      <td>0</td>\n",
       "    </tr>\n",
       "    <tr>\n",
       "      <th>1</th>\n",
       "      <td>-0.256668</td>\n",
       "      <td>-0.666894</td>\n",
       "      <td>1.186720</td>\n",
       "      <td>-0.283545</td>\n",
       "      <td>1.148661</td>\n",
       "      <td>-0.992906</td>\n",
       "      <td>0.613405</td>\n",
       "      <td>-0.012466</td>\n",
       "      <td>-0.044364</td>\n",
       "      <td>2009</td>\n",
       "      <td>0</td>\n",
       "    </tr>\n",
       "    <tr>\n",
       "      <th>2</th>\n",
       "      <td>-0.256668</td>\n",
       "      <td>-0.666894</td>\n",
       "      <td>-0.877523</td>\n",
       "      <td>-0.306068</td>\n",
       "      <td>0.308947</td>\n",
       "      <td>-2.327878</td>\n",
       "      <td>0.613405</td>\n",
       "      <td>-0.012466</td>\n",
       "      <td>-0.044364</td>\n",
       "      <td>2008</td>\n",
       "      <td>0</td>\n",
       "    </tr>\n",
       "    <tr>\n",
       "      <th>3</th>\n",
       "      <td>-0.256668</td>\n",
       "      <td>0.216988</td>\n",
       "      <td>1.382856</td>\n",
       "      <td>-0.669803</td>\n",
       "      <td>0.872499</td>\n",
       "      <td>-0.152934</td>\n",
       "      <td>0.613405</td>\n",
       "      <td>-0.012466</td>\n",
       "      <td>-0.044364</td>\n",
       "      <td>2002</td>\n",
       "      <td>0</td>\n",
       "    </tr>\n",
       "    <tr>\n",
       "      <th>4</th>\n",
       "      <td>6.444820</td>\n",
       "      <td>-0.666894</td>\n",
       "      <td>0.261241</td>\n",
       "      <td>-0.531444</td>\n",
       "      <td>1.023143</td>\n",
       "      <td>0.855489</td>\n",
       "      <td>0.613405</td>\n",
       "      <td>-0.012466</td>\n",
       "      <td>-0.044364</td>\n",
       "      <td>1996</td>\n",
       "      <td>0</td>\n",
       "    </tr>\n",
       "  </tbody>\n",
       "</table>\n",
       "</div>"
      ],
      "text/plain": [
       "   Number of Stars  Number of Planets  Galactic Latitude [deg]  \\\n",
       "0         3.094076          -0.666894                 2.424559   \n",
       "1        -0.256668          -0.666894                 1.186720   \n",
       "2        -0.256668          -0.666894                -0.877523   \n",
       "3        -0.256668           0.216988                 1.382856   \n",
       "4         6.444820          -0.666894                 0.261241   \n",
       "\n",
       "   Galactic Longitude [deg]  Ecliptic Latitude [deg]  \\\n",
       "0                  1.234306                -0.145901   \n",
       "1                 -0.283545                 1.148661   \n",
       "2                 -0.306068                 0.308947   \n",
       "3                 -0.669803                 0.872499   \n",
       "4                 -0.531444                 1.023143   \n",
       "\n",
       "   Ecliptic Longitude [deg]  Number of Photometry Time Series  \\\n",
       "0                 -0.624689                          0.613405   \n",
       "1                 -0.992906                          0.613405   \n",
       "2                 -2.327878                          0.613405   \n",
       "3                 -0.152934                          0.613405   \n",
       "4                  0.855489                          0.613405   \n",
       "\n",
       "   Number of Emission Spectroscopy Measurements  \\\n",
       "0                                     -0.012466   \n",
       "1                                     -0.012466   \n",
       "2                                     -0.012466   \n",
       "3                                     -0.012466   \n",
       "4                                     -0.012466   \n",
       "\n",
       "   Number of Transmission Spectroscopy Measurements  Discovery Year  \\\n",
       "0                                         -0.044364            2007   \n",
       "1                                         -0.044364            2009   \n",
       "2                                         -0.044364            2008   \n",
       "3                                         -0.044364            2002   \n",
       "4                                         -0.044364            1996   \n",
       "\n",
       "   Detected by Transits  \n",
       "0                     0  \n",
       "1                     0  \n",
       "2                     0  \n",
       "3                     0  \n",
       "4                     0  "
      ]
     },
     "execution_count": 2,
     "metadata": {},
     "output_type": "execute_result"
    }
   ],
   "source": [
    "remove = ['Number of Radial Velocity Time Series',\n",
    "          'Number of Stellar Spectra Measurements',\n",
    "          'Controversial Flag',\n",
    "          'Circumbinary Flag',\n",
    "          'Number of Moons']\n",
    "composite_refined = composite_preprocessed.drop(remove, axis=1)\n",
    "composite_refined.head()"
   ]
  },
  {
   "cell_type": "markdown",
   "id": "c4d68035-a585-41a5-be0c-3a47cc0e0dca",
   "metadata": {},
   "source": [
    "# Examine VIF"
   ]
  },
  {
   "cell_type": "markdown",
   "id": "2fe39bc5-ce5d-4218-89fb-c9933340a7c0",
   "metadata": {},
   "source": [
    "## Although we were able to filter out some variables from the model, we should still check VIF (Variance Inflation Factor) to ensure there is no multicollinearity in these remaining variables"
   ]
  },
  {
   "cell_type": "markdown",
   "id": "eef1f7f9-61b1-4f24-b4c1-db9141c6c3cd",
   "metadata": {},
   "source": [
    "## VIF measures how much the variance of a regression coefficient is inflated due to multicollinearity with other predictors\n",
    "### A VIF value greater than 5 indicates high multicollinearity"
   ]
  },
  {
   "cell_type": "code",
   "execution_count": 3,
   "id": "98feab31-800c-4334-85be-fc9f57499c15",
   "metadata": {},
   "outputs": [],
   "source": [
    "from statsmodels.stats.outliers_influence import variance_inflation_factor\n",
    "from statsmodels.tools.tools import add_constant\n",
    "\n",
    "# we are trying to predict whether an exoplanet has been detected by transits\n",
    "targets = composite_refined['Detected by Transits']\n",
    "# training features are all variables except the targets\n",
    "features = composite_refined.drop(['Detected by Transits'], axis=1)"
   ]
  },
  {
   "cell_type": "markdown",
   "id": "42ca5ec1-194c-4a97-a1c2-db87dc17d1da",
   "metadata": {},
   "source": [
    "### Add constant for VIF calculation"
   ]
  },
  {
   "cell_type": "code",
   "execution_count": 4,
   "id": "fb66672e-f270-45c9-97af-cfedd06d9c9c",
   "metadata": {},
   "outputs": [],
   "source": [
    "features_with_intercept = add_constant(features)"
   ]
  },
  {
   "cell_type": "markdown",
   "id": "fc90e4da-8fee-4251-822c-59ce67a60ae3",
   "metadata": {},
   "source": [
    "### Calculate VIF"
   ]
  },
  {
   "cell_type": "code",
   "execution_count": 5,
   "id": "4bd7b094-d239-4d34-8ecc-45ec9e2e9ad2",
   "metadata": {},
   "outputs": [
    {
     "data": {
      "text/html": [
       "<div>\n",
       "<style scoped>\n",
       "    .dataframe tbody tr th:only-of-type {\n",
       "        vertical-align: middle;\n",
       "    }\n",
       "\n",
       "    .dataframe tbody tr th {\n",
       "        vertical-align: top;\n",
       "    }\n",
       "\n",
       "    .dataframe thead th {\n",
       "        text-align: right;\n",
       "    }\n",
       "</style>\n",
       "<table border=\"1\" class=\"dataframe\">\n",
       "  <thead>\n",
       "    <tr style=\"text-align: right;\">\n",
       "      <th></th>\n",
       "      <th>Feature</th>\n",
       "      <th>VIF</th>\n",
       "    </tr>\n",
       "  </thead>\n",
       "  <tbody>\n",
       "    <tr>\n",
       "      <th>0</th>\n",
       "      <td>const</td>\n",
       "      <td>183017.944260</td>\n",
       "    </tr>\n",
       "    <tr>\n",
       "      <th>1</th>\n",
       "      <td>Number of Stars</td>\n",
       "      <td>1.042952</td>\n",
       "    </tr>\n",
       "    <tr>\n",
       "      <th>2</th>\n",
       "      <td>Number of Planets</td>\n",
       "      <td>1.038336</td>\n",
       "    </tr>\n",
       "    <tr>\n",
       "      <th>3</th>\n",
       "      <td>Galactic Latitude [deg]</td>\n",
       "      <td>1.576786</td>\n",
       "    </tr>\n",
       "    <tr>\n",
       "      <th>4</th>\n",
       "      <td>Galactic Longitude [deg]</td>\n",
       "      <td>2.207166</td>\n",
       "    </tr>\n",
       "    <tr>\n",
       "      <th>5</th>\n",
       "      <td>Ecliptic Latitude [deg]</td>\n",
       "      <td>3.087281</td>\n",
       "    </tr>\n",
       "    <tr>\n",
       "      <th>6</th>\n",
       "      <td>Ecliptic Longitude [deg]</td>\n",
       "      <td>1.356383</td>\n",
       "    </tr>\n",
       "    <tr>\n",
       "      <th>7</th>\n",
       "      <td>Number of Photometry Time Series</td>\n",
       "      <td>1.120718</td>\n",
       "    </tr>\n",
       "    <tr>\n",
       "      <th>8</th>\n",
       "      <td>Number of Emission Spectroscopy Measurements</td>\n",
       "      <td>1.004541</td>\n",
       "    </tr>\n",
       "    <tr>\n",
       "      <th>9</th>\n",
       "      <td>Number of Transmission Spectroscopy Measurements</td>\n",
       "      <td>1.007780</td>\n",
       "    </tr>\n",
       "    <tr>\n",
       "      <th>10</th>\n",
       "      <td>Discovery Year</td>\n",
       "      <td>1.099602</td>\n",
       "    </tr>\n",
       "  </tbody>\n",
       "</table>\n",
       "</div>"
      ],
      "text/plain": [
       "                                             Feature            VIF\n",
       "0                                              const  183017.944260\n",
       "1                                    Number of Stars       1.042952\n",
       "2                                  Number of Planets       1.038336\n",
       "3                            Galactic Latitude [deg]       1.576786\n",
       "4                           Galactic Longitude [deg]       2.207166\n",
       "5                            Ecliptic Latitude [deg]       3.087281\n",
       "6                           Ecliptic Longitude [deg]       1.356383\n",
       "7                   Number of Photometry Time Series       1.120718\n",
       "8       Number of Emission Spectroscopy Measurements       1.004541\n",
       "9   Number of Transmission Spectroscopy Measurements       1.007780\n",
       "10                                    Discovery Year       1.099602"
      ]
     },
     "execution_count": 5,
     "metadata": {},
     "output_type": "execute_result"
    }
   ],
   "source": [
    "vif_data = pd.DataFrame()\n",
    "vif_data['Feature'] = features_with_intercept.columns\n",
    "vif_data['VIF'] = [variance_inflation_factor(features_with_intercept.values, i) for i in range(features_with_intercept.shape[1])]\n",
    "vif_data"
   ]
  },
  {
   "cell_type": "markdown",
   "id": "d8875159-0e9d-4985-acc6-e5f28f3d39d6",
   "metadata": {},
   "source": [
    "### VIF values of 4-5 are moderate. None of the features demonstrate moderate to high VIF"
   ]
  },
  {
   "cell_type": "markdown",
   "id": "729d0b2b-eb44-436e-8f56-4d9b24ca4303",
   "metadata": {},
   "source": [
    "# Train Test Split"
   ]
  },
  {
   "cell_type": "markdown",
   "id": "af37cd7b-cb80-47b8-a7b2-294e8bbd611a",
   "metadata": {},
   "source": [
    "## Observe Feature Correlations"
   ]
  },
  {
   "cell_type": "code",
   "execution_count": 6,
   "id": "720a0b6a-cb1a-4264-ada6-d1b48fa7b986",
   "metadata": {},
   "outputs": [
    {
     "data": {
      "text/html": [
       "<div>\n",
       "<style scoped>\n",
       "    .dataframe tbody tr th:only-of-type {\n",
       "        vertical-align: middle;\n",
       "    }\n",
       "\n",
       "    .dataframe tbody tr th {\n",
       "        vertical-align: top;\n",
       "    }\n",
       "\n",
       "    .dataframe thead th {\n",
       "        text-align: right;\n",
       "    }\n",
       "</style>\n",
       "<table border=\"1\" class=\"dataframe\">\n",
       "  <thead>\n",
       "    <tr style=\"text-align: right;\">\n",
       "      <th></th>\n",
       "      <th>Number of Stars</th>\n",
       "      <th>Number of Planets</th>\n",
       "      <th>Galactic Latitude [deg]</th>\n",
       "      <th>Galactic Longitude [deg]</th>\n",
       "      <th>Ecliptic Latitude [deg]</th>\n",
       "      <th>Ecliptic Longitude [deg]</th>\n",
       "      <th>Number of Photometry Time Series</th>\n",
       "      <th>Number of Emission Spectroscopy Measurements</th>\n",
       "      <th>Number of Transmission Spectroscopy Measurements</th>\n",
       "      <th>Discovery Year</th>\n",
       "    </tr>\n",
       "  </thead>\n",
       "  <tbody>\n",
       "    <tr>\n",
       "      <th>Number of Stars</th>\n",
       "      <td>1.000000</td>\n",
       "      <td>0.109074</td>\n",
       "      <td>-0.044988</td>\n",
       "      <td>0.104236</td>\n",
       "      <td>-0.087528</td>\n",
       "      <td>-0.069450</td>\n",
       "      <td>0.057734</td>\n",
       "      <td>-0.003200</td>\n",
       "      <td>-0.002096</td>\n",
       "      <td>-0.147575</td>\n",
       "    </tr>\n",
       "    <tr>\n",
       "      <th>Number of Planets</th>\n",
       "      <td>0.109074</td>\n",
       "      <td>1.000000</td>\n",
       "      <td>-0.055511</td>\n",
       "      <td>0.008589</td>\n",
       "      <td>0.026680</td>\n",
       "      <td>-0.023926</td>\n",
       "      <td>-0.002505</td>\n",
       "      <td>0.057797</td>\n",
       "      <td>0.076409</td>\n",
       "      <td>-0.072274</td>\n",
       "    </tr>\n",
       "    <tr>\n",
       "      <th>Galactic Latitude [deg]</th>\n",
       "      <td>-0.044988</td>\n",
       "      <td>-0.055511</td>\n",
       "      <td>1.000000</td>\n",
       "      <td>-0.019213</td>\n",
       "      <td>0.463063</td>\n",
       "      <td>0.174632</td>\n",
       "      <td>-0.090369</td>\n",
       "      <td>-0.025691</td>\n",
       "      <td>-0.008918</td>\n",
       "      <td>0.031820</td>\n",
       "    </tr>\n",
       "    <tr>\n",
       "      <th>Galactic Longitude [deg]</th>\n",
       "      <td>0.104236</td>\n",
       "      <td>0.008589</td>\n",
       "      <td>-0.019213</td>\n",
       "      <td>1.000000</td>\n",
       "      <td>-0.657044</td>\n",
       "      <td>-0.408779</td>\n",
       "      <td>0.131333</td>\n",
       "      <td>-0.008283</td>\n",
       "      <td>-0.026088</td>\n",
       "      <td>-0.106558</td>\n",
       "    </tr>\n",
       "    <tr>\n",
       "      <th>Ecliptic Latitude [deg]</th>\n",
       "      <td>-0.087528</td>\n",
       "      <td>0.026680</td>\n",
       "      <td>0.463063</td>\n",
       "      <td>-0.657044</td>\n",
       "      <td>1.000000</td>\n",
       "      <td>0.498442</td>\n",
       "      <td>-0.222283</td>\n",
       "      <td>-0.006864</td>\n",
       "      <td>0.025212</td>\n",
       "      <td>0.081113</td>\n",
       "    </tr>\n",
       "    <tr>\n",
       "      <th>Ecliptic Longitude [deg]</th>\n",
       "      <td>-0.069450</td>\n",
       "      <td>-0.023926</td>\n",
       "      <td>0.174632</td>\n",
       "      <td>-0.408779</td>\n",
       "      <td>0.498442</td>\n",
       "      <td>1.000000</td>\n",
       "      <td>-0.119612</td>\n",
       "      <td>0.013811</td>\n",
       "      <td>0.031078</td>\n",
       "      <td>0.058041</td>\n",
       "    </tr>\n",
       "    <tr>\n",
       "      <th>Number of Photometry Time Series</th>\n",
       "      <td>0.057734</td>\n",
       "      <td>-0.002505</td>\n",
       "      <td>-0.090369</td>\n",
       "      <td>0.131333</td>\n",
       "      <td>-0.222283</td>\n",
       "      <td>-0.119612</td>\n",
       "      <td>1.000000</td>\n",
       "      <td>-0.004172</td>\n",
       "      <td>-0.014848</td>\n",
       "      <td>-0.252983</td>\n",
       "    </tr>\n",
       "    <tr>\n",
       "      <th>Number of Emission Spectroscopy Measurements</th>\n",
       "      <td>-0.003200</td>\n",
       "      <td>0.057797</td>\n",
       "      <td>-0.025691</td>\n",
       "      <td>-0.008283</td>\n",
       "      <td>-0.006864</td>\n",
       "      <td>0.013811</td>\n",
       "      <td>-0.004172</td>\n",
       "      <td>1.000000</td>\n",
       "      <td>-0.000553</td>\n",
       "      <td>0.000791</td>\n",
       "    </tr>\n",
       "    <tr>\n",
       "      <th>Number of Transmission Spectroscopy Measurements</th>\n",
       "      <td>-0.002096</td>\n",
       "      <td>0.076409</td>\n",
       "      <td>-0.008918</td>\n",
       "      <td>-0.026088</td>\n",
       "      <td>0.025212</td>\n",
       "      <td>0.031078</td>\n",
       "      <td>-0.014848</td>\n",
       "      <td>-0.000553</td>\n",
       "      <td>1.000000</td>\n",
       "      <td>-0.015425</td>\n",
       "    </tr>\n",
       "    <tr>\n",
       "      <th>Discovery Year</th>\n",
       "      <td>-0.147575</td>\n",
       "      <td>-0.072274</td>\n",
       "      <td>0.031820</td>\n",
       "      <td>-0.106558</td>\n",
       "      <td>0.081113</td>\n",
       "      <td>0.058041</td>\n",
       "      <td>-0.252983</td>\n",
       "      <td>0.000791</td>\n",
       "      <td>-0.015425</td>\n",
       "      <td>1.000000</td>\n",
       "    </tr>\n",
       "  </tbody>\n",
       "</table>\n",
       "</div>"
      ],
      "text/plain": [
       "                                                  Number of Stars  \\\n",
       "Number of Stars                                          1.000000   \n",
       "Number of Planets                                        0.109074   \n",
       "Galactic Latitude [deg]                                 -0.044988   \n",
       "Galactic Longitude [deg]                                 0.104236   \n",
       "Ecliptic Latitude [deg]                                 -0.087528   \n",
       "Ecliptic Longitude [deg]                                -0.069450   \n",
       "Number of Photometry Time Series                         0.057734   \n",
       "Number of Emission Spectroscopy Measurements            -0.003200   \n",
       "Number of Transmission Spectroscopy Measurements        -0.002096   \n",
       "Discovery Year                                          -0.147575   \n",
       "\n",
       "                                                  Number of Planets  \\\n",
       "Number of Stars                                            0.109074   \n",
       "Number of Planets                                          1.000000   \n",
       "Galactic Latitude [deg]                                   -0.055511   \n",
       "Galactic Longitude [deg]                                   0.008589   \n",
       "Ecliptic Latitude [deg]                                    0.026680   \n",
       "Ecliptic Longitude [deg]                                  -0.023926   \n",
       "Number of Photometry Time Series                          -0.002505   \n",
       "Number of Emission Spectroscopy Measurements               0.057797   \n",
       "Number of Transmission Spectroscopy Measurements           0.076409   \n",
       "Discovery Year                                            -0.072274   \n",
       "\n",
       "                                                  Galactic Latitude [deg]  \\\n",
       "Number of Stars                                                 -0.044988   \n",
       "Number of Planets                                               -0.055511   \n",
       "Galactic Latitude [deg]                                          1.000000   \n",
       "Galactic Longitude [deg]                                        -0.019213   \n",
       "Ecliptic Latitude [deg]                                          0.463063   \n",
       "Ecliptic Longitude [deg]                                         0.174632   \n",
       "Number of Photometry Time Series                                -0.090369   \n",
       "Number of Emission Spectroscopy Measurements                    -0.025691   \n",
       "Number of Transmission Spectroscopy Measurements                -0.008918   \n",
       "Discovery Year                                                   0.031820   \n",
       "\n",
       "                                                  Galactic Longitude [deg]  \\\n",
       "Number of Stars                                                   0.104236   \n",
       "Number of Planets                                                 0.008589   \n",
       "Galactic Latitude [deg]                                          -0.019213   \n",
       "Galactic Longitude [deg]                                          1.000000   \n",
       "Ecliptic Latitude [deg]                                          -0.657044   \n",
       "Ecliptic Longitude [deg]                                         -0.408779   \n",
       "Number of Photometry Time Series                                  0.131333   \n",
       "Number of Emission Spectroscopy Measurements                     -0.008283   \n",
       "Number of Transmission Spectroscopy Measurements                 -0.026088   \n",
       "Discovery Year                                                   -0.106558   \n",
       "\n",
       "                                                  Ecliptic Latitude [deg]  \\\n",
       "Number of Stars                                                 -0.087528   \n",
       "Number of Planets                                                0.026680   \n",
       "Galactic Latitude [deg]                                          0.463063   \n",
       "Galactic Longitude [deg]                                        -0.657044   \n",
       "Ecliptic Latitude [deg]                                          1.000000   \n",
       "Ecliptic Longitude [deg]                                         0.498442   \n",
       "Number of Photometry Time Series                                -0.222283   \n",
       "Number of Emission Spectroscopy Measurements                    -0.006864   \n",
       "Number of Transmission Spectroscopy Measurements                 0.025212   \n",
       "Discovery Year                                                   0.081113   \n",
       "\n",
       "                                                  Ecliptic Longitude [deg]  \\\n",
       "Number of Stars                                                  -0.069450   \n",
       "Number of Planets                                                -0.023926   \n",
       "Galactic Latitude [deg]                                           0.174632   \n",
       "Galactic Longitude [deg]                                         -0.408779   \n",
       "Ecliptic Latitude [deg]                                           0.498442   \n",
       "Ecliptic Longitude [deg]                                          1.000000   \n",
       "Number of Photometry Time Series                                 -0.119612   \n",
       "Number of Emission Spectroscopy Measurements                      0.013811   \n",
       "Number of Transmission Spectroscopy Measurements                  0.031078   \n",
       "Discovery Year                                                    0.058041   \n",
       "\n",
       "                                                  Number of Photometry Time Series  \\\n",
       "Number of Stars                                                           0.057734   \n",
       "Number of Planets                                                        -0.002505   \n",
       "Galactic Latitude [deg]                                                  -0.090369   \n",
       "Galactic Longitude [deg]                                                  0.131333   \n",
       "Ecliptic Latitude [deg]                                                  -0.222283   \n",
       "Ecliptic Longitude [deg]                                                 -0.119612   \n",
       "Number of Photometry Time Series                                          1.000000   \n",
       "Number of Emission Spectroscopy Measurements                             -0.004172   \n",
       "Number of Transmission Spectroscopy Measurements                         -0.014848   \n",
       "Discovery Year                                                           -0.252983   \n",
       "\n",
       "                                                  Number of Emission Spectroscopy Measurements  \\\n",
       "Number of Stars                                                                      -0.003200   \n",
       "Number of Planets                                                                     0.057797   \n",
       "Galactic Latitude [deg]                                                              -0.025691   \n",
       "Galactic Longitude [deg]                                                             -0.008283   \n",
       "Ecliptic Latitude [deg]                                                              -0.006864   \n",
       "Ecliptic Longitude [deg]                                                              0.013811   \n",
       "Number of Photometry Time Series                                                     -0.004172   \n",
       "Number of Emission Spectroscopy Measurements                                          1.000000   \n",
       "Number of Transmission Spectroscopy Measurements                                     -0.000553   \n",
       "Discovery Year                                                                        0.000791   \n",
       "\n",
       "                                                  Number of Transmission Spectroscopy Measurements  \\\n",
       "Number of Stars                                                                          -0.002096   \n",
       "Number of Planets                                                                         0.076409   \n",
       "Galactic Latitude [deg]                                                                  -0.008918   \n",
       "Galactic Longitude [deg]                                                                 -0.026088   \n",
       "Ecliptic Latitude [deg]                                                                   0.025212   \n",
       "Ecliptic Longitude [deg]                                                                  0.031078   \n",
       "Number of Photometry Time Series                                                         -0.014848   \n",
       "Number of Emission Spectroscopy Measurements                                             -0.000553   \n",
       "Number of Transmission Spectroscopy Measurements                                          1.000000   \n",
       "Discovery Year                                                                           -0.015425   \n",
       "\n",
       "                                                  Discovery Year  \n",
       "Number of Stars                                        -0.147575  \n",
       "Number of Planets                                      -0.072274  \n",
       "Galactic Latitude [deg]                                 0.031820  \n",
       "Galactic Longitude [deg]                               -0.106558  \n",
       "Ecliptic Latitude [deg]                                 0.081113  \n",
       "Ecliptic Longitude [deg]                                0.058041  \n",
       "Number of Photometry Time Series                       -0.252983  \n",
       "Number of Emission Spectroscopy Measurements            0.000791  \n",
       "Number of Transmission Spectroscopy Measurements       -0.015425  \n",
       "Discovery Year                                          1.000000  "
      ]
     },
     "execution_count": 6,
     "metadata": {},
     "output_type": "execute_result"
    }
   ],
   "source": [
    "features_final=features\n",
    "features_final.corr()"
   ]
  },
  {
   "cell_type": "markdown",
   "id": "e04833c5-e8c3-45e2-8479-8384e6cb7180",
   "metadata": {},
   "source": [
    "## Split data"
   ]
  },
  {
   "cell_type": "code",
   "execution_count": 7,
   "id": "4423bbdd-d8b7-4d2b-8642-abc79da22147",
   "metadata": {},
   "outputs": [
    {
     "data": {
      "text/plain": [
       "((5148, 10), (5148,))"
      ]
     },
     "execution_count": 7,
     "metadata": {},
     "output_type": "execute_result"
    }
   ],
   "source": [
    "# Splitting dataset into training and testing addresses overfitting\n",
    "# shuffling is necessary to remove dependencies that come from order of data\n",
    "from sklearn.model_selection import train_test_split\n",
    "x_train, x_test, y_train, y_test = train_test_split(features_final, targets, train_size = 0.8, random_state = 42)\n",
    "\n",
    "x_train.shape, y_train.shape"
   ]
  },
  {
   "cell_type": "markdown",
   "id": "84e98919-5fb5-4a7e-9e15-5428a8367649",
   "metadata": {},
   "source": [
    "# Fitting the Logistic Regression"
   ]
  },
  {
   "cell_type": "code",
   "execution_count": 8,
   "id": "bb93d919-7759-4fd8-9a88-cc2b0190695e",
   "metadata": {},
   "outputs": [],
   "source": [
    "from sklearn.linear_model import LogisticRegression\n",
    "from sklearn import metrics"
   ]
  },
  {
   "cell_type": "markdown",
   "id": "2593a634-6fdc-4e96-971d-66c953c8a841",
   "metadata": {},
   "source": [
    "## Use L1 regularization (Lasso) for:\n",
    "### Enhanced feature selection (shrinks some features to exactly 0, simplifying our model with only the most important features\n",
    "### Handles multicollinearity ; penalizes large coefficients and encourages a sparse model\n",
    "### Prevents overfitting ; Penalty for large coefficients reduces overfitting especially when number features is large compared to num obs\n",
    "\n",
    "## Use liblinear solver because:\n",
    "### Suitable for small-medium sized datasets (uses coordinate descent algorithm, efficient for L1 regularization\n",
    "### Supports L1 regularization (for logreg with L1 penalty)\n",
    "### Works great with binary classification problems\n",
    "\n",
    "## Max iterations: 1000\n",
    "### This is to ensure our optimization algorithm has enough iterations to reach convergence \n",
    "### Logregs especially with regularization require higher number of iterations to find optimal coefficients \n",
    "### Avoids premature stopping "
   ]
  },
  {
   "cell_type": "code",
   "execution_count": 9,
   "id": "70060336-ef91-4ed2-94a8-f8a17cfb0155",
   "metadata": {},
   "outputs": [
    {
     "data": {
      "text/html": [
       "<style>#sk-container-id-1 {color: black;background-color: white;}#sk-container-id-1 pre{padding: 0;}#sk-container-id-1 div.sk-toggleable {background-color: white;}#sk-container-id-1 label.sk-toggleable__label {cursor: pointer;display: block;width: 100%;margin-bottom: 0;padding: 0.3em;box-sizing: border-box;text-align: center;}#sk-container-id-1 label.sk-toggleable__label-arrow:before {content: \"▸\";float: left;margin-right: 0.25em;color: #696969;}#sk-container-id-1 label.sk-toggleable__label-arrow:hover:before {color: black;}#sk-container-id-1 div.sk-estimator:hover label.sk-toggleable__label-arrow:before {color: black;}#sk-container-id-1 div.sk-toggleable__content {max-height: 0;max-width: 0;overflow: hidden;text-align: left;background-color: #f0f8ff;}#sk-container-id-1 div.sk-toggleable__content pre {margin: 0.2em;color: black;border-radius: 0.25em;background-color: #f0f8ff;}#sk-container-id-1 input.sk-toggleable__control:checked~div.sk-toggleable__content {max-height: 200px;max-width: 100%;overflow: auto;}#sk-container-id-1 input.sk-toggleable__control:checked~label.sk-toggleable__label-arrow:before {content: \"▾\";}#sk-container-id-1 div.sk-estimator input.sk-toggleable__control:checked~label.sk-toggleable__label {background-color: #d4ebff;}#sk-container-id-1 div.sk-label input.sk-toggleable__control:checked~label.sk-toggleable__label {background-color: #d4ebff;}#sk-container-id-1 input.sk-hidden--visually {border: 0;clip: rect(1px 1px 1px 1px);clip: rect(1px, 1px, 1px, 1px);height: 1px;margin: -1px;overflow: hidden;padding: 0;position: absolute;width: 1px;}#sk-container-id-1 div.sk-estimator {font-family: monospace;background-color: #f0f8ff;border: 1px dotted black;border-radius: 0.25em;box-sizing: border-box;margin-bottom: 0.5em;}#sk-container-id-1 div.sk-estimator:hover {background-color: #d4ebff;}#sk-container-id-1 div.sk-parallel-item::after {content: \"\";width: 100%;border-bottom: 1px solid gray;flex-grow: 1;}#sk-container-id-1 div.sk-label:hover label.sk-toggleable__label {background-color: #d4ebff;}#sk-container-id-1 div.sk-serial::before {content: \"\";position: absolute;border-left: 1px solid gray;box-sizing: border-box;top: 0;bottom: 0;left: 50%;z-index: 0;}#sk-container-id-1 div.sk-serial {display: flex;flex-direction: column;align-items: center;background-color: white;padding-right: 0.2em;padding-left: 0.2em;position: relative;}#sk-container-id-1 div.sk-item {position: relative;z-index: 1;}#sk-container-id-1 div.sk-parallel {display: flex;align-items: stretch;justify-content: center;background-color: white;position: relative;}#sk-container-id-1 div.sk-item::before, #sk-container-id-1 div.sk-parallel-item::before {content: \"\";position: absolute;border-left: 1px solid gray;box-sizing: border-box;top: 0;bottom: 0;left: 50%;z-index: -1;}#sk-container-id-1 div.sk-parallel-item {display: flex;flex-direction: column;z-index: 1;position: relative;background-color: white;}#sk-container-id-1 div.sk-parallel-item:first-child::after {align-self: flex-end;width: 50%;}#sk-container-id-1 div.sk-parallel-item:last-child::after {align-self: flex-start;width: 50%;}#sk-container-id-1 div.sk-parallel-item:only-child::after {width: 0;}#sk-container-id-1 div.sk-dashed-wrapped {border: 1px dashed gray;margin: 0 0.4em 0.5em 0.4em;box-sizing: border-box;padding-bottom: 0.4em;background-color: white;}#sk-container-id-1 div.sk-label label {font-family: monospace;font-weight: bold;display: inline-block;line-height: 1.2em;}#sk-container-id-1 div.sk-label-container {text-align: center;}#sk-container-id-1 div.sk-container {/* jupyter's `normalize.less` sets `[hidden] { display: none; }` but bootstrap.min.css set `[hidden] { display: none !important; }` so we also need the `!important` here to be able to override the default hidden behavior on the sphinx rendered scikit-learn.org. See: https://github.com/scikit-learn/scikit-learn/issues/21755 */display: inline-block !important;position: relative;}#sk-container-id-1 div.sk-text-repr-fallback {display: none;}</style><div id=\"sk-container-id-1\" class=\"sk-top-container\"><div class=\"sk-text-repr-fallback\"><pre>LogisticRegression(max_iter=1000, penalty=&#x27;l1&#x27;, solver=&#x27;liblinear&#x27;)</pre><b>In a Jupyter environment, please rerun this cell to show the HTML representation or trust the notebook. <br />On GitHub, the HTML representation is unable to render, please try loading this page with nbviewer.org.</b></div><div class=\"sk-container\" hidden><div class=\"sk-item\"><div class=\"sk-estimator sk-toggleable\"><input class=\"sk-toggleable__control sk-hidden--visually\" id=\"sk-estimator-id-1\" type=\"checkbox\" checked><label for=\"sk-estimator-id-1\" class=\"sk-toggleable__label sk-toggleable__label-arrow\">LogisticRegression</label><div class=\"sk-toggleable__content\"><pre>LogisticRegression(max_iter=1000, penalty=&#x27;l1&#x27;, solver=&#x27;liblinear&#x27;)</pre></div></div></div></div></div>"
      ],
      "text/plain": [
       "LogisticRegression(max_iter=1000, penalty='l1', solver='liblinear')"
      ]
     },
     "execution_count": 9,
     "metadata": {},
     "output_type": "execute_result"
    }
   ],
   "source": [
    "logreg = LogisticRegression(penalty='l1', solver='liblinear', max_iter=1000)\n",
    "logreg.fit(x_train,y_train)"
   ]
  },
  {
   "cell_type": "code",
   "execution_count": 10,
   "id": "9ea24ffe-61a2-4a78-8e1a-5a0a65e08021",
   "metadata": {},
   "outputs": [
    {
     "data": {
      "text/plain": [
       "0.8560606060606061"
      ]
     },
     "execution_count": 10,
     "metadata": {},
     "output_type": "execute_result"
    }
   ],
   "source": [
    "logreg.score(x_train, y_train)"
   ]
  },
  {
   "cell_type": "markdown",
   "id": "a9f94102-c0ae-4017-bbd5-e4cc8388258f",
   "metadata": {},
   "source": [
    "### 85% of the model's training outputs match the targets!\n",
    "### Still important to manually calculate the accuracy"
   ]
  },
  {
   "cell_type": "code",
   "execution_count": 11,
   "id": "109952ad-bc3d-47ed-b209-78d42ce20baf",
   "metadata": {},
   "outputs": [
    {
     "data": {
      "text/plain": [
       "array([0, 1, 1, ..., 1, 0, 0])"
      ]
     },
     "execution_count": 11,
     "metadata": {},
     "output_type": "execute_result"
    }
   ],
   "source": [
    "model_outputs = logreg.predict(x_train)\n",
    "# view the predicted class labels of the regression\n",
    "model_outputs"
   ]
  },
  {
   "cell_type": "code",
   "execution_count": 12,
   "id": "ed32012b-a22b-484e-8994-69a79cc0ee16",
   "metadata": {},
   "outputs": [
    {
     "data": {
      "text/plain": [
       "915      True\n",
       "5904    False\n",
       "2083     True\n",
       "2480     True\n",
       "509      True\n",
       "        ...  \n",
       "3772     True\n",
       "5191     True\n",
       "5226    False\n",
       "5390     True\n",
       "860      True\n",
       "Name: Detected by Transits, Length: 5148, dtype: bool"
      ]
     },
     "execution_count": 12,
     "metadata": {},
     "output_type": "execute_result"
    }
   ],
   "source": [
    "model_outputs == y_train"
   ]
  },
  {
   "cell_type": "code",
   "execution_count": 13,
   "id": "22a72fdd-b1a9-4b24-9d01-f30f27ea413c",
   "metadata": {},
   "outputs": [
    {
     "data": {
      "text/plain": [
       "0.8560606060606061"
      ]
     },
     "execution_count": 13,
     "metadata": {},
     "output_type": "execute_result"
    }
   ],
   "source": [
    "# sum to measure correct predictions\n",
    "import numpy as np\n",
    "# number correct / total number model predictions\n",
    "np.sum([model_outputs == y_train]) / model_outputs.shape[0]"
   ]
  },
  {
   "cell_type": "markdown",
   "id": "258849ee-acc6-41a7-8abc-3e2cad767940",
   "metadata": {},
   "source": [
    "### Same accuracy!"
   ]
  },
  {
   "cell_type": "markdown",
   "id": "15211f1a-845c-4783-95b3-7b35cdd80060",
   "metadata": {},
   "source": [
    "# Analyze Summary Table with coefficients (weights) and intercept (bias)"
   ]
  },
  {
   "cell_type": "code",
   "execution_count": 14,
   "id": "e3d2a6b4-f1fb-493f-bf97-f32c112627ad",
   "metadata": {},
   "outputs": [
    {
     "data": {
      "text/plain": [
       "(array([0.]),\n",
       " array([[-2.49614918e-01,  4.85550686e-01, -1.91117595e-01,\n",
       "          4.07527467e-01,  1.77649881e+00,  4.34578143e-01,\n",
       "         -4.70618828e+00,  2.24005499e-02,  3.78128071e-01,\n",
       "         -4.57715140e-04]]))"
      ]
     },
     "execution_count": 14,
     "metadata": {},
     "output_type": "execute_result"
    }
   ],
   "source": [
    "logreg.intercept_, logreg.coef_"
   ]
  },
  {
   "cell_type": "markdown",
   "id": "be26f527-5d45-4eed-a3c1-da9e02fdd9ba",
   "metadata": {},
   "source": [
    "### Match up coefs with features"
   ]
  },
  {
   "cell_type": "code",
   "execution_count": 15,
   "id": "3a53cd0f-15cd-4b09-be2d-dd898348b4de",
   "metadata": {},
   "outputs": [],
   "source": [
    "feature_name = features_final.columns.values\n",
    "summary_table = pd.DataFrame(columns=['Feature Name'], data = feature_name)"
   ]
  },
  {
   "cell_type": "markdown",
   "id": "513b5b98-5c14-43ce-a309-b4c1e94f3609",
   "metadata": {},
   "source": [
    "### Transpose bc by default np arrays are rows and not columns"
   ]
  },
  {
   "cell_type": "code",
   "execution_count": 16,
   "id": "8941e1bd-fb23-4176-99a0-068f5fddd609",
   "metadata": {},
   "outputs": [],
   "source": [
    "summary_table['Coefficients'] = np.transpose(logreg.coef_)"
   ]
  },
  {
   "cell_type": "markdown",
   "id": "fa73d2cf-f82f-4e01-bae8-6ac4d9a7cf1c",
   "metadata": {},
   "source": [
    "### Insert intercept as 0th index ; Move all indices up by 1 "
   ]
  },
  {
   "cell_type": "code",
   "execution_count": 17,
   "id": "ba5522f7-ee72-4167-9d2b-2fa03c542616",
   "metadata": {},
   "outputs": [
    {
     "data": {
      "text/html": [
       "<div>\n",
       "<style scoped>\n",
       "    .dataframe tbody tr th:only-of-type {\n",
       "        vertical-align: middle;\n",
       "    }\n",
       "\n",
       "    .dataframe tbody tr th {\n",
       "        vertical-align: top;\n",
       "    }\n",
       "\n",
       "    .dataframe thead th {\n",
       "        text-align: right;\n",
       "    }\n",
       "</style>\n",
       "<table border=\"1\" class=\"dataframe\">\n",
       "  <thead>\n",
       "    <tr style=\"text-align: right;\">\n",
       "      <th></th>\n",
       "      <th>Feature Name</th>\n",
       "      <th>Coefficients</th>\n",
       "    </tr>\n",
       "  </thead>\n",
       "  <tbody>\n",
       "    <tr>\n",
       "      <th>0</th>\n",
       "      <td>Intercept</td>\n",
       "      <td>0.000000</td>\n",
       "    </tr>\n",
       "    <tr>\n",
       "      <th>1</th>\n",
       "      <td>Number of Stars</td>\n",
       "      <td>-0.249615</td>\n",
       "    </tr>\n",
       "    <tr>\n",
       "      <th>2</th>\n",
       "      <td>Number of Planets</td>\n",
       "      <td>0.485551</td>\n",
       "    </tr>\n",
       "    <tr>\n",
       "      <th>3</th>\n",
       "      <td>Galactic Latitude [deg]</td>\n",
       "      <td>-0.191118</td>\n",
       "    </tr>\n",
       "    <tr>\n",
       "      <th>4</th>\n",
       "      <td>Galactic Longitude [deg]</td>\n",
       "      <td>0.407527</td>\n",
       "    </tr>\n",
       "    <tr>\n",
       "      <th>5</th>\n",
       "      <td>Ecliptic Latitude [deg]</td>\n",
       "      <td>1.776499</td>\n",
       "    </tr>\n",
       "    <tr>\n",
       "      <th>6</th>\n",
       "      <td>Ecliptic Longitude [deg]</td>\n",
       "      <td>0.434578</td>\n",
       "    </tr>\n",
       "    <tr>\n",
       "      <th>7</th>\n",
       "      <td>Number of Photometry Time Series</td>\n",
       "      <td>-4.706188</td>\n",
       "    </tr>\n",
       "    <tr>\n",
       "      <th>8</th>\n",
       "      <td>Number of Emission Spectroscopy Measurements</td>\n",
       "      <td>0.022401</td>\n",
       "    </tr>\n",
       "    <tr>\n",
       "      <th>9</th>\n",
       "      <td>Number of Transmission Spectroscopy Measurements</td>\n",
       "      <td>0.378128</td>\n",
       "    </tr>\n",
       "    <tr>\n",
       "      <th>10</th>\n",
       "      <td>Discovery Year</td>\n",
       "      <td>-0.000458</td>\n",
       "    </tr>\n",
       "  </tbody>\n",
       "</table>\n",
       "</div>"
      ],
      "text/plain": [
       "                                        Feature Name  Coefficients\n",
       "0                                          Intercept      0.000000\n",
       "1                                    Number of Stars     -0.249615\n",
       "2                                  Number of Planets      0.485551\n",
       "3                            Galactic Latitude [deg]     -0.191118\n",
       "4                           Galactic Longitude [deg]      0.407527\n",
       "5                            Ecliptic Latitude [deg]      1.776499\n",
       "6                           Ecliptic Longitude [deg]      0.434578\n",
       "7                   Number of Photometry Time Series     -4.706188\n",
       "8       Number of Emission Spectroscopy Measurements      0.022401\n",
       "9   Number of Transmission Spectroscopy Measurements      0.378128\n",
       "10                                    Discovery Year     -0.000458"
      ]
     },
     "execution_count": 17,
     "metadata": {},
     "output_type": "execute_result"
    }
   ],
   "source": [
    "summary_table.index += 1\n",
    "summary_table.loc[0] = ['Intercept', logreg.intercept_[0]]\n",
    "summary_table = summary_table.sort_index()\n",
    "summary_table"
   ]
  },
  {
   "cell_type": "markdown",
   "id": "3a81f6d9-5e35-49cc-b79f-801e2bad3494",
   "metadata": {},
   "source": [
    "## The closer the coefficient is to 0, the less impact (less weight on the model) \n",
    "## Now we calculate log odds \n",
    "## Log odds tell us the strength of the relationship between the feature and the outcome (detected by transits T/F)"
   ]
  },
  {
   "cell_type": "code",
   "execution_count": 18,
   "id": "103c2988-77d1-4c2b-a94a-80ea1eac869b",
   "metadata": {},
   "outputs": [
    {
     "data": {
      "text/html": [
       "<div>\n",
       "<style scoped>\n",
       "    .dataframe tbody tr th:only-of-type {\n",
       "        vertical-align: middle;\n",
       "    }\n",
       "\n",
       "    .dataframe tbody tr th {\n",
       "        vertical-align: top;\n",
       "    }\n",
       "\n",
       "    .dataframe thead th {\n",
       "        text-align: right;\n",
       "    }\n",
       "</style>\n",
       "<table border=\"1\" class=\"dataframe\">\n",
       "  <thead>\n",
       "    <tr style=\"text-align: right;\">\n",
       "      <th></th>\n",
       "      <th>Feature Name</th>\n",
       "      <th>Coefficients</th>\n",
       "      <th>Odds_ratio</th>\n",
       "    </tr>\n",
       "  </thead>\n",
       "  <tbody>\n",
       "    <tr>\n",
       "      <th>5</th>\n",
       "      <td>Ecliptic Latitude [deg]</td>\n",
       "      <td>1.776499</td>\n",
       "      <td>5.909131</td>\n",
       "    </tr>\n",
       "    <tr>\n",
       "      <th>2</th>\n",
       "      <td>Number of Planets</td>\n",
       "      <td>0.485551</td>\n",
       "      <td>1.625070</td>\n",
       "    </tr>\n",
       "    <tr>\n",
       "      <th>6</th>\n",
       "      <td>Ecliptic Longitude [deg]</td>\n",
       "      <td>0.434578</td>\n",
       "      <td>1.544311</td>\n",
       "    </tr>\n",
       "    <tr>\n",
       "      <th>4</th>\n",
       "      <td>Galactic Longitude [deg]</td>\n",
       "      <td>0.407527</td>\n",
       "      <td>1.503097</td>\n",
       "    </tr>\n",
       "    <tr>\n",
       "      <th>9</th>\n",
       "      <td>Number of Transmission Spectroscopy Measurements</td>\n",
       "      <td>0.378128</td>\n",
       "      <td>1.459550</td>\n",
       "    </tr>\n",
       "    <tr>\n",
       "      <th>8</th>\n",
       "      <td>Number of Emission Spectroscopy Measurements</td>\n",
       "      <td>0.022401</td>\n",
       "      <td>1.022653</td>\n",
       "    </tr>\n",
       "    <tr>\n",
       "      <th>0</th>\n",
       "      <td>Intercept</td>\n",
       "      <td>0.000000</td>\n",
       "      <td>1.000000</td>\n",
       "    </tr>\n",
       "    <tr>\n",
       "      <th>10</th>\n",
       "      <td>Discovery Year</td>\n",
       "      <td>-0.000458</td>\n",
       "      <td>0.999542</td>\n",
       "    </tr>\n",
       "    <tr>\n",
       "      <th>3</th>\n",
       "      <td>Galactic Latitude [deg]</td>\n",
       "      <td>-0.191118</td>\n",
       "      <td>0.826035</td>\n",
       "    </tr>\n",
       "    <tr>\n",
       "      <th>1</th>\n",
       "      <td>Number of Stars</td>\n",
       "      <td>-0.249615</td>\n",
       "      <td>0.779101</td>\n",
       "    </tr>\n",
       "    <tr>\n",
       "      <th>7</th>\n",
       "      <td>Number of Photometry Time Series</td>\n",
       "      <td>-4.706188</td>\n",
       "      <td>0.009039</td>\n",
       "    </tr>\n",
       "  </tbody>\n",
       "</table>\n",
       "</div>"
      ],
      "text/plain": [
       "                                        Feature Name  Coefficients  Odds_ratio\n",
       "5                            Ecliptic Latitude [deg]      1.776499    5.909131\n",
       "2                                  Number of Planets      0.485551    1.625070\n",
       "6                           Ecliptic Longitude [deg]      0.434578    1.544311\n",
       "4                           Galactic Longitude [deg]      0.407527    1.503097\n",
       "9   Number of Transmission Spectroscopy Measurements      0.378128    1.459550\n",
       "8       Number of Emission Spectroscopy Measurements      0.022401    1.022653\n",
       "0                                          Intercept      0.000000    1.000000\n",
       "10                                    Discovery Year     -0.000458    0.999542\n",
       "3                            Galactic Latitude [deg]     -0.191118    0.826035\n",
       "1                                    Number of Stars     -0.249615    0.779101\n",
       "7                   Number of Photometry Time Series     -4.706188    0.009039"
      ]
     },
     "execution_count": 18,
     "metadata": {},
     "output_type": "execute_result"
    }
   ],
   "source": [
    "summary_table['Odds_ratio'] = np.exp(summary_table['Coefficients'])\n",
    "summary_ordered = summary_table.sort_values('Odds_ratio', ascending=False)\n",
    "summary_ordered"
   ]
  },
  {
   "cell_type": "markdown",
   "id": "7685cee3-d59c-4cfe-ada0-233ced2954f3",
   "metadata": {},
   "source": [
    "## A feature is not important if:\n",
    "## Coef ~ 0 (means this coefficient, even at its highest value will have close to 0 effect on the outcome);\n",
    "## Odds ratio ~ 1 (means this coefficient, even at its highest value will only have minimal effect on the odds of the outcome)"
   ]
  },
  {
   "cell_type": "markdown",
   "id": "44a48ad2-1006-4d11-add6-afc594265e53",
   "metadata": {},
   "source": [
    "# Calculating P-values"
   ]
  },
  {
   "cell_type": "markdown",
   "id": "48967402-5283-414f-b3f9-f44bc80d105b",
   "metadata": {},
   "source": [
    "### Using Logistic Regression from statsmodels for more in-depth statistical analysis and interpretation of the model coefficients"
   ]
  },
  {
   "cell_type": "code",
   "execution_count": 19,
   "id": "0be647a2-6b70-457f-b5cb-c2a551cac80e",
   "metadata": {},
   "outputs": [
    {
     "name": "stderr",
     "output_type": "stream",
     "text": [
      "/Users/kevin/anaconda3/envs/py310_ds/lib/python3.10/site-packages/statsmodels/discrete/discrete_model.py:2383: RuntimeWarning: overflow encountered in exp\n",
      "  return 1/(1+np.exp(-X))\n",
      "/Users/kevin/anaconda3/envs/py310_ds/lib/python3.10/site-packages/statsmodels/discrete/discrete_model.py:2441: RuntimeWarning: divide by zero encountered in log\n",
      "  return np.sum(np.log(self.cdf(q * linpred)))\n"
     ]
    },
    {
     "name": "stdout",
     "output_type": "stream",
     "text": [
      "Optimization terminated successfully    (Exit mode 0)\n",
      "            Current function value: 0.3119125439719923\n",
      "            Iterations: 66\n",
      "            Function evaluations: 72\n",
      "            Gradient evaluations: 66\n"
     ]
    },
    {
     "ename": "LinAlgError",
     "evalue": "Singular matrix",
     "output_type": "error",
     "traceback": [
      "\u001b[0;31m---------------------------------------------------------------------------\u001b[0m",
      "\u001b[0;31mLinAlgError\u001b[0m                               Traceback (most recent call last)",
      "Cell \u001b[0;32mIn[19], line 8\u001b[0m\n\u001b[1;32m      4\u001b[0m x_train_with_intercept \u001b[38;5;241m=\u001b[39m sm\u001b[38;5;241m.\u001b[39madd_constant(x_train)\n\u001b[1;32m      6\u001b[0m \u001b[38;5;66;03m# Train (fit) the model and print summary\u001b[39;00m\n\u001b[1;32m      7\u001b[0m \u001b[38;5;66;03m# Use regularization technique L1 Lasso to address quasi-separation and prevents coefficients from becoming too large\u001b[39;00m\n\u001b[0;32m----> 8\u001b[0m sm_logreg \u001b[38;5;241m=\u001b[39m \u001b[43msm\u001b[49m\u001b[38;5;241;43m.\u001b[39;49m\u001b[43mLogit\u001b[49m\u001b[43m(\u001b[49m\u001b[43my_train\u001b[49m\u001b[43m,\u001b[49m\u001b[43m \u001b[49m\u001b[43mx_train_with_intercept\u001b[49m\u001b[43m)\u001b[49m\u001b[38;5;241;43m.\u001b[39;49m\u001b[43mfit_regularized\u001b[49m\u001b[43m(\u001b[49m\u001b[43mmethod\u001b[49m\u001b[38;5;241;43m=\u001b[39;49m\u001b[38;5;124;43m'\u001b[39;49m\u001b[38;5;124;43ml1\u001b[39;49m\u001b[38;5;124;43m'\u001b[39;49m\u001b[43m,\u001b[49m\u001b[43mmaxiter\u001b[49m\u001b[38;5;241;43m=\u001b[39;49m\u001b[38;5;241;43m1000\u001b[39;49m\u001b[43m)\u001b[49m\n\u001b[1;32m      9\u001b[0m sm_logreg\u001b[38;5;241m.\u001b[39msummary()\n",
      "File \u001b[0;32m~/anaconda3/envs/py310_ds/lib/python3.10/site-packages/statsmodels/discrete/discrete_model.py:565\u001b[0m, in \u001b[0;36mBinaryModel.fit_regularized\u001b[0;34m(self, start_params, method, maxiter, full_output, disp, callback, alpha, trim_mode, auto_trim_tol, size_trim_tol, qc_tol, **kwargs)\u001b[0m\n\u001b[1;32m    557\u001b[0m \u001b[38;5;129m@Appender\u001b[39m(DiscreteModel\u001b[38;5;241m.\u001b[39mfit_regularized\u001b[38;5;241m.\u001b[39m\u001b[38;5;18m__doc__\u001b[39m)\n\u001b[1;32m    558\u001b[0m \u001b[38;5;28;01mdef\u001b[39;00m \u001b[38;5;21mfit_regularized\u001b[39m(\u001b[38;5;28mself\u001b[39m, start_params\u001b[38;5;241m=\u001b[39m\u001b[38;5;28;01mNone\u001b[39;00m, method\u001b[38;5;241m=\u001b[39m\u001b[38;5;124m'\u001b[39m\u001b[38;5;124ml1\u001b[39m\u001b[38;5;124m'\u001b[39m,\n\u001b[1;32m    559\u001b[0m         maxiter\u001b[38;5;241m=\u001b[39m\u001b[38;5;124m'\u001b[39m\u001b[38;5;124mdefined_by_method\u001b[39m\u001b[38;5;124m'\u001b[39m, full_output\u001b[38;5;241m=\u001b[39m\u001b[38;5;241m1\u001b[39m, disp\u001b[38;5;241m=\u001b[39m\u001b[38;5;241m1\u001b[39m, callback\u001b[38;5;241m=\u001b[39m\u001b[38;5;28;01mNone\u001b[39;00m,\n\u001b[1;32m    560\u001b[0m         alpha\u001b[38;5;241m=\u001b[39m\u001b[38;5;241m0\u001b[39m, trim_mode\u001b[38;5;241m=\u001b[39m\u001b[38;5;124m'\u001b[39m\u001b[38;5;124mauto\u001b[39m\u001b[38;5;124m'\u001b[39m, auto_trim_tol\u001b[38;5;241m=\u001b[39m\u001b[38;5;241m0.01\u001b[39m, size_trim_tol\u001b[38;5;241m=\u001b[39m\u001b[38;5;241m1e-4\u001b[39m,\n\u001b[1;32m    561\u001b[0m         qc_tol\u001b[38;5;241m=\u001b[39m\u001b[38;5;241m0.03\u001b[39m, \u001b[38;5;241m*\u001b[39m\u001b[38;5;241m*\u001b[39mkwargs):\n\u001b[1;32m    563\u001b[0m     _validate_l1_method(method)\n\u001b[0;32m--> 565\u001b[0m     bnryfit \u001b[38;5;241m=\u001b[39m \u001b[38;5;28;43msuper\u001b[39;49m\u001b[43m(\u001b[49m\u001b[43m)\u001b[49m\u001b[38;5;241;43m.\u001b[39;49m\u001b[43mfit_regularized\u001b[49m\u001b[43m(\u001b[49m\u001b[43mstart_params\u001b[49m\u001b[38;5;241;43m=\u001b[39;49m\u001b[43mstart_params\u001b[49m\u001b[43m,\u001b[49m\n\u001b[1;32m    566\u001b[0m \u001b[43m                                      \u001b[49m\u001b[43mmethod\u001b[49m\u001b[38;5;241;43m=\u001b[39;49m\u001b[43mmethod\u001b[49m\u001b[43m,\u001b[49m\n\u001b[1;32m    567\u001b[0m \u001b[43m                                      \u001b[49m\u001b[43mmaxiter\u001b[49m\u001b[38;5;241;43m=\u001b[39;49m\u001b[43mmaxiter\u001b[49m\u001b[43m,\u001b[49m\n\u001b[1;32m    568\u001b[0m \u001b[43m                                      \u001b[49m\u001b[43mfull_output\u001b[49m\u001b[38;5;241;43m=\u001b[39;49m\u001b[43mfull_output\u001b[49m\u001b[43m,\u001b[49m\n\u001b[1;32m    569\u001b[0m \u001b[43m                                      \u001b[49m\u001b[43mdisp\u001b[49m\u001b[38;5;241;43m=\u001b[39;49m\u001b[43mdisp\u001b[49m\u001b[43m,\u001b[49m\n\u001b[1;32m    570\u001b[0m \u001b[43m                                      \u001b[49m\u001b[43mcallback\u001b[49m\u001b[38;5;241;43m=\u001b[39;49m\u001b[43mcallback\u001b[49m\u001b[43m,\u001b[49m\n\u001b[1;32m    571\u001b[0m \u001b[43m                                      \u001b[49m\u001b[43malpha\u001b[49m\u001b[38;5;241;43m=\u001b[39;49m\u001b[43malpha\u001b[49m\u001b[43m,\u001b[49m\n\u001b[1;32m    572\u001b[0m \u001b[43m                                      \u001b[49m\u001b[43mtrim_mode\u001b[49m\u001b[38;5;241;43m=\u001b[39;49m\u001b[43mtrim_mode\u001b[49m\u001b[43m,\u001b[49m\n\u001b[1;32m    573\u001b[0m \u001b[43m                                      \u001b[49m\u001b[43mauto_trim_tol\u001b[49m\u001b[38;5;241;43m=\u001b[39;49m\u001b[43mauto_trim_tol\u001b[49m\u001b[43m,\u001b[49m\n\u001b[1;32m    574\u001b[0m \u001b[43m                                      \u001b[49m\u001b[43msize_trim_tol\u001b[49m\u001b[38;5;241;43m=\u001b[39;49m\u001b[43msize_trim_tol\u001b[49m\u001b[43m,\u001b[49m\n\u001b[1;32m    575\u001b[0m \u001b[43m                                      \u001b[49m\u001b[43mqc_tol\u001b[49m\u001b[38;5;241;43m=\u001b[39;49m\u001b[43mqc_tol\u001b[49m\u001b[43m,\u001b[49m\n\u001b[1;32m    576\u001b[0m \u001b[43m                                      \u001b[49m\u001b[38;5;241;43m*\u001b[39;49m\u001b[38;5;241;43m*\u001b[39;49m\u001b[43mkwargs\u001b[49m\u001b[43m)\u001b[49m\n\u001b[1;32m    578\u001b[0m     discretefit \u001b[38;5;241m=\u001b[39m L1BinaryResults(\u001b[38;5;28mself\u001b[39m, bnryfit)\n\u001b[1;32m    579\u001b[0m     \u001b[38;5;28;01mreturn\u001b[39;00m L1BinaryResultsWrapper(discretefit)\n",
      "File \u001b[0;32m~/anaconda3/envs/py310_ds/lib/python3.10/site-packages/statsmodels/discrete/discrete_model.py:402\u001b[0m, in \u001b[0;36mDiscreteModel.fit_regularized\u001b[0;34m(self, start_params, method, maxiter, full_output, disp, callback, alpha, trim_mode, auto_trim_tol, size_trim_tol, qc_tol, qc_verbose, **kwargs)\u001b[0m\n\u001b[1;32m    399\u001b[0m \u001b[38;5;28;01melse\u001b[39;00m:\n\u001b[1;32m    400\u001b[0m     \u001b[38;5;28;01mpass\u001b[39;00m  \u001b[38;5;66;03m# make a function factory to have multiple call-backs\u001b[39;00m\n\u001b[0;32m--> 402\u001b[0m mlefit \u001b[38;5;241m=\u001b[39m \u001b[38;5;28;43msuper\u001b[39;49m\u001b[43m(\u001b[49m\u001b[43m)\u001b[49m\u001b[38;5;241;43m.\u001b[39;49m\u001b[43mfit\u001b[49m\u001b[43m(\u001b[49m\u001b[43mstart_params\u001b[49m\u001b[38;5;241;43m=\u001b[39;49m\u001b[43mstart_params\u001b[49m\u001b[43m,\u001b[49m\n\u001b[1;32m    403\u001b[0m \u001b[43m                     \u001b[49m\u001b[43mmethod\u001b[49m\u001b[38;5;241;43m=\u001b[39;49m\u001b[43mmethod\u001b[49m\u001b[43m,\u001b[49m\n\u001b[1;32m    404\u001b[0m \u001b[43m                     \u001b[49m\u001b[43mmaxiter\u001b[49m\u001b[38;5;241;43m=\u001b[39;49m\u001b[43mmaxiter\u001b[49m\u001b[43m,\u001b[49m\n\u001b[1;32m    405\u001b[0m \u001b[43m                     \u001b[49m\u001b[43mfull_output\u001b[49m\u001b[38;5;241;43m=\u001b[39;49m\u001b[43mfull_output\u001b[49m\u001b[43m,\u001b[49m\n\u001b[1;32m    406\u001b[0m \u001b[43m                     \u001b[49m\u001b[43mdisp\u001b[49m\u001b[38;5;241;43m=\u001b[39;49m\u001b[43mdisp\u001b[49m\u001b[43m,\u001b[49m\n\u001b[1;32m    407\u001b[0m \u001b[43m                     \u001b[49m\u001b[43mcallback\u001b[49m\u001b[38;5;241;43m=\u001b[39;49m\u001b[43mcallback\u001b[49m\u001b[43m,\u001b[49m\n\u001b[1;32m    408\u001b[0m \u001b[43m                     \u001b[49m\u001b[43mextra_fit_funcs\u001b[49m\u001b[38;5;241;43m=\u001b[39;49m\u001b[43mextra_fit_funcs\u001b[49m\u001b[43m,\u001b[49m\n\u001b[1;32m    409\u001b[0m \u001b[43m                     \u001b[49m\u001b[43mcov_params_func\u001b[49m\u001b[38;5;241;43m=\u001b[39;49m\u001b[43mcov_params_func\u001b[49m\u001b[43m,\u001b[49m\n\u001b[1;32m    410\u001b[0m \u001b[43m                     \u001b[49m\u001b[38;5;241;43m*\u001b[39;49m\u001b[38;5;241;43m*\u001b[39;49m\u001b[43mkwargs\u001b[49m\u001b[43m)\u001b[49m\n\u001b[1;32m    412\u001b[0m \u001b[38;5;28;01mreturn\u001b[39;00m mlefit\n",
      "File \u001b[0;32m~/anaconda3/envs/py310_ds/lib/python3.10/site-packages/statsmodels/base/model.py:580\u001b[0m, in \u001b[0;36mLikelihoodModel.fit\u001b[0;34m(self, start_params, method, maxiter, full_output, disp, fargs, callback, retall, skip_hessian, **kwargs)\u001b[0m\n\u001b[1;32m    578\u001b[0m cov_params_func \u001b[38;5;241m=\u001b[39m kwargs\u001b[38;5;241m.\u001b[39msetdefault(\u001b[38;5;124m'\u001b[39m\u001b[38;5;124mcov_params_func\u001b[39m\u001b[38;5;124m'\u001b[39m, \u001b[38;5;28;01mNone\u001b[39;00m)\n\u001b[1;32m    579\u001b[0m \u001b[38;5;28;01mif\u001b[39;00m cov_params_func:\n\u001b[0;32m--> 580\u001b[0m     Hinv \u001b[38;5;241m=\u001b[39m \u001b[43mcov_params_func\u001b[49m\u001b[43m(\u001b[49m\u001b[38;5;28;43mself\u001b[39;49m\u001b[43m,\u001b[49m\u001b[43m \u001b[49m\u001b[43mxopt\u001b[49m\u001b[43m,\u001b[49m\u001b[43m \u001b[49m\u001b[43mretvals\u001b[49m\u001b[43m)\u001b[49m\n\u001b[1;32m    581\u001b[0m \u001b[38;5;28;01melif\u001b[39;00m method \u001b[38;5;241m==\u001b[39m \u001b[38;5;124m'\u001b[39m\u001b[38;5;124mnewton\u001b[39m\u001b[38;5;124m'\u001b[39m \u001b[38;5;129;01mand\u001b[39;00m full_output:\n\u001b[1;32m    582\u001b[0m     Hinv \u001b[38;5;241m=\u001b[39m np\u001b[38;5;241m.\u001b[39mlinalg\u001b[38;5;241m.\u001b[39minv(\u001b[38;5;241m-\u001b[39mretvals[\u001b[38;5;124m'\u001b[39m\u001b[38;5;124mHessian\u001b[39m\u001b[38;5;124m'\u001b[39m]) \u001b[38;5;241m/\u001b[39m nobs\n",
      "File \u001b[0;32m~/anaconda3/envs/py310_ds/lib/python3.10/site-packages/statsmodels/discrete/discrete_model.py:430\u001b[0m, in \u001b[0;36mDiscreteModel.cov_params_func_l1\u001b[0;34m(self, likelihood_model, xopt, retvals)\u001b[0m\n\u001b[1;32m    428\u001b[0m     H_restricted \u001b[38;5;241m=\u001b[39m H[nz_idx[:, \u001b[38;5;28;01mNone\u001b[39;00m], nz_idx]\n\u001b[1;32m    429\u001b[0m     \u001b[38;5;66;03m# Covariance estimate for the nonzero params\u001b[39;00m\n\u001b[0;32m--> 430\u001b[0m     H_restricted_inv \u001b[38;5;241m=\u001b[39m \u001b[43mnp\u001b[49m\u001b[38;5;241;43m.\u001b[39;49m\u001b[43mlinalg\u001b[49m\u001b[38;5;241;43m.\u001b[39;49m\u001b[43minv\u001b[49m\u001b[43m(\u001b[49m\u001b[38;5;241;43m-\u001b[39;49m\u001b[43mH_restricted\u001b[49m\u001b[43m)\u001b[49m\n\u001b[1;32m    431\u001b[0m \u001b[38;5;28;01melse\u001b[39;00m:\n\u001b[1;32m    432\u001b[0m     H_restricted_inv \u001b[38;5;241m=\u001b[39m np\u001b[38;5;241m.\u001b[39mzeros(\u001b[38;5;241m0\u001b[39m)\n",
      "File \u001b[0;32m~/anaconda3/envs/py310_ds/lib/python3.10/site-packages/numpy/linalg/linalg.py:561\u001b[0m, in \u001b[0;36minv\u001b[0;34m(a)\u001b[0m\n\u001b[1;32m    559\u001b[0m signature \u001b[38;5;241m=\u001b[39m \u001b[38;5;124m'\u001b[39m\u001b[38;5;124mD->D\u001b[39m\u001b[38;5;124m'\u001b[39m \u001b[38;5;28;01mif\u001b[39;00m isComplexType(t) \u001b[38;5;28;01melse\u001b[39;00m \u001b[38;5;124m'\u001b[39m\u001b[38;5;124md->d\u001b[39m\u001b[38;5;124m'\u001b[39m\n\u001b[1;32m    560\u001b[0m extobj \u001b[38;5;241m=\u001b[39m get_linalg_error_extobj(_raise_linalgerror_singular)\n\u001b[0;32m--> 561\u001b[0m ainv \u001b[38;5;241m=\u001b[39m \u001b[43m_umath_linalg\u001b[49m\u001b[38;5;241;43m.\u001b[39;49m\u001b[43minv\u001b[49m\u001b[43m(\u001b[49m\u001b[43ma\u001b[49m\u001b[43m,\u001b[49m\u001b[43m \u001b[49m\u001b[43msignature\u001b[49m\u001b[38;5;241;43m=\u001b[39;49m\u001b[43msignature\u001b[49m\u001b[43m,\u001b[49m\u001b[43m \u001b[49m\u001b[43mextobj\u001b[49m\u001b[38;5;241;43m=\u001b[39;49m\u001b[43mextobj\u001b[49m\u001b[43m)\u001b[49m\n\u001b[1;32m    562\u001b[0m \u001b[38;5;28;01mreturn\u001b[39;00m wrap(ainv\u001b[38;5;241m.\u001b[39mastype(result_t, copy\u001b[38;5;241m=\u001b[39m\u001b[38;5;28;01mFalse\u001b[39;00m))\n",
      "File \u001b[0;32m~/anaconda3/envs/py310_ds/lib/python3.10/site-packages/numpy/linalg/linalg.py:112\u001b[0m, in \u001b[0;36m_raise_linalgerror_singular\u001b[0;34m(err, flag)\u001b[0m\n\u001b[1;32m    111\u001b[0m \u001b[38;5;28;01mdef\u001b[39;00m \u001b[38;5;21m_raise_linalgerror_singular\u001b[39m(err, flag):\n\u001b[0;32m--> 112\u001b[0m     \u001b[38;5;28;01mraise\u001b[39;00m LinAlgError(\u001b[38;5;124m\"\u001b[39m\u001b[38;5;124mSingular matrix\u001b[39m\u001b[38;5;124m\"\u001b[39m)\n",
      "\u001b[0;31mLinAlgError\u001b[0m: Singular matrix"
     ]
    }
   ],
   "source": [
    "import statsmodels.api as sm\n",
    "\n",
    "# add constant to prevent singular matrix error\n",
    "x_train_with_intercept = sm.add_constant(x_train)\n",
    "\n",
    "# Train (fit) the model and print summary\n",
    "# Use regularization technique L1 Lasso to address quasi-separation and prevents coefficients from becoming too large\n",
    "sm_logreg = sm.Logit(y_train, x_train_with_intercept).fit_regularized(method='l1',maxiter=1000)\n",
    "sm_logreg.summary()"
   ]
  },
  {
   "cell_type": "markdown",
   "id": "81569d12-122d-4d74-ba86-96f01a9bb1e9",
   "metadata": {},
   "source": [
    "# ROC-AUC Score"
   ]
  },
  {
   "cell_type": "code",
   "execution_count": null,
   "id": "e449c0d0-7b28-4051-a05c-fb86012bb81a",
   "metadata": {},
   "outputs": [],
   "source": [
    "# predict on the test set\n",
    "y_pred = logreg.predict(x_test)\n",
    "y_prob = logreg.predict_proba(x_test)[:,1]\n",
    "roc_auc = metrics.roc_auc_score(y_test, y_prob)\n",
    "roc_auc"
   ]
  },
  {
   "cell_type": "markdown",
   "id": "b0e44cdf-dab0-4ab3-87fc-4ef3b55a4fce",
   "metadata": {},
   "source": [
    "# Confusion Matrix"
   ]
  },
  {
   "cell_type": "code",
   "execution_count": null,
   "id": "ec4b23d6-f725-416b-b027-a44c661e89e2",
   "metadata": {},
   "outputs": [],
   "source": [
    "import matplotlib.pyplot as plt\n",
    "conf_matrix = metrics.confusion_matrix(y_test, y_pred)\n",
    "metrics.ConfusionMatrixDisplay(conf_matrix).plot()\n",
    "plt.show()"
   ]
  },
  {
   "cell_type": "markdown",
   "id": "363f2bf1-0a40-4446-88db-fb991439448f",
   "metadata": {},
   "source": [
    "# Cross validation\n",
    "### Ensuress model's performance is robust and not overly dependent on a single test-train split"
   ]
  },
  {
   "cell_type": "code",
   "execution_count": null,
   "id": "0ca3d1e6-6275-4c82-ba1d-61ac539f5a2d",
   "metadata": {},
   "outputs": [],
   "source": [
    "from sklearn.model_selection import cross_val_score\n",
    "# specify 5-fold cv\n",
    "# splits data into 5 parts; training model on 4 and validating on 5th\n",
    "# repeats process 5 times\n",
    "# end result; an average performance metric that provides better estimate of the model's performance \n",
    "cv_score = cross_val_score(logreg, x_train, y_train, cv=5) \n",
    "print('cv score:', cv_score)\n",
    "print('mean cv score:', np.mean(cv_score))"
   ]
  },
  {
   "cell_type": "markdown",
   "id": "78f03f1c-693b-484e-a824-6334ec116df6",
   "metadata": {},
   "source": [
    "# Hyperparameter Tuning\n",
    "### Use gridsearch to find optimal hyperparameters for the model\n",
    "### penalty: regularization l1 or l2\n",
    "### C: list of possible values for the inverse of regularization strength \n",
    "#### Smaller values of C imply stronger regularization (to prevent overfitting), while larger values imply weaker regularization (allowing the model to fit the training data more closely)\n",
    "### solver: algorithm to use in the optimization problem (liblinear is suitable for small datasets and supports l1 and l2 regularization)"
   ]
  },
  {
   "cell_type": "code",
   "execution_count": null,
   "id": "b3730613-28ec-4e72-8be0-203e63dac723",
   "metadata": {},
   "outputs": [],
   "source": [
    "from sklearn.model_selection import GridSearchCV\n",
    "\n",
    "parameter_grid = {\n",
    "    'penalty' : ['l1','l2'],\n",
    "    'C' : [0.1, 1, 10, 100],\n",
    "    'solver' : ['liblinear']\n",
    "}\n",
    "\n",
    "grid_search = GridSearchCV(logreg, parameter_grid, cv=5, scoring = 'accuracy')\n",
    "grid_search.fit(x_train, y_train)\n",
    "grid_search.best_params_"
   ]
  },
  {
   "cell_type": "markdown",
   "id": "39d22889-b850-42d8-8050-c4eac59540d6",
   "metadata": {},
   "source": [
    "## Concluding the Logistic Regression\n",
    "### used VIF to identify and remove features with high multicollinearity to ensure model stability\n",
    "### logistic regression machine learning model with l1 regularization was trained using the 'liblinear' solver\n",
    "### GridSearchCV found the optimal parameter values for penalty, regularization strength and solver \n",
    "### Model achieved mean cross-validation score of 0.8576, which indicates good overall performance \n",
    "### The confusion matrix and metrics show a balanced performance with high precision and recall for both classes\n",
    "### Precision class 1 = TP / TP + FP = 548 / 548+108 = 0.835\n",
    "### Recall class 1 = TP / TP + FN = 548 / 548+89 = 0.861\n",
    "### Precision class 0 = TN / TN + FN = 543 / 543+89 = 0.859\n",
    "### Recall class 0 = TN / TN + FP = 543 / 543+108 = 0.834\n",
    "### ROCAUC score is 0.935\n",
    "### The high ROC-AUC score and balanced precision and recall metrics indicate that the model is effective at distinguishing between exoplanets discovered by transits and those discovered by other means\n",
    "### The confusion matrix revealed that the model has a relatively low number of false positives and false negatives, highlighting the model's reliability"
   ]
  }
 ],
 "metadata": {
  "kernelspec": {
   "display_name": "Python (py310_ds)",
   "language": "python",
   "name": "myenv"
  },
  "language_info": {
   "codemirror_mode": {
    "name": "ipython",
    "version": 3
   },
   "file_extension": ".py",
   "mimetype": "text/x-python",
   "name": "python",
   "nbconvert_exporter": "python",
   "pygments_lexer": "ipython3",
   "version": "3.10.14"
  }
 },
 "nbformat": 4,
 "nbformat_minor": 5
}
