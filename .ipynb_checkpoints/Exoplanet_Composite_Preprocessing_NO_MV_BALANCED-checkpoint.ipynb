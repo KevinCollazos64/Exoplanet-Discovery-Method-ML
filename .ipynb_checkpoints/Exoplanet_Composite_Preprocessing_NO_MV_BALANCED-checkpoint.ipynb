{
 "cells": [
  {
   "cell_type": "markdown",
   "id": "d6e17a8e-7983-483a-ace2-9fd28c59a468",
   "metadata": {},
   "source": [
    "# Preprocessing the Dataset; Removing all missing values and balancing class instances"
   ]
  },
  {
   "cell_type": "code",
   "execution_count": 1,
   "id": "98e5ab35-1f84-4a38-9dc5-cfb597210fc3",
   "metadata": {},
   "outputs": [],
   "source": [
    "import pandas as pd"
   ]
  },
  {
   "cell_type": "markdown",
   "id": "05c6c030-94dc-4316-a6b2-024d4f938423",
   "metadata": {},
   "source": [
    "### Read csv, make copy of csv, change panda display options to see the entire dataset"
   ]
  },
  {
   "cell_type": "code",
   "execution_count": 2,
   "id": "a983b638-1c20-49e1-a6ac-6d0924b2397d",
   "metadata": {
    "scrolled": true
   },
   "outputs": [
    {
     "name": "stdout",
     "output_type": "stream",
     "text": [
      "<class 'pandas.core.frame.DataFrame'>\n",
      "RangeIndex: 5602 entries, 0 to 5601\n",
      "Columns: 193 entries, pl_name to pl_ntranspec\n",
      "dtypes: float64(166), int64(21), object(6)\n",
      "memory usage: 8.2+ MB\n"
     ]
    }
   ],
   "source": [
    "raw_data = pd.read_csv('Exoplanet_Composite_Raw_Data.csv')\n",
    "# don't make changes to the original\n",
    "filtered_raw_data = raw_data\n",
    "pd.options.display.max_columns=None\n",
    "pd.options.display.max_rows=None\n",
    "filtered_raw_data.info()"
   ]
  },
  {
   "cell_type": "markdown",
   "id": "3ad5dd8d-33d6-455b-adc3-19ade1b637be",
   "metadata": {},
   "source": [
    "## Data Preprocessing - \n",
    "### 0 threshold : If any MV present we exclude the column"
   ]
  },
  {
   "cell_type": "code",
   "execution_count": 3,
   "id": "a0645409-c1dc-49b3-8f46-8472816fa4bf",
   "metadata": {},
   "outputs": [
    {
     "data": {
      "text/plain": [
       "(5602, 193)"
      ]
     },
     "execution_count": 3,
     "metadata": {},
     "output_type": "execute_result"
    }
   ],
   "source": [
    "filtered_raw_data.shape"
   ]
  },
  {
   "cell_type": "markdown",
   "id": "5699bbc9-0cc5-4c61-99ba-8574b5c48c66",
   "metadata": {},
   "source": [
    "### Shape tells us there are 5602 rows and 84 columns"
   ]
  },
  {
   "cell_type": "code",
   "execution_count": 4,
   "id": "b5e4290f-57f5-4eb6-819c-a36b67fcf424",
   "metadata": {},
   "outputs": [
    {
     "data": {
      "text/plain": [
       "0"
      ]
     },
     "execution_count": 4,
     "metadata": {},
     "output_type": "execute_result"
    }
   ],
   "source": [
    "threshold = 0\n",
    "threshold"
   ]
  },
  {
   "cell_type": "markdown",
   "id": "cde90132-8f14-46be-98d2-fb21df60c3d9",
   "metadata": {},
   "source": [
    "### Get an idea of how many missing values are in each column currently"
   ]
  },
  {
   "cell_type": "code",
   "execution_count": 5,
   "id": "ea123336-608c-43e0-8412-a567b64fbd00",
   "metadata": {},
   "outputs": [
    {
     "data": {
      "text/plain": [
       "pl_name               0\n",
       "hostname              0\n",
       "sy_snum               0\n",
       "sy_pnum               0\n",
       "sy_mnum               0\n",
       "cb_flag               0\n",
       "discoverymethod       0\n",
       "disc_year             0\n",
       "disc_facility         0\n",
       "disc_telescope        0\n",
       "disc_instrument       0\n",
       "rv_flag               0\n",
       "pul_flag              0\n",
       "ptv_flag              0\n",
       "tran_flag             0\n",
       "ast_flag              0\n",
       "obm_flag              0\n",
       "micro_flag            0\n",
       "etv_flag              0\n",
       "ima_flag              0\n",
       "dkin_flag             0\n",
       "pl_controv_flag       0\n",
       "pl_orbper           249\n",
       "pl_orbpererr1       728\n",
       "pl_orbpererr2       728\n",
       "pl_orbperlim        249\n",
       "pl_rade              20\n",
       "pl_radeerr1        1754\n",
       "pl_radeerr2        1754\n",
       "pl_radelim           20\n",
       "pl_bmasse            26\n",
       "pl_bmasseerr1      3094\n",
       "pl_bmasseerr2      3094\n",
       "pl_bmasselim         26\n",
       "pl_dens             110\n",
       "pl_denserr1        4589\n",
       "pl_denserr2        4589\n",
       "pl_denslim          110\n",
       "pl_orbeccen         777\n",
       "pl_orbeccenerr1    3986\n",
       "pl_orbeccenerr2    3986\n",
       "pl_orbeccenlim      777\n",
       "pl_insol           1710\n",
       "pl_insolerr1       2245\n",
       "pl_insolerr2       2245\n",
       "pl_insollim        1710\n",
       "pl_eqt             1462\n",
       "pl_eqterr1         4213\n",
       "pl_eqterr2         4213\n",
       "pl_eqtlim          1462\n",
       "pl_orbincl         1313\n",
       "pl_orbinclerr1     3883\n",
       "pl_orbinclerr2     3881\n",
       "pl_orbincllim      1313\n",
       "pl_trandep         1576\n",
       "pl_trandeperr1     1695\n",
       "pl_trandeperr2     1695\n",
       "pl_trandeplim      1576\n",
       "pl_trandur         1486\n",
       "pl_trandurerr1     1589\n",
       "pl_trandurerr2     1589\n",
       "pl_trandurlim      1486\n",
       "pl_occdep          5571\n",
       "pl_occdeperr1      5573\n",
       "pl_occdeperr2      5573\n",
       "pl_occdeplim       5571\n",
       "pl_orbtper         4619\n",
       "pl_orbtpererr1     4648\n",
       "pl_orbtpererr2     4648\n",
       "pl_orbtperlim      4619\n",
       "pl_rvamp           3498\n",
       "pl_rvamperr1       3566\n",
       "pl_rvamperr2       3566\n",
       "pl_rvamplim        3498\n",
       "st_teff             219\n",
       "st_tefferr1         409\n",
       "st_tefferr2         433\n",
       "st_tefflim          219\n",
       "st_rad              240\n",
       "st_raderr1          395\n",
       "st_raderr2          413\n",
       "st_radlim           240\n",
       "st_mass               4\n",
       "st_masserr1         270\n",
       "st_masserr2         291\n",
       "st_masslim            4\n",
       "st_met              433\n",
       "st_meterr1          738\n",
       "st_meterr2          738\n",
       "st_metlim           433\n",
       "st_lum              235\n",
       "st_lumerr1         2381\n",
       "st_lumerr2         2398\n",
       "st_lumlim           235\n",
       "st_logg             246\n",
       "st_loggerr1         421\n",
       "st_loggerr2         421\n",
       "st_logglim          246\n",
       "st_age             1204\n",
       "st_ageerr1         1455\n",
       "st_ageerr2         1455\n",
       "st_agelim          1109\n",
       "st_dens             500\n",
       "st_denserr1         630\n",
       "st_denserr2         630\n",
       "st_denslim          500\n",
       "st_vsin            3604\n",
       "st_vsinerr1        4235\n",
       "st_vsinerr2        4252\n",
       "st_vsinlim         3604\n",
       "st_rotp            4927\n",
       "st_rotperr1        5067\n",
       "st_rotperr2        5067\n",
       "st_rotplim         4927\n",
       "st_radv            3361\n",
       "st_radverr1        3416\n",
       "st_radverr2        3456\n",
       "st_radvlim         3361\n",
       "glat                  0\n",
       "glon                  0\n",
       "elat                  0\n",
       "elon                  0\n",
       "sy_pm               232\n",
       "sy_pmerr1           235\n",
       "sy_pmerr2           248\n",
       "sy_pmra             232\n",
       "sy_pmraerr1         235\n",
       "sy_pmraerr2         248\n",
       "sy_pmdec            232\n",
       "sy_pmdecerr1        235\n",
       "sy_pmdecerr2        248\n",
       "sy_dist              21\n",
       "sy_disterr1         127\n",
       "sy_disterr2         127\n",
       "sy_bmag             325\n",
       "sy_bmagerr1         341\n",
       "sy_bmagerr2         372\n",
       "sy_vmag             219\n",
       "sy_vmagerr1         227\n",
       "sy_vmagerr2         233\n",
       "sy_jmag             236\n",
       "sy_jmagerr1         252\n",
       "sy_jmagerr2         252\n",
       "sy_hmag             221\n",
       "sy_hmagerr1         243\n",
       "sy_hmagerr2         243\n",
       "sy_kmag             215\n",
       "sy_kmagerr1         251\n",
       "sy_kmagerr2         263\n",
       "sy_umag            4939\n",
       "sy_umagerr1        4945\n",
       "sy_umagerr2        4947\n",
       "sy_gmag            2194\n",
       "sy_gmagerr1        4807\n",
       "sy_gmagerr2        4947\n",
       "sy_rmag            2176\n",
       "sy_rmagerr1        4795\n",
       "sy_rmagerr2        4947\n",
       "sy_imag            2229\n",
       "sy_imagerr1        4802\n",
       "sy_imagerr2        4947\n",
       "sy_zmag            2443\n",
       "sy_zmagerr1        4940\n",
       "sy_zmagerr2        4947\n",
       "sy_w1mag            472\n",
       "sy_w1magerr1        541\n",
       "sy_w1magerr2        803\n",
       "sy_w2mag            471\n",
       "sy_w2magerr1        524\n",
       "sy_w2magerr2        793\n",
       "sy_w3mag            471\n",
       "sy_w3magerr1       1488\n",
       "sy_w3magerr2       1764\n",
       "sy_w4mag            472\n",
       "sy_w4magerr1       4291\n",
       "sy_w4magerr2       4291\n",
       "sy_gaiamag          270\n",
       "sy_gaiamagerr1      272\n",
       "sy_gaiamagerr2      272\n",
       "sy_icmag           5271\n",
       "sy_icmagerr1       5400\n",
       "sy_icmagerr2       5584\n",
       "sy_tmag             223\n",
       "sy_tmagerr1         232\n",
       "sy_tmagerr2         232\n",
       "sy_kepmag          2156\n",
       "sy_kepmagerr1      5602\n",
       "sy_kepmagerr2      5602\n",
       "st_nphot              0\n",
       "st_nrvc               0\n",
       "st_nspec              0\n",
       "pl_nespec             0\n",
       "pl_ntranspec          0\n",
       "dtype: int64"
      ]
     },
     "execution_count": 5,
     "metadata": {},
     "output_type": "execute_result"
    }
   ],
   "source": [
    "filtered_raw_data.isnull().sum()"
   ]
  },
  {
   "cell_type": "markdown",
   "id": "f9596cc6-25f4-4f13-a39d-6c259eab760a",
   "metadata": {},
   "source": [
    "### Drop columns that exceed the threshold"
   ]
  },
  {
   "cell_type": "code",
   "execution_count": 6,
   "id": "b21ccba3-ee1d-493e-af2a-47907e33b9aa",
   "metadata": {},
   "outputs": [],
   "source": [
    "for col in filtered_raw_data:\n",
    "    if filtered_raw_data[col].isnull().sum() > threshold:\n",
    "        filtered_raw_data = filtered_raw_data.drop([col], axis=1)"
   ]
  },
  {
   "cell_type": "code",
   "execution_count": 7,
   "id": "2e7129c6-ca13-4230-a923-2e82a83daee4",
   "metadata": {},
   "outputs": [
    {
     "data": {
      "text/plain": [
       "pl_name            0\n",
       "hostname           0\n",
       "sy_snum            0\n",
       "sy_pnum            0\n",
       "sy_mnum            0\n",
       "cb_flag            0\n",
       "discoverymethod    0\n",
       "disc_year          0\n",
       "disc_facility      0\n",
       "disc_telescope     0\n",
       "disc_instrument    0\n",
       "rv_flag            0\n",
       "pul_flag           0\n",
       "ptv_flag           0\n",
       "tran_flag          0\n",
       "ast_flag           0\n",
       "obm_flag           0\n",
       "micro_flag         0\n",
       "etv_flag           0\n",
       "ima_flag           0\n",
       "dkin_flag          0\n",
       "pl_controv_flag    0\n",
       "glat               0\n",
       "glon               0\n",
       "elat               0\n",
       "elon               0\n",
       "st_nphot           0\n",
       "st_nrvc            0\n",
       "st_nspec           0\n",
       "pl_nespec          0\n",
       "pl_ntranspec       0\n",
       "dtype: int64"
      ]
     },
     "execution_count": 7,
     "metadata": {},
     "output_type": "execute_result"
    }
   ],
   "source": [
    "filtered_raw_data.isnull().sum()"
   ]
  },
  {
   "cell_type": "markdown",
   "id": "70804035-12a5-424e-9cb4-758644d36fc3",
   "metadata": {},
   "source": [
    "### Read master column mapper csv, assort keys and values in a dictionary and update filtered raw data columns accordingly"
   ]
  },
  {
   "cell_type": "code",
   "execution_count": 8,
   "id": "f5a4d6c1-9420-448f-9eea-4e423989af69",
   "metadata": {},
   "outputs": [],
   "source": [
    "column_mapper = pd.read_csv('Exoplanet_Archive_Column_Mapping.csv')\n",
    "mapper = {'pl_name' : 'Planet Name'} \n",
    "# pl_name.1 and Planet Name.1 are the relevant columns for the composite dataset\n",
    "db_col_name, table_label = column_mapper[' pl_name.1'], column_mapper['Planet Name.1']"
   ]
  },
  {
   "cell_type": "markdown",
   "id": "4ec19cf8-3927-4c7e-b12d-883e1fe29486",
   "metadata": {},
   "source": [
    "### Loop through number of code columns (ex: pl_name) and their definitions (ex: planet name)"
   ]
  },
  {
   "cell_type": "code",
   "execution_count": 9,
   "id": "deb1a228-afa7-4bf7-9dbd-dd1cfc3b9bf2",
   "metadata": {},
   "outputs": [],
   "source": [
    "for i in range(358):\n",
    "    # if the row i in the database column name matches a column name in our filtered raw data, we assign the key and value in our dict \n",
    "    if str(db_col_name[i]).strip() in filtered_raw_data.columns.values:\n",
    "        mapper[db_col_name[i].strip()] = table_label[i].strip()\n",
    "        # use strip to remove trailing and leading whitespaces"
   ]
  },
  {
   "cell_type": "markdown",
   "id": "7be068cd-2c05-42d9-aa6e-516da7588cd5",
   "metadata": {},
   "source": [
    "### Double check we mapped all database column names to their definitions "
   ]
  },
  {
   "cell_type": "code",
   "execution_count": 10,
   "id": "d1055331-10e9-4cd7-ad38-f94704c15aa1",
   "metadata": {},
   "outputs": [
    {
     "data": {
      "text/plain": [
       "True"
      ]
     },
     "execution_count": 10,
     "metadata": {},
     "output_type": "execute_result"
    }
   ],
   "source": [
    "len(mapper) == len(filtered_raw_data.columns.values)"
   ]
  },
  {
   "cell_type": "markdown",
   "id": "44250d9b-9123-4388-9d27-ebabf81b98dc",
   "metadata": {},
   "source": [
    "### Map Columns"
   ]
  },
  {
   "cell_type": "code",
   "execution_count": 11,
   "id": "d42406d4-24c5-4e52-83eb-8bd8dde79dbc",
   "metadata": {},
   "outputs": [],
   "source": [
    "filtered_raw_data.columns= mapper.values()"
   ]
  },
  {
   "cell_type": "markdown",
   "id": "89060441-8496-44e2-8e2e-6b6c762442b7",
   "metadata": {},
   "source": [
    "### Checkpoint after removing invalid columns and renaming the remaining columns"
   ]
  },
  {
   "cell_type": "code",
   "execution_count": 12,
   "id": "a0236b91-f6d3-4e21-98df-9222ebe49b27",
   "metadata": {},
   "outputs": [
    {
     "data": {
      "text/html": [
       "<div>\n",
       "<style scoped>\n",
       "    .dataframe tbody tr th:only-of-type {\n",
       "        vertical-align: middle;\n",
       "    }\n",
       "\n",
       "    .dataframe tbody tr th {\n",
       "        vertical-align: top;\n",
       "    }\n",
       "\n",
       "    .dataframe thead th {\n",
       "        text-align: right;\n",
       "    }\n",
       "</style>\n",
       "<table border=\"1\" class=\"dataframe\">\n",
       "  <thead>\n",
       "    <tr style=\"text-align: right;\">\n",
       "      <th></th>\n",
       "      <th>Planet Name</th>\n",
       "      <th>Host Name</th>\n",
       "      <th>Number of Stars</th>\n",
       "      <th>Number of Planets</th>\n",
       "      <th>Number of Moons</th>\n",
       "      <th>Circumbinary Flag</th>\n",
       "      <th>Discovery Method</th>\n",
       "      <th>Discovery Year</th>\n",
       "      <th>Discovery Facility</th>\n",
       "      <th>Discovery Telescope</th>\n",
       "      <th>Discovery Instrument</th>\n",
       "      <th>Detected by Radial Velocity Variations</th>\n",
       "      <th>Detected by Pulsar Timing Variations</th>\n",
       "      <th>Detected by Pulsation Timing Variations</th>\n",
       "      <th>Detected by Transits</th>\n",
       "      <th>Detected by Astrometric Variations</th>\n",
       "      <th>Detected by Orbital Brightness Modulations</th>\n",
       "      <th>Detected by Microlensing</th>\n",
       "      <th>Detected by Eclipse Timing Variations</th>\n",
       "      <th>Detected by Imaging</th>\n",
       "      <th>Detected by Disk Kinematics</th>\n",
       "      <th>Controversial Flag</th>\n",
       "      <th>Galactic Latitude [deg]</th>\n",
       "      <th>Galactic Longitude [deg]</th>\n",
       "      <th>Ecliptic Latitude [deg]</th>\n",
       "      <th>Ecliptic Longitude [deg]</th>\n",
       "      <th>Number of Photometry Time Series</th>\n",
       "      <th>Number of Radial Velocity Time Series</th>\n",
       "      <th>Number of Stellar Spectra Measurements</th>\n",
       "      <th>Number of Emission Spectroscopy Measurements</th>\n",
       "      <th>Number of Transmission Spectroscopy Measurements</th>\n",
       "    </tr>\n",
       "  </thead>\n",
       "  <tbody>\n",
       "    <tr>\n",
       "      <th>0</th>\n",
       "      <td>11 Com b</td>\n",
       "      <td>11 Com</td>\n",
       "      <td>2</td>\n",
       "      <td>1</td>\n",
       "      <td>0</td>\n",
       "      <td>0</td>\n",
       "      <td>Radial Velocity</td>\n",
       "      <td>2007</td>\n",
       "      <td>Xinglong Station</td>\n",
       "      <td>2.16 m Telescope</td>\n",
       "      <td>Coude Echelle Spectrograph</td>\n",
       "      <td>1</td>\n",
       "      <td>0</td>\n",
       "      <td>0</td>\n",
       "      <td>0</td>\n",
       "      <td>0</td>\n",
       "      <td>0</td>\n",
       "      <td>0</td>\n",
       "      <td>0</td>\n",
       "      <td>0</td>\n",
       "      <td>0</td>\n",
       "      <td>0</td>\n",
       "      <td>78.28058</td>\n",
       "      <td>264.13775</td>\n",
       "      <td>18.33392</td>\n",
       "      <td>177.41790</td>\n",
       "      <td>1</td>\n",
       "      <td>2</td>\n",
       "      <td>0</td>\n",
       "      <td>0</td>\n",
       "      <td>0</td>\n",
       "    </tr>\n",
       "    <tr>\n",
       "      <th>1</th>\n",
       "      <td>11 UMi b</td>\n",
       "      <td>11 UMi</td>\n",
       "      <td>1</td>\n",
       "      <td>1</td>\n",
       "      <td>0</td>\n",
       "      <td>0</td>\n",
       "      <td>Radial Velocity</td>\n",
       "      <td>2009</td>\n",
       "      <td>Thueringer Landessternwarte Tautenburg</td>\n",
       "      <td>2.0 m Alfred Jensch Telescope</td>\n",
       "      <td>Coude Echelle Spectrograph</td>\n",
       "      <td>1</td>\n",
       "      <td>0</td>\n",
       "      <td>0</td>\n",
       "      <td>0</td>\n",
       "      <td>0</td>\n",
       "      <td>0</td>\n",
       "      <td>0</td>\n",
       "      <td>0</td>\n",
       "      <td>0</td>\n",
       "      <td>0</td>\n",
       "      <td>0</td>\n",
       "      <td>41.04437</td>\n",
       "      <td>108.71900</td>\n",
       "      <td>74.95821</td>\n",
       "      <td>141.64699</td>\n",
       "      <td>1</td>\n",
       "      <td>1</td>\n",
       "      <td>0</td>\n",
       "      <td>0</td>\n",
       "      <td>0</td>\n",
       "    </tr>\n",
       "    <tr>\n",
       "      <th>2</th>\n",
       "      <td>14 And b</td>\n",
       "      <td>14 And</td>\n",
       "      <td>1</td>\n",
       "      <td>1</td>\n",
       "      <td>0</td>\n",
       "      <td>0</td>\n",
       "      <td>Radial Velocity</td>\n",
       "      <td>2008</td>\n",
       "      <td>Okayama Astrophysical Observatory</td>\n",
       "      <td>1.88 m Telescope</td>\n",
       "      <td>HIDES Echelle Spectrograph</td>\n",
       "      <td>1</td>\n",
       "      <td>0</td>\n",
       "      <td>0</td>\n",
       "      <td>0</td>\n",
       "      <td>0</td>\n",
       "      <td>0</td>\n",
       "      <td>0</td>\n",
       "      <td>0</td>\n",
       "      <td>0</td>\n",
       "      <td>0</td>\n",
       "      <td>0</td>\n",
       "      <td>-21.05141</td>\n",
       "      <td>106.41269</td>\n",
       "      <td>38.22901</td>\n",
       "      <td>11.95935</td>\n",
       "      <td>1</td>\n",
       "      <td>1</td>\n",
       "      <td>0</td>\n",
       "      <td>0</td>\n",
       "      <td>0</td>\n",
       "    </tr>\n",
       "    <tr>\n",
       "      <th>3</th>\n",
       "      <td>14 Her b</td>\n",
       "      <td>14 Her</td>\n",
       "      <td>1</td>\n",
       "      <td>2</td>\n",
       "      <td>0</td>\n",
       "      <td>0</td>\n",
       "      <td>Radial Velocity</td>\n",
       "      <td>2002</td>\n",
       "      <td>W. M. Keck Observatory</td>\n",
       "      <td>10 m Keck I Telescope</td>\n",
       "      <td>HIRES Spectrometer</td>\n",
       "      <td>1</td>\n",
       "      <td>0</td>\n",
       "      <td>0</td>\n",
       "      <td>0</td>\n",
       "      <td>0</td>\n",
       "      <td>0</td>\n",
       "      <td>0</td>\n",
       "      <td>0</td>\n",
       "      <td>0</td>\n",
       "      <td>0</td>\n",
       "      <td>0</td>\n",
       "      <td>46.94447</td>\n",
       "      <td>69.16849</td>\n",
       "      <td>62.87885</td>\n",
       "      <td>223.24717</td>\n",
       "      <td>1</td>\n",
       "      <td>4</td>\n",
       "      <td>1</td>\n",
       "      <td>0</td>\n",
       "      <td>0</td>\n",
       "    </tr>\n",
       "    <tr>\n",
       "      <th>4</th>\n",
       "      <td>16 Cyg B b</td>\n",
       "      <td>16 Cyg B</td>\n",
       "      <td>3</td>\n",
       "      <td>1</td>\n",
       "      <td>0</td>\n",
       "      <td>0</td>\n",
       "      <td>Radial Velocity</td>\n",
       "      <td>1996</td>\n",
       "      <td>Multiple Observatories</td>\n",
       "      <td>Multiple Telescopes</td>\n",
       "      <td>Multiple Instruments</td>\n",
       "      <td>1</td>\n",
       "      <td>0</td>\n",
       "      <td>0</td>\n",
       "      <td>0</td>\n",
       "      <td>0</td>\n",
       "      <td>0</td>\n",
       "      <td>0</td>\n",
       "      <td>0</td>\n",
       "      <td>0</td>\n",
       "      <td>0</td>\n",
       "      <td>0</td>\n",
       "      <td>13.20446</td>\n",
       "      <td>83.33558</td>\n",
       "      <td>69.46803</td>\n",
       "      <td>321.21176</td>\n",
       "      <td>1</td>\n",
       "      <td>4</td>\n",
       "      <td>3</td>\n",
       "      <td>0</td>\n",
       "      <td>0</td>\n",
       "    </tr>\n",
       "  </tbody>\n",
       "</table>\n",
       "</div>"
      ],
      "text/plain": [
       "  Planet Name Host Name  Number of Stars  Number of Planets  Number of Moons  \\\n",
       "0    11 Com b    11 Com                2                  1                0   \n",
       "1    11 UMi b    11 UMi                1                  1                0   \n",
       "2    14 And b    14 And                1                  1                0   \n",
       "3    14 Her b    14 Her                1                  2                0   \n",
       "4  16 Cyg B b  16 Cyg B                3                  1                0   \n",
       "\n",
       "   Circumbinary Flag Discovery Method  Discovery Year  \\\n",
       "0                  0  Radial Velocity            2007   \n",
       "1                  0  Radial Velocity            2009   \n",
       "2                  0  Radial Velocity            2008   \n",
       "3                  0  Radial Velocity            2002   \n",
       "4                  0  Radial Velocity            1996   \n",
       "\n",
       "                       Discovery Facility            Discovery Telescope  \\\n",
       "0                        Xinglong Station               2.16 m Telescope   \n",
       "1  Thueringer Landessternwarte Tautenburg  2.0 m Alfred Jensch Telescope   \n",
       "2       Okayama Astrophysical Observatory               1.88 m Telescope   \n",
       "3                  W. M. Keck Observatory          10 m Keck I Telescope   \n",
       "4                  Multiple Observatories            Multiple Telescopes   \n",
       "\n",
       "         Discovery Instrument  Detected by Radial Velocity Variations  \\\n",
       "0  Coude Echelle Spectrograph                                       1   \n",
       "1  Coude Echelle Spectrograph                                       1   \n",
       "2  HIDES Echelle Spectrograph                                       1   \n",
       "3          HIRES Spectrometer                                       1   \n",
       "4        Multiple Instruments                                       1   \n",
       "\n",
       "   Detected by Pulsar Timing Variations  \\\n",
       "0                                     0   \n",
       "1                                     0   \n",
       "2                                     0   \n",
       "3                                     0   \n",
       "4                                     0   \n",
       "\n",
       "   Detected by Pulsation Timing Variations  Detected by Transits  \\\n",
       "0                                        0                     0   \n",
       "1                                        0                     0   \n",
       "2                                        0                     0   \n",
       "3                                        0                     0   \n",
       "4                                        0                     0   \n",
       "\n",
       "   Detected by Astrometric Variations  \\\n",
       "0                                   0   \n",
       "1                                   0   \n",
       "2                                   0   \n",
       "3                                   0   \n",
       "4                                   0   \n",
       "\n",
       "   Detected by Orbital Brightness Modulations  Detected by Microlensing  \\\n",
       "0                                           0                         0   \n",
       "1                                           0                         0   \n",
       "2                                           0                         0   \n",
       "3                                           0                         0   \n",
       "4                                           0                         0   \n",
       "\n",
       "   Detected by Eclipse Timing Variations  Detected by Imaging  \\\n",
       "0                                      0                    0   \n",
       "1                                      0                    0   \n",
       "2                                      0                    0   \n",
       "3                                      0                    0   \n",
       "4                                      0                    0   \n",
       "\n",
       "   Detected by Disk Kinematics  Controversial Flag  Galactic Latitude [deg]  \\\n",
       "0                            0                   0                 78.28058   \n",
       "1                            0                   0                 41.04437   \n",
       "2                            0                   0                -21.05141   \n",
       "3                            0                   0                 46.94447   \n",
       "4                            0                   0                 13.20446   \n",
       "\n",
       "   Galactic Longitude [deg]  Ecliptic Latitude [deg]  \\\n",
       "0                 264.13775                 18.33392   \n",
       "1                 108.71900                 74.95821   \n",
       "2                 106.41269                 38.22901   \n",
       "3                  69.16849                 62.87885   \n",
       "4                  83.33558                 69.46803   \n",
       "\n",
       "   Ecliptic Longitude [deg]  Number of Photometry Time Series  \\\n",
       "0                 177.41790                                 1   \n",
       "1                 141.64699                                 1   \n",
       "2                  11.95935                                 1   \n",
       "3                 223.24717                                 1   \n",
       "4                 321.21176                                 1   \n",
       "\n",
       "   Number of Radial Velocity Time Series  \\\n",
       "0                                      2   \n",
       "1                                      1   \n",
       "2                                      1   \n",
       "3                                      4   \n",
       "4                                      4   \n",
       "\n",
       "   Number of Stellar Spectra Measurements  \\\n",
       "0                                       0   \n",
       "1                                       0   \n",
       "2                                       0   \n",
       "3                                       1   \n",
       "4                                       3   \n",
       "\n",
       "   Number of Emission Spectroscopy Measurements  \\\n",
       "0                                             0   \n",
       "1                                             0   \n",
       "2                                             0   \n",
       "3                                             0   \n",
       "4                                             0   \n",
       "\n",
       "   Number of Transmission Spectroscopy Measurements  \n",
       "0                                                 0  \n",
       "1                                                 0  \n",
       "2                                                 0  \n",
       "3                                                 0  \n",
       "4                                                 0  "
      ]
     },
     "execution_count": 12,
     "metadata": {},
     "output_type": "execute_result"
    }
   ],
   "source": [
    "filtered_renamed_data = filtered_raw_data\n",
    "filtered_renamed_data.head()"
   ]
  },
  {
   "cell_type": "markdown",
   "id": "ad9ce54c-514a-4f2a-b2bb-f6720f1b7cf7",
   "metadata": {},
   "source": [
    "### Get an idea of the unique values we can expect in the discovery method column ; 11 unique values"
   ]
  },
  {
   "cell_type": "code",
   "execution_count": 13,
   "id": "bdce00f8-5f20-4d66-864f-b26daf0d825d",
   "metadata": {},
   "outputs": [
    {
     "data": {
      "text/plain": [
       "array(['Radial Velocity', 'Imaging', 'Eclipse Timing Variations',\n",
       "       'Transit', 'Transit Timing Variations', 'Astrometry',\n",
       "       'Disk Kinematics', 'Microlensing', 'Orbital Brightness Modulation',\n",
       "       'Pulsation Timing Variations', 'Pulsar Timing'], dtype=object)"
      ]
     },
     "execution_count": 13,
     "metadata": {},
     "output_type": "execute_result"
    }
   ],
   "source": [
    "filtered_renamed_data['Discovery Method'].unique()"
   ]
  },
  {
   "cell_type": "markdown",
   "id": "7562855b-ebcb-4e03-a16e-4924a3b691a9",
   "metadata": {},
   "source": [
    "### The dataset is missing transit timing variations as a target dummy column ; This is expected to prevent perfect multicollinearity\n",
    "### (We always want n-1 dummies for n categories so the omitted category serves as the reference category against which the others are compared)"
   ]
  },
  {
   "cell_type": "markdown",
   "id": "7e09f1d1-a0ce-4579-ad68-ad71dc8eda11",
   "metadata": {},
   "source": [
    "### Get an idea of the frequency of each value in the discovery method column"
   ]
  },
  {
   "cell_type": "code",
   "execution_count": 14,
   "id": "c6272e48-7682-451f-9d66-2585a98c76a5",
   "metadata": {},
   "outputs": [
    {
     "data": {
      "text/plain": [
       "Discovery Method\n",
       "Transit                          4168\n",
       "Radial Velocity                  1088\n",
       "Microlensing                      210\n",
       "Imaging                            68\n",
       "Transit Timing Variations          29\n",
       "Eclipse Timing Variations          17\n",
       "Orbital Brightness Modulation       9\n",
       "Pulsar Timing                       7\n",
       "Astrometry                          3\n",
       "Pulsation Timing Variations         2\n",
       "Disk Kinematics                     1\n",
       "Name: count, dtype: int64"
      ]
     },
     "execution_count": 14,
     "metadata": {},
     "output_type": "execute_result"
    }
   ],
   "source": [
    "filtered_renamed_data['Discovery Method'].value_counts()"
   ]
  },
  {
   "cell_type": "markdown",
   "id": "55d3def9-6178-4fce-a4b7-7a7ff409ba64",
   "metadata": {},
   "source": [
    "### Clear discrepancy ; transit has 4168 occurrences, meanwhile Orbital Brightness Modulation, Pulsar Timing, Astrometry,\n",
    "### Pulsation Timming Variations and Disk Kinematics all have less than 10 occurrences \n",
    "### To balance the data we can use SMOTE (Synthetic Minority Over-Sampling Technique) \n",
    "### This would synthesize instances of minority classes so that training will consider all classes evenly\n",
    "### In thiss case, the minority class are exoplanets NOT discovered by transits"
   ]
  },
  {
   "cell_type": "code",
   "execution_count": 15,
   "id": "8e6bd38c-9785-4bc5-b3d7-65af57c3eb6b",
   "metadata": {},
   "outputs": [
    {
     "name": "stdout",
     "output_type": "stream",
     "text": [
      "70 79 94\n"
     ]
    }
   ],
   "source": [
    "print(len(filtered_renamed_data['Discovery Facility'].value_counts()),\n",
    "       len(filtered_renamed_data['Discovery Telescope'].value_counts()), \n",
    "          len(filtered_renamed_data['Discovery Instrument'].value_counts()))"
   ]
  },
  {
   "cell_type": "markdown",
   "id": "523388fa-53a8-482d-82a2-b14167b00d5f",
   "metadata": {},
   "source": [
    "### We could encode Discovery Facility, Discovery Telescope and Discovery Instrument but they each have 70-90 unique values"
   ]
  },
  {
   "cell_type": "markdown",
   "id": "1efe7992-c4ef-4808-bfc4-8972eb5fa99b",
   "metadata": {},
   "source": [
    "### To reduce dimensionality of the feature space and prevent multicollinearity we will exclude them for now\n",
    "### Thus, so far, we will drop Planet Name, Host Name, Discovery Facility, Discovery Telescope and Discovery Instrument "
   ]
  },
  {
   "cell_type": "code",
   "execution_count": 16,
   "id": "7885d17d-e680-4d76-a0c8-7487a3f6f703",
   "metadata": {},
   "outputs": [],
   "source": [
    "useless_features = ['Planet Name',\n",
    "                        'Host Name',\n",
    "                        'Discovery Method',\n",
    "                        'Discovery Facility',\n",
    "                        'Discovery Telescope',\n",
    "                        'Discovery Instrument']\n",
    "\n",
    "data_useless_dropped = filtered_renamed_data.drop(useless_features, axis=1)\n"
   ]
  },
  {
   "cell_type": "code",
   "execution_count": 17,
   "id": "500f7747-ff20-4d95-a202-384a286651d8",
   "metadata": {
    "scrolled": true
   },
   "outputs": [
    {
     "name": "stdout",
     "output_type": "stream",
     "text": [
      "<class 'pandas.core.frame.DataFrame'>\n",
      "RangeIndex: 5602 entries, 0 to 5601\n",
      "Data columns (total 25 columns):\n",
      " #   Column                                            Non-Null Count  Dtype  \n",
      "---  ------                                            --------------  -----  \n",
      " 0   Number of Stars                                   5602 non-null   int64  \n",
      " 1   Number of Planets                                 5602 non-null   int64  \n",
      " 2   Number of Moons                                   5602 non-null   int64  \n",
      " 3   Circumbinary Flag                                 5602 non-null   int64  \n",
      " 4   Discovery Year                                    5602 non-null   int64  \n",
      " 5   Detected by Radial Velocity Variations            5602 non-null   int64  \n",
      " 6   Detected by Pulsar Timing Variations              5602 non-null   int64  \n",
      " 7   Detected by Pulsation Timing Variations           5602 non-null   int64  \n",
      " 8   Detected by Transits                              5602 non-null   int64  \n",
      " 9   Detected by Astrometric Variations                5602 non-null   int64  \n",
      " 10  Detected by Orbital Brightness Modulations        5602 non-null   int64  \n",
      " 11  Detected by Microlensing                          5602 non-null   int64  \n",
      " 12  Detected by Eclipse Timing Variations             5602 non-null   int64  \n",
      " 13  Detected by Imaging                               5602 non-null   int64  \n",
      " 14  Detected by Disk Kinematics                       5602 non-null   int64  \n",
      " 15  Controversial Flag                                5602 non-null   int64  \n",
      " 16  Galactic Latitude [deg]                           5602 non-null   float64\n",
      " 17  Galactic Longitude [deg]                          5602 non-null   float64\n",
      " 18  Ecliptic Latitude [deg]                           5602 non-null   float64\n",
      " 19  Ecliptic Longitude [deg]                          5602 non-null   float64\n",
      " 20  Number of Photometry Time Series                  5602 non-null   int64  \n",
      " 21  Number of Radial Velocity Time Series             5602 non-null   int64  \n",
      " 22  Number of Stellar Spectra Measurements            5602 non-null   int64  \n",
      " 23  Number of Emission Spectroscopy Measurements      5602 non-null   int64  \n",
      " 24  Number of Transmission Spectroscopy Measurements  5602 non-null   int64  \n",
      "dtypes: float64(4), int64(21)\n",
      "memory usage: 1.1 MB\n"
     ]
    }
   ],
   "source": [
    "data_useless_dropped.info()"
   ]
  },
  {
   "cell_type": "markdown",
   "id": "c7e8169e-c60b-4e7b-9556-84a451909f94",
   "metadata": {},
   "source": [
    "# We want our models to correctly predict whether an exoplanet was discovered by transits\n",
    "## To do this, we have to remove all the one hot binary encoded \"Detected by...\" columns except for transits\n",
    "## So if transits column is 0, we automatically know it was discovered by one of the other 10 methods\n",
    "## But first, we have to balance out the instances of the discovery methods\n",
    "## This means synthesizing more instances of the minority class (NOT discovered by transits)"
   ]
  },
  {
   "cell_type": "code",
   "execution_count": 18,
   "id": "987cc642-1cbf-4c78-bb33-d8c79449ca09",
   "metadata": {},
   "outputs": [],
   "source": [
    "target_dummies = ['Detected by Radial Velocity Variations',\n",
    "           'Detected by Pulsar Timing Variations',\n",
    "           'Detected by Pulsation Timing Variations',\n",
    "           'Detected by Transits',\t\n",
    "           'Detected by Astrometric Variations',\n",
    "           'Detected by Orbital Brightness Modulations',\n",
    "           'Detected by Microlensing',\n",
    "           'Detected by Eclipse Timing Variations',\n",
    "           'Detected by Imaging',\n",
    "           'Detected by Disk Kinematics']"
   ]
  },
  {
   "cell_type": "markdown",
   "id": "fbf270b0-4aee-4bce-abe9-93dea51e9ff0",
   "metadata": {},
   "source": [
    "### Before SMOTE, we have to drop rows with more than 1 discovery method for more straightforward training\n",
    "### Do this by summing the one-hot encoded columns (the target dummies) for each row ; we exclude records where sum >1 "
   ]
  },
  {
   "cell_type": "code",
   "execution_count": 19,
   "id": "03d7e7a7-0c14-41d4-abce-e600230c9af5",
   "metadata": {},
   "outputs": [
    {
     "name": "stdout",
     "output_type": "stream",
     "text": [
      "<class 'pandas.core.frame.DataFrame'>\n",
      "Index: 4511 entries, 0 to 5601\n",
      "Data columns (total 25 columns):\n",
      " #   Column                                            Non-Null Count  Dtype  \n",
      "---  ------                                            --------------  -----  \n",
      " 0   Number of Stars                                   4511 non-null   int64  \n",
      " 1   Number of Planets                                 4511 non-null   int64  \n",
      " 2   Number of Moons                                   4511 non-null   int64  \n",
      " 3   Circumbinary Flag                                 4511 non-null   int64  \n",
      " 4   Discovery Year                                    4511 non-null   int64  \n",
      " 5   Detected by Radial Velocity Variations            4511 non-null   int64  \n",
      " 6   Detected by Pulsar Timing Variations              4511 non-null   int64  \n",
      " 7   Detected by Pulsation Timing Variations           4511 non-null   int64  \n",
      " 8   Detected by Transits                              4511 non-null   int64  \n",
      " 9   Detected by Astrometric Variations                4511 non-null   int64  \n",
      " 10  Detected by Orbital Brightness Modulations        4511 non-null   int64  \n",
      " 11  Detected by Microlensing                          4511 non-null   int64  \n",
      " 12  Detected by Eclipse Timing Variations             4511 non-null   int64  \n",
      " 13  Detected by Imaging                               4511 non-null   int64  \n",
      " 14  Detected by Disk Kinematics                       4511 non-null   int64  \n",
      " 15  Controversial Flag                                4511 non-null   int64  \n",
      " 16  Galactic Latitude [deg]                           4511 non-null   float64\n",
      " 17  Galactic Longitude [deg]                          4511 non-null   float64\n",
      " 18  Ecliptic Latitude [deg]                           4511 non-null   float64\n",
      " 19  Ecliptic Longitude [deg]                          4511 non-null   float64\n",
      " 20  Number of Photometry Time Series                  4511 non-null   int64  \n",
      " 21  Number of Radial Velocity Time Series             4511 non-null   int64  \n",
      " 22  Number of Stellar Spectra Measurements            4511 non-null   int64  \n",
      " 23  Number of Emission Spectroscopy Measurements      4511 non-null   int64  \n",
      " 24  Number of Transmission Spectroscopy Measurements  4511 non-null   int64  \n",
      "dtypes: float64(4), int64(21)\n",
      "memory usage: 916.3 KB\n"
     ]
    }
   ],
   "source": [
    "data_no_dups = data_useless_dropped[data_useless_dropped[target_dummies].sum(axis=1) <=1]\n",
    "data_no_dups.info()"
   ]
  },
  {
   "cell_type": "markdown",
   "id": "160c0cab-326e-4e96-9da0-c94f0268c616",
   "metadata": {},
   "source": [
    "### Get an idea of the new observation count for each discovery method"
   ]
  },
  {
   "cell_type": "code",
   "execution_count": 20,
   "id": "c11b9660-38f8-494b-a5d5-591ef2c1fe9a",
   "metadata": {},
   "outputs": [
    {
     "data": {
      "text/plain": [
       "Detected by Radial Velocity Variations         982\n",
       "Detected by Pulsar Timing Variations             7\n",
       "Detected by Pulsation Timing Variations          2\n",
       "Detected by Transits                          3218\n",
       "Detected by Astrometric Variations               2\n",
       "Detected by Orbital Brightness Modulations       5\n",
       "Detected by Microlensing                       210\n",
       "Detected by Eclipse Timing Variations           17\n",
       "Detected by Imaging                             56\n",
       "Detected by Disk Kinematics                      1\n",
       "dtype: int64"
      ]
     },
     "execution_count": 20,
     "metadata": {},
     "output_type": "execute_result"
    }
   ],
   "source": [
    "data_no_dups[target_dummies].sum(axis=0)"
   ]
  },
  {
   "cell_type": "code",
   "execution_count": 21,
   "id": "721cb753-486f-4628-b93b-fa4143c0949c",
   "metadata": {},
   "outputs": [
    {
     "data": {
      "text/plain": [
       "(3218, 4511)"
      ]
     },
     "execution_count": 21,
     "metadata": {},
     "output_type": "execute_result"
    }
   ],
   "source": [
    "unnecessary_dummies = ['Detected by Radial Velocity Variations',\n",
    "           'Detected by Pulsar Timing Variations',\n",
    "           'Detected by Pulsation Timing Variations',\n",
    "           'Detected by Astrometric Variations',\n",
    "           'Detected by Orbital Brightness Modulations',\n",
    "           'Detected by Microlensing',\n",
    "           'Detected by Eclipse Timing Variations',\n",
    "           'Detected by Imaging',\n",
    "           'Detected by Disk Kinematics']\n",
    "\n",
    "targets= data_no_dups['Detected by Transits']\n",
    "# tells us instances of 1, total observations\n",
    "targets.sum(), targets.shape[0]"
   ]
  },
  {
   "cell_type": "markdown",
   "id": "c87e3675-b8f2-41fb-98aa-2660ea5f1103",
   "metadata": {},
   "source": [
    "## Drop specified features"
   ]
  },
  {
   "cell_type": "code",
   "execution_count": 22,
   "id": "47f8d771-0b93-4773-9c03-13bbb93aee3c",
   "metadata": {},
   "outputs": [
    {
     "data": {
      "text/html": [
       "<div>\n",
       "<style scoped>\n",
       "    .dataframe tbody tr th:only-of-type {\n",
       "        vertical-align: middle;\n",
       "    }\n",
       "\n",
       "    .dataframe tbody tr th {\n",
       "        vertical-align: top;\n",
       "    }\n",
       "\n",
       "    .dataframe thead th {\n",
       "        text-align: right;\n",
       "    }\n",
       "</style>\n",
       "<table border=\"1\" class=\"dataframe\">\n",
       "  <thead>\n",
       "    <tr style=\"text-align: right;\">\n",
       "      <th></th>\n",
       "      <th>Number of Stars</th>\n",
       "      <th>Number of Planets</th>\n",
       "      <th>Number of Moons</th>\n",
       "      <th>Circumbinary Flag</th>\n",
       "      <th>Discovery Year</th>\n",
       "      <th>Detected by Transits</th>\n",
       "      <th>Controversial Flag</th>\n",
       "      <th>Galactic Latitude [deg]</th>\n",
       "      <th>Galactic Longitude [deg]</th>\n",
       "      <th>Ecliptic Latitude [deg]</th>\n",
       "      <th>Ecliptic Longitude [deg]</th>\n",
       "      <th>Number of Photometry Time Series</th>\n",
       "      <th>Number of Radial Velocity Time Series</th>\n",
       "      <th>Number of Stellar Spectra Measurements</th>\n",
       "      <th>Number of Emission Spectroscopy Measurements</th>\n",
       "      <th>Number of Transmission Spectroscopy Measurements</th>\n",
       "    </tr>\n",
       "  </thead>\n",
       "  <tbody>\n",
       "    <tr>\n",
       "      <th>0</th>\n",
       "      <td>2</td>\n",
       "      <td>1</td>\n",
       "      <td>0</td>\n",
       "      <td>0</td>\n",
       "      <td>2007</td>\n",
       "      <td>0</td>\n",
       "      <td>0</td>\n",
       "      <td>78.28058</td>\n",
       "      <td>264.13775</td>\n",
       "      <td>18.33392</td>\n",
       "      <td>177.41790</td>\n",
       "      <td>1</td>\n",
       "      <td>2</td>\n",
       "      <td>0</td>\n",
       "      <td>0</td>\n",
       "      <td>0</td>\n",
       "    </tr>\n",
       "    <tr>\n",
       "      <th>1</th>\n",
       "      <td>1</td>\n",
       "      <td>1</td>\n",
       "      <td>0</td>\n",
       "      <td>0</td>\n",
       "      <td>2009</td>\n",
       "      <td>0</td>\n",
       "      <td>0</td>\n",
       "      <td>41.04437</td>\n",
       "      <td>108.71900</td>\n",
       "      <td>74.95821</td>\n",
       "      <td>141.64699</td>\n",
       "      <td>1</td>\n",
       "      <td>1</td>\n",
       "      <td>0</td>\n",
       "      <td>0</td>\n",
       "      <td>0</td>\n",
       "    </tr>\n",
       "    <tr>\n",
       "      <th>2</th>\n",
       "      <td>1</td>\n",
       "      <td>1</td>\n",
       "      <td>0</td>\n",
       "      <td>0</td>\n",
       "      <td>2008</td>\n",
       "      <td>0</td>\n",
       "      <td>0</td>\n",
       "      <td>-21.05141</td>\n",
       "      <td>106.41269</td>\n",
       "      <td>38.22901</td>\n",
       "      <td>11.95935</td>\n",
       "      <td>1</td>\n",
       "      <td>1</td>\n",
       "      <td>0</td>\n",
       "      <td>0</td>\n",
       "      <td>0</td>\n",
       "    </tr>\n",
       "    <tr>\n",
       "      <th>3</th>\n",
       "      <td>1</td>\n",
       "      <td>2</td>\n",
       "      <td>0</td>\n",
       "      <td>0</td>\n",
       "      <td>2002</td>\n",
       "      <td>0</td>\n",
       "      <td>0</td>\n",
       "      <td>46.94447</td>\n",
       "      <td>69.16849</td>\n",
       "      <td>62.87885</td>\n",
       "      <td>223.24717</td>\n",
       "      <td>1</td>\n",
       "      <td>4</td>\n",
       "      <td>1</td>\n",
       "      <td>0</td>\n",
       "      <td>0</td>\n",
       "    </tr>\n",
       "    <tr>\n",
       "      <th>4</th>\n",
       "      <td>3</td>\n",
       "      <td>1</td>\n",
       "      <td>0</td>\n",
       "      <td>0</td>\n",
       "      <td>1996</td>\n",
       "      <td>0</td>\n",
       "      <td>0</td>\n",
       "      <td>13.20446</td>\n",
       "      <td>83.33558</td>\n",
       "      <td>69.46803</td>\n",
       "      <td>321.21176</td>\n",
       "      <td>1</td>\n",
       "      <td>4</td>\n",
       "      <td>3</td>\n",
       "      <td>0</td>\n",
       "      <td>0</td>\n",
       "    </tr>\n",
       "  </tbody>\n",
       "</table>\n",
       "</div>"
      ],
      "text/plain": [
       "   Number of Stars  Number of Planets  Number of Moons  Circumbinary Flag  \\\n",
       "0                2                  1                0                  0   \n",
       "1                1                  1                0                  0   \n",
       "2                1                  1                0                  0   \n",
       "3                1                  2                0                  0   \n",
       "4                3                  1                0                  0   \n",
       "\n",
       "   Discovery Year  Detected by Transits  Controversial Flag  \\\n",
       "0            2007                     0                   0   \n",
       "1            2009                     0                   0   \n",
       "2            2008                     0                   0   \n",
       "3            2002                     0                   0   \n",
       "4            1996                     0                   0   \n",
       "\n",
       "   Galactic Latitude [deg]  Galactic Longitude [deg]  Ecliptic Latitude [deg]  \\\n",
       "0                 78.28058                 264.13775                 18.33392   \n",
       "1                 41.04437                 108.71900                 74.95821   \n",
       "2                -21.05141                 106.41269                 38.22901   \n",
       "3                 46.94447                  69.16849                 62.87885   \n",
       "4                 13.20446                  83.33558                 69.46803   \n",
       "\n",
       "   Ecliptic Longitude [deg]  Number of Photometry Time Series  \\\n",
       "0                 177.41790                                 1   \n",
       "1                 141.64699                                 1   \n",
       "2                  11.95935                                 1   \n",
       "3                 223.24717                                 1   \n",
       "4                 321.21176                                 1   \n",
       "\n",
       "   Number of Radial Velocity Time Series  \\\n",
       "0                                      2   \n",
       "1                                      1   \n",
       "2                                      1   \n",
       "3                                      4   \n",
       "4                                      4   \n",
       "\n",
       "   Number of Stellar Spectra Measurements  \\\n",
       "0                                       0   \n",
       "1                                       0   \n",
       "2                                       0   \n",
       "3                                       1   \n",
       "4                                       3   \n",
       "\n",
       "   Number of Emission Spectroscopy Measurements  \\\n",
       "0                                             0   \n",
       "1                                             0   \n",
       "2                                             0   \n",
       "3                                             0   \n",
       "4                                             0   \n",
       "\n",
       "   Number of Transmission Spectroscopy Measurements  \n",
       "0                                                 0  \n",
       "1                                                 0  \n",
       "2                                                 0  \n",
       "3                                                 0  \n",
       "4                                                 0  "
      ]
     },
     "execution_count": 22,
     "metadata": {},
     "output_type": "execute_result"
    }
   ],
   "source": [
    "composite_dummies_dropped = data_no_dups.drop(unnecessary_dummies, axis=1)\n",
    "composite_dummies_dropped.head()"
   ]
  },
  {
   "cell_type": "code",
   "execution_count": 23,
   "id": "a9b60dae-5c99-455b-87e3-9bd74b9a3292",
   "metadata": {},
   "outputs": [
    {
     "data": {
      "text/plain": [
       "0.7133673243183329"
      ]
     },
     "execution_count": 23,
     "metadata": {},
     "output_type": "execute_result"
    }
   ],
   "source": [
    "# check if targets are balanced\n",
    "targets.sum() / targets.shape[0]"
   ]
  },
  {
   "cell_type": "markdown",
   "id": "0beff089-add7-4fed-8d33-b19e29d74953",
   "metadata": {},
   "source": [
    "### 71% of all target observations are 1 (discovered by transits)\n",
    "### to efficiently train machine learning models the ratio has to be closer to 50/50\n",
    "### so we apply SMOTE (Sample minority over sampling technique)"
   ]
  },
  {
   "cell_type": "code",
   "execution_count": 24,
   "id": "2eeec22a-31e6-4e0e-b5c2-3fffbda63658",
   "metadata": {},
   "outputs": [],
   "source": [
    "from imblearn.over_sampling import SMOTE\n",
    "\n",
    "# the features are all the columns except our target column\n",
    "features = composite_dummies_dropped.drop(['Detected by Transits'], axis=1)\n",
    "smote = SMOTE()\n",
    "x_resampled, y_resampled = smote.fit_resample(features, targets)"
   ]
  },
  {
   "cell_type": "markdown",
   "id": "328ff0ee-66a1-480a-83da-b40c67f35056",
   "metadata": {},
   "source": [
    "### Check if balancing worked"
   ]
  },
  {
   "cell_type": "code",
   "execution_count": 25,
   "id": "97997c9b-85a9-4c6e-9f9c-98e9259524cb",
   "metadata": {},
   "outputs": [
    {
     "data": {
      "text/plain": [
       "0.5"
      ]
     },
     "execution_count": 25,
     "metadata": {},
     "output_type": "execute_result"
    }
   ],
   "source": [
    "y_resampled.sum() / y_resampled.shape[0]"
   ]
  },
  {
   "cell_type": "markdown",
   "id": "8bb6bd35-372f-4ff8-bddf-13510ff7468a",
   "metadata": {},
   "source": [
    "## The new ratio implies the synthetic sampling technique worked"
   ]
  },
  {
   "cell_type": "code",
   "execution_count": 26,
   "id": "a14485fb-b770-425d-81b8-4f2a9463acdf",
   "metadata": {},
   "outputs": [
    {
     "name": "stdout",
     "output_type": "stream",
     "text": [
      "<class 'pandas.core.frame.DataFrame'>\n",
      "RangeIndex: 6436 entries, 0 to 6435\n",
      "Data columns (total 15 columns):\n",
      " #   Column                                            Non-Null Count  Dtype  \n",
      "---  ------                                            --------------  -----  \n",
      " 0   Number of Stars                                   6436 non-null   int64  \n",
      " 1   Number of Planets                                 6436 non-null   int64  \n",
      " 2   Number of Moons                                   6436 non-null   int64  \n",
      " 3   Circumbinary Flag                                 6436 non-null   int64  \n",
      " 4   Discovery Year                                    6436 non-null   int64  \n",
      " 5   Controversial Flag                                6436 non-null   int64  \n",
      " 6   Galactic Latitude [deg]                           6436 non-null   float64\n",
      " 7   Galactic Longitude [deg]                          6436 non-null   float64\n",
      " 8   Ecliptic Latitude [deg]                           6436 non-null   float64\n",
      " 9   Ecliptic Longitude [deg]                          6436 non-null   float64\n",
      " 10  Number of Photometry Time Series                  6436 non-null   int64  \n",
      " 11  Number of Radial Velocity Time Series             6436 non-null   int64  \n",
      " 12  Number of Stellar Spectra Measurements            6436 non-null   int64  \n",
      " 13  Number of Emission Spectroscopy Measurements      6436 non-null   int64  \n",
      " 14  Number of Transmission Spectroscopy Measurements  6436 non-null   int64  \n",
      "dtypes: float64(4), int64(11)\n",
      "memory usage: 754.3 KB\n"
     ]
    }
   ],
   "source": [
    "# we expect to see a higher non-null count for resampled features suggesting samples were synthesized\n",
    "x_resampled.info()"
   ]
  },
  {
   "cell_type": "markdown",
   "id": "6cc19165-1865-471c-9dc9-db6ff572a3b9",
   "metadata": {},
   "source": [
    "### In the context of exoplanet discovery, Discovery Year is better interpreted as a categorical variable\n",
    "### Therefore we should not include it in the standardization process and can store it to be re-added later"
   ]
  },
  {
   "cell_type": "markdown",
   "id": "1d24d048-8fc9-437e-8b06-9aa122ad8f15",
   "metadata": {},
   "source": [
    "### Since we are standardizing, we must also remove the binary columns (Circumbinary Flag, Controversial Flag)\n",
    "### Circumbinary Flag, Controversial Flag and Discovery Year will be RE-ADDED after standardization "
   ]
  },
  {
   "cell_type": "code",
   "execution_count": 27,
   "id": "bed0fefd-0724-4051-ac21-57c38c928535",
   "metadata": {},
   "outputs": [],
   "source": [
    "exclude_standardization = ['Discovery Year',\n",
    "                           'Circumbinary Flag',\n",
    "                           'Controversial Flag']\n",
    "\n",
    "# Store columns that will be readded later after standardization\n",
    "\n",
    "discovery_year = x_resampled['Discovery Year']\n",
    "circumbinary_flag = x_resampled['Circumbinary Flag']\n",
    "controversial_flag = x_resampled['Controversial Flag']\n",
    "\n",
    "x_resampled = x_resampled.drop(exclude_standardization, axis = 1)"
   ]
  },
  {
   "cell_type": "markdown",
   "id": "3c4cd980-b69b-4937-95d8-b5cc0f71b7fd",
   "metadata": {},
   "source": [
    "# Select features for Standardization"
   ]
  },
  {
   "cell_type": "code",
   "execution_count": 28,
   "id": "c98c93ab-6a51-4f00-b852-e972fdbc2c3e",
   "metadata": {},
   "outputs": [
    {
     "data": {
      "text/plain": [
       "array(['Number of Stars', 'Number of Planets', 'Number of Moons',\n",
       "       'Galactic Latitude [deg]', 'Galactic Longitude [deg]',\n",
       "       'Ecliptic Latitude [deg]', 'Ecliptic Longitude [deg]',\n",
       "       'Number of Photometry Time Series',\n",
       "       'Number of Radial Velocity Time Series',\n",
       "       'Number of Stellar Spectra Measurements',\n",
       "       'Number of Emission Spectroscopy Measurements',\n",
       "       'Number of Transmission Spectroscopy Measurements'], dtype=object)"
      ]
     },
     "execution_count": 28,
     "metadata": {},
     "output_type": "execute_result"
    }
   ],
   "source": [
    "unscaled_features = x_resampled\n",
    "unscaled_features.columns.values"
   ]
  },
  {
   "cell_type": "markdown",
   "id": "89d107da-20bc-49d6-aca5-43e7a7a6b788",
   "metadata": {},
   "source": [
    "# Standardize the Features"
   ]
  },
  {
   "cell_type": "code",
   "execution_count": 29,
   "id": "2f4ba27b-f054-4994-8ec7-6e768528cdb7",
   "metadata": {},
   "outputs": [
    {
     "data": {
      "text/html": [
       "<style>#sk-container-id-1 {color: black;background-color: white;}#sk-container-id-1 pre{padding: 0;}#sk-container-id-1 div.sk-toggleable {background-color: white;}#sk-container-id-1 label.sk-toggleable__label {cursor: pointer;display: block;width: 100%;margin-bottom: 0;padding: 0.3em;box-sizing: border-box;text-align: center;}#sk-container-id-1 label.sk-toggleable__label-arrow:before {content: \"▸\";float: left;margin-right: 0.25em;color: #696969;}#sk-container-id-1 label.sk-toggleable__label-arrow:hover:before {color: black;}#sk-container-id-1 div.sk-estimator:hover label.sk-toggleable__label-arrow:before {color: black;}#sk-container-id-1 div.sk-toggleable__content {max-height: 0;max-width: 0;overflow: hidden;text-align: left;background-color: #f0f8ff;}#sk-container-id-1 div.sk-toggleable__content pre {margin: 0.2em;color: black;border-radius: 0.25em;background-color: #f0f8ff;}#sk-container-id-1 input.sk-toggleable__control:checked~div.sk-toggleable__content {max-height: 200px;max-width: 100%;overflow: auto;}#sk-container-id-1 input.sk-toggleable__control:checked~label.sk-toggleable__label-arrow:before {content: \"▾\";}#sk-container-id-1 div.sk-estimator input.sk-toggleable__control:checked~label.sk-toggleable__label {background-color: #d4ebff;}#sk-container-id-1 div.sk-label input.sk-toggleable__control:checked~label.sk-toggleable__label {background-color: #d4ebff;}#sk-container-id-1 input.sk-hidden--visually {border: 0;clip: rect(1px 1px 1px 1px);clip: rect(1px, 1px, 1px, 1px);height: 1px;margin: -1px;overflow: hidden;padding: 0;position: absolute;width: 1px;}#sk-container-id-1 div.sk-estimator {font-family: monospace;background-color: #f0f8ff;border: 1px dotted black;border-radius: 0.25em;box-sizing: border-box;margin-bottom: 0.5em;}#sk-container-id-1 div.sk-estimator:hover {background-color: #d4ebff;}#sk-container-id-1 div.sk-parallel-item::after {content: \"\";width: 100%;border-bottom: 1px solid gray;flex-grow: 1;}#sk-container-id-1 div.sk-label:hover label.sk-toggleable__label {background-color: #d4ebff;}#sk-container-id-1 div.sk-serial::before {content: \"\";position: absolute;border-left: 1px solid gray;box-sizing: border-box;top: 0;bottom: 0;left: 50%;z-index: 0;}#sk-container-id-1 div.sk-serial {display: flex;flex-direction: column;align-items: center;background-color: white;padding-right: 0.2em;padding-left: 0.2em;position: relative;}#sk-container-id-1 div.sk-item {position: relative;z-index: 1;}#sk-container-id-1 div.sk-parallel {display: flex;align-items: stretch;justify-content: center;background-color: white;position: relative;}#sk-container-id-1 div.sk-item::before, #sk-container-id-1 div.sk-parallel-item::before {content: \"\";position: absolute;border-left: 1px solid gray;box-sizing: border-box;top: 0;bottom: 0;left: 50%;z-index: -1;}#sk-container-id-1 div.sk-parallel-item {display: flex;flex-direction: column;z-index: 1;position: relative;background-color: white;}#sk-container-id-1 div.sk-parallel-item:first-child::after {align-self: flex-end;width: 50%;}#sk-container-id-1 div.sk-parallel-item:last-child::after {align-self: flex-start;width: 50%;}#sk-container-id-1 div.sk-parallel-item:only-child::after {width: 0;}#sk-container-id-1 div.sk-dashed-wrapped {border: 1px dashed gray;margin: 0 0.4em 0.5em 0.4em;box-sizing: border-box;padding-bottom: 0.4em;background-color: white;}#sk-container-id-1 div.sk-label label {font-family: monospace;font-weight: bold;display: inline-block;line-height: 1.2em;}#sk-container-id-1 div.sk-label-container {text-align: center;}#sk-container-id-1 div.sk-container {/* jupyter's `normalize.less` sets `[hidden] { display: none; }` but bootstrap.min.css set `[hidden] { display: none !important; }` so we also need the `!important` here to be able to override the default hidden behavior on the sphinx rendered scikit-learn.org. See: https://github.com/scikit-learn/scikit-learn/issues/21755 */display: inline-block !important;position: relative;}#sk-container-id-1 div.sk-text-repr-fallback {display: none;}</style><div id=\"sk-container-id-1\" class=\"sk-top-container\"><div class=\"sk-text-repr-fallback\"><pre>StandardScaler()</pre><b>In a Jupyter environment, please rerun this cell to show the HTML representation or trust the notebook. <br />On GitHub, the HTML representation is unable to render, please try loading this page with nbviewer.org.</b></div><div class=\"sk-container\" hidden><div class=\"sk-item\"><div class=\"sk-estimator sk-toggleable\"><input class=\"sk-toggleable__control sk-hidden--visually\" id=\"sk-estimator-id-1\" type=\"checkbox\" checked><label for=\"sk-estimator-id-1\" class=\"sk-toggleable__label sk-toggleable__label-arrow\">StandardScaler</label><div class=\"sk-toggleable__content\"><pre>StandardScaler()</pre></div></div></div></div></div>"
      ],
      "text/plain": [
       "StandardScaler()"
      ]
     },
     "execution_count": 29,
     "metadata": {},
     "output_type": "execute_result"
    }
   ],
   "source": [
    "from sklearn.preprocessing import StandardScaler\n",
    "scaler= StandardScaler()\n",
    "# the standard scaler subtracts the mean and divides by standard deviation for every feature\n",
    "scaler.fit(unscaled_features)\n",
    "# mean, stdev are stored in the scaler object now"
   ]
  },
  {
   "cell_type": "markdown",
   "id": "f4e8f95e-1492-4d11-9c69-3e33e37a5e70",
   "metadata": {},
   "source": [
    "### Apply the standardization"
   ]
  },
  {
   "cell_type": "code",
   "execution_count": 30,
   "id": "64565c8f-4ea2-4500-a9e3-1edd74f5e21d",
   "metadata": {},
   "outputs": [],
   "source": [
    "scaled_features = scaler.transform(unscaled_features)"
   ]
  },
  {
   "cell_type": "markdown",
   "id": "88b08c7c-6a4d-4e2b-9929-5a6038108949",
   "metadata": {},
   "source": [
    "### Shape[0] for both features and targets must match"
   ]
  },
  {
   "cell_type": "code",
   "execution_count": 31,
   "id": "24f46b79-5bd3-4493-b167-81f4c2934af9",
   "metadata": {},
   "outputs": [
    {
     "data": {
      "text/plain": [
       "((6436, 12), (6436,))"
      ]
     },
     "execution_count": 31,
     "metadata": {},
     "output_type": "execute_result"
    }
   ],
   "source": [
    "scaled_features.shape, y_resampled.shape"
   ]
  },
  {
   "cell_type": "markdown",
   "id": "155e9fc4-6d2b-4e78-8d69-9c48830ae509",
   "metadata": {},
   "source": [
    "### Ensure shape of the variables we excluded also match the new resampled data"
   ]
  },
  {
   "cell_type": "code",
   "execution_count": 32,
   "id": "75d6b5bb-0626-43b2-bf13-14b0ea4d96c9",
   "metadata": {},
   "outputs": [
    {
     "data": {
      "text/plain": [
       "((6436,), (6436,), (6436,))"
      ]
     },
     "execution_count": 32,
     "metadata": {},
     "output_type": "execute_result"
    }
   ],
   "source": [
    "circumbinary_flag.shape, controversial_flag.shape, discovery_year.shape"
   ]
  },
  {
   "cell_type": "markdown",
   "id": "bfe29a91-c168-4646-bea9-e33ce39d316e",
   "metadata": {},
   "source": [
    "## Re-add the necessary columns"
   ]
  },
  {
   "cell_type": "code",
   "execution_count": 33,
   "id": "e36d2003-7c68-4fd9-9d62-2cc5bea8069e",
   "metadata": {},
   "outputs": [
    {
     "name": "stdout",
     "output_type": "stream",
     "text": [
      "<class 'pandas.core.series.Series'>\n",
      "RangeIndex: 6436 entries, 0 to 6435\n",
      "Series name: Circumbinary Flag\n",
      "Non-Null Count  Dtype\n",
      "--------------  -----\n",
      "6436 non-null   int64\n",
      "dtypes: int64(1)\n",
      "memory usage: 50.4 KB\n"
     ]
    }
   ],
   "source": [
    "circumbinary_flag.info()"
   ]
  },
  {
   "cell_type": "code",
   "execution_count": 34,
   "id": "0d042305-9218-4369-99ba-1a724d4f17a0",
   "metadata": {},
   "outputs": [
    {
     "data": {
      "text/plain": [
       "array([[ 3.09407601, -0.66689371,  0.        , ..., -0.26160019,\n",
       "        -0.01246596, -0.04436356],\n",
       "       [-0.25666826, -0.66689371,  0.        , ..., -0.26160019,\n",
       "        -0.01246596, -0.04436356],\n",
       "       [-0.25666826, -0.66689371,  0.        , ..., -0.26160019,\n",
       "        -0.01246596, -0.04436356],\n",
       "       ...,\n",
       "       [-0.25666826, -0.66689371,  0.        , ..., -0.26160019,\n",
       "        -0.01246596, -0.04436356],\n",
       "       [ 3.09407601, -0.66689371,  0.        , ..., -0.26160019,\n",
       "        -0.01246596, -0.04436356],\n",
       "       [-0.25666826,  1.10086902,  0.        , ...,  0.59174944,\n",
       "        -0.01246596, -0.04436356]])"
      ]
     },
     "execution_count": 34,
     "metadata": {},
     "output_type": "execute_result"
    }
   ],
   "source": [
    "scaled_features"
   ]
  },
  {
   "cell_type": "markdown",
   "id": "fde7f949-296a-4ebd-86b3-ca6e9580711e",
   "metadata": {},
   "source": [
    "### By default all our non-standardized variables are pandas series\n",
    "### and the scaled_features variable is a numpy array\n",
    "### Have to first convert the numpy array into a dataframe\n",
    "### So then we can re-add the excluded variables to our scaled features dataframe more easily"
   ]
  },
  {
   "cell_type": "code",
   "execution_count": 35,
   "id": "2206b520-877d-4c89-b397-a729750e02c0",
   "metadata": {},
   "outputs": [],
   "source": [
    "scaled_features_df = pd.DataFrame(scaled_features, columns = unscaled_features.columns.values)\n",
    "scaled_features_df['Circumbinary Flag'] = circumbinary_flag\n",
    "scaled_features_df['Controversial Flag'] = controversial_flag\n",
    "\n",
    "# Convert discovery year to be treated as a categorical variable\n",
    "discovery_year_categorical = discovery_year.astype('category')\n",
    "scaled_features_df['Discovery Year'] = discovery_year_categorical\n",
    "\n",
    "# have our target variable all the way to the right\n",
    "scaled_features_df['Detected by Transits'] = y_resampled"
   ]
  },
  {
   "cell_type": "markdown",
   "id": "144ef4a1-218e-4fbb-84ff-4f561b45ba2d",
   "metadata": {},
   "source": [
    "## Last checkpoint"
   ]
  },
  {
   "cell_type": "code",
   "execution_count": 36,
   "id": "e0a7deaa-1ea7-4e0d-91b7-257812317ecc",
   "metadata": {},
   "outputs": [
    {
     "data": {
      "text/html": [
       "<div>\n",
       "<style scoped>\n",
       "    .dataframe tbody tr th:only-of-type {\n",
       "        vertical-align: middle;\n",
       "    }\n",
       "\n",
       "    .dataframe tbody tr th {\n",
       "        vertical-align: top;\n",
       "    }\n",
       "\n",
       "    .dataframe thead th {\n",
       "        text-align: right;\n",
       "    }\n",
       "</style>\n",
       "<table border=\"1\" class=\"dataframe\">\n",
       "  <thead>\n",
       "    <tr style=\"text-align: right;\">\n",
       "      <th></th>\n",
       "      <th>Number of Stars</th>\n",
       "      <th>Number of Planets</th>\n",
       "      <th>Number of Moons</th>\n",
       "      <th>Galactic Latitude [deg]</th>\n",
       "      <th>Galactic Longitude [deg]</th>\n",
       "      <th>Ecliptic Latitude [deg]</th>\n",
       "      <th>Ecliptic Longitude [deg]</th>\n",
       "      <th>Number of Photometry Time Series</th>\n",
       "      <th>Number of Radial Velocity Time Series</th>\n",
       "      <th>Number of Stellar Spectra Measurements</th>\n",
       "      <th>Number of Emission Spectroscopy Measurements</th>\n",
       "      <th>Number of Transmission Spectroscopy Measurements</th>\n",
       "      <th>Circumbinary Flag</th>\n",
       "      <th>Controversial Flag</th>\n",
       "      <th>Discovery Year</th>\n",
       "      <th>Detected by Transits</th>\n",
       "    </tr>\n",
       "  </thead>\n",
       "  <tbody>\n",
       "    <tr>\n",
       "      <th>0</th>\n",
       "      <td>3.094076</td>\n",
       "      <td>-0.666894</td>\n",
       "      <td>0.0</td>\n",
       "      <td>2.424559</td>\n",
       "      <td>1.234306</td>\n",
       "      <td>-0.145901</td>\n",
       "      <td>-0.624689</td>\n",
       "      <td>0.613405</td>\n",
       "      <td>1.731519</td>\n",
       "      <td>-0.261600</td>\n",
       "      <td>-0.012466</td>\n",
       "      <td>-0.044364</td>\n",
       "      <td>0</td>\n",
       "      <td>0</td>\n",
       "      <td>2007</td>\n",
       "      <td>0</td>\n",
       "    </tr>\n",
       "    <tr>\n",
       "      <th>1</th>\n",
       "      <td>-0.256668</td>\n",
       "      <td>-0.666894</td>\n",
       "      <td>0.0</td>\n",
       "      <td>1.186720</td>\n",
       "      <td>-0.283545</td>\n",
       "      <td>1.148661</td>\n",
       "      <td>-0.992906</td>\n",
       "      <td>0.613405</td>\n",
       "      <td>0.729626</td>\n",
       "      <td>-0.261600</td>\n",
       "      <td>-0.012466</td>\n",
       "      <td>-0.044364</td>\n",
       "      <td>0</td>\n",
       "      <td>0</td>\n",
       "      <td>2009</td>\n",
       "      <td>0</td>\n",
       "    </tr>\n",
       "    <tr>\n",
       "      <th>2</th>\n",
       "      <td>-0.256668</td>\n",
       "      <td>-0.666894</td>\n",
       "      <td>0.0</td>\n",
       "      <td>-0.877523</td>\n",
       "      <td>-0.306068</td>\n",
       "      <td>0.308947</td>\n",
       "      <td>-2.327878</td>\n",
       "      <td>0.613405</td>\n",
       "      <td>0.729626</td>\n",
       "      <td>-0.261600</td>\n",
       "      <td>-0.012466</td>\n",
       "      <td>-0.044364</td>\n",
       "      <td>0</td>\n",
       "      <td>0</td>\n",
       "      <td>2008</td>\n",
       "      <td>0</td>\n",
       "    </tr>\n",
       "    <tr>\n",
       "      <th>3</th>\n",
       "      <td>-0.256668</td>\n",
       "      <td>0.216988</td>\n",
       "      <td>0.0</td>\n",
       "      <td>1.382856</td>\n",
       "      <td>-0.669803</td>\n",
       "      <td>0.872499</td>\n",
       "      <td>-0.152934</td>\n",
       "      <td>0.613405</td>\n",
       "      <td>3.735304</td>\n",
       "      <td>0.591749</td>\n",
       "      <td>-0.012466</td>\n",
       "      <td>-0.044364</td>\n",
       "      <td>0</td>\n",
       "      <td>0</td>\n",
       "      <td>2002</td>\n",
       "      <td>0</td>\n",
       "    </tr>\n",
       "    <tr>\n",
       "      <th>4</th>\n",
       "      <td>6.444820</td>\n",
       "      <td>-0.666894</td>\n",
       "      <td>0.0</td>\n",
       "      <td>0.261241</td>\n",
       "      <td>-0.531444</td>\n",
       "      <td>1.023143</td>\n",
       "      <td>0.855489</td>\n",
       "      <td>0.613405</td>\n",
       "      <td>3.735304</td>\n",
       "      <td>2.298449</td>\n",
       "      <td>-0.012466</td>\n",
       "      <td>-0.044364</td>\n",
       "      <td>0</td>\n",
       "      <td>0</td>\n",
       "      <td>1996</td>\n",
       "      <td>0</td>\n",
       "    </tr>\n",
       "  </tbody>\n",
       "</table>\n",
       "</div>"
      ],
      "text/plain": [
       "   Number of Stars  Number of Planets  Number of Moons  \\\n",
       "0         3.094076          -0.666894              0.0   \n",
       "1        -0.256668          -0.666894              0.0   \n",
       "2        -0.256668          -0.666894              0.0   \n",
       "3        -0.256668           0.216988              0.0   \n",
       "4         6.444820          -0.666894              0.0   \n",
       "\n",
       "   Galactic Latitude [deg]  Galactic Longitude [deg]  Ecliptic Latitude [deg]  \\\n",
       "0                 2.424559                  1.234306                -0.145901   \n",
       "1                 1.186720                 -0.283545                 1.148661   \n",
       "2                -0.877523                 -0.306068                 0.308947   \n",
       "3                 1.382856                 -0.669803                 0.872499   \n",
       "4                 0.261241                 -0.531444                 1.023143   \n",
       "\n",
       "   Ecliptic Longitude [deg]  Number of Photometry Time Series  \\\n",
       "0                 -0.624689                          0.613405   \n",
       "1                 -0.992906                          0.613405   \n",
       "2                 -2.327878                          0.613405   \n",
       "3                 -0.152934                          0.613405   \n",
       "4                  0.855489                          0.613405   \n",
       "\n",
       "   Number of Radial Velocity Time Series  \\\n",
       "0                               1.731519   \n",
       "1                               0.729626   \n",
       "2                               0.729626   \n",
       "3                               3.735304   \n",
       "4                               3.735304   \n",
       "\n",
       "   Number of Stellar Spectra Measurements  \\\n",
       "0                               -0.261600   \n",
       "1                               -0.261600   \n",
       "2                               -0.261600   \n",
       "3                                0.591749   \n",
       "4                                2.298449   \n",
       "\n",
       "   Number of Emission Spectroscopy Measurements  \\\n",
       "0                                     -0.012466   \n",
       "1                                     -0.012466   \n",
       "2                                     -0.012466   \n",
       "3                                     -0.012466   \n",
       "4                                     -0.012466   \n",
       "\n",
       "   Number of Transmission Spectroscopy Measurements  Circumbinary Flag  \\\n",
       "0                                         -0.044364                  0   \n",
       "1                                         -0.044364                  0   \n",
       "2                                         -0.044364                  0   \n",
       "3                                         -0.044364                  0   \n",
       "4                                         -0.044364                  0   \n",
       "\n",
       "   Controversial Flag Discovery Year  Detected by Transits  \n",
       "0                   0           2007                     0  \n",
       "1                   0           2009                     0  \n",
       "2                   0           2008                     0  \n",
       "3                   0           2002                     0  \n",
       "4                   0           1996                     0  "
      ]
     },
     "execution_count": 36,
     "metadata": {},
     "output_type": "execute_result"
    }
   ],
   "source": [
    "preprocessed_data = scaled_features_df\n",
    "preprocessed_data.head()"
   ]
  },
  {
   "cell_type": "markdown",
   "id": "e3a2d1a6-2e8c-4259-9636-26c3c8e37458",
   "metadata": {},
   "source": [
    "# Export the new preprocessed csv"
   ]
  },
  {
   "cell_type": "code",
   "execution_count": 37,
   "id": "7e81f31b-834b-4e7b-8408-c3dbd4b58b6a",
   "metadata": {},
   "outputs": [],
   "source": [
    "exoplanet_composite_preprocessed = preprocessed_data\n",
    "exoplanet_composite_preprocessed.to_csv('Composite_preprocessed_NO_MV_BALANCED.csv', index=False)"
   ]
  }
 ],
 "metadata": {
  "kernelspec": {
   "display_name": "Python (py310_ds)",
   "language": "python",
   "name": "myenv"
  },
  "language_info": {
   "codemirror_mode": {
    "name": "ipython",
    "version": 3
   },
   "file_extension": ".py",
   "mimetype": "text/x-python",
   "name": "python",
   "nbconvert_exporter": "python",
   "pygments_lexer": "ipython3",
   "version": "3.10.14"
  }
 },
 "nbformat": 4,
 "nbformat_minor": 5
}
