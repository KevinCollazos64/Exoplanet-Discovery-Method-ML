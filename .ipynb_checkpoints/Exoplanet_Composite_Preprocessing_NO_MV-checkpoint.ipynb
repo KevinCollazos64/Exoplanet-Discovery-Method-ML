{
 "cells": [
  {
   "cell_type": "code",
   "execution_count": 1,
   "id": "98e5ab35-1f84-4a38-9dc5-cfb597210fc3",
   "metadata": {},
   "outputs": [],
   "source": [
    "import pandas as pd"
   ]
  },
  {
   "cell_type": "markdown",
   "id": "05c6c030-94dc-4316-a6b2-024d4f938423",
   "metadata": {},
   "source": [
    "### Read csv, make copy of csv, change panda display options to see the entire dataset"
   ]
  },
  {
   "cell_type": "code",
   "execution_count": 2,
   "id": "a983b638-1c20-49e1-a6ac-6d0924b2397d",
   "metadata": {
    "scrolled": true
   },
   "outputs": [
    {
     "name": "stdout",
     "output_type": "stream",
     "text": [
      "<class 'pandas.core.frame.DataFrame'>\n",
      "RangeIndex: 5602 entries, 0 to 5601\n",
      "Columns: 193 entries, pl_name to pl_ntranspec\n",
      "dtypes: float64(166), int64(21), object(6)\n",
      "memory usage: 8.2+ MB\n"
     ]
    }
   ],
   "source": [
    "raw_data = pd.read_csv('Exoplanet_Composite_Raw_Data.csv')\n",
    "filtered_raw_data = raw_data\n",
    "pd.options.display.max_columns=None\n",
    "pd.options.display.max_rows=None\n",
    "filtered_raw_data.info()"
   ]
  },
  {
   "cell_type": "markdown",
   "id": "3ad5dd8d-33d6-455b-adc3-19ade1b637be",
   "metadata": {},
   "source": [
    "## Data Preprocessing - \n",
    "### 0 threshold : If any MV present we exclude the column"
   ]
  },
  {
   "cell_type": "code",
   "execution_count": 3,
   "id": "a0645409-c1dc-49b3-8f46-8472816fa4bf",
   "metadata": {},
   "outputs": [
    {
     "data": {
      "text/plain": [
       "(5602, 193)"
      ]
     },
     "execution_count": 3,
     "metadata": {},
     "output_type": "execute_result"
    }
   ],
   "source": [
    "filtered_raw_data.shape"
   ]
  },
  {
   "cell_type": "markdown",
   "id": "5699bbc9-0cc5-4c61-99ba-8574b5c48c66",
   "metadata": {},
   "source": [
    "### Shape tells us there are 5602 rows and 84 columns"
   ]
  },
  {
   "cell_type": "code",
   "execution_count": 4,
   "id": "b5e4290f-57f5-4eb6-819c-a36b67fcf424",
   "metadata": {},
   "outputs": [
    {
     "data": {
      "text/plain": [
       "0"
      ]
     },
     "execution_count": 4,
     "metadata": {},
     "output_type": "execute_result"
    }
   ],
   "source": [
    "threshold = 0\n",
    "threshold"
   ]
  },
  {
   "cell_type": "markdown",
   "id": "cde90132-8f14-46be-98d2-fb21df60c3d9",
   "metadata": {},
   "source": [
    "### Get an idea of how many missing values are in each column currently"
   ]
  },
  {
   "cell_type": "code",
   "execution_count": 5,
   "id": "ea123336-608c-43e0-8412-a567b64fbd00",
   "metadata": {},
   "outputs": [
    {
     "data": {
      "text/plain": [
       "pl_name               0\n",
       "hostname              0\n",
       "sy_snum               0\n",
       "sy_pnum               0\n",
       "sy_mnum               0\n",
       "cb_flag               0\n",
       "discoverymethod       0\n",
       "disc_year             0\n",
       "disc_facility         0\n",
       "disc_telescope        0\n",
       "disc_instrument       0\n",
       "rv_flag               0\n",
       "pul_flag              0\n",
       "ptv_flag              0\n",
       "tran_flag             0\n",
       "ast_flag              0\n",
       "obm_flag              0\n",
       "micro_flag            0\n",
       "etv_flag              0\n",
       "ima_flag              0\n",
       "dkin_flag             0\n",
       "pl_controv_flag       0\n",
       "pl_orbper           249\n",
       "pl_orbpererr1       728\n",
       "pl_orbpererr2       728\n",
       "pl_orbperlim        249\n",
       "pl_rade              20\n",
       "pl_radeerr1        1754\n",
       "pl_radeerr2        1754\n",
       "pl_radelim           20\n",
       "pl_bmasse            26\n",
       "pl_bmasseerr1      3094\n",
       "pl_bmasseerr2      3094\n",
       "pl_bmasselim         26\n",
       "pl_dens             110\n",
       "pl_denserr1        4589\n",
       "pl_denserr2        4589\n",
       "pl_denslim          110\n",
       "pl_orbeccen         777\n",
       "pl_orbeccenerr1    3986\n",
       "pl_orbeccenerr2    3986\n",
       "pl_orbeccenlim      777\n",
       "pl_insol           1710\n",
       "pl_insolerr1       2245\n",
       "pl_insolerr2       2245\n",
       "pl_insollim        1710\n",
       "pl_eqt             1462\n",
       "pl_eqterr1         4213\n",
       "pl_eqterr2         4213\n",
       "pl_eqtlim          1462\n",
       "pl_orbincl         1313\n",
       "pl_orbinclerr1     3883\n",
       "pl_orbinclerr2     3881\n",
       "pl_orbincllim      1313\n",
       "pl_trandep         1576\n",
       "pl_trandeperr1     1695\n",
       "pl_trandeperr2     1695\n",
       "pl_trandeplim      1576\n",
       "pl_trandur         1486\n",
       "pl_trandurerr1     1589\n",
       "pl_trandurerr2     1589\n",
       "pl_trandurlim      1486\n",
       "pl_occdep          5571\n",
       "pl_occdeperr1      5573\n",
       "pl_occdeperr2      5573\n",
       "pl_occdeplim       5571\n",
       "pl_orbtper         4619\n",
       "pl_orbtpererr1     4648\n",
       "pl_orbtpererr2     4648\n",
       "pl_orbtperlim      4619\n",
       "pl_rvamp           3498\n",
       "pl_rvamperr1       3566\n",
       "pl_rvamperr2       3566\n",
       "pl_rvamplim        3498\n",
       "st_teff             219\n",
       "st_tefferr1         409\n",
       "st_tefferr2         433\n",
       "st_tefflim          219\n",
       "st_rad              240\n",
       "st_raderr1          395\n",
       "st_raderr2          413\n",
       "st_radlim           240\n",
       "st_mass               4\n",
       "st_masserr1         270\n",
       "st_masserr2         291\n",
       "st_masslim            4\n",
       "st_met              433\n",
       "st_meterr1          738\n",
       "st_meterr2          738\n",
       "st_metlim           433\n",
       "st_lum              235\n",
       "st_lumerr1         2381\n",
       "st_lumerr2         2398\n",
       "st_lumlim           235\n",
       "st_logg             246\n",
       "st_loggerr1         421\n",
       "st_loggerr2         421\n",
       "st_logglim          246\n",
       "st_age             1204\n",
       "st_ageerr1         1455\n",
       "st_ageerr2         1455\n",
       "st_agelim          1109\n",
       "st_dens             500\n",
       "st_denserr1         630\n",
       "st_denserr2         630\n",
       "st_denslim          500\n",
       "st_vsin            3604\n",
       "st_vsinerr1        4235\n",
       "st_vsinerr2        4252\n",
       "st_vsinlim         3604\n",
       "st_rotp            4927\n",
       "st_rotperr1        5067\n",
       "st_rotperr2        5067\n",
       "st_rotplim         4927\n",
       "st_radv            3361\n",
       "st_radverr1        3416\n",
       "st_radverr2        3456\n",
       "st_radvlim         3361\n",
       "glat                  0\n",
       "glon                  0\n",
       "elat                  0\n",
       "elon                  0\n",
       "sy_pm               232\n",
       "sy_pmerr1           235\n",
       "sy_pmerr2           248\n",
       "sy_pmra             232\n",
       "sy_pmraerr1         235\n",
       "sy_pmraerr2         248\n",
       "sy_pmdec            232\n",
       "sy_pmdecerr1        235\n",
       "sy_pmdecerr2        248\n",
       "sy_dist              21\n",
       "sy_disterr1         127\n",
       "sy_disterr2         127\n",
       "sy_bmag             325\n",
       "sy_bmagerr1         341\n",
       "sy_bmagerr2         372\n",
       "sy_vmag             219\n",
       "sy_vmagerr1         227\n",
       "sy_vmagerr2         233\n",
       "sy_jmag             236\n",
       "sy_jmagerr1         252\n",
       "sy_jmagerr2         252\n",
       "sy_hmag             221\n",
       "sy_hmagerr1         243\n",
       "sy_hmagerr2         243\n",
       "sy_kmag             215\n",
       "sy_kmagerr1         251\n",
       "sy_kmagerr2         263\n",
       "sy_umag            4939\n",
       "sy_umagerr1        4945\n",
       "sy_umagerr2        4947\n",
       "sy_gmag            2194\n",
       "sy_gmagerr1        4807\n",
       "sy_gmagerr2        4947\n",
       "sy_rmag            2176\n",
       "sy_rmagerr1        4795\n",
       "sy_rmagerr2        4947\n",
       "sy_imag            2229\n",
       "sy_imagerr1        4802\n",
       "sy_imagerr2        4947\n",
       "sy_zmag            2443\n",
       "sy_zmagerr1        4940\n",
       "sy_zmagerr2        4947\n",
       "sy_w1mag            472\n",
       "sy_w1magerr1        541\n",
       "sy_w1magerr2        803\n",
       "sy_w2mag            471\n",
       "sy_w2magerr1        524\n",
       "sy_w2magerr2        793\n",
       "sy_w3mag            471\n",
       "sy_w3magerr1       1488\n",
       "sy_w3magerr2       1764\n",
       "sy_w4mag            472\n",
       "sy_w4magerr1       4291\n",
       "sy_w4magerr2       4291\n",
       "sy_gaiamag          270\n",
       "sy_gaiamagerr1      272\n",
       "sy_gaiamagerr2      272\n",
       "sy_icmag           5271\n",
       "sy_icmagerr1       5400\n",
       "sy_icmagerr2       5584\n",
       "sy_tmag             223\n",
       "sy_tmagerr1         232\n",
       "sy_tmagerr2         232\n",
       "sy_kepmag          2156\n",
       "sy_kepmagerr1      5602\n",
       "sy_kepmagerr2      5602\n",
       "st_nphot              0\n",
       "st_nrvc               0\n",
       "st_nspec              0\n",
       "pl_nespec             0\n",
       "pl_ntranspec          0\n",
       "dtype: int64"
      ]
     },
     "execution_count": 5,
     "metadata": {},
     "output_type": "execute_result"
    }
   ],
   "source": [
    "filtered_raw_data.isnull().sum()"
   ]
  },
  {
   "cell_type": "markdown",
   "id": "f9596cc6-25f4-4f13-a39d-6c259eab760a",
   "metadata": {},
   "source": [
    "### Drop columns that meet or exceed the threshold"
   ]
  },
  {
   "cell_type": "code",
   "execution_count": 6,
   "id": "b21ccba3-ee1d-493e-af2a-47907e33b9aa",
   "metadata": {},
   "outputs": [],
   "source": [
    "for col in filtered_raw_data:\n",
    "    if filtered_raw_data[col].isnull().sum() > threshold:\n",
    "        filtered_raw_data = filtered_raw_data.drop([col], axis=1)"
   ]
  },
  {
   "cell_type": "code",
   "execution_count": 7,
   "id": "2e7129c6-ca13-4230-a923-2e82a83daee4",
   "metadata": {},
   "outputs": [
    {
     "data": {
      "text/plain": [
       "pl_name            0\n",
       "hostname           0\n",
       "sy_snum            0\n",
       "sy_pnum            0\n",
       "sy_mnum            0\n",
       "cb_flag            0\n",
       "discoverymethod    0\n",
       "disc_year          0\n",
       "disc_facility      0\n",
       "disc_telescope     0\n",
       "disc_instrument    0\n",
       "rv_flag            0\n",
       "pul_flag           0\n",
       "ptv_flag           0\n",
       "tran_flag          0\n",
       "ast_flag           0\n",
       "obm_flag           0\n",
       "micro_flag         0\n",
       "etv_flag           0\n",
       "ima_flag           0\n",
       "dkin_flag          0\n",
       "pl_controv_flag    0\n",
       "glat               0\n",
       "glon               0\n",
       "elat               0\n",
       "elon               0\n",
       "st_nphot           0\n",
       "st_nrvc            0\n",
       "st_nspec           0\n",
       "pl_nespec          0\n",
       "pl_ntranspec       0\n",
       "dtype: int64"
      ]
     },
     "execution_count": 7,
     "metadata": {},
     "output_type": "execute_result"
    }
   ],
   "source": [
    "filtered_raw_data.isnull().sum()"
   ]
  },
  {
   "cell_type": "markdown",
   "id": "70804035-12a5-424e-9cb4-758644d36fc3",
   "metadata": {},
   "source": [
    "### Read master column mapper csv, assort keys and values in a dictionary and update filtered raw data columns accordingly"
   ]
  },
  {
   "cell_type": "code",
   "execution_count": 8,
   "id": "f5a4d6c1-9420-448f-9eea-4e423989af69",
   "metadata": {},
   "outputs": [],
   "source": [
    "column_mapper = pd.read_csv('Exoplanet_Archive_Column_Mapping.csv')\n",
    "mapper = {'pl_name' : 'Planet Name'} \n",
    "# pl_name.1 and Planet Name.1 are the relevant columns for the composite dataset\n",
    "db_col_name, table_label = column_mapper[' pl_name.1'], column_mapper['Planet Name.1']"
   ]
  },
  {
   "cell_type": "markdown",
   "id": "4ec19cf8-3927-4c7e-b12d-883e1fe29486",
   "metadata": {},
   "source": [
    "### Loop through number of code columns (ex: pl_name) and their definitions (ex: planet name)"
   ]
  },
  {
   "cell_type": "code",
   "execution_count": 9,
   "id": "deb1a228-afa7-4bf7-9dbd-dd1cfc3b9bf2",
   "metadata": {},
   "outputs": [],
   "source": [
    "for i in range(358):\n",
    "    # if the row i in the database column name matches a column name in our filtered raw data, we assign the key and value in our dict \n",
    "    if str(db_col_name[i]).strip() in filtered_raw_data.columns.values:\n",
    "        mapper[db_col_name[i].strip()] = table_label[i].strip()\n",
    "        # use strip to remove trailing and leading whitespaces"
   ]
  },
  {
   "cell_type": "markdown",
   "id": "7be068cd-2c05-42d9-aa6e-516da7588cd5",
   "metadata": {},
   "source": [
    "### Double check we mapped all database column names to their definitions "
   ]
  },
  {
   "cell_type": "code",
   "execution_count": 10,
   "id": "d1055331-10e9-4cd7-ad38-f94704c15aa1",
   "metadata": {},
   "outputs": [
    {
     "data": {
      "text/plain": [
       "True"
      ]
     },
     "execution_count": 10,
     "metadata": {},
     "output_type": "execute_result"
    }
   ],
   "source": [
    "len(mapper) == len(filtered_raw_data.columns.values)"
   ]
  },
  {
   "cell_type": "markdown",
   "id": "44250d9b-9123-4388-9d27-ebabf81b98dc",
   "metadata": {},
   "source": [
    "### Map Columns"
   ]
  },
  {
   "cell_type": "code",
   "execution_count": 11,
   "id": "d42406d4-24c5-4e52-83eb-8bd8dde79dbc",
   "metadata": {},
   "outputs": [],
   "source": [
    "filtered_raw_data.columns= mapper.values()"
   ]
  },
  {
   "cell_type": "markdown",
   "id": "89060441-8496-44e2-8e2e-6b6c762442b7",
   "metadata": {},
   "source": [
    "### Checkpoint after removing invalid columns and renaming the remaining columns"
   ]
  },
  {
   "cell_type": "code",
   "execution_count": 12,
   "id": "a0236b91-f6d3-4e21-98df-9222ebe49b27",
   "metadata": {},
   "outputs": [
    {
     "data": {
      "text/html": [
       "<div>\n",
       "<style scoped>\n",
       "    .dataframe tbody tr th:only-of-type {\n",
       "        vertical-align: middle;\n",
       "    }\n",
       "\n",
       "    .dataframe tbody tr th {\n",
       "        vertical-align: top;\n",
       "    }\n",
       "\n",
       "    .dataframe thead th {\n",
       "        text-align: right;\n",
       "    }\n",
       "</style>\n",
       "<table border=\"1\" class=\"dataframe\">\n",
       "  <thead>\n",
       "    <tr style=\"text-align: right;\">\n",
       "      <th></th>\n",
       "      <th>Planet Name</th>\n",
       "      <th>Host Name</th>\n",
       "      <th>Number of Stars</th>\n",
       "      <th>Number of Planets</th>\n",
       "      <th>Number of Moons</th>\n",
       "      <th>Circumbinary Flag</th>\n",
       "      <th>Discovery Method</th>\n",
       "      <th>Discovery Year</th>\n",
       "      <th>Discovery Facility</th>\n",
       "      <th>Discovery Telescope</th>\n",
       "      <th>Discovery Instrument</th>\n",
       "      <th>Detected by Radial Velocity Variations</th>\n",
       "      <th>Detected by Pulsar Timing Variations</th>\n",
       "      <th>Detected by Pulsation Timing Variations</th>\n",
       "      <th>Detected by Transits</th>\n",
       "      <th>Detected by Astrometric Variations</th>\n",
       "      <th>Detected by Orbital Brightness Modulations</th>\n",
       "      <th>Detected by Microlensing</th>\n",
       "      <th>Detected by Eclipse Timing Variations</th>\n",
       "      <th>Detected by Imaging</th>\n",
       "      <th>Detected by Disk Kinematics</th>\n",
       "      <th>Controversial Flag</th>\n",
       "      <th>Galactic Latitude [deg]</th>\n",
       "      <th>Galactic Longitude [deg]</th>\n",
       "      <th>Ecliptic Latitude [deg]</th>\n",
       "      <th>Ecliptic Longitude [deg]</th>\n",
       "      <th>Number of Photometry Time Series</th>\n",
       "      <th>Number of Radial Velocity Time Series</th>\n",
       "      <th>Number of Stellar Spectra Measurements</th>\n",
       "      <th>Number of Emission Spectroscopy Measurements</th>\n",
       "      <th>Number of Transmission Spectroscopy Measurements</th>\n",
       "    </tr>\n",
       "  </thead>\n",
       "  <tbody>\n",
       "    <tr>\n",
       "      <th>0</th>\n",
       "      <td>11 Com b</td>\n",
       "      <td>11 Com</td>\n",
       "      <td>2</td>\n",
       "      <td>1</td>\n",
       "      <td>0</td>\n",
       "      <td>0</td>\n",
       "      <td>Radial Velocity</td>\n",
       "      <td>2007</td>\n",
       "      <td>Xinglong Station</td>\n",
       "      <td>2.16 m Telescope</td>\n",
       "      <td>Coude Echelle Spectrograph</td>\n",
       "      <td>1</td>\n",
       "      <td>0</td>\n",
       "      <td>0</td>\n",
       "      <td>0</td>\n",
       "      <td>0</td>\n",
       "      <td>0</td>\n",
       "      <td>0</td>\n",
       "      <td>0</td>\n",
       "      <td>0</td>\n",
       "      <td>0</td>\n",
       "      <td>0</td>\n",
       "      <td>78.28058</td>\n",
       "      <td>264.13775</td>\n",
       "      <td>18.33392</td>\n",
       "      <td>177.41790</td>\n",
       "      <td>1</td>\n",
       "      <td>2</td>\n",
       "      <td>0</td>\n",
       "      <td>0</td>\n",
       "      <td>0</td>\n",
       "    </tr>\n",
       "    <tr>\n",
       "      <th>1</th>\n",
       "      <td>11 UMi b</td>\n",
       "      <td>11 UMi</td>\n",
       "      <td>1</td>\n",
       "      <td>1</td>\n",
       "      <td>0</td>\n",
       "      <td>0</td>\n",
       "      <td>Radial Velocity</td>\n",
       "      <td>2009</td>\n",
       "      <td>Thueringer Landessternwarte Tautenburg</td>\n",
       "      <td>2.0 m Alfred Jensch Telescope</td>\n",
       "      <td>Coude Echelle Spectrograph</td>\n",
       "      <td>1</td>\n",
       "      <td>0</td>\n",
       "      <td>0</td>\n",
       "      <td>0</td>\n",
       "      <td>0</td>\n",
       "      <td>0</td>\n",
       "      <td>0</td>\n",
       "      <td>0</td>\n",
       "      <td>0</td>\n",
       "      <td>0</td>\n",
       "      <td>0</td>\n",
       "      <td>41.04437</td>\n",
       "      <td>108.71900</td>\n",
       "      <td>74.95821</td>\n",
       "      <td>141.64699</td>\n",
       "      <td>1</td>\n",
       "      <td>1</td>\n",
       "      <td>0</td>\n",
       "      <td>0</td>\n",
       "      <td>0</td>\n",
       "    </tr>\n",
       "    <tr>\n",
       "      <th>2</th>\n",
       "      <td>14 And b</td>\n",
       "      <td>14 And</td>\n",
       "      <td>1</td>\n",
       "      <td>1</td>\n",
       "      <td>0</td>\n",
       "      <td>0</td>\n",
       "      <td>Radial Velocity</td>\n",
       "      <td>2008</td>\n",
       "      <td>Okayama Astrophysical Observatory</td>\n",
       "      <td>1.88 m Telescope</td>\n",
       "      <td>HIDES Echelle Spectrograph</td>\n",
       "      <td>1</td>\n",
       "      <td>0</td>\n",
       "      <td>0</td>\n",
       "      <td>0</td>\n",
       "      <td>0</td>\n",
       "      <td>0</td>\n",
       "      <td>0</td>\n",
       "      <td>0</td>\n",
       "      <td>0</td>\n",
       "      <td>0</td>\n",
       "      <td>0</td>\n",
       "      <td>-21.05141</td>\n",
       "      <td>106.41269</td>\n",
       "      <td>38.22901</td>\n",
       "      <td>11.95935</td>\n",
       "      <td>1</td>\n",
       "      <td>1</td>\n",
       "      <td>0</td>\n",
       "      <td>0</td>\n",
       "      <td>0</td>\n",
       "    </tr>\n",
       "    <tr>\n",
       "      <th>3</th>\n",
       "      <td>14 Her b</td>\n",
       "      <td>14 Her</td>\n",
       "      <td>1</td>\n",
       "      <td>2</td>\n",
       "      <td>0</td>\n",
       "      <td>0</td>\n",
       "      <td>Radial Velocity</td>\n",
       "      <td>2002</td>\n",
       "      <td>W. M. Keck Observatory</td>\n",
       "      <td>10 m Keck I Telescope</td>\n",
       "      <td>HIRES Spectrometer</td>\n",
       "      <td>1</td>\n",
       "      <td>0</td>\n",
       "      <td>0</td>\n",
       "      <td>0</td>\n",
       "      <td>0</td>\n",
       "      <td>0</td>\n",
       "      <td>0</td>\n",
       "      <td>0</td>\n",
       "      <td>0</td>\n",
       "      <td>0</td>\n",
       "      <td>0</td>\n",
       "      <td>46.94447</td>\n",
       "      <td>69.16849</td>\n",
       "      <td>62.87885</td>\n",
       "      <td>223.24717</td>\n",
       "      <td>1</td>\n",
       "      <td>4</td>\n",
       "      <td>1</td>\n",
       "      <td>0</td>\n",
       "      <td>0</td>\n",
       "    </tr>\n",
       "    <tr>\n",
       "      <th>4</th>\n",
       "      <td>16 Cyg B b</td>\n",
       "      <td>16 Cyg B</td>\n",
       "      <td>3</td>\n",
       "      <td>1</td>\n",
       "      <td>0</td>\n",
       "      <td>0</td>\n",
       "      <td>Radial Velocity</td>\n",
       "      <td>1996</td>\n",
       "      <td>Multiple Observatories</td>\n",
       "      <td>Multiple Telescopes</td>\n",
       "      <td>Multiple Instruments</td>\n",
       "      <td>1</td>\n",
       "      <td>0</td>\n",
       "      <td>0</td>\n",
       "      <td>0</td>\n",
       "      <td>0</td>\n",
       "      <td>0</td>\n",
       "      <td>0</td>\n",
       "      <td>0</td>\n",
       "      <td>0</td>\n",
       "      <td>0</td>\n",
       "      <td>0</td>\n",
       "      <td>13.20446</td>\n",
       "      <td>83.33558</td>\n",
       "      <td>69.46803</td>\n",
       "      <td>321.21176</td>\n",
       "      <td>1</td>\n",
       "      <td>4</td>\n",
       "      <td>3</td>\n",
       "      <td>0</td>\n",
       "      <td>0</td>\n",
       "    </tr>\n",
       "  </tbody>\n",
       "</table>\n",
       "</div>"
      ],
      "text/plain": [
       "  Planet Name Host Name  Number of Stars  Number of Planets  Number of Moons  \\\n",
       "0    11 Com b    11 Com                2                  1                0   \n",
       "1    11 UMi b    11 UMi                1                  1                0   \n",
       "2    14 And b    14 And                1                  1                0   \n",
       "3    14 Her b    14 Her                1                  2                0   \n",
       "4  16 Cyg B b  16 Cyg B                3                  1                0   \n",
       "\n",
       "   Circumbinary Flag Discovery Method  Discovery Year  \\\n",
       "0                  0  Radial Velocity            2007   \n",
       "1                  0  Radial Velocity            2009   \n",
       "2                  0  Radial Velocity            2008   \n",
       "3                  0  Radial Velocity            2002   \n",
       "4                  0  Radial Velocity            1996   \n",
       "\n",
       "                       Discovery Facility            Discovery Telescope  \\\n",
       "0                        Xinglong Station               2.16 m Telescope   \n",
       "1  Thueringer Landessternwarte Tautenburg  2.0 m Alfred Jensch Telescope   \n",
       "2       Okayama Astrophysical Observatory               1.88 m Telescope   \n",
       "3                  W. M. Keck Observatory          10 m Keck I Telescope   \n",
       "4                  Multiple Observatories            Multiple Telescopes   \n",
       "\n",
       "         Discovery Instrument  Detected by Radial Velocity Variations  \\\n",
       "0  Coude Echelle Spectrograph                                       1   \n",
       "1  Coude Echelle Spectrograph                                       1   \n",
       "2  HIDES Echelle Spectrograph                                       1   \n",
       "3          HIRES Spectrometer                                       1   \n",
       "4        Multiple Instruments                                       1   \n",
       "\n",
       "   Detected by Pulsar Timing Variations  \\\n",
       "0                                     0   \n",
       "1                                     0   \n",
       "2                                     0   \n",
       "3                                     0   \n",
       "4                                     0   \n",
       "\n",
       "   Detected by Pulsation Timing Variations  Detected by Transits  \\\n",
       "0                                        0                     0   \n",
       "1                                        0                     0   \n",
       "2                                        0                     0   \n",
       "3                                        0                     0   \n",
       "4                                        0                     0   \n",
       "\n",
       "   Detected by Astrometric Variations  \\\n",
       "0                                   0   \n",
       "1                                   0   \n",
       "2                                   0   \n",
       "3                                   0   \n",
       "4                                   0   \n",
       "\n",
       "   Detected by Orbital Brightness Modulations  Detected by Microlensing  \\\n",
       "0                                           0                         0   \n",
       "1                                           0                         0   \n",
       "2                                           0                         0   \n",
       "3                                           0                         0   \n",
       "4                                           0                         0   \n",
       "\n",
       "   Detected by Eclipse Timing Variations  Detected by Imaging  \\\n",
       "0                                      0                    0   \n",
       "1                                      0                    0   \n",
       "2                                      0                    0   \n",
       "3                                      0                    0   \n",
       "4                                      0                    0   \n",
       "\n",
       "   Detected by Disk Kinematics  Controversial Flag  Galactic Latitude [deg]  \\\n",
       "0                            0                   0                 78.28058   \n",
       "1                            0                   0                 41.04437   \n",
       "2                            0                   0                -21.05141   \n",
       "3                            0                   0                 46.94447   \n",
       "4                            0                   0                 13.20446   \n",
       "\n",
       "   Galactic Longitude [deg]  Ecliptic Latitude [deg]  \\\n",
       "0                 264.13775                 18.33392   \n",
       "1                 108.71900                 74.95821   \n",
       "2                 106.41269                 38.22901   \n",
       "3                  69.16849                 62.87885   \n",
       "4                  83.33558                 69.46803   \n",
       "\n",
       "   Ecliptic Longitude [deg]  Number of Photometry Time Series  \\\n",
       "0                 177.41790                                 1   \n",
       "1                 141.64699                                 1   \n",
       "2                  11.95935                                 1   \n",
       "3                 223.24717                                 1   \n",
       "4                 321.21176                                 1   \n",
       "\n",
       "   Number of Radial Velocity Time Series  \\\n",
       "0                                      2   \n",
       "1                                      1   \n",
       "2                                      1   \n",
       "3                                      4   \n",
       "4                                      4   \n",
       "\n",
       "   Number of Stellar Spectra Measurements  \\\n",
       "0                                       0   \n",
       "1                                       0   \n",
       "2                                       0   \n",
       "3                                       1   \n",
       "4                                       3   \n",
       "\n",
       "   Number of Emission Spectroscopy Measurements  \\\n",
       "0                                             0   \n",
       "1                                             0   \n",
       "2                                             0   \n",
       "3                                             0   \n",
       "4                                             0   \n",
       "\n",
       "   Number of Transmission Spectroscopy Measurements  \n",
       "0                                                 0  \n",
       "1                                                 0  \n",
       "2                                                 0  \n",
       "3                                                 0  \n",
       "4                                                 0  "
      ]
     },
     "execution_count": 12,
     "metadata": {},
     "output_type": "execute_result"
    }
   ],
   "source": [
    "filtered_renamed_data = filtered_raw_data\n",
    "filtered_renamed_data.head()"
   ]
  },
  {
   "cell_type": "markdown",
   "id": "ad9ce54c-514a-4f2a-b2bb-f6720f1b7cf7",
   "metadata": {},
   "source": [
    "### Get an idea of the unique values we can expect in the discovery method column ; 11 unique values"
   ]
  },
  {
   "cell_type": "code",
   "execution_count": 13,
   "id": "bdce00f8-5f20-4d66-864f-b26daf0d825d",
   "metadata": {},
   "outputs": [
    {
     "data": {
      "text/plain": [
       "array(['Radial Velocity', 'Imaging', 'Eclipse Timing Variations',\n",
       "       'Transit', 'Transit Timing Variations', 'Astrometry',\n",
       "       'Disk Kinematics', 'Microlensing', 'Orbital Brightness Modulation',\n",
       "       'Pulsation Timing Variations', 'Pulsar Timing'], dtype=object)"
      ]
     },
     "execution_count": 13,
     "metadata": {},
     "output_type": "execute_result"
    }
   ],
   "source": [
    "filtered_renamed_data['Discovery Method'].unique()"
   ]
  },
  {
   "cell_type": "markdown",
   "id": "7562855b-ebcb-4e03-a16e-4924a3b691a9",
   "metadata": {},
   "source": [
    "### The dataset is missing transit timing variations as a target dummy column ; This is expected to prevent perfect multicollinearity\n",
    "### (We always want n-1 dummies for n categories so the omitted category serves as the reference category against which the others are compared)\n",
    "### We keep the all dummy target columns for model training and drop Discovery Method column to prevent multicollinearity"
   ]
  },
  {
   "cell_type": "markdown",
   "id": "7e09f1d1-a0ce-4579-ad68-ad71dc8eda11",
   "metadata": {},
   "source": [
    "### Get an idea of the frequency of each value in the discovery method column"
   ]
  },
  {
   "cell_type": "code",
   "execution_count": 14,
   "id": "c6272e48-7682-451f-9d66-2585a98c76a5",
   "metadata": {},
   "outputs": [
    {
     "data": {
      "text/plain": [
       "Discovery Method\n",
       "Transit                          4168\n",
       "Radial Velocity                  1088\n",
       "Microlensing                      210\n",
       "Imaging                            68\n",
       "Transit Timing Variations          29\n",
       "Eclipse Timing Variations          17\n",
       "Orbital Brightness Modulation       9\n",
       "Pulsar Timing                       7\n",
       "Astrometry                          3\n",
       "Pulsation Timing Variations         2\n",
       "Disk Kinematics                     1\n",
       "Name: count, dtype: int64"
      ]
     },
     "execution_count": 14,
     "metadata": {},
     "output_type": "execute_result"
    }
   ],
   "source": [
    "filtered_renamed_data['Discovery Method'].value_counts()"
   ]
  },
  {
   "cell_type": "markdown",
   "id": "55d3def9-6178-4fce-a4b7-7a7ff409ba64",
   "metadata": {},
   "source": [
    "### Clear discrepancy ; transit has 4168 occurrences, meanwhile Orbital Brightness Modulation, Pulsar Timing, Astrometry,\n",
    "### Pulsation Timming Variations and Disk Kinematics all have less than 10 occurrences \n",
    "### To balance the data we can use SMOTE (Synthetic Minority Over-Sampling Technique) \n",
    "### This would synthesize instances of minority classes so that training will consider all classes evenly"
   ]
  },
  {
   "cell_type": "code",
   "execution_count": 15,
   "id": "8e6bd38c-9785-4bc5-b3d7-65af57c3eb6b",
   "metadata": {},
   "outputs": [
    {
     "name": "stdout",
     "output_type": "stream",
     "text": [
      "70 79 94\n"
     ]
    }
   ],
   "source": [
    "print(len(filtered_renamed_data['Discovery Facility'].value_counts()),\n",
    "       len(filtered_renamed_data['Discovery Telescope'].value_counts()), \n",
    "          len(filtered_renamed_data['Discovery Instrument'].value_counts()))"
   ]
  },
  {
   "cell_type": "markdown",
   "id": "523388fa-53a8-482d-82a2-b14167b00d5f",
   "metadata": {},
   "source": [
    "### We could encode Discovery Facility, Discovery Telescope,, Discovery Instrument, but they each have 70-90 unique values"
   ]
  },
  {
   "cell_type": "markdown",
   "id": "1efe7992-c4ef-4808-bfc4-8972eb5fa99b",
   "metadata": {},
   "source": [
    "### To reduce dimensionality of the feature space and prevent multicollinearity we will exclude them for now\n",
    "### Thus we will drop Planet Name, Host Name, Discovery Facility, Discovery Telescope and Discovery Instrument \n",
    "### We will later confirm their impact on the model through Cross-Validation and Feature Importance Analysis"
   ]
  },
  {
   "cell_type": "code",
   "execution_count": 16,
   "id": "7885d17d-e680-4d76-a0c8-7487a3f6f703",
   "metadata": {},
   "outputs": [],
   "source": [
    "unnecessary_features = ['Planet Name',\n",
    "                        'Host Name',\n",
    "                        'Discovery Method',\n",
    "                        'Discovery Facility',\n",
    "                        'Discovery Telescope',\n",
    "                        'Discovery Instrument']\n",
    "\n",
    "preprocessed_data = filtered_renamed_data.drop(unnecessary_features, axis=1)\n"
   ]
  },
  {
   "cell_type": "code",
   "execution_count": 17,
   "id": "500f7747-ff20-4d95-a202-384a286651d8",
   "metadata": {
    "scrolled": true
   },
   "outputs": [
    {
     "name": "stdout",
     "output_type": "stream",
     "text": [
      "<class 'pandas.core.frame.DataFrame'>\n",
      "RangeIndex: 5602 entries, 0 to 5601\n",
      "Data columns (total 25 columns):\n",
      " #   Column                                            Non-Null Count  Dtype  \n",
      "---  ------                                            --------------  -----  \n",
      " 0   Number of Stars                                   5602 non-null   int64  \n",
      " 1   Number of Planets                                 5602 non-null   int64  \n",
      " 2   Number of Moons                                   5602 non-null   int64  \n",
      " 3   Circumbinary Flag                                 5602 non-null   int64  \n",
      " 4   Discovery Year                                    5602 non-null   int64  \n",
      " 5   Detected by Radial Velocity Variations            5602 non-null   int64  \n",
      " 6   Detected by Pulsar Timing Variations              5602 non-null   int64  \n",
      " 7   Detected by Pulsation Timing Variations           5602 non-null   int64  \n",
      " 8   Detected by Transits                              5602 non-null   int64  \n",
      " 9   Detected by Astrometric Variations                5602 non-null   int64  \n",
      " 10  Detected by Orbital Brightness Modulations        5602 non-null   int64  \n",
      " 11  Detected by Microlensing                          5602 non-null   int64  \n",
      " 12  Detected by Eclipse Timing Variations             5602 non-null   int64  \n",
      " 13  Detected by Imaging                               5602 non-null   int64  \n",
      " 14  Detected by Disk Kinematics                       5602 non-null   int64  \n",
      " 15  Controversial Flag                                5602 non-null   int64  \n",
      " 16  Galactic Latitude [deg]                           5602 non-null   float64\n",
      " 17  Galactic Longitude [deg]                          5602 non-null   float64\n",
      " 18  Ecliptic Latitude [deg]                           5602 non-null   float64\n",
      " 19  Ecliptic Longitude [deg]                          5602 non-null   float64\n",
      " 20  Number of Photometry Time Series                  5602 non-null   int64  \n",
      " 21  Number of Radial Velocity Time Series             5602 non-null   int64  \n",
      " 22  Number of Stellar Spectra Measurements            5602 non-null   int64  \n",
      " 23  Number of Emission Spectroscopy Measurements      5602 non-null   int64  \n",
      " 24  Number of Transmission Spectroscopy Measurements  5602 non-null   int64  \n",
      "dtypes: float64(4), int64(21)\n",
      "memory usage: 1.1 MB\n"
     ]
    }
   ],
   "source": [
    "preprocessed_data.info()"
   ]
  },
  {
   "cell_type": "code",
   "execution_count": 18,
   "id": "7e81f31b-834b-4e7b-8408-c3dbd4b58b6a",
   "metadata": {},
   "outputs": [],
   "source": [
    "# finally export the new csv \n",
    "exoplanet_composite_preprocessed = preprocessed_data\n",
    "exoplanet_composite_preprocessed.to_csv('Composite_preprocessed_NO_MV.csv', index=False)"
   ]
  }
 ],
 "metadata": {
  "kernelspec": {
   "display_name": "Python (py310_ds)",
   "language": "python",
   "name": "myenv"
  },
  "language_info": {
   "codemirror_mode": {
    "name": "ipython",
    "version": 3
   },
   "file_extension": ".py",
   "mimetype": "text/x-python",
   "name": "python",
   "nbconvert_exporter": "python",
   "pygments_lexer": "ipython3",
   "version": "3.10.14"
  }
 },
 "nbformat": 4,
 "nbformat_minor": 5
}
