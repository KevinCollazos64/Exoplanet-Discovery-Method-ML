{
 "cells": [
  {
   "cell_type": "code",
   "execution_count": 1,
   "id": "42153274-7526-423a-bc55-c23c906faf26",
   "metadata": {},
   "outputs": [],
   "source": [
    "import pandas as pd"
   ]
  },
  {
   "cell_type": "markdown",
   "id": "5eb0685e-02f9-4dee-bb50-ef64bf69782c",
   "metadata": {},
   "source": [
    "# XGB Model\n",
    "\n",
    "## Load the preprocessed data"
   ]
  },
  {
   "cell_type": "code",
   "execution_count": 2,
   "id": "225a2390-23b3-46ef-b3aa-ee1eba1cc0b7",
   "metadata": {},
   "outputs": [
    {
     "data": {
      "text/html": [
       "<div>\n",
       "<style scoped>\n",
       "    .dataframe tbody tr th:only-of-type {\n",
       "        vertical-align: middle;\n",
       "    }\n",
       "\n",
       "    .dataframe tbody tr th {\n",
       "        vertical-align: top;\n",
       "    }\n",
       "\n",
       "    .dataframe thead th {\n",
       "        text-align: right;\n",
       "    }\n",
       "</style>\n",
       "<table border=\"1\" class=\"dataframe\">\n",
       "  <thead>\n",
       "    <tr style=\"text-align: right;\">\n",
       "      <th></th>\n",
       "      <th>Number of Stars</th>\n",
       "      <th>Number of Planets</th>\n",
       "      <th>Number of Moons</th>\n",
       "      <th>Circumbinary Flag</th>\n",
       "      <th>Discovery Year</th>\n",
       "      <th>Detected by Radial Velocity Variations</th>\n",
       "      <th>Detected by Pulsar Timing Variations</th>\n",
       "      <th>Detected by Pulsation Timing Variations</th>\n",
       "      <th>Detected by Transits</th>\n",
       "      <th>Detected by Astrometric Variations</th>\n",
       "      <th>Detected by Orbital Brightness Modulations</th>\n",
       "      <th>Detected by Microlensing</th>\n",
       "      <th>Detected by Eclipse Timing Variations</th>\n",
       "      <th>Detected by Imaging</th>\n",
       "      <th>Detected by Disk Kinematics</th>\n",
       "      <th>Controversial Flag</th>\n",
       "      <th>Galactic Latitude [deg]</th>\n",
       "      <th>Galactic Longitude [deg]</th>\n",
       "      <th>Ecliptic Latitude [deg]</th>\n",
       "      <th>Ecliptic Longitude [deg]</th>\n",
       "      <th>Number of Photometry Time Series</th>\n",
       "      <th>Number of Radial Velocity Time Series</th>\n",
       "      <th>Number of Stellar Spectra Measurements</th>\n",
       "      <th>Number of Emission Spectroscopy Measurements</th>\n",
       "      <th>Number of Transmission Spectroscopy Measurements</th>\n",
       "    </tr>\n",
       "  </thead>\n",
       "  <tbody>\n",
       "    <tr>\n",
       "      <th>0</th>\n",
       "      <td>2</td>\n",
       "      <td>1</td>\n",
       "      <td>0</td>\n",
       "      <td>0</td>\n",
       "      <td>2007</td>\n",
       "      <td>1</td>\n",
       "      <td>0</td>\n",
       "      <td>0</td>\n",
       "      <td>0</td>\n",
       "      <td>0</td>\n",
       "      <td>0</td>\n",
       "      <td>0</td>\n",
       "      <td>0</td>\n",
       "      <td>0</td>\n",
       "      <td>0</td>\n",
       "      <td>0</td>\n",
       "      <td>78.28058</td>\n",
       "      <td>264.13775</td>\n",
       "      <td>18.33392</td>\n",
       "      <td>177.41790</td>\n",
       "      <td>1</td>\n",
       "      <td>2</td>\n",
       "      <td>0</td>\n",
       "      <td>0</td>\n",
       "      <td>0</td>\n",
       "    </tr>\n",
       "    <tr>\n",
       "      <th>1</th>\n",
       "      <td>1</td>\n",
       "      <td>1</td>\n",
       "      <td>0</td>\n",
       "      <td>0</td>\n",
       "      <td>2009</td>\n",
       "      <td>1</td>\n",
       "      <td>0</td>\n",
       "      <td>0</td>\n",
       "      <td>0</td>\n",
       "      <td>0</td>\n",
       "      <td>0</td>\n",
       "      <td>0</td>\n",
       "      <td>0</td>\n",
       "      <td>0</td>\n",
       "      <td>0</td>\n",
       "      <td>0</td>\n",
       "      <td>41.04437</td>\n",
       "      <td>108.71900</td>\n",
       "      <td>74.95821</td>\n",
       "      <td>141.64699</td>\n",
       "      <td>1</td>\n",
       "      <td>1</td>\n",
       "      <td>0</td>\n",
       "      <td>0</td>\n",
       "      <td>0</td>\n",
       "    </tr>\n",
       "    <tr>\n",
       "      <th>2</th>\n",
       "      <td>1</td>\n",
       "      <td>1</td>\n",
       "      <td>0</td>\n",
       "      <td>0</td>\n",
       "      <td>2008</td>\n",
       "      <td>1</td>\n",
       "      <td>0</td>\n",
       "      <td>0</td>\n",
       "      <td>0</td>\n",
       "      <td>0</td>\n",
       "      <td>0</td>\n",
       "      <td>0</td>\n",
       "      <td>0</td>\n",
       "      <td>0</td>\n",
       "      <td>0</td>\n",
       "      <td>0</td>\n",
       "      <td>-21.05141</td>\n",
       "      <td>106.41269</td>\n",
       "      <td>38.22901</td>\n",
       "      <td>11.95935</td>\n",
       "      <td>1</td>\n",
       "      <td>1</td>\n",
       "      <td>0</td>\n",
       "      <td>0</td>\n",
       "      <td>0</td>\n",
       "    </tr>\n",
       "    <tr>\n",
       "      <th>3</th>\n",
       "      <td>1</td>\n",
       "      <td>2</td>\n",
       "      <td>0</td>\n",
       "      <td>0</td>\n",
       "      <td>2002</td>\n",
       "      <td>1</td>\n",
       "      <td>0</td>\n",
       "      <td>0</td>\n",
       "      <td>0</td>\n",
       "      <td>0</td>\n",
       "      <td>0</td>\n",
       "      <td>0</td>\n",
       "      <td>0</td>\n",
       "      <td>0</td>\n",
       "      <td>0</td>\n",
       "      <td>0</td>\n",
       "      <td>46.94447</td>\n",
       "      <td>69.16849</td>\n",
       "      <td>62.87885</td>\n",
       "      <td>223.24717</td>\n",
       "      <td>1</td>\n",
       "      <td>4</td>\n",
       "      <td>1</td>\n",
       "      <td>0</td>\n",
       "      <td>0</td>\n",
       "    </tr>\n",
       "    <tr>\n",
       "      <th>4</th>\n",
       "      <td>3</td>\n",
       "      <td>1</td>\n",
       "      <td>0</td>\n",
       "      <td>0</td>\n",
       "      <td>1996</td>\n",
       "      <td>1</td>\n",
       "      <td>0</td>\n",
       "      <td>0</td>\n",
       "      <td>0</td>\n",
       "      <td>0</td>\n",
       "      <td>0</td>\n",
       "      <td>0</td>\n",
       "      <td>0</td>\n",
       "      <td>0</td>\n",
       "      <td>0</td>\n",
       "      <td>0</td>\n",
       "      <td>13.20446</td>\n",
       "      <td>83.33558</td>\n",
       "      <td>69.46803</td>\n",
       "      <td>321.21176</td>\n",
       "      <td>1</td>\n",
       "      <td>4</td>\n",
       "      <td>3</td>\n",
       "      <td>0</td>\n",
       "      <td>0</td>\n",
       "    </tr>\n",
       "  </tbody>\n",
       "</table>\n",
       "</div>"
      ],
      "text/plain": [
       "   Number of Stars  Number of Planets  Number of Moons  Circumbinary Flag  \\\n",
       "0                2                  1                0                  0   \n",
       "1                1                  1                0                  0   \n",
       "2                1                  1                0                  0   \n",
       "3                1                  2                0                  0   \n",
       "4                3                  1                0                  0   \n",
       "\n",
       "   Discovery Year  Detected by Radial Velocity Variations  \\\n",
       "0            2007                                       1   \n",
       "1            2009                                       1   \n",
       "2            2008                                       1   \n",
       "3            2002                                       1   \n",
       "4            1996                                       1   \n",
       "\n",
       "   Detected by Pulsar Timing Variations  \\\n",
       "0                                     0   \n",
       "1                                     0   \n",
       "2                                     0   \n",
       "3                                     0   \n",
       "4                                     0   \n",
       "\n",
       "   Detected by Pulsation Timing Variations  Detected by Transits  \\\n",
       "0                                        0                     0   \n",
       "1                                        0                     0   \n",
       "2                                        0                     0   \n",
       "3                                        0                     0   \n",
       "4                                        0                     0   \n",
       "\n",
       "   Detected by Astrometric Variations  \\\n",
       "0                                   0   \n",
       "1                                   0   \n",
       "2                                   0   \n",
       "3                                   0   \n",
       "4                                   0   \n",
       "\n",
       "   Detected by Orbital Brightness Modulations  Detected by Microlensing  \\\n",
       "0                                           0                         0   \n",
       "1                                           0                         0   \n",
       "2                                           0                         0   \n",
       "3                                           0                         0   \n",
       "4                                           0                         0   \n",
       "\n",
       "   Detected by Eclipse Timing Variations  Detected by Imaging  \\\n",
       "0                                      0                    0   \n",
       "1                                      0                    0   \n",
       "2                                      0                    0   \n",
       "3                                      0                    0   \n",
       "4                                      0                    0   \n",
       "\n",
       "   Detected by Disk Kinematics  Controversial Flag  Galactic Latitude [deg]  \\\n",
       "0                            0                   0                 78.28058   \n",
       "1                            0                   0                 41.04437   \n",
       "2                            0                   0                -21.05141   \n",
       "3                            0                   0                 46.94447   \n",
       "4                            0                   0                 13.20446   \n",
       "\n",
       "   Galactic Longitude [deg]  Ecliptic Latitude [deg]  \\\n",
       "0                 264.13775                 18.33392   \n",
       "1                 108.71900                 74.95821   \n",
       "2                 106.41269                 38.22901   \n",
       "3                  69.16849                 62.87885   \n",
       "4                  83.33558                 69.46803   \n",
       "\n",
       "   Ecliptic Longitude [deg]  Number of Photometry Time Series  \\\n",
       "0                 177.41790                                 1   \n",
       "1                 141.64699                                 1   \n",
       "2                  11.95935                                 1   \n",
       "3                 223.24717                                 1   \n",
       "4                 321.21176                                 1   \n",
       "\n",
       "   Number of Radial Velocity Time Series  \\\n",
       "0                                      2   \n",
       "1                                      1   \n",
       "2                                      1   \n",
       "3                                      4   \n",
       "4                                      4   \n",
       "\n",
       "   Number of Stellar Spectra Measurements  \\\n",
       "0                                       0   \n",
       "1                                       0   \n",
       "2                                       0   \n",
       "3                                       1   \n",
       "4                                       3   \n",
       "\n",
       "   Number of Emission Spectroscopy Measurements  \\\n",
       "0                                             0   \n",
       "1                                             0   \n",
       "2                                             0   \n",
       "3                                             0   \n",
       "4                                             0   \n",
       "\n",
       "   Number of Transmission Spectroscopy Measurements  \n",
       "0                                                 0  \n",
       "1                                                 0  \n",
       "2                                                 0  \n",
       "3                                                 0  \n",
       "4                                                 0  "
      ]
     },
     "execution_count": 2,
     "metadata": {},
     "output_type": "execute_result"
    }
   ],
   "source": [
    "composite_preprocessed = pd.read_csv('Composite_preprocessed_NO_MV.csv')\n",
    "pd.options.display.max_columns=None\n",
    "pd.options.display.max_rows=None\n",
    "composite_preprocessed.head()"
   ]
  },
  {
   "cell_type": "markdown",
   "id": "ce5ad038-088e-4e3e-acb9-105a0e0163f2",
   "metadata": {},
   "source": [
    "### We expect that half of these features will not have merit in predicting discovery method \n",
    "### Feature Analysis from the XGB model trained on the imbalanced, < 7% MV dataset told us these are the 5 features with most weight in the model:\n",
    "\n",
    "### TESS Magnitude\n",
    "### Ks (2MASS) Magnitude\n",
    "### Orbital Period Limit Flag\n",
    "### H (2MASS) Magnitude\n",
    "### Planet Radius (Earth Radius) \n"
   ]
  },
  {
   "cell_type": "code",
   "execution_count": 3,
   "id": "2a42a8f6-4f62-49f5-89c1-2da69698a621",
   "metadata": {},
   "outputs": [],
   "source": [
    "target_dummies = ['Detected by Radial Velocity Variations',\n",
    "           'Detected by Pulsar Timing Variations',\n",
    "           'Detected by Pulsation Timing Variations',\n",
    "           'Detected by Transits',\t\n",
    "           'Detected by Astrometric Variations',\n",
    "           'Detected by Orbital Brightness Modulations',\n",
    "           'Detected by Microlensing',\n",
    "           'Detected by Eclipse Timing Variations',\n",
    "           'Detected by Imaging',\n",
    "           'Detected by Disk Kinematics']"
   ]
  },
  {
   "cell_type": "code",
   "execution_count": 4,
   "id": "8a4b50d8-2199-40c4-b9dc-c393eeac8d87",
   "metadata": {},
   "outputs": [
    {
     "name": "stdout",
     "output_type": "stream",
     "text": [
      "<class 'pandas.core.frame.DataFrame'>\n",
      "Index: 4511 entries, 0 to 5601\n",
      "Data columns (total 25 columns):\n",
      " #   Column                                            Non-Null Count  Dtype  \n",
      "---  ------                                            --------------  -----  \n",
      " 0   Number of Stars                                   4511 non-null   int64  \n",
      " 1   Number of Planets                                 4511 non-null   int64  \n",
      " 2   Number of Moons                                   4511 non-null   int64  \n",
      " 3   Circumbinary Flag                                 4511 non-null   int64  \n",
      " 4   Discovery Year                                    4511 non-null   int64  \n",
      " 5   Detected by Radial Velocity Variations            4511 non-null   int64  \n",
      " 6   Detected by Pulsar Timing Variations              4511 non-null   int64  \n",
      " 7   Detected by Pulsation Timing Variations           4511 non-null   int64  \n",
      " 8   Detected by Transits                              4511 non-null   int64  \n",
      " 9   Detected by Astrometric Variations                4511 non-null   int64  \n",
      " 10  Detected by Orbital Brightness Modulations        4511 non-null   int64  \n",
      " 11  Detected by Microlensing                          4511 non-null   int64  \n",
      " 12  Detected by Eclipse Timing Variations             4511 non-null   int64  \n",
      " 13  Detected by Imaging                               4511 non-null   int64  \n",
      " 14  Detected by Disk Kinematics                       4511 non-null   int64  \n",
      " 15  Controversial Flag                                4511 non-null   int64  \n",
      " 16  Galactic Latitude [deg]                           4511 non-null   float64\n",
      " 17  Galactic Longitude [deg]                          4511 non-null   float64\n",
      " 18  Ecliptic Latitude [deg]                           4511 non-null   float64\n",
      " 19  Ecliptic Longitude [deg]                          4511 non-null   float64\n",
      " 20  Number of Photometry Time Series                  4511 non-null   int64  \n",
      " 21  Number of Radial Velocity Time Series             4511 non-null   int64  \n",
      " 22  Number of Stellar Spectra Measurements            4511 non-null   int64  \n",
      " 23  Number of Emission Spectroscopy Measurements      4511 non-null   int64  \n",
      " 24  Number of Transmission Spectroscopy Measurements  4511 non-null   int64  \n",
      "dtypes: float64(4), int64(21)\n",
      "memory usage: 916.3 KB\n"
     ]
    }
   ],
   "source": [
    "# drop rows with more than 1 discovery method before declaring features and targets\n",
    "# This is to successfully apply SMOTE and to avoid giving 1 discovery method importance over the other in these cases\n",
    "# classes are balanced using SMOTE regardless\n",
    "\n",
    "composite_preprocessed = composite_preprocessed[composite_preprocessed[target_dummies].sum(axis=1) <=1]\n",
    "composite_preprocessed.info()"
   ]
  },
  {
   "cell_type": "code",
   "execution_count": 5,
   "id": "a5e41455",
   "metadata": {},
   "outputs": [],
   "source": [
    "# we dropped around 1091 rows (19.5% reduction in dataset) but this doesn't mean model performance will be significantly affected\n",
    "features = composite_preprocessed.drop(target_dummies, axis=1)\n",
    "targets = composite_preprocessed[target_dummies]"
   ]
  },
  {
   "cell_type": "markdown",
   "id": "c400b50e-ab1d-4500-8af7-3ada64258cda",
   "metadata": {},
   "source": [
    "### for xgb boost, feature columns cannot include [, ] or <\n",
    "### so we will replace these characters"
   ]
  },
  {
   "cell_type": "code",
   "execution_count": 6,
   "id": "6fb11bd0-92f2-4ad6-a7dd-5f35c992f04a",
   "metadata": {},
   "outputs": [],
   "source": [
    "features.columns = features.columns.str.replace('[', '(').str.replace(']',')')"
   ]
  },
  {
   "cell_type": "markdown",
   "id": "2acd4bb9-5615-44d0-8697-4af1005134c6",
   "metadata": {},
   "source": [
    "## Split data into training and testing"
   ]
  },
  {
   "cell_type": "code",
   "execution_count": 7,
   "id": "3df43836-f551-410b-b3d8-6c1dd06032b8",
   "metadata": {},
   "outputs": [
    {
     "data": {
      "text/plain": [
       "((3608, 15), (3608, 10))"
      ]
     },
     "execution_count": 7,
     "metadata": {},
     "output_type": "execute_result"
    }
   ],
   "source": [
    "from sklearn.model_selection import train_test_split\n",
    "x_train, x_test, y_train, y_test = train_test_split(features,targets, train_size=0.8, random_state=42)\n",
    "x_train.shape, y_train.shape"
   ]
  },
  {
   "cell_type": "markdown",
   "id": "2724235e-2eff-41a3-b21d-1171c5074de6",
   "metadata": {},
   "source": [
    "## Apply SMOTE to balance the classes"
   ]
  },
  {
   "cell_type": "code",
   "execution_count": 8,
   "id": "ab75b5df-e71a-4cff-89e5-238dc1711903",
   "metadata": {},
   "outputs": [
    {
     "data": {
      "text/plain": [
       "Detected by Radial Velocity Variations         779\n",
       "Detected by Pulsar Timing Variations             6\n",
       "Detected by Pulsation Timing Variations          1\n",
       "Detected by Transits                          2587\n",
       "Detected by Astrometric Variations               2\n",
       "Detected by Orbital Brightness Modulations       3\n",
       "Detected by Microlensing                       162\n",
       "Detected by Eclipse Timing Variations           15\n",
       "Detected by Imaging                             45\n",
       "Detected by Disk Kinematics                      0\n",
       "dtype: int64"
      ]
     },
     "execution_count": 8,
     "metadata": {},
     "output_type": "execute_result"
    }
   ],
   "source": [
    "y_train.sum(axis=0)"
   ]
  },
  {
   "cell_type": "code",
   "execution_count": 9,
   "id": "119a9f47-dd41-48b7-a281-6e3695d2d23d",
   "metadata": {},
   "outputs": [],
   "source": [
    "from imblearn.over_sampling import SMOTE\n",
    "from sklearn.utils import column_or_1d\n",
    "import numpy as np\n",
    "\n",
    "# targets need to be 1d array for SMOTE\n",
    "\n",
    "\n",
    "y_train_binary = y_train.any(axis=1)\n",
    "\n",
    "smote = SMOTE(random_state=42)\n",
    "x_train_resampled, y_train_resampled = smote.fit_resample(x_train, y_train_binary)\n",
    "\n",
    "\n",
    "# we only balance the training data ; test data will remain unbalanced to get an unbiased estimate of the model's performance"
   ]
  },
  {
   "cell_type": "markdown",
   "id": "a5f187c2-0c27-415e-b87d-c0ee1b4946af",
   "metadata": {},
   "source": [
    "### Import and train the model"
   ]
  },
  {
   "cell_type": "code",
   "execution_count": 10,
   "id": "a7cf425a-da66-47d1-abcf-2bc11aecdb43",
   "metadata": {},
   "outputs": [],
   "source": [
    "# in this case we will use Extreme Gradient Boosting because it is flexible, tuneable, high performing and robust against missing values\n",
    "import xgboost as xgb\n",
    "from sklearn.metrics import accuracy_score, classification_report, precision_score, recall_score, f1_score"
   ]
  },
  {
   "cell_type": "code",
   "execution_count": 11,
   "id": "72d11071-84ed-4ab0-84ba-265758ae6c38",
   "metadata": {},
   "outputs": [
    {
     "data": {
      "text/html": [
       "<style>#sk-container-id-1 {color: black;background-color: white;}#sk-container-id-1 pre{padding: 0;}#sk-container-id-1 div.sk-toggleable {background-color: white;}#sk-container-id-1 label.sk-toggleable__label {cursor: pointer;display: block;width: 100%;margin-bottom: 0;padding: 0.3em;box-sizing: border-box;text-align: center;}#sk-container-id-1 label.sk-toggleable__label-arrow:before {content: \"▸\";float: left;margin-right: 0.25em;color: #696969;}#sk-container-id-1 label.sk-toggleable__label-arrow:hover:before {color: black;}#sk-container-id-1 div.sk-estimator:hover label.sk-toggleable__label-arrow:before {color: black;}#sk-container-id-1 div.sk-toggleable__content {max-height: 0;max-width: 0;overflow: hidden;text-align: left;background-color: #f0f8ff;}#sk-container-id-1 div.sk-toggleable__content pre {margin: 0.2em;color: black;border-radius: 0.25em;background-color: #f0f8ff;}#sk-container-id-1 input.sk-toggleable__control:checked~div.sk-toggleable__content {max-height: 200px;max-width: 100%;overflow: auto;}#sk-container-id-1 input.sk-toggleable__control:checked~label.sk-toggleable__label-arrow:before {content: \"▾\";}#sk-container-id-1 div.sk-estimator input.sk-toggleable__control:checked~label.sk-toggleable__label {background-color: #d4ebff;}#sk-container-id-1 div.sk-label input.sk-toggleable__control:checked~label.sk-toggleable__label {background-color: #d4ebff;}#sk-container-id-1 input.sk-hidden--visually {border: 0;clip: rect(1px 1px 1px 1px);clip: rect(1px, 1px, 1px, 1px);height: 1px;margin: -1px;overflow: hidden;padding: 0;position: absolute;width: 1px;}#sk-container-id-1 div.sk-estimator {font-family: monospace;background-color: #f0f8ff;border: 1px dotted black;border-radius: 0.25em;box-sizing: border-box;margin-bottom: 0.5em;}#sk-container-id-1 div.sk-estimator:hover {background-color: #d4ebff;}#sk-container-id-1 div.sk-parallel-item::after {content: \"\";width: 100%;border-bottom: 1px solid gray;flex-grow: 1;}#sk-container-id-1 div.sk-label:hover label.sk-toggleable__label {background-color: #d4ebff;}#sk-container-id-1 div.sk-serial::before {content: \"\";position: absolute;border-left: 1px solid gray;box-sizing: border-box;top: 0;bottom: 0;left: 50%;z-index: 0;}#sk-container-id-1 div.sk-serial {display: flex;flex-direction: column;align-items: center;background-color: white;padding-right: 0.2em;padding-left: 0.2em;position: relative;}#sk-container-id-1 div.sk-item {position: relative;z-index: 1;}#sk-container-id-1 div.sk-parallel {display: flex;align-items: stretch;justify-content: center;background-color: white;position: relative;}#sk-container-id-1 div.sk-item::before, #sk-container-id-1 div.sk-parallel-item::before {content: \"\";position: absolute;border-left: 1px solid gray;box-sizing: border-box;top: 0;bottom: 0;left: 50%;z-index: -1;}#sk-container-id-1 div.sk-parallel-item {display: flex;flex-direction: column;z-index: 1;position: relative;background-color: white;}#sk-container-id-1 div.sk-parallel-item:first-child::after {align-self: flex-end;width: 50%;}#sk-container-id-1 div.sk-parallel-item:last-child::after {align-self: flex-start;width: 50%;}#sk-container-id-1 div.sk-parallel-item:only-child::after {width: 0;}#sk-container-id-1 div.sk-dashed-wrapped {border: 1px dashed gray;margin: 0 0.4em 0.5em 0.4em;box-sizing: border-box;padding-bottom: 0.4em;background-color: white;}#sk-container-id-1 div.sk-label label {font-family: monospace;font-weight: bold;display: inline-block;line-height: 1.2em;}#sk-container-id-1 div.sk-label-container {text-align: center;}#sk-container-id-1 div.sk-container {/* jupyter's `normalize.less` sets `[hidden] { display: none; }` but bootstrap.min.css set `[hidden] { display: none !important; }` so we also need the `!important` here to be able to override the default hidden behavior on the sphinx rendered scikit-learn.org. See: https://github.com/scikit-learn/scikit-learn/issues/21755 */display: inline-block !important;position: relative;}#sk-container-id-1 div.sk-text-repr-fallback {display: none;}</style><div id=\"sk-container-id-1\" class=\"sk-top-container\"><div class=\"sk-text-repr-fallback\"><pre>XGBClassifier(base_score=None, booster=None, callbacks=None,\n",
       "              colsample_bylevel=None, colsample_bynode=None,\n",
       "              colsample_bytree=None, early_stopping_rounds=None,\n",
       "              enable_categorical=False, eval_metric=None, feature_types=None,\n",
       "              gamma=None, gpu_id=None, grow_policy=None, importance_type=None,\n",
       "              interaction_constraints=None, learning_rate=None, max_bin=None,\n",
       "              max_cat_threshold=None, max_cat_to_onehot=None,\n",
       "              max_delta_step=None, max_depth=None, max_leaves=None,\n",
       "              min_child_weight=None, missing=nan, monotone_constraints=None,\n",
       "              n_estimators=100, n_jobs=None, num_parallel_tree=None,\n",
       "              predictor=None, random_state=None, ...)</pre><b>In a Jupyter environment, please rerun this cell to show the HTML representation or trust the notebook. <br />On GitHub, the HTML representation is unable to render, please try loading this page with nbviewer.org.</b></div><div class=\"sk-container\" hidden><div class=\"sk-item\"><div class=\"sk-estimator sk-toggleable\"><input class=\"sk-toggleable__control sk-hidden--visually\" id=\"sk-estimator-id-1\" type=\"checkbox\" checked><label for=\"sk-estimator-id-1\" class=\"sk-toggleable__label sk-toggleable__label-arrow\">XGBClassifier</label><div class=\"sk-toggleable__content\"><pre>XGBClassifier(base_score=None, booster=None, callbacks=None,\n",
       "              colsample_bylevel=None, colsample_bynode=None,\n",
       "              colsample_bytree=None, early_stopping_rounds=None,\n",
       "              enable_categorical=False, eval_metric=None, feature_types=None,\n",
       "              gamma=None, gpu_id=None, grow_policy=None, importance_type=None,\n",
       "              interaction_constraints=None, learning_rate=None, max_bin=None,\n",
       "              max_cat_threshold=None, max_cat_to_onehot=None,\n",
       "              max_delta_step=None, max_depth=None, max_leaves=None,\n",
       "              min_child_weight=None, missing=nan, monotone_constraints=None,\n",
       "              n_estimators=100, n_jobs=None, num_parallel_tree=None,\n",
       "              predictor=None, random_state=None, ...)</pre></div></div></div></div></div>"
      ],
      "text/plain": [
       "XGBClassifier(base_score=None, booster=None, callbacks=None,\n",
       "              colsample_bylevel=None, colsample_bynode=None,\n",
       "              colsample_bytree=None, early_stopping_rounds=None,\n",
       "              enable_categorical=False, eval_metric=None, feature_types=None,\n",
       "              gamma=None, gpu_id=None, grow_policy=None, importance_type=None,\n",
       "              interaction_constraints=None, learning_rate=None, max_bin=None,\n",
       "              max_cat_threshold=None, max_cat_to_onehot=None,\n",
       "              max_delta_step=None, max_depth=None, max_leaves=None,\n",
       "              min_child_weight=None, missing=nan, monotone_constraints=None,\n",
       "              n_estimators=100, n_jobs=None, num_parallel_tree=None,\n",
       "              predictor=None, random_state=None, ...)"
      ]
     },
     "execution_count": 11,
     "metadata": {},
     "output_type": "execute_result"
    }
   ],
   "source": [
    "xgb_classifier = xgb.XGBClassifier()\n",
    "xgb_classifier.fit(x_train_resampled, y_train_resampled)"
   ]
  },
  {
   "cell_type": "markdown",
   "id": "7c3c749c-1f7c-475e-bf59-222633bf2bdc",
   "metadata": {},
   "source": [
    "## Model prediction and accuracy"
   ]
  },
  {
   "cell_type": "code",
   "execution_count": 12,
   "id": "d8e5fe1d-6d38-40ae-a4d3-44bfb09f81e7",
   "metadata": {},
   "outputs": [
    {
     "data": {
      "text/plain": [
       "0.9889258028792912"
      ]
     },
     "execution_count": 12,
     "metadata": {},
     "output_type": "execute_result"
    }
   ],
   "source": [
    "y_pred = xgb_classifier.predict(x_test)\n",
    "\n",
    "y_test_binary = y_test.any(axis=1)\n",
    "accuracy= accuracy_score(y_test_binary,y_pred)\n",
    "accuracy "
   ]
  },
  {
   "cell_type": "code",
   "execution_count": 13,
   "id": "363346c8-4064-4ba1-a614-87886f365cbf",
   "metadata": {},
   "outputs": [
    {
     "name": "stdout",
     "output_type": "stream",
     "text": [
      "              precision    recall  f1-score   support\n",
      "\n",
      "       False     0.1111    0.3333    0.1667         3\n",
      "        True     0.9978    0.9911    0.9944       900\n",
      "\n",
      "    accuracy                         0.9889       903\n",
      "   macro avg     0.5544    0.6622    0.5805       903\n",
      "weighted avg     0.9948    0.9889    0.9917       903\n",
      "\n"
     ]
    }
   ],
   "source": [
    "clf_rep = classification_report(y_test_binary,y_pred, zero_division=1, digits=4)\n",
    "print(clf_rep)"
   ]
  },
  {
   "cell_type": "markdown",
   "id": "45226390-1a5c-40a3-bcb6-967f5dc94bca",
   "metadata": {},
   "source": [
    "## XGB Classifier Model Evaluation (weighted average values accounts for class imbalances)\n",
    "### Accuracy: 94.55%\n",
    "### Precision: 97.54%\n",
    "### Recall: 97.54% \n",
    "### F1: 97.40%\n",
    "### Support: Represents the number of actual occurrences of each class in the dataset (provides context on the size of each class)\n",
    "### Classes with higher support values typically have more influence on the overall evaluation metrics, while classes with lower support values may have less impact, especially in imbalanced datasets"
   ]
  },
  {
   "cell_type": "markdown",
   "id": "5e4be7f4-c118-4e0c-9f44-a987fcba151d",
   "metadata": {},
   "source": [
    "### Overall, while the model shows good performance for most classes, it struggles to correctly predict class 1, resulting in poor precision, recall, and F1-score for that class."
   ]
  },
  {
   "cell_type": "markdown",
   "id": "9089edc6-db53-43e2-a249-c2e3aab37ce2",
   "metadata": {},
   "source": [
    "# Extract and Plot Feature Importance"
   ]
  },
  {
   "cell_type": "code",
   "execution_count": 14,
   "id": "c0835323-6cba-40ff-8710-07d85f80f46c",
   "metadata": {},
   "outputs": [
    {
     "data": {
      "text/html": [
       "<div>\n",
       "<style scoped>\n",
       "    .dataframe tbody tr th:only-of-type {\n",
       "        vertical-align: middle;\n",
       "    }\n",
       "\n",
       "    .dataframe tbody tr th {\n",
       "        vertical-align: top;\n",
       "    }\n",
       "\n",
       "    .dataframe thead th {\n",
       "        text-align: right;\n",
       "    }\n",
       "</style>\n",
       "<table border=\"1\" class=\"dataframe\">\n",
       "  <thead>\n",
       "    <tr style=\"text-align: right;\">\n",
       "      <th></th>\n",
       "      <th>Feature</th>\n",
       "      <th>Weight</th>\n",
       "    </tr>\n",
       "  </thead>\n",
       "  <tbody>\n",
       "    <tr>\n",
       "      <th>1</th>\n",
       "      <td>Number of Planets</td>\n",
       "      <td>0.629835</td>\n",
       "    </tr>\n",
       "    <tr>\n",
       "      <th>9</th>\n",
       "      <td>Ecliptic Longitude (deg)</td>\n",
       "      <td>0.127668</td>\n",
       "    </tr>\n",
       "    <tr>\n",
       "      <th>4</th>\n",
       "      <td>Discovery Year</td>\n",
       "      <td>0.100586</td>\n",
       "    </tr>\n",
       "    <tr>\n",
       "      <th>0</th>\n",
       "      <td>Number of Stars</td>\n",
       "      <td>0.074747</td>\n",
       "    </tr>\n",
       "    <tr>\n",
       "      <th>6</th>\n",
       "      <td>Galactic Latitude (deg)</td>\n",
       "      <td>0.026086</td>\n",
       "    </tr>\n",
       "    <tr>\n",
       "      <th>7</th>\n",
       "      <td>Galactic Longitude (deg)</td>\n",
       "      <td>0.021487</td>\n",
       "    </tr>\n",
       "    <tr>\n",
       "      <th>8</th>\n",
       "      <td>Ecliptic Latitude (deg)</td>\n",
       "      <td>0.019591</td>\n",
       "    </tr>\n",
       "    <tr>\n",
       "      <th>2</th>\n",
       "      <td>Number of Moons</td>\n",
       "      <td>0.000000</td>\n",
       "    </tr>\n",
       "    <tr>\n",
       "      <th>3</th>\n",
       "      <td>Circumbinary Flag</td>\n",
       "      <td>0.000000</td>\n",
       "    </tr>\n",
       "    <tr>\n",
       "      <th>5</th>\n",
       "      <td>Controversial Flag</td>\n",
       "      <td>0.000000</td>\n",
       "    </tr>\n",
       "    <tr>\n",
       "      <th>10</th>\n",
       "      <td>Number of Photometry Time Series</td>\n",
       "      <td>0.000000</td>\n",
       "    </tr>\n",
       "    <tr>\n",
       "      <th>11</th>\n",
       "      <td>Number of Radial Velocity Time Series</td>\n",
       "      <td>0.000000</td>\n",
       "    </tr>\n",
       "    <tr>\n",
       "      <th>12</th>\n",
       "      <td>Number of Stellar Spectra Measurements</td>\n",
       "      <td>0.000000</td>\n",
       "    </tr>\n",
       "    <tr>\n",
       "      <th>13</th>\n",
       "      <td>Number of Emission Spectroscopy Measurements</td>\n",
       "      <td>0.000000</td>\n",
       "    </tr>\n",
       "    <tr>\n",
       "      <th>14</th>\n",
       "      <td>Number of Transmission Spectroscopy Measurements</td>\n",
       "      <td>0.000000</td>\n",
       "    </tr>\n",
       "  </tbody>\n",
       "</table>\n",
       "</div>"
      ],
      "text/plain": [
       "                                             Feature    Weight\n",
       "1                                  Number of Planets  0.629835\n",
       "9                           Ecliptic Longitude (deg)  0.127668\n",
       "4                                     Discovery Year  0.100586\n",
       "0                                    Number of Stars  0.074747\n",
       "6                            Galactic Latitude (deg)  0.026086\n",
       "7                           Galactic Longitude (deg)  0.021487\n",
       "8                            Ecliptic Latitude (deg)  0.019591\n",
       "2                                    Number of Moons  0.000000\n",
       "3                                  Circumbinary Flag  0.000000\n",
       "5                                 Controversial Flag  0.000000\n",
       "10                  Number of Photometry Time Series  0.000000\n",
       "11             Number of Radial Velocity Time Series  0.000000\n",
       "12            Number of Stellar Spectra Measurements  0.000000\n",
       "13      Number of Emission Spectroscopy Measurements  0.000000\n",
       "14  Number of Transmission Spectroscopy Measurements  0.000000"
      ]
     },
     "execution_count": 14,
     "metadata": {},
     "output_type": "execute_result"
    }
   ],
   "source": [
    "import matplotlib.pyplot as plt\n",
    "\n",
    "feature_importance = xgb_classifier.feature_importances_\n",
    "feature_names = x_train.columns\n",
    "\n",
    "# set it up as a dataframe\n",
    "feature_importance_df = pd.DataFrame({'Feature': feature_names, 'Weight': feature_importance})\n",
    "\n",
    "# sort by importance\n",
    "feature_importance_df = feature_importance_df.sort_values(by= 'Weight', ascending=False)\n",
    "\n",
    "feature_importance_df"
   ]
  },
  {
   "cell_type": "code",
   "execution_count": 15,
   "id": "8443c8cc-a5c5-4dc4-bcac-5a037115c262",
   "metadata": {},
   "outputs": [
    {
     "data": {
      "image/png": "[encoded data removed]",
      "text/plain": [
       "<Figure size 1000x800 with 1 Axes>"
      ]
     },
     "metadata": {},
     "output_type": "display_data"
    }
   ],
   "source": [
    "# Plot features by importance ; top 40 to fit in graph\n",
    "n = 40\n",
    "plt.figure(figsize=(10,8))\n",
    "plt.barh(feature_importance_df['Feature'][:n], feature_importance_df['Weight'][:n])\n",
    "plt.xlabel('Feature')\n",
    "plt.ylabel('Weight')\n",
    "plt.title('Feature vs Weight')\n",
    "plt.show()"
   ]
  },
  {
   "cell_type": "markdown",
   "id": "f5346fe7-8eb3-4b3e-95b2-996ce69be494",
   "metadata": {},
   "source": [
    "## The Feature Importance Plot suggests that the top 5 features with most weight in the xgb model and dataset with MV are:\n",
    "### TESS Magnitude\n",
    "### Ks (2MASS) Magnitude\n",
    "### Orbital Period Limit Flag\n",
    "### H (2MASS) Magnitude\n",
    "### Planet Radius (Earth Radius) "
   ]
  }
 ],
 "metadata": {
  "kernelspec": {
   "display_name": "Python (py310_ds)",
   "language": "python",
   "name": "myenv"
  },
  "language_info": {
   "codemirror_mode": {
    "name": "ipython",
    "version": 3
   },
   "file_extension": ".py",
   "mimetype": "text/x-python",
   "name": "python",
   "nbconvert_exporter": "python",
   "pygments_lexer": "ipython3",
   "version": "3.10.14"
  }
 },
 "nbformat": 4,
 "nbformat_minor": 5
}
