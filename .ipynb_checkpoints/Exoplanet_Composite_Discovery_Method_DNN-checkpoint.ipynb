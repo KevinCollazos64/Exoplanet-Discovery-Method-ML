{
 "cells": [
  {
   "cell_type": "markdown",
   "metadata": {},
   "source": [
    "# Deep Neural Network for Exoplanet Discovery Method Classification\n",
    "## Identifying Patterns in Exoplanet Characteristics to Determine Discovery Methods"
   ]
  },
  {
   "cell_type": "code",
   "execution_count": 1,
   "metadata": {},
   "outputs": [],
   "source": [
    "import numpy as np\n",
    "import tensorflow as tf\n",
    "import pandas as pd"
   ]
  },
  {
   "cell_type": "markdown",
   "metadata": {},
   "source": [
    "## Data"
   ]
  },
  {
   "cell_type": "code",
   "execution_count": 2,
   "metadata": {
    "scrolled": true
   },
   "outputs": [
    {
     "data": {
      "text/html": [
       "<div>\n",
       "<style scoped>\n",
       "    .dataframe tbody tr th:only-of-type {\n",
       "        vertical-align: middle;\n",
       "    }\n",
       "\n",
       "    .dataframe tbody tr th {\n",
       "        vertical-align: top;\n",
       "    }\n",
       "\n",
       "    .dataframe thead th {\n",
       "        text-align: right;\n",
       "    }\n",
       "</style>\n",
       "<table border=\"1\" class=\"dataframe\">\n",
       "  <thead>\n",
       "    <tr style=\"text-align: right;\">\n",
       "      <th></th>\n",
       "      <th>Number of Stars</th>\n",
       "      <th>Number of Planets</th>\n",
       "      <th>Number of Moons</th>\n",
       "      <th>Galactic Latitude [deg]</th>\n",
       "      <th>Galactic Longitude [deg]</th>\n",
       "      <th>Ecliptic Latitude [deg]</th>\n",
       "      <th>Ecliptic Longitude [deg]</th>\n",
       "      <th>Number of Photometry Time Series</th>\n",
       "      <th>Number of Radial Velocity Time Series</th>\n",
       "      <th>Number of Stellar Spectra Measurements</th>\n",
       "      <th>Number of Emission Spectroscopy Measurements</th>\n",
       "      <th>Number of Transmission Spectroscopy Measurements</th>\n",
       "      <th>Circumbinary Flag</th>\n",
       "      <th>Controversial Flag</th>\n",
       "      <th>Discovery Year</th>\n",
       "      <th>Detected by Transits</th>\n",
       "    </tr>\n",
       "  </thead>\n",
       "  <tbody>\n",
       "    <tr>\n",
       "      <th>0</th>\n",
       "      <td>3.094076</td>\n",
       "      <td>-0.666894</td>\n",
       "      <td>0.0</td>\n",
       "      <td>2.424559</td>\n",
       "      <td>1.234306</td>\n",
       "      <td>-0.145901</td>\n",
       "      <td>-0.624689</td>\n",
       "      <td>0.613405</td>\n",
       "      <td>1.731519</td>\n",
       "      <td>-0.261600</td>\n",
       "      <td>-0.012466</td>\n",
       "      <td>-0.044364</td>\n",
       "      <td>0</td>\n",
       "      <td>0</td>\n",
       "      <td>2007</td>\n",
       "      <td>0</td>\n",
       "    </tr>\n",
       "    <tr>\n",
       "      <th>1</th>\n",
       "      <td>-0.256668</td>\n",
       "      <td>-0.666894</td>\n",
       "      <td>0.0</td>\n",
       "      <td>1.186720</td>\n",
       "      <td>-0.283545</td>\n",
       "      <td>1.148661</td>\n",
       "      <td>-0.992906</td>\n",
       "      <td>0.613405</td>\n",
       "      <td>0.729626</td>\n",
       "      <td>-0.261600</td>\n",
       "      <td>-0.012466</td>\n",
       "      <td>-0.044364</td>\n",
       "      <td>0</td>\n",
       "      <td>0</td>\n",
       "      <td>2009</td>\n",
       "      <td>0</td>\n",
       "    </tr>\n",
       "    <tr>\n",
       "      <th>2</th>\n",
       "      <td>-0.256668</td>\n",
       "      <td>-0.666894</td>\n",
       "      <td>0.0</td>\n",
       "      <td>-0.877523</td>\n",
       "      <td>-0.306068</td>\n",
       "      <td>0.308947</td>\n",
       "      <td>-2.327878</td>\n",
       "      <td>0.613405</td>\n",
       "      <td>0.729626</td>\n",
       "      <td>-0.261600</td>\n",
       "      <td>-0.012466</td>\n",
       "      <td>-0.044364</td>\n",
       "      <td>0</td>\n",
       "      <td>0</td>\n",
       "      <td>2008</td>\n",
       "      <td>0</td>\n",
       "    </tr>\n",
       "    <tr>\n",
       "      <th>3</th>\n",
       "      <td>-0.256668</td>\n",
       "      <td>0.216988</td>\n",
       "      <td>0.0</td>\n",
       "      <td>1.382856</td>\n",
       "      <td>-0.669803</td>\n",
       "      <td>0.872499</td>\n",
       "      <td>-0.152934</td>\n",
       "      <td>0.613405</td>\n",
       "      <td>3.735304</td>\n",
       "      <td>0.591749</td>\n",
       "      <td>-0.012466</td>\n",
       "      <td>-0.044364</td>\n",
       "      <td>0</td>\n",
       "      <td>0</td>\n",
       "      <td>2002</td>\n",
       "      <td>0</td>\n",
       "    </tr>\n",
       "    <tr>\n",
       "      <th>4</th>\n",
       "      <td>6.444820</td>\n",
       "      <td>-0.666894</td>\n",
       "      <td>0.0</td>\n",
       "      <td>0.261241</td>\n",
       "      <td>-0.531444</td>\n",
       "      <td>1.023143</td>\n",
       "      <td>0.855489</td>\n",
       "      <td>0.613405</td>\n",
       "      <td>3.735304</td>\n",
       "      <td>2.298449</td>\n",
       "      <td>-0.012466</td>\n",
       "      <td>-0.044364</td>\n",
       "      <td>0</td>\n",
       "      <td>0</td>\n",
       "      <td>1996</td>\n",
       "      <td>0</td>\n",
       "    </tr>\n",
       "  </tbody>\n",
       "</table>\n",
       "</div>"
      ],
      "text/plain": [
       "   Number of Stars  Number of Planets  Number of Moons  \\\n",
       "0         3.094076          -0.666894              0.0   \n",
       "1        -0.256668          -0.666894              0.0   \n",
       "2        -0.256668          -0.666894              0.0   \n",
       "3        -0.256668           0.216988              0.0   \n",
       "4         6.444820          -0.666894              0.0   \n",
       "\n",
       "   Galactic Latitude [deg]  Galactic Longitude [deg]  Ecliptic Latitude [deg]  \\\n",
       "0                 2.424559                  1.234306                -0.145901   \n",
       "1                 1.186720                 -0.283545                 1.148661   \n",
       "2                -0.877523                 -0.306068                 0.308947   \n",
       "3                 1.382856                 -0.669803                 0.872499   \n",
       "4                 0.261241                 -0.531444                 1.023143   \n",
       "\n",
       "   Ecliptic Longitude [deg]  Number of Photometry Time Series  \\\n",
       "0                 -0.624689                          0.613405   \n",
       "1                 -0.992906                          0.613405   \n",
       "2                 -2.327878                          0.613405   \n",
       "3                 -0.152934                          0.613405   \n",
       "4                  0.855489                          0.613405   \n",
       "\n",
       "   Number of Radial Velocity Time Series  \\\n",
       "0                               1.731519   \n",
       "1                               0.729626   \n",
       "2                               0.729626   \n",
       "3                               3.735304   \n",
       "4                               3.735304   \n",
       "\n",
       "   Number of Stellar Spectra Measurements  \\\n",
       "0                               -0.261600   \n",
       "1                               -0.261600   \n",
       "2                               -0.261600   \n",
       "3                                0.591749   \n",
       "4                                2.298449   \n",
       "\n",
       "   Number of Emission Spectroscopy Measurements  \\\n",
       "0                                     -0.012466   \n",
       "1                                     -0.012466   \n",
       "2                                     -0.012466   \n",
       "3                                     -0.012466   \n",
       "4                                     -0.012466   \n",
       "\n",
       "   Number of Transmission Spectroscopy Measurements  Circumbinary Flag  \\\n",
       "0                                         -0.044364                  0   \n",
       "1                                         -0.044364                  0   \n",
       "2                                         -0.044364                  0   \n",
       "3                                         -0.044364                  0   \n",
       "4                                         -0.044364                  0   \n",
       "\n",
       "   Controversial Flag  Discovery Year  Detected by Transits  \n",
       "0                   0            2007                     0  \n",
       "1                   0            2009                     0  \n",
       "2                   0            2008                     0  \n",
       "3                   0            2002                     0  \n",
       "4                   0            1996                     0  "
      ]
     },
     "execution_count": 2,
     "metadata": {},
     "output_type": "execute_result"
    }
   ],
   "source": [
    "# data is already preprocessed\n",
    "\n",
    "composite_preprocessed = pd.read_csv('Composite_preprocessed_NO_MV_BALANCED.csv')\n",
    "composite_preprocessed.head()"
   ]
  },
  {
   "cell_type": "markdown",
   "metadata": {},
   "source": [
    "### 2 possible results ; Either the exoplanet was discovered by transits (1) or it wasn't (0) ; binary classification\n",
    "### so we have 1 neuron in the output layer  \n",
    "### We will use the features from the XGBoost refined features model \n",
    "### This ensures consistency, reduces complexity, and leverages the feature selection process that has already been validated with my refined features XGBoost model\n",
    "### This would also allow for a fair comparison between models and is likely to result in better performance for the DNN"
   ]
  },
  {
   "cell_type": "markdown",
   "metadata": {},
   "source": [
    "## Remove unimportant features\n",
    "### From the logistic regression model, 'Number of Moons' can be excluded because it does not provide value to the model"
   ]
  },
  {
   "cell_type": "code",
   "execution_count": 3,
   "metadata": {},
   "outputs": [],
   "source": [
    "remove = ['Number of Radial Velocity Time Series',\n",
    "          'Number of Stellar Spectra Measurements',\n",
    "          'Controversial Flag',\n",
    "          'Circumbinary Flag',\n",
    "          'Number of Moons']\n",
    "\n",
    "composite_unnecessary_removed = composite_preprocessed.drop(remove, axis=1)"
   ]
  },
  {
   "cell_type": "markdown",
   "metadata": {},
   "source": [
    "## Train Test Split"
   ]
  },
  {
   "cell_type": "code",
   "execution_count": 4,
   "metadata": {},
   "outputs": [],
   "source": [
    "# we are trying to predict whether an exoplanet has been detected by transits (0 or 1)\n",
    "\n",
    "targets = composite_unnecessary_removed['Detected by Transits']\n",
    "\n",
    "# training features are all variables except the targets\n",
    "\n",
    "features = composite_unnecessary_removed.drop(['Detected by Transits'], axis=1)"
   ]
  },
  {
   "cell_type": "markdown",
   "metadata": {},
   "source": [
    "## Observe Feature Correlations"
   ]
  },
  {
   "cell_type": "code",
   "execution_count": 5,
   "metadata": {},
   "outputs": [
    {
     "data": {
      "text/html": [
       "<div>\n",
       "<style scoped>\n",
       "    .dataframe tbody tr th:only-of-type {\n",
       "        vertical-align: middle;\n",
       "    }\n",
       "\n",
       "    .dataframe tbody tr th {\n",
       "        vertical-align: top;\n",
       "    }\n",
       "\n",
       "    .dataframe thead th {\n",
       "        text-align: right;\n",
       "    }\n",
       "</style>\n",
       "<table border=\"1\" class=\"dataframe\">\n",
       "  <thead>\n",
       "    <tr style=\"text-align: right;\">\n",
       "      <th></th>\n",
       "      <th>Number of Stars</th>\n",
       "      <th>Number of Planets</th>\n",
       "      <th>Galactic Latitude [deg]</th>\n",
       "      <th>Galactic Longitude [deg]</th>\n",
       "      <th>Ecliptic Latitude [deg]</th>\n",
       "      <th>Ecliptic Longitude [deg]</th>\n",
       "      <th>Number of Photometry Time Series</th>\n",
       "      <th>Number of Emission Spectroscopy Measurements</th>\n",
       "      <th>Number of Transmission Spectroscopy Measurements</th>\n",
       "      <th>Discovery Year</th>\n",
       "    </tr>\n",
       "  </thead>\n",
       "  <tbody>\n",
       "    <tr>\n",
       "      <th>Number of Stars</th>\n",
       "      <td>1.000000</td>\n",
       "      <td>0.109074</td>\n",
       "      <td>-0.044988</td>\n",
       "      <td>0.104236</td>\n",
       "      <td>-0.087528</td>\n",
       "      <td>-0.069450</td>\n",
       "      <td>0.057734</td>\n",
       "      <td>-0.003200</td>\n",
       "      <td>-0.002096</td>\n",
       "      <td>-0.147575</td>\n",
       "    </tr>\n",
       "    <tr>\n",
       "      <th>Number of Planets</th>\n",
       "      <td>0.109074</td>\n",
       "      <td>1.000000</td>\n",
       "      <td>-0.055511</td>\n",
       "      <td>0.008589</td>\n",
       "      <td>0.026680</td>\n",
       "      <td>-0.023926</td>\n",
       "      <td>-0.002505</td>\n",
       "      <td>0.057797</td>\n",
       "      <td>0.076409</td>\n",
       "      <td>-0.072274</td>\n",
       "    </tr>\n",
       "    <tr>\n",
       "      <th>Galactic Latitude [deg]</th>\n",
       "      <td>-0.044988</td>\n",
       "      <td>-0.055511</td>\n",
       "      <td>1.000000</td>\n",
       "      <td>-0.019213</td>\n",
       "      <td>0.463063</td>\n",
       "      <td>0.174632</td>\n",
       "      <td>-0.090369</td>\n",
       "      <td>-0.025691</td>\n",
       "      <td>-0.008918</td>\n",
       "      <td>0.031820</td>\n",
       "    </tr>\n",
       "    <tr>\n",
       "      <th>Galactic Longitude [deg]</th>\n",
       "      <td>0.104236</td>\n",
       "      <td>0.008589</td>\n",
       "      <td>-0.019213</td>\n",
       "      <td>1.000000</td>\n",
       "      <td>-0.657044</td>\n",
       "      <td>-0.408779</td>\n",
       "      <td>0.131333</td>\n",
       "      <td>-0.008283</td>\n",
       "      <td>-0.026088</td>\n",
       "      <td>-0.106558</td>\n",
       "    </tr>\n",
       "    <tr>\n",
       "      <th>Ecliptic Latitude [deg]</th>\n",
       "      <td>-0.087528</td>\n",
       "      <td>0.026680</td>\n",
       "      <td>0.463063</td>\n",
       "      <td>-0.657044</td>\n",
       "      <td>1.000000</td>\n",
       "      <td>0.498442</td>\n",
       "      <td>-0.222283</td>\n",
       "      <td>-0.006864</td>\n",
       "      <td>0.025212</td>\n",
       "      <td>0.081113</td>\n",
       "    </tr>\n",
       "    <tr>\n",
       "      <th>Ecliptic Longitude [deg]</th>\n",
       "      <td>-0.069450</td>\n",
       "      <td>-0.023926</td>\n",
       "      <td>0.174632</td>\n",
       "      <td>-0.408779</td>\n",
       "      <td>0.498442</td>\n",
       "      <td>1.000000</td>\n",
       "      <td>-0.119612</td>\n",
       "      <td>0.013811</td>\n",
       "      <td>0.031078</td>\n",
       "      <td>0.058041</td>\n",
       "    </tr>\n",
       "    <tr>\n",
       "      <th>Number of Photometry Time Series</th>\n",
       "      <td>0.057734</td>\n",
       "      <td>-0.002505</td>\n",
       "      <td>-0.090369</td>\n",
       "      <td>0.131333</td>\n",
       "      <td>-0.222283</td>\n",
       "      <td>-0.119612</td>\n",
       "      <td>1.000000</td>\n",
       "      <td>-0.004172</td>\n",
       "      <td>-0.014848</td>\n",
       "      <td>-0.252983</td>\n",
       "    </tr>\n",
       "    <tr>\n",
       "      <th>Number of Emission Spectroscopy Measurements</th>\n",
       "      <td>-0.003200</td>\n",
       "      <td>0.057797</td>\n",
       "      <td>-0.025691</td>\n",
       "      <td>-0.008283</td>\n",
       "      <td>-0.006864</td>\n",
       "      <td>0.013811</td>\n",
       "      <td>-0.004172</td>\n",
       "      <td>1.000000</td>\n",
       "      <td>-0.000553</td>\n",
       "      <td>0.000791</td>\n",
       "    </tr>\n",
       "    <tr>\n",
       "      <th>Number of Transmission Spectroscopy Measurements</th>\n",
       "      <td>-0.002096</td>\n",
       "      <td>0.076409</td>\n",
       "      <td>-0.008918</td>\n",
       "      <td>-0.026088</td>\n",
       "      <td>0.025212</td>\n",
       "      <td>0.031078</td>\n",
       "      <td>-0.014848</td>\n",
       "      <td>-0.000553</td>\n",
       "      <td>1.000000</td>\n",
       "      <td>-0.015425</td>\n",
       "    </tr>\n",
       "    <tr>\n",
       "      <th>Discovery Year</th>\n",
       "      <td>-0.147575</td>\n",
       "      <td>-0.072274</td>\n",
       "      <td>0.031820</td>\n",
       "      <td>-0.106558</td>\n",
       "      <td>0.081113</td>\n",
       "      <td>0.058041</td>\n",
       "      <td>-0.252983</td>\n",
       "      <td>0.000791</td>\n",
       "      <td>-0.015425</td>\n",
       "      <td>1.000000</td>\n",
       "    </tr>\n",
       "  </tbody>\n",
       "</table>\n",
       "</div>"
      ],
      "text/plain": [
       "                                                  Number of Stars  \\\n",
       "Number of Stars                                          1.000000   \n",
       "Number of Planets                                        0.109074   \n",
       "Galactic Latitude [deg]                                 -0.044988   \n",
       "Galactic Longitude [deg]                                 0.104236   \n",
       "Ecliptic Latitude [deg]                                 -0.087528   \n",
       "Ecliptic Longitude [deg]                                -0.069450   \n",
       "Number of Photometry Time Series                         0.057734   \n",
       "Number of Emission Spectroscopy Measurements            -0.003200   \n",
       "Number of Transmission Spectroscopy Measurements        -0.002096   \n",
       "Discovery Year                                          -0.147575   \n",
       "\n",
       "                                                  Number of Planets  \\\n",
       "Number of Stars                                            0.109074   \n",
       "Number of Planets                                          1.000000   \n",
       "Galactic Latitude [deg]                                   -0.055511   \n",
       "Galactic Longitude [deg]                                   0.008589   \n",
       "Ecliptic Latitude [deg]                                    0.026680   \n",
       "Ecliptic Longitude [deg]                                  -0.023926   \n",
       "Number of Photometry Time Series                          -0.002505   \n",
       "Number of Emission Spectroscopy Measurements               0.057797   \n",
       "Number of Transmission Spectroscopy Measurements           0.076409   \n",
       "Discovery Year                                            -0.072274   \n",
       "\n",
       "                                                  Galactic Latitude [deg]  \\\n",
       "Number of Stars                                                 -0.044988   \n",
       "Number of Planets                                               -0.055511   \n",
       "Galactic Latitude [deg]                                          1.000000   \n",
       "Galactic Longitude [deg]                                        -0.019213   \n",
       "Ecliptic Latitude [deg]                                          0.463063   \n",
       "Ecliptic Longitude [deg]                                         0.174632   \n",
       "Number of Photometry Time Series                                -0.090369   \n",
       "Number of Emission Spectroscopy Measurements                    -0.025691   \n",
       "Number of Transmission Spectroscopy Measurements                -0.008918   \n",
       "Discovery Year                                                   0.031820   \n",
       "\n",
       "                                                  Galactic Longitude [deg]  \\\n",
       "Number of Stars                                                   0.104236   \n",
       "Number of Planets                                                 0.008589   \n",
       "Galactic Latitude [deg]                                          -0.019213   \n",
       "Galactic Longitude [deg]                                          1.000000   \n",
       "Ecliptic Latitude [deg]                                          -0.657044   \n",
       "Ecliptic Longitude [deg]                                         -0.408779   \n",
       "Number of Photometry Time Series                                  0.131333   \n",
       "Number of Emission Spectroscopy Measurements                     -0.008283   \n",
       "Number of Transmission Spectroscopy Measurements                 -0.026088   \n",
       "Discovery Year                                                   -0.106558   \n",
       "\n",
       "                                                  Ecliptic Latitude [deg]  \\\n",
       "Number of Stars                                                 -0.087528   \n",
       "Number of Planets                                                0.026680   \n",
       "Galactic Latitude [deg]                                          0.463063   \n",
       "Galactic Longitude [deg]                                        -0.657044   \n",
       "Ecliptic Latitude [deg]                                          1.000000   \n",
       "Ecliptic Longitude [deg]                                         0.498442   \n",
       "Number of Photometry Time Series                                -0.222283   \n",
       "Number of Emission Spectroscopy Measurements                    -0.006864   \n",
       "Number of Transmission Spectroscopy Measurements                 0.025212   \n",
       "Discovery Year                                                   0.081113   \n",
       "\n",
       "                                                  Ecliptic Longitude [deg]  \\\n",
       "Number of Stars                                                  -0.069450   \n",
       "Number of Planets                                                -0.023926   \n",
       "Galactic Latitude [deg]                                           0.174632   \n",
       "Galactic Longitude [deg]                                         -0.408779   \n",
       "Ecliptic Latitude [deg]                                           0.498442   \n",
       "Ecliptic Longitude [deg]                                          1.000000   \n",
       "Number of Photometry Time Series                                 -0.119612   \n",
       "Number of Emission Spectroscopy Measurements                      0.013811   \n",
       "Number of Transmission Spectroscopy Measurements                  0.031078   \n",
       "Discovery Year                                                    0.058041   \n",
       "\n",
       "                                                  Number of Photometry Time Series  \\\n",
       "Number of Stars                                                           0.057734   \n",
       "Number of Planets                                                        -0.002505   \n",
       "Galactic Latitude [deg]                                                  -0.090369   \n",
       "Galactic Longitude [deg]                                                  0.131333   \n",
       "Ecliptic Latitude [deg]                                                  -0.222283   \n",
       "Ecliptic Longitude [deg]                                                 -0.119612   \n",
       "Number of Photometry Time Series                                          1.000000   \n",
       "Number of Emission Spectroscopy Measurements                             -0.004172   \n",
       "Number of Transmission Spectroscopy Measurements                         -0.014848   \n",
       "Discovery Year                                                           -0.252983   \n",
       "\n",
       "                                                  Number of Emission Spectroscopy Measurements  \\\n",
       "Number of Stars                                                                      -0.003200   \n",
       "Number of Planets                                                                     0.057797   \n",
       "Galactic Latitude [deg]                                                              -0.025691   \n",
       "Galactic Longitude [deg]                                                             -0.008283   \n",
       "Ecliptic Latitude [deg]                                                              -0.006864   \n",
       "Ecliptic Longitude [deg]                                                              0.013811   \n",
       "Number of Photometry Time Series                                                     -0.004172   \n",
       "Number of Emission Spectroscopy Measurements                                          1.000000   \n",
       "Number of Transmission Spectroscopy Measurements                                     -0.000553   \n",
       "Discovery Year                                                                        0.000791   \n",
       "\n",
       "                                                  Number of Transmission Spectroscopy Measurements  \\\n",
       "Number of Stars                                                                          -0.002096   \n",
       "Number of Planets                                                                         0.076409   \n",
       "Galactic Latitude [deg]                                                                  -0.008918   \n",
       "Galactic Longitude [deg]                                                                 -0.026088   \n",
       "Ecliptic Latitude [deg]                                                                   0.025212   \n",
       "Ecliptic Longitude [deg]                                                                  0.031078   \n",
       "Number of Photometry Time Series                                                         -0.014848   \n",
       "Number of Emission Spectroscopy Measurements                                             -0.000553   \n",
       "Number of Transmission Spectroscopy Measurements                                          1.000000   \n",
       "Discovery Year                                                                           -0.015425   \n",
       "\n",
       "                                                  Discovery Year  \n",
       "Number of Stars                                        -0.147575  \n",
       "Number of Planets                                      -0.072274  \n",
       "Galactic Latitude [deg]                                 0.031820  \n",
       "Galactic Longitude [deg]                               -0.106558  \n",
       "Ecliptic Latitude [deg]                                 0.081113  \n",
       "Ecliptic Longitude [deg]                                0.058041  \n",
       "Number of Photometry Time Series                       -0.252983  \n",
       "Number of Emission Spectroscopy Measurements            0.000791  \n",
       "Number of Transmission Spectroscopy Measurements       -0.015425  \n",
       "Discovery Year                                          1.000000  "
      ]
     },
     "execution_count": 5,
     "metadata": {},
     "output_type": "execute_result"
    }
   ],
   "source": [
    "features.corr()"
   ]
  },
  {
   "cell_type": "markdown",
   "metadata": {},
   "source": [
    "## Split data"
   ]
  },
  {
   "cell_type": "code",
   "execution_count": 6,
   "metadata": {},
   "outputs": [],
   "source": [
    "# Splitting dataset into training, testing and validation addresses overfitting\n",
    "# shuffling is necessary to remove dependencies that come from order of data\n",
    "\n",
    "# now we can split into training and testing\n",
    "\n",
    "from sklearn.model_selection import train_test_split\n",
    "x_train, x_test, y_train, y_test = train_test_split(features, targets, train_size = 0.8, random_state = 42, shuffle=True)\n",
    "\n",
    "# tensorflow models expect data in the form of a np array; NOT a pd dataframe \n",
    "# so we have to convert\n",
    "\n",
    "x_train_nparr, x_test_nparr, y_train_nparr, y_test_nparr = np.array(x_train), np.array(x_test), np.array(y_train), np.array(y_test)\n"
   ]
  },
  {
   "cell_type": "markdown",
   "metadata": {},
   "source": [
    "## DNN Configuration"
   ]
  },
  {
   "cell_type": "code",
   "execution_count": 7,
   "metadata": {},
   "outputs": [],
   "source": [
    "from tensorflow.keras.models import Sequential\n",
    "from tensorflow.keras.layers import Dense, Dropout\n",
    "from tensorflow.keras.optimizers import Adam"
   ]
  },
  {
   "cell_type": "markdown",
   "metadata": {},
   "source": [
    "### Create DNN"
   ]
  },
  {
   "cell_type": "code",
   "execution_count": 8,
   "metadata": {},
   "outputs": [
    {
     "name": "stderr",
     "output_type": "stream",
     "text": [
      "2024-07-31 22:52:11.469892: I tensorflow/core/platform/cpu_feature_guard.cc:145] This TensorFlow binary is optimized with Intel(R) MKL-DNN to use the following CPU instructions in performance critical operations:  SSE4.1 SSE4.2 AVX AVX2 FMA\n",
      "To enable them in non-MKL-DNN operations, rebuild TensorFlow with the appropriate compiler flags.\n",
      "2024-07-31 22:52:11.470231: I tensorflow/core/common_runtime/process_util.cc:115] Creating new thread pool with default inter op setting: 8. Tune using inter_op_parallelism_threads for best performance.\n"
     ]
    }
   ],
   "source": [
    "# Initializes a Sequential Model (linear stack of layers)\n",
    "# Simplest way to build a model in Keras, where you can just keep adding layers sequentially\n",
    "\n",
    "input_size = 10 # 10 input features in our data\n",
    "hidden_layer_size = 25 # start off with 50 neurons per hidden layer\n",
    "output_size = 1 # because 2 possible classifications denoted by 0 and 1 in a single output; DNN calculates probability the exoplanet is 0 or 1 and the higher probability is the output \n",
    "\n",
    "dropout_rate = 0.05 # dropout rate we will use in the model as a measure to prevent overfitting\n",
    "\n",
    "dnn_model = Sequential([\n",
    "    # input layer for the input data; 10 features so 10 inputs for the first dense layer \n",
    "    # in a dense layer, each feature becomes an input to the next layer, which consists of neurons\n",
    "    # the line below defines the input layer and creates the first dense layer consisting of 50 neurons\n",
    "    # we use Rectified Linear Unit (ReLU) as the activation function because ReLU helps mitigate the vanishing gradient problem\n",
    "# and allows the model to learn complex paterns\n",
    "    tf.keras.layers.Dense(hidden_layer_size, activation='relu', input_shape = (input_size,)),\n",
    "\n",
    "# add a dropout layer with dropout rate of 0.1 \n",
    "# This essentially just means 10% of the neurons will be randomly set to 0 during training\n",
    "# Dropout is a regularization technique used to prevent overfitting \n",
    "# This helps prevent the model from overfitting by randomly dropping neurons during training\n",
    "    tf.keras.layers.Dropout(dropout_rate),\n",
    "    \n",
    "    # add the next hidden neuron layer\n",
    "    # tf.keras.layers.Dense(hidden_layer_size, activation='relu'),\n",
    "    \n",
    "    # output layer with 1 neuron for binary classification\n",
    "    tf.keras.layers.Dense(output_size, activation='sigmoid')\n",
    "])\n",
    "\n",
    "# next, choose the optimizer and loss function\n",
    "# adam is usually the most optimal\n",
    "# loss will be binary_crossentropy for binary classification\n",
    "# the metric we care about is accuracy\n",
    "\n",
    "dnn_model.compile(optimizer='adam', loss='binary_crossentropy', metrics=['accuracy'])"
   ]
  },
  {
   "cell_type": "markdown",
   "metadata": {},
   "source": [
    "### Measure to prevent overfitting"
   ]
  },
  {
   "cell_type": "code",
   "execution_count": 9,
   "metadata": {},
   "outputs": [],
   "source": [
    "\n",
    "\n",
    "# dropout 0.5 -> 50 accuracy\n",
    "# dnn_model.add(Dropout(0.4))"
   ]
  },
  {
   "cell_type": "markdown",
   "metadata": {},
   "source": [
    "### Add another dense layer (this time of 32 neurons) to learn more complex patterns"
   ]
  },
  {
   "cell_type": "code",
   "execution_count": 10,
   "metadata": {},
   "outputs": [],
   "source": [
    "# Deeper networks (more layers) often capture more complex relationships \n",
    "# use relu again to introduce non-linearity\n",
    "\n",
    "# add 32 - > 50% acc \n",
    "# dnn_model.add(Dense(50, activation='relu'))"
   ]
  },
  {
   "cell_type": "markdown",
   "metadata": {},
   "source": [
    "### Add another dropout layer for the same reasoning as before"
   ]
  },
  {
   "cell_type": "code",
   "execution_count": 11,
   "metadata": {},
   "outputs": [],
   "source": [
    "# Continues to prevent overfitting as the model gets deeper\n",
    "\n",
    "# changed from 0.5 (50% acc) \n",
    "# dnn_model.add(Dropout(0.4))"
   ]
  },
  {
   "cell_type": "markdown",
   "metadata": {},
   "source": [
    "### Add ouput layer of 1 neuron"
   ]
  },
  {
   "cell_type": "code",
   "execution_count": 12,
   "metadata": {},
   "outputs": [],
   "source": [
    "# 1 neuron because this is a binary classification problem\n",
    "# We use sigmoid activation for binary classifications\n",
    "# sigmoid squashes output between 0 and 1, and can be interpreted as a probability \n",
    "\n",
    "# 50% accuracy setup : \n",
    "# dnn_model.add(Dense(1, activation='sigmoid'))"
   ]
  },
  {
   "cell_type": "markdown",
   "metadata": {},
   "source": [
    "### Compile Model"
   ]
  },
  {
   "cell_type": "code",
   "execution_count": 13,
   "metadata": {},
   "outputs": [],
   "source": [
    "# Compiling configures the model for the actual training\n",
    "# we use binary cross-entropy loss because this is great for binary classification problems as it measures performance of a classification\n",
    "# model where the output is a probability between 0 and 1 \n",
    "# Adam optimizer is best in practice and works for a wide range of problems\n",
    "# Starting learning rate of 0.001 is a common starting point \n",
    "# we use accuracy as the metric to evaluate performance during training and validation\n",
    "\n",
    "# lr: 0.001 -> 50% \n",
    "\n",
    "# dnn_model.compile(loss='binary_crossentropy', optimizer=Adam(learning_rate=0.001), metrics=['accuracy'])"
   ]
  },
  {
   "cell_type": "markdown",
   "metadata": {},
   "source": [
    "## Training with Validation Split"
   ]
  },
  {
   "cell_type": "markdown",
   "metadata": {},
   "source": [
    "### Here we train the model while also validating it on a portion of the data to monitor performance and prevent overfitting"
   ]
  },
  {
   "cell_type": "code",
   "execution_count": 14,
   "metadata": {},
   "outputs": [
    {
     "name": "stdout",
     "output_type": "stream",
     "text": [
      "Train on 4633 samples, validate on 515 samples\n",
      "Epoch 1/30\n",
      "4633/4633 - 4s - loss: 19.3990 - accuracy: 0.5867 - val_loss: 0.5049 - val_accuracy: 0.8874\n",
      "Epoch 2/30\n",
      "4633/4633 - 2s - loss: 11.0440 - accuracy: 0.6313 - val_loss: 0.4483 - val_accuracy: 0.7845\n",
      "Epoch 3/30\n",
      "4633/4633 - 2s - loss: 5.9914 - accuracy: 0.6749 - val_loss: 0.6976 - val_accuracy: 0.7592\n",
      "Epoch 4/30\n",
      "4633/4633 - 2s - loss: 2.3935 - accuracy: 0.6989 - val_loss: 0.9153 - val_accuracy: 0.7243\n",
      "Epoch 5/30\n",
      "4633/4633 - 2s - loss: 0.6674 - accuracy: 0.7775 - val_loss: 0.3502 - val_accuracy: 0.8738\n",
      "Epoch 6/30\n",
      "4633/4633 - 2s - loss: 0.4171 - accuracy: 0.8416 - val_loss: 0.5755 - val_accuracy: 0.7476\n",
      "Epoch 7/30\n",
      "4633/4633 - 2s - loss: 0.4619 - accuracy: 0.8172 - val_loss: 0.3915 - val_accuracy: 0.8893\n",
      "Epoch 8/30\n",
      "4633/4633 - 2s - loss: 0.4094 - accuracy: 0.8418 - val_loss: 0.3339 - val_accuracy: 0.8699\n",
      "Epoch 9/30\n",
      "4633/4633 - 2s - loss: 0.3975 - accuracy: 0.8504 - val_loss: 0.4307 - val_accuracy: 0.8990\n",
      "Epoch 10/30\n",
      "4633/4633 - 2s - loss: 0.4058 - accuracy: 0.8444 - val_loss: 0.3336 - val_accuracy: 0.8913\n",
      "Epoch 11/30\n",
      "4633/4633 - 2s - loss: 0.3764 - accuracy: 0.8584 - val_loss: 0.4207 - val_accuracy: 0.8990\n",
      "Epoch 12/30\n",
      "4633/4633 - 2s - loss: 0.3703 - accuracy: 0.8513 - val_loss: 0.3006 - val_accuracy: 0.8874\n",
      "Epoch 13/30\n",
      "4633/4633 - 2s - loss: 0.3627 - accuracy: 0.8606 - val_loss: 0.3457 - val_accuracy: 0.8699\n",
      "Epoch 14/30\n",
      "4633/4633 - 2s - loss: 0.3615 - accuracy: 0.8571 - val_loss: 0.2833 - val_accuracy: 0.8990\n",
      "Epoch 15/30\n",
      "4633/4633 - 2s - loss: 0.3510 - accuracy: 0.8642 - val_loss: 0.3150 - val_accuracy: 0.8874\n",
      "Epoch 16/30\n",
      "4633/4633 - 2s - loss: 0.3492 - accuracy: 0.8638 - val_loss: 0.2783 - val_accuracy: 0.8971\n",
      "Epoch 17/30\n",
      "4633/4633 - 2s - loss: 0.3487 - accuracy: 0.8595 - val_loss: 0.3007 - val_accuracy: 0.8951\n",
      "Epoch 18/30\n",
      "4633/4633 - 2s - loss: 0.3403 - accuracy: 0.8565 - val_loss: 0.3472 - val_accuracy: 0.8893\n",
      "Epoch 19/30\n",
      "4633/4633 - 2s - loss: 0.3398 - accuracy: 0.8640 - val_loss: 0.3381 - val_accuracy: 0.8660\n",
      "Epoch 20/30\n",
      "4633/4633 - 2s - loss: 0.3359 - accuracy: 0.8636 - val_loss: 0.3009 - val_accuracy: 0.9010\n",
      "Epoch 21/30\n",
      "4633/4633 - 2s - loss: 0.3377 - accuracy: 0.8573 - val_loss: 0.3151 - val_accuracy: 0.8777\n",
      "Epoch 22/30\n",
      "4633/4633 - 2s - loss: 0.3412 - accuracy: 0.8593 - val_loss: 0.2632 - val_accuracy: 0.8990\n",
      "Epoch 23/30\n",
      "4633/4633 - 2s - loss: 0.3282 - accuracy: 0.8634 - val_loss: 0.2601 - val_accuracy: 0.8932\n",
      "Epoch 24/30\n",
      "4633/4633 - 2s - loss: 0.3323 - accuracy: 0.8608 - val_loss: 0.2803 - val_accuracy: 0.8913\n",
      "Epoch 25/30\n",
      "4633/4633 - 2s - loss: 0.3304 - accuracy: 0.8582 - val_loss: 0.2523 - val_accuracy: 0.8971\n",
      "Epoch 26/30\n",
      "4633/4633 - 2s - loss: 0.3295 - accuracy: 0.8616 - val_loss: 0.2697 - val_accuracy: 0.8990\n",
      "Epoch 27/30\n",
      "4633/4633 - 2s - loss: 0.3327 - accuracy: 0.8586 - val_loss: 0.2691 - val_accuracy: 0.8913\n",
      "Epoch 28/30\n",
      "4633/4633 - 2s - loss: 0.3274 - accuracy: 0.8582 - val_loss: 0.2607 - val_accuracy: 0.8951\n",
      "Epoch 29/30\n",
      "4633/4633 - 2s - loss: 0.3178 - accuracy: 0.8603 - val_loss: 0.2669 - val_accuracy: 0.8971\n",
      "Epoch 30/30\n",
      "4633/4633 - 2s - loss: 0.3263 - accuracy: 0.8586 - val_loss: 0.3265 - val_accuracy: 0.8893\n"
     ]
    }
   ],
   "source": [
    "# start with 50 epochs (number of times the entire training dataset is passed through the model) bc this is a good starting point\n",
    "# 50 ensures sufficient training\n",
    "# batch size 32 means there is 32 samples per gradient update\n",
    "# 32 for the batch size is a common choice to provide a balance between speed and stability\n",
    "# we use 20% of the training data for our validation to monitor performance on unseen data during training\n",
    "# verbose =1 to display progress bar \n",
    "\n",
    "# now we train\n",
    "num_epochs = 30\n",
    "\n",
    "history = dnn_model.fit(x_train_nparr, y_train_nparr, epochs=num_epochs, batch_size=5, validation_split=0.1, verbose=2)"
   ]
  },
  {
   "cell_type": "markdown",
   "metadata": {},
   "source": [
    "## Model Predictions"
   ]
  },
  {
   "cell_type": "code",
   "execution_count": 15,
   "metadata": {},
   "outputs": [],
   "source": [
    "# Here we actually make the predictions on the test set\n",
    "# model outputs the probability for the positive class\n",
    "# also convert the probabilities to binary class predictions with a threshold of 0.5\n",
    "\n",
    "y_pred_prob = dnn_model.predict(x_test_nparr)"
   ]
  },
  {
   "cell_type": "markdown",
   "metadata": {},
   "source": [
    "## Raw probabilities for the positive class"
   ]
  },
  {
   "cell_type": "code",
   "execution_count": 16,
   "metadata": {},
   "outputs": [],
   "source": [
    "# We use these probabilities for calculating the ROC-AUC score and other performance metrics that require probabilities\n",
    "# ravel() flattens the matrix to a 1D array of probabilities\n",
    "\n",
    "y_pred = (y_pred_prob > 0.5).astype(\"int32\")"
   ]
  },
  {
   "cell_type": "markdown",
   "metadata": {},
   "source": [
    "## Evaluate Model performance"
   ]
  },
  {
   "cell_type": "code",
   "execution_count": 17,
   "metadata": {},
   "outputs": [],
   "source": [
    "from sklearn.metrics import classification_report, accuracy_score, roc_auc_score\n",
    "import matplotlib.pyplot as plt"
   ]
  },
  {
   "cell_type": "code",
   "execution_count": 18,
   "metadata": {},
   "outputs": [
    {
     "data": {
      "text/plain": [
       "('DNN ROC AUC Score on Test Set:', 0.9372767894821878)"
      ]
     },
     "execution_count": 18,
     "metadata": {},
     "output_type": "execute_result"
    }
   ],
   "source": [
    "('DNN Accuracy on Test Set:', accuracy_score(y_test_nparr, y_pred))\n",
    "('DNN Classification Report on Test Set:\\n', classification_report(y_test_nparr, y_pred))\n",
    "('DNN ROC AUC Score on Test Set:', roc_auc_score(y_test_nparr, y_pred_prob))"
   ]
  },
  {
   "cell_type": "markdown",
   "metadata": {},
   "source": [
    "## Plot Validation and Training Metrics for visual presentation "
   ]
  },
  {
   "cell_type": "code",
   "execution_count": 19,
   "metadata": {},
   "outputs": [
    {
     "data": {
      "image/png": "[encoded data removed]",
      "text/plain": [
       "<Figure size 1000x600 with 1 Axes>"
      ]
     },
     "metadata": {},
     "output_type": "display_data"
    }
   ],
   "source": [
    "plt.figure(figsize=(10,6))\n",
    "\n",
    "# training accuracy over epochs\n",
    "plt.plot(history.history['accuracy'])\n",
    "\n",
    "# validation accuracy over epochs\n",
    "plt.plot(history.history['val_accuracy'])\n",
    "\n",
    "plt.title('Exoplanet DNN Model Accuracy')\n",
    "plt.ylabel('Accuracy')\n",
    "plt.xlabel('Epoch')\n",
    "plt.legend(['Train', 'Validation'], loc='upper left')\n",
    "plt.show()"
   ]
  },
  {
   "cell_type": "code",
   "execution_count": 20,
   "metadata": {},
   "outputs": [
    {
     "data": {
      "image/png": "[encoded data removed]",
      "text/plain": [
       "<Figure size 1000x600 with 1 Axes>"
      ]
     },
     "metadata": {},
     "output_type": "display_data"
    }
   ],
   "source": [
    "# Display loss separately \n",
    "# Loss is a fundamental measure of how well a machine learning model's predictions match the actual outcomes\n",
    "# Loss quantifies the difference between pred values and actual values \n",
    "# Goal of training a model is to MINIMIZE LOSS\n",
    "# By minimizing loss we can improve the model's accuracy and predictive power\n",
    "# Loss guides hyperparamter tuning\n",
    "\n",
    "plt.figure(figsize=(10,6))\n",
    "\n",
    "# training loss over epochs\n",
    "plt.plot(history.history['loss'])\n",
    "\n",
    "# validation loss over epochs\n",
    "plt.plot(history.history['val_loss'])\n",
    "\n",
    "plt.title('Exoplanet DNN Model Loss')\n",
    "plt.ylabel('Loss')\n",
    "plt.xlabel('Epoch')\n",
    "plt.legend(['Train', 'Validation'], loc='upper left')\n",
    "plt.show()"
   ]
  }
 ],
 "metadata": {
  "kernelspec": {
   "display_name": "Python (tf_env)",
   "language": "python",
   "name": "tf_env"
  },
  "language_info": {
   "codemirror_mode": {
    "name": "ipython",
    "version": 3
   },
   "file_extension": ".py",
   "mimetype": "text/x-python",
   "name": "python",
   "nbconvert_exporter": "python",
   "pygments_lexer": "ipython3",
   "version": "3.7.12"
  }
 },
 "nbformat": 4,
 "nbformat_minor": 4
}
