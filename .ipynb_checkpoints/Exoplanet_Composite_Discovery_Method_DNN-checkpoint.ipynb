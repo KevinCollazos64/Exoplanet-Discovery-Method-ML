{
 "cells": [
  {
   "cell_type": "markdown",
   "metadata": {},
   "source": [
    "# Deep Neural Network for Exoplanet Discovery Method Classification\n",
    "## Identifying Patterns in Exoplanet Characteristics to Determine Discovery Methods"
   ]
  },
  {
   "cell_type": "code",
   "execution_count": 1,
   "metadata": {},
   "outputs": [],
   "source": [
    "import numpy as np\n",
    "import tensorflow as tf\n",
    "import pandas as pd"
   ]
  },
  {
   "cell_type": "markdown",
   "metadata": {},
   "source": [
    "## Data"
   ]
  },
  {
   "cell_type": "code",
   "execution_count": 2,
   "metadata": {
    "scrolled": true
   },
   "outputs": [
    {
     "data": {
      "text/html": [
       "<div>\n",
       "<style scoped>\n",
       "    .dataframe tbody tr th:only-of-type {\n",
       "        vertical-align: middle;\n",
       "    }\n",
       "\n",
       "    .dataframe tbody tr th {\n",
       "        vertical-align: top;\n",
       "    }\n",
       "\n",
       "    .dataframe thead th {\n",
       "        text-align: right;\n",
       "    }\n",
       "</style>\n",
       "<table border=\"1\" class=\"dataframe\">\n",
       "  <thead>\n",
       "    <tr style=\"text-align: right;\">\n",
       "      <th></th>\n",
       "      <th>Number of Stars</th>\n",
       "      <th>Number of Planets</th>\n",
       "      <th>Number of Moons</th>\n",
       "      <th>Galactic Latitude [deg]</th>\n",
       "      <th>Galactic Longitude [deg]</th>\n",
       "      <th>Ecliptic Latitude [deg]</th>\n",
       "      <th>Ecliptic Longitude [deg]</th>\n",
       "      <th>Number of Photometry Time Series</th>\n",
       "      <th>Number of Radial Velocity Time Series</th>\n",
       "      <th>Number of Stellar Spectra Measurements</th>\n",
       "      <th>Number of Emission Spectroscopy Measurements</th>\n",
       "      <th>Number of Transmission Spectroscopy Measurements</th>\n",
       "      <th>Circumbinary Flag</th>\n",
       "      <th>Controversial Flag</th>\n",
       "      <th>Discovery Year</th>\n",
       "      <th>Detected by Transits</th>\n",
       "    </tr>\n",
       "  </thead>\n",
       "  <tbody>\n",
       "    <tr>\n",
       "      <th>0</th>\n",
       "      <td>3.094076</td>\n",
       "      <td>-0.666894</td>\n",
       "      <td>0.0</td>\n",
       "      <td>2.424559</td>\n",
       "      <td>1.234306</td>\n",
       "      <td>-0.145901</td>\n",
       "      <td>-0.624689</td>\n",
       "      <td>0.613405</td>\n",
       "      <td>1.731519</td>\n",
       "      <td>-0.261600</td>\n",
       "      <td>-0.012466</td>\n",
       "      <td>-0.044364</td>\n",
       "      <td>0</td>\n",
       "      <td>0</td>\n",
       "      <td>2007</td>\n",
       "      <td>0</td>\n",
       "    </tr>\n",
       "    <tr>\n",
       "      <th>1</th>\n",
       "      <td>-0.256668</td>\n",
       "      <td>-0.666894</td>\n",
       "      <td>0.0</td>\n",
       "      <td>1.186720</td>\n",
       "      <td>-0.283545</td>\n",
       "      <td>1.148661</td>\n",
       "      <td>-0.992906</td>\n",
       "      <td>0.613405</td>\n",
       "      <td>0.729626</td>\n",
       "      <td>-0.261600</td>\n",
       "      <td>-0.012466</td>\n",
       "      <td>-0.044364</td>\n",
       "      <td>0</td>\n",
       "      <td>0</td>\n",
       "      <td>2009</td>\n",
       "      <td>0</td>\n",
       "    </tr>\n",
       "    <tr>\n",
       "      <th>2</th>\n",
       "      <td>-0.256668</td>\n",
       "      <td>-0.666894</td>\n",
       "      <td>0.0</td>\n",
       "      <td>-0.877523</td>\n",
       "      <td>-0.306068</td>\n",
       "      <td>0.308947</td>\n",
       "      <td>-2.327878</td>\n",
       "      <td>0.613405</td>\n",
       "      <td>0.729626</td>\n",
       "      <td>-0.261600</td>\n",
       "      <td>-0.012466</td>\n",
       "      <td>-0.044364</td>\n",
       "      <td>0</td>\n",
       "      <td>0</td>\n",
       "      <td>2008</td>\n",
       "      <td>0</td>\n",
       "    </tr>\n",
       "    <tr>\n",
       "      <th>3</th>\n",
       "      <td>-0.256668</td>\n",
       "      <td>0.216988</td>\n",
       "      <td>0.0</td>\n",
       "      <td>1.382856</td>\n",
       "      <td>-0.669803</td>\n",
       "      <td>0.872499</td>\n",
       "      <td>-0.152934</td>\n",
       "      <td>0.613405</td>\n",
       "      <td>3.735304</td>\n",
       "      <td>0.591749</td>\n",
       "      <td>-0.012466</td>\n",
       "      <td>-0.044364</td>\n",
       "      <td>0</td>\n",
       "      <td>0</td>\n",
       "      <td>2002</td>\n",
       "      <td>0</td>\n",
       "    </tr>\n",
       "    <tr>\n",
       "      <th>4</th>\n",
       "      <td>6.444820</td>\n",
       "      <td>-0.666894</td>\n",
       "      <td>0.0</td>\n",
       "      <td>0.261241</td>\n",
       "      <td>-0.531444</td>\n",
       "      <td>1.023143</td>\n",
       "      <td>0.855489</td>\n",
       "      <td>0.613405</td>\n",
       "      <td>3.735304</td>\n",
       "      <td>2.298449</td>\n",
       "      <td>-0.012466</td>\n",
       "      <td>-0.044364</td>\n",
       "      <td>0</td>\n",
       "      <td>0</td>\n",
       "      <td>1996</td>\n",
       "      <td>0</td>\n",
       "    </tr>\n",
       "  </tbody>\n",
       "</table>\n",
       "</div>"
      ],
      "text/plain": [
       "   Number of Stars  Number of Planets  Number of Moons  \\\n",
       "0         3.094076          -0.666894              0.0   \n",
       "1        -0.256668          -0.666894              0.0   \n",
       "2        -0.256668          -0.666894              0.0   \n",
       "3        -0.256668           0.216988              0.0   \n",
       "4         6.444820          -0.666894              0.0   \n",
       "\n",
       "   Galactic Latitude [deg]  Galactic Longitude [deg]  Ecliptic Latitude [deg]  \\\n",
       "0                 2.424559                  1.234306                -0.145901   \n",
       "1                 1.186720                 -0.283545                 1.148661   \n",
       "2                -0.877523                 -0.306068                 0.308947   \n",
       "3                 1.382856                 -0.669803                 0.872499   \n",
       "4                 0.261241                 -0.531444                 1.023143   \n",
       "\n",
       "   Ecliptic Longitude [deg]  Number of Photometry Time Series  \\\n",
       "0                 -0.624689                          0.613405   \n",
       "1                 -0.992906                          0.613405   \n",
       "2                 -2.327878                          0.613405   \n",
       "3                 -0.152934                          0.613405   \n",
       "4                  0.855489                          0.613405   \n",
       "\n",
       "   Number of Radial Velocity Time Series  \\\n",
       "0                               1.731519   \n",
       "1                               0.729626   \n",
       "2                               0.729626   \n",
       "3                               3.735304   \n",
       "4                               3.735304   \n",
       "\n",
       "   Number of Stellar Spectra Measurements  \\\n",
       "0                               -0.261600   \n",
       "1                               -0.261600   \n",
       "2                               -0.261600   \n",
       "3                                0.591749   \n",
       "4                                2.298449   \n",
       "\n",
       "   Number of Emission Spectroscopy Measurements  \\\n",
       "0                                     -0.012466   \n",
       "1                                     -0.012466   \n",
       "2                                     -0.012466   \n",
       "3                                     -0.012466   \n",
       "4                                     -0.012466   \n",
       "\n",
       "   Number of Transmission Spectroscopy Measurements  Circumbinary Flag  \\\n",
       "0                                         -0.044364                  0   \n",
       "1                                         -0.044364                  0   \n",
       "2                                         -0.044364                  0   \n",
       "3                                         -0.044364                  0   \n",
       "4                                         -0.044364                  0   \n",
       "\n",
       "   Controversial Flag  Discovery Year  Detected by Transits  \n",
       "0                   0            2007                     0  \n",
       "1                   0            2009                     0  \n",
       "2                   0            2008                     0  \n",
       "3                   0            2002                     0  \n",
       "4                   0            1996                     0  "
      ]
     },
     "execution_count": 2,
     "metadata": {},
     "output_type": "execute_result"
    }
   ],
   "source": [
    "# data is aleady preprocessed; standardized and one-hot encoded\n",
    "\n",
    "composite_preprocessed = pd.read_csv('Composite_preprocessed_NO_MV_BALANCED.csv')\n",
    "composite_preprocessed.head()"
   ]
  },
  {
   "cell_type": "markdown",
   "metadata": {},
   "source": [
    "### 2 possible results ; Either the exoplanet was discovered by transits or it wasn't\n",
    "### so we have 2 output units \n",
    "### We will use the features from the XGBoost refined features model \n",
    "### This ensures consistency, reduces complexity, and leverages the feature selection process that has already been validated with my refined features XGBoost model\n",
    "### This would also allow for a fair comparison between models and is likely to result in better performance for the DNN"
   ]
  },
  {
   "cell_type": "markdown",
   "metadata": {},
   "source": [
    "## Remove unimportant features"
   ]
  },
  {
   "cell_type": "code",
   "execution_count": 3,
   "metadata": {},
   "outputs": [],
   "source": [
    "remove = ['Number of Radial Velocity Time Series',\n",
    "          'Number of Stellar Spectra Measurements',\n",
    "          'Controversial Flag',\n",
    "          'Circumbinary Flag']\n",
    "\n",
    "composite_unnecessary_removed = composite_preprocessed.drop(remove, axis=1)"
   ]
  },
  {
   "cell_type": "markdown",
   "metadata": {},
   "source": [
    "## Train Test Split"
   ]
  },
  {
   "cell_type": "code",
   "execution_count": 4,
   "metadata": {},
   "outputs": [],
   "source": [
    "# we are trying to predict whether an exoplanet has been detected by transits (0 or 1)\n",
    "\n",
    "targets = composite_unnecessary_removed['Detected by Transits']\n",
    "\n",
    "# training features are all variables except the targets\n",
    "\n",
    "features = composite_unnecessary_removed.drop(['Detected by Transits'], axis=1)"
   ]
  },
  {
   "cell_type": "markdown",
   "metadata": {},
   "source": [
    "## Observe Feature Correlations"
   ]
  },
  {
   "cell_type": "code",
   "execution_count": 5,
   "metadata": {},
   "outputs": [
    {
     "data": {
      "text/html": [
       "<div>\n",
       "<style scoped>\n",
       "    .dataframe tbody tr th:only-of-type {\n",
       "        vertical-align: middle;\n",
       "    }\n",
       "\n",
       "    .dataframe tbody tr th {\n",
       "        vertical-align: top;\n",
       "    }\n",
       "\n",
       "    .dataframe thead th {\n",
       "        text-align: right;\n",
       "    }\n",
       "</style>\n",
       "<table border=\"1\" class=\"dataframe\">\n",
       "  <thead>\n",
       "    <tr style=\"text-align: right;\">\n",
       "      <th></th>\n",
       "      <th>Number of Stars</th>\n",
       "      <th>Number of Planets</th>\n",
       "      <th>Number of Moons</th>\n",
       "      <th>Galactic Latitude [deg]</th>\n",
       "      <th>Galactic Longitude [deg]</th>\n",
       "      <th>Ecliptic Latitude [deg]</th>\n",
       "      <th>Ecliptic Longitude [deg]</th>\n",
       "      <th>Number of Photometry Time Series</th>\n",
       "      <th>Number of Emission Spectroscopy Measurements</th>\n",
       "      <th>Number of Transmission Spectroscopy Measurements</th>\n",
       "      <th>Discovery Year</th>\n",
       "    </tr>\n",
       "  </thead>\n",
       "  <tbody>\n",
       "    <tr>\n",
       "      <th>Number of Stars</th>\n",
       "      <td>1.000000</td>\n",
       "      <td>0.109074</td>\n",
       "      <td>NaN</td>\n",
       "      <td>-0.044988</td>\n",
       "      <td>0.104236</td>\n",
       "      <td>-0.087528</td>\n",
       "      <td>-0.069450</td>\n",
       "      <td>0.057734</td>\n",
       "      <td>-0.003200</td>\n",
       "      <td>-0.002096</td>\n",
       "      <td>-0.147575</td>\n",
       "    </tr>\n",
       "    <tr>\n",
       "      <th>Number of Planets</th>\n",
       "      <td>0.109074</td>\n",
       "      <td>1.000000</td>\n",
       "      <td>NaN</td>\n",
       "      <td>-0.055511</td>\n",
       "      <td>0.008589</td>\n",
       "      <td>0.026680</td>\n",
       "      <td>-0.023926</td>\n",
       "      <td>-0.002505</td>\n",
       "      <td>0.057797</td>\n",
       "      <td>0.076409</td>\n",
       "      <td>-0.072274</td>\n",
       "    </tr>\n",
       "    <tr>\n",
       "      <th>Number of Moons</th>\n",
       "      <td>NaN</td>\n",
       "      <td>NaN</td>\n",
       "      <td>NaN</td>\n",
       "      <td>NaN</td>\n",
       "      <td>NaN</td>\n",
       "      <td>NaN</td>\n",
       "      <td>NaN</td>\n",
       "      <td>NaN</td>\n",
       "      <td>NaN</td>\n",
       "      <td>NaN</td>\n",
       "      <td>NaN</td>\n",
       "    </tr>\n",
       "    <tr>\n",
       "      <th>Galactic Latitude [deg]</th>\n",
       "      <td>-0.044988</td>\n",
       "      <td>-0.055511</td>\n",
       "      <td>NaN</td>\n",
       "      <td>1.000000</td>\n",
       "      <td>-0.019213</td>\n",
       "      <td>0.463063</td>\n",
       "      <td>0.174632</td>\n",
       "      <td>-0.090369</td>\n",
       "      <td>-0.025691</td>\n",
       "      <td>-0.008918</td>\n",
       "      <td>0.031820</td>\n",
       "    </tr>\n",
       "    <tr>\n",
       "      <th>Galactic Longitude [deg]</th>\n",
       "      <td>0.104236</td>\n",
       "      <td>0.008589</td>\n",
       "      <td>NaN</td>\n",
       "      <td>-0.019213</td>\n",
       "      <td>1.000000</td>\n",
       "      <td>-0.657044</td>\n",
       "      <td>-0.408779</td>\n",
       "      <td>0.131333</td>\n",
       "      <td>-0.008283</td>\n",
       "      <td>-0.026088</td>\n",
       "      <td>-0.106558</td>\n",
       "    </tr>\n",
       "    <tr>\n",
       "      <th>Ecliptic Latitude [deg]</th>\n",
       "      <td>-0.087528</td>\n",
       "      <td>0.026680</td>\n",
       "      <td>NaN</td>\n",
       "      <td>0.463063</td>\n",
       "      <td>-0.657044</td>\n",
       "      <td>1.000000</td>\n",
       "      <td>0.498442</td>\n",
       "      <td>-0.222283</td>\n",
       "      <td>-0.006864</td>\n",
       "      <td>0.025212</td>\n",
       "      <td>0.081113</td>\n",
       "    </tr>\n",
       "    <tr>\n",
       "      <th>Ecliptic Longitude [deg]</th>\n",
       "      <td>-0.069450</td>\n",
       "      <td>-0.023926</td>\n",
       "      <td>NaN</td>\n",
       "      <td>0.174632</td>\n",
       "      <td>-0.408779</td>\n",
       "      <td>0.498442</td>\n",
       "      <td>1.000000</td>\n",
       "      <td>-0.119612</td>\n",
       "      <td>0.013811</td>\n",
       "      <td>0.031078</td>\n",
       "      <td>0.058041</td>\n",
       "    </tr>\n",
       "    <tr>\n",
       "      <th>Number of Photometry Time Series</th>\n",
       "      <td>0.057734</td>\n",
       "      <td>-0.002505</td>\n",
       "      <td>NaN</td>\n",
       "      <td>-0.090369</td>\n",
       "      <td>0.131333</td>\n",
       "      <td>-0.222283</td>\n",
       "      <td>-0.119612</td>\n",
       "      <td>1.000000</td>\n",
       "      <td>-0.004172</td>\n",
       "      <td>-0.014848</td>\n",
       "      <td>-0.252983</td>\n",
       "    </tr>\n",
       "    <tr>\n",
       "      <th>Number of Emission Spectroscopy Measurements</th>\n",
       "      <td>-0.003200</td>\n",
       "      <td>0.057797</td>\n",
       "      <td>NaN</td>\n",
       "      <td>-0.025691</td>\n",
       "      <td>-0.008283</td>\n",
       "      <td>-0.006864</td>\n",
       "      <td>0.013811</td>\n",
       "      <td>-0.004172</td>\n",
       "      <td>1.000000</td>\n",
       "      <td>-0.000553</td>\n",
       "      <td>0.000791</td>\n",
       "    </tr>\n",
       "    <tr>\n",
       "      <th>Number of Transmission Spectroscopy Measurements</th>\n",
       "      <td>-0.002096</td>\n",
       "      <td>0.076409</td>\n",
       "      <td>NaN</td>\n",
       "      <td>-0.008918</td>\n",
       "      <td>-0.026088</td>\n",
       "      <td>0.025212</td>\n",
       "      <td>0.031078</td>\n",
       "      <td>-0.014848</td>\n",
       "      <td>-0.000553</td>\n",
       "      <td>1.000000</td>\n",
       "      <td>-0.015425</td>\n",
       "    </tr>\n",
       "    <tr>\n",
       "      <th>Discovery Year</th>\n",
       "      <td>-0.147575</td>\n",
       "      <td>-0.072274</td>\n",
       "      <td>NaN</td>\n",
       "      <td>0.031820</td>\n",
       "      <td>-0.106558</td>\n",
       "      <td>0.081113</td>\n",
       "      <td>0.058041</td>\n",
       "      <td>-0.252983</td>\n",
       "      <td>0.000791</td>\n",
       "      <td>-0.015425</td>\n",
       "      <td>1.000000</td>\n",
       "    </tr>\n",
       "  </tbody>\n",
       "</table>\n",
       "</div>"
      ],
      "text/plain": [
       "                                                  Number of Stars  \\\n",
       "Number of Stars                                          1.000000   \n",
       "Number of Planets                                        0.109074   \n",
       "Number of Moons                                               NaN   \n",
       "Galactic Latitude [deg]                                 -0.044988   \n",
       "Galactic Longitude [deg]                                 0.104236   \n",
       "Ecliptic Latitude [deg]                                 -0.087528   \n",
       "Ecliptic Longitude [deg]                                -0.069450   \n",
       "Number of Photometry Time Series                         0.057734   \n",
       "Number of Emission Spectroscopy Measurements            -0.003200   \n",
       "Number of Transmission Spectroscopy Measurements        -0.002096   \n",
       "Discovery Year                                          -0.147575   \n",
       "\n",
       "                                                  Number of Planets  \\\n",
       "Number of Stars                                            0.109074   \n",
       "Number of Planets                                          1.000000   \n",
       "Number of Moons                                                 NaN   \n",
       "Galactic Latitude [deg]                                   -0.055511   \n",
       "Galactic Longitude [deg]                                   0.008589   \n",
       "Ecliptic Latitude [deg]                                    0.026680   \n",
       "Ecliptic Longitude [deg]                                  -0.023926   \n",
       "Number of Photometry Time Series                          -0.002505   \n",
       "Number of Emission Spectroscopy Measurements               0.057797   \n",
       "Number of Transmission Spectroscopy Measurements           0.076409   \n",
       "Discovery Year                                            -0.072274   \n",
       "\n",
       "                                                  Number of Moons  \\\n",
       "Number of Stars                                               NaN   \n",
       "Number of Planets                                             NaN   \n",
       "Number of Moons                                               NaN   \n",
       "Galactic Latitude [deg]                                       NaN   \n",
       "Galactic Longitude [deg]                                      NaN   \n",
       "Ecliptic Latitude [deg]                                       NaN   \n",
       "Ecliptic Longitude [deg]                                      NaN   \n",
       "Number of Photometry Time Series                              NaN   \n",
       "Number of Emission Spectroscopy Measurements                  NaN   \n",
       "Number of Transmission Spectroscopy Measurements              NaN   \n",
       "Discovery Year                                                NaN   \n",
       "\n",
       "                                                  Galactic Latitude [deg]  \\\n",
       "Number of Stars                                                 -0.044988   \n",
       "Number of Planets                                               -0.055511   \n",
       "Number of Moons                                                       NaN   \n",
       "Galactic Latitude [deg]                                          1.000000   \n",
       "Galactic Longitude [deg]                                        -0.019213   \n",
       "Ecliptic Latitude [deg]                                          0.463063   \n",
       "Ecliptic Longitude [deg]                                         0.174632   \n",
       "Number of Photometry Time Series                                -0.090369   \n",
       "Number of Emission Spectroscopy Measurements                    -0.025691   \n",
       "Number of Transmission Spectroscopy Measurements                -0.008918   \n",
       "Discovery Year                                                   0.031820   \n",
       "\n",
       "                                                  Galactic Longitude [deg]  \\\n",
       "Number of Stars                                                   0.104236   \n",
       "Number of Planets                                                 0.008589   \n",
       "Number of Moons                                                        NaN   \n",
       "Galactic Latitude [deg]                                          -0.019213   \n",
       "Galactic Longitude [deg]                                          1.000000   \n",
       "Ecliptic Latitude [deg]                                          -0.657044   \n",
       "Ecliptic Longitude [deg]                                         -0.408779   \n",
       "Number of Photometry Time Series                                  0.131333   \n",
       "Number of Emission Spectroscopy Measurements                     -0.008283   \n",
       "Number of Transmission Spectroscopy Measurements                 -0.026088   \n",
       "Discovery Year                                                   -0.106558   \n",
       "\n",
       "                                                  Ecliptic Latitude [deg]  \\\n",
       "Number of Stars                                                 -0.087528   \n",
       "Number of Planets                                                0.026680   \n",
       "Number of Moons                                                       NaN   \n",
       "Galactic Latitude [deg]                                          0.463063   \n",
       "Galactic Longitude [deg]                                        -0.657044   \n",
       "Ecliptic Latitude [deg]                                          1.000000   \n",
       "Ecliptic Longitude [deg]                                         0.498442   \n",
       "Number of Photometry Time Series                                -0.222283   \n",
       "Number of Emission Spectroscopy Measurements                    -0.006864   \n",
       "Number of Transmission Spectroscopy Measurements                 0.025212   \n",
       "Discovery Year                                                   0.081113   \n",
       "\n",
       "                                                  Ecliptic Longitude [deg]  \\\n",
       "Number of Stars                                                  -0.069450   \n",
       "Number of Planets                                                -0.023926   \n",
       "Number of Moons                                                        NaN   \n",
       "Galactic Latitude [deg]                                           0.174632   \n",
       "Galactic Longitude [deg]                                         -0.408779   \n",
       "Ecliptic Latitude [deg]                                           0.498442   \n",
       "Ecliptic Longitude [deg]                                          1.000000   \n",
       "Number of Photometry Time Series                                 -0.119612   \n",
       "Number of Emission Spectroscopy Measurements                      0.013811   \n",
       "Number of Transmission Spectroscopy Measurements                  0.031078   \n",
       "Discovery Year                                                    0.058041   \n",
       "\n",
       "                                                  Number of Photometry Time Series  \\\n",
       "Number of Stars                                                           0.057734   \n",
       "Number of Planets                                                        -0.002505   \n",
       "Number of Moons                                                                NaN   \n",
       "Galactic Latitude [deg]                                                  -0.090369   \n",
       "Galactic Longitude [deg]                                                  0.131333   \n",
       "Ecliptic Latitude [deg]                                                  -0.222283   \n",
       "Ecliptic Longitude [deg]                                                 -0.119612   \n",
       "Number of Photometry Time Series                                          1.000000   \n",
       "Number of Emission Spectroscopy Measurements                             -0.004172   \n",
       "Number of Transmission Spectroscopy Measurements                         -0.014848   \n",
       "Discovery Year                                                           -0.252983   \n",
       "\n",
       "                                                  Number of Emission Spectroscopy Measurements  \\\n",
       "Number of Stars                                                                      -0.003200   \n",
       "Number of Planets                                                                     0.057797   \n",
       "Number of Moons                                                                            NaN   \n",
       "Galactic Latitude [deg]                                                              -0.025691   \n",
       "Galactic Longitude [deg]                                                             -0.008283   \n",
       "Ecliptic Latitude [deg]                                                              -0.006864   \n",
       "Ecliptic Longitude [deg]                                                              0.013811   \n",
       "Number of Photometry Time Series                                                     -0.004172   \n",
       "Number of Emission Spectroscopy Measurements                                          1.000000   \n",
       "Number of Transmission Spectroscopy Measurements                                     -0.000553   \n",
       "Discovery Year                                                                        0.000791   \n",
       "\n",
       "                                                  Number of Transmission Spectroscopy Measurements  \\\n",
       "Number of Stars                                                                          -0.002096   \n",
       "Number of Planets                                                                         0.076409   \n",
       "Number of Moons                                                                                NaN   \n",
       "Galactic Latitude [deg]                                                                  -0.008918   \n",
       "Galactic Longitude [deg]                                                                 -0.026088   \n",
       "Ecliptic Latitude [deg]                                                                   0.025212   \n",
       "Ecliptic Longitude [deg]                                                                  0.031078   \n",
       "Number of Photometry Time Series                                                         -0.014848   \n",
       "Number of Emission Spectroscopy Measurements                                             -0.000553   \n",
       "Number of Transmission Spectroscopy Measurements                                          1.000000   \n",
       "Discovery Year                                                                           -0.015425   \n",
       "\n",
       "                                                  Discovery Year  \n",
       "Number of Stars                                        -0.147575  \n",
       "Number of Planets                                      -0.072274  \n",
       "Number of Moons                                              NaN  \n",
       "Galactic Latitude [deg]                                 0.031820  \n",
       "Galactic Longitude [deg]                               -0.106558  \n",
       "Ecliptic Latitude [deg]                                 0.081113  \n",
       "Ecliptic Longitude [deg]                                0.058041  \n",
       "Number of Photometry Time Series                       -0.252983  \n",
       "Number of Emission Spectroscopy Measurements            0.000791  \n",
       "Number of Transmission Spectroscopy Measurements       -0.015425  \n",
       "Discovery Year                                          1.000000  "
      ]
     },
     "execution_count": 5,
     "metadata": {},
     "output_type": "execute_result"
    }
   ],
   "source": [
    "features.corr()"
   ]
  },
  {
   "cell_type": "markdown",
   "metadata": {},
   "source": [
    "## Split data"
   ]
  },
  {
   "cell_type": "code",
   "execution_count": 6,
   "metadata": {},
   "outputs": [
    {
     "data": {
      "text/plain": [
       "((5148, 11), (5148,))"
      ]
     },
     "execution_count": 6,
     "metadata": {},
     "output_type": "execute_result"
    }
   ],
   "source": [
    "# Splitting dataset into training and testing addresses overfitting\n",
    "# shuffling is necessary to remove dependencies that come from order of data\n",
    "\n",
    "from sklearn.model_selection import train_test_split\n",
    "x_train, x_test, y_train, y_test = train_test_split(features, targets, train_size = 0.8, random_state = 42)\n",
    "\n",
    "x_train.shape, y_train.shape"
   ]
  },
  {
   "cell_type": "markdown",
   "metadata": {},
   "source": [
    "## DNN Configuration"
   ]
  },
  {
   "cell_type": "code",
   "execution_count": 7,
   "metadata": {},
   "outputs": [],
   "source": [
    "from tensorflow.keras.models import Sequential\n",
    "from tensorflow.keras.layers import Dense, Dropout\n",
    "from tensorflow.keras.optimizers import Adam"
   ]
  },
  {
   "cell_type": "markdown",
   "metadata": {},
   "source": [
    "### Create Model Container"
   ]
  },
  {
   "cell_type": "code",
   "execution_count": 8,
   "metadata": {},
   "outputs": [],
   "source": [
    "# Initializes a Sequential Model (linear stack of layers)\n",
    "# Simplest way to build a model in Keras, where you can just keep adding layers sequentially\n",
    "\n",
    "dnn_model = Sequential()"
   ]
  },
  {
   "cell_type": "markdown",
   "metadata": {},
   "source": [
    "### Learn and represent complex relationships in the data"
   ]
  },
  {
   "cell_type": "code",
   "execution_count": 9,
   "metadata": {},
   "outputs": [
    {
     "name": "stderr",
     "output_type": "stream",
     "text": [
      "2024-07-17 18:08:27.358718: I tensorflow/core/platform/cpu_feature_guard.cc:145] This TensorFlow binary is optimized with Intel(R) MKL-DNN to use the following CPU instructions in performance critical operations:  SSE4.1 SSE4.2 AVX AVX2 FMA\n",
      "To enable them in non-MKL-DNN operations, rebuild TensorFlow with the appropriate compiler flags.\n",
      "2024-07-17 18:08:27.360788: I tensorflow/core/common_runtime/process_util.cc:115] Creating new thread pool with default inter op setting: 8. Tune using inter_op_parallelism_threads for best performance.\n"
     ]
    }
   ],
   "source": [
    "# add dense (fully connected) layer with 64 neurons\n",
    "# common for hidden layers to start at a high number of neurons to capture complex patterns\n",
    "# shape[1] specifies our number of input features\n",
    "# we use Rectified Linear Unit (ReLU) as the activation function because ReLU helps mitigate the vanishing gradient problem\n",
    "# and allows the model to learn complex paterns\n",
    "\n",
    "dnn_model.add(Dense(64, input_dim = x_train.shape[1], activation ='relu'))"
   ]
  },
  {
   "cell_type": "markdown",
   "metadata": {},
   "source": [
    "### Measure to prevent overfitting"
   ]
  },
  {
   "cell_type": "code",
   "execution_count": 10,
   "metadata": {},
   "outputs": [],
   "source": [
    "# add a dropout layer with dropout rate of 0.5 \n",
    "# This essentially just means 50% of the neurons will be randomly set to 0 during training\n",
    "# Dropout is a regularization technique used to prevent overfitting \n",
    "# This helps prevent the model from overfitting by randomly dropping neurons during training\n",
    "\n",
    "dnn_model.add(Dropout(0.5))"
   ]
  },
  {
   "cell_type": "markdown",
   "metadata": {},
   "source": [
    "### Add another dense layer (this time of 32 neurons) to learn more complex patterns"
   ]
  },
  {
   "cell_type": "code",
   "execution_count": 11,
   "metadata": {},
   "outputs": [],
   "source": [
    "# Deeper networks (more layers) often capture more complex relationships \n",
    "# use relu again to introduce non-linearity\n",
    "\n",
    "dnn_model.add(Dense(32, activation='relu'))"
   ]
  },
  {
   "cell_type": "markdown",
   "metadata": {},
   "source": [
    "### Add another dropout layer for the same reasoning as before"
   ]
  },
  {
   "cell_type": "code",
   "execution_count": 12,
   "metadata": {},
   "outputs": [],
   "source": [
    "# Continues to prevent overfitting as the model gets deeper\n",
    "\n",
    "dnn_model.add(Dropout(0.5))"
   ]
  },
  {
   "cell_type": "markdown",
   "metadata": {},
   "source": [
    "### Add ouput layer of 1 neuron"
   ]
  },
  {
   "cell_type": "code",
   "execution_count": 13,
   "metadata": {},
   "outputs": [],
   "source": [
    "# 1 neuron because this is a binary classification problem\n",
    "# We use sigmoid activation for binary classifications\n",
    "# sigmoid squashes output between 0 and 1, and can be interpreted as a probability \n",
    "\n",
    "dnn_model.add(Dense(1, activation='sigmoid'))"
   ]
  },
  {
   "cell_type": "markdown",
   "metadata": {},
   "source": [
    "### Compile Model"
   ]
  },
  {
   "cell_type": "code",
   "execution_count": 14,
   "metadata": {},
   "outputs": [],
   "source": [
    "# Compiling configures the model for the actual training\n",
    "# we use binary cross-entropy loss because this is great for binary classification problems as it measures performance of a classification\n",
    "# model where the output is a probability between 0 and 1 \n",
    "# Adam optimizer is best in practice and works for a wide range of problems\n",
    "# Starting learning rate of 0.001 is a common starting point \n",
    "# we use accuracy as the metric to evaluate performance during training and validation\n",
    "\n",
    "dnn_model.compile(loss='binary_crossentropy', optimizer=Adam(learning_rate=0.001), metrics=['accuracy'])"
   ]
  },
  {
   "cell_type": "markdown",
   "metadata": {},
   "source": [
    "## Training with Validation Split"
   ]
  },
  {
   "cell_type": "markdown",
   "metadata": {},
   "source": [
    "### Here we train the model while also validating it on a portion of the data to monitor performance and prevent overfitting"
   ]
  },
  {
   "cell_type": "code",
   "execution_count": 15,
   "metadata": {},
   "outputs": [
    {
     "name": "stdout",
     "output_type": "stream",
     "text": [
      "WARNING:tensorflow:Falling back from v2 loop because of error: Failed to find data adapter that can handle input: <class 'pandas.core.frame.DataFrame'>, <class 'NoneType'>\n",
      "Train on 4118 samples, validate on 1030 samples\n",
      "Epoch 1/50\n",
      "4118/4118 [==============================] - 2s 402us/sample - loss: 7.4874 - accuracy: 0.5053 - val_loss: 7.8155 - val_accuracy: 0.4903\n",
      "Epoch 2/50\n",
      "4118/4118 [==============================] - 1s 152us/sample - loss: 7.5934 - accuracy: 0.4981 - val_loss: 7.8155 - val_accuracy: 0.4903\n",
      "Epoch 3/50\n",
      "4118/4118 [==============================] - 1s 149us/sample - loss: 7.5531 - accuracy: 0.5017 - val_loss: 7.8155 - val_accuracy: 0.4903\n",
      "Epoch 4/50\n",
      "4118/4118 [==============================] - 1s 158us/sample - loss: 7.5131 - accuracy: 0.5039 - val_loss: 7.8155 - val_accuracy: 0.4903\n",
      "Epoch 5/50\n",
      "4118/4118 [==============================] - 1s 154us/sample - loss: 7.5364 - accuracy: 0.5034 - val_loss: 7.8155 - val_accuracy: 0.4903\n",
      "Epoch 6/50\n",
      "4118/4118 [==============================] - 1s 152us/sample - loss: 7.5579 - accuracy: 0.5024 - val_loss: 7.5627 - val_accuracy: 0.5097\n",
      "Epoch 7/50\n",
      "4118/4118 [==============================] - 1s 167us/sample - loss: 7.4780 - accuracy: 0.5073 - val_loss: 7.5627 - val_accuracy: 0.5097\n",
      "Epoch 8/50\n",
      "4118/4118 [==============================] - 1s 193us/sample - loss: 7.6742 - accuracy: 0.4964 - val_loss: 7.5627 - val_accuracy: 0.5097\n",
      "Epoch 9/50\n",
      "4118/4118 [==============================] - 1s 157us/sample - loss: 7.7464 - accuracy: 0.4915 - val_loss: 7.5627 - val_accuracy: 0.5097\n",
      "Epoch 10/50\n",
      "4118/4118 [==============================] - 1s 153us/sample - loss: 7.6454 - accuracy: 0.4973 - val_loss: 7.5627 - val_accuracy: 0.5097\n",
      "Epoch 11/50\n",
      "4118/4118 [==============================] - 1s 158us/sample - loss: 7.7088 - accuracy: 0.4944 - val_loss: 7.5627 - val_accuracy: 0.5097\n",
      "Epoch 12/50\n",
      "4118/4118 [==============================] - 1s 156us/sample - loss: 7.6462 - accuracy: 0.4985 - val_loss: 7.5627 - val_accuracy: 0.5097\n",
      "Epoch 13/50\n",
      "4118/4118 [==============================] - 1s 158us/sample - loss: 7.6761 - accuracy: 0.4966 - val_loss: 7.5627 - val_accuracy: 0.5097\n",
      "Epoch 14/50\n",
      "4118/4118 [==============================] - 1s 158us/sample - loss: 7.5517 - accuracy: 0.5053 - val_loss: 7.5627 - val_accuracy: 0.5097\n",
      "Epoch 15/50\n",
      "4118/4118 [==============================] - 1s 158us/sample - loss: 7.7340 - accuracy: 0.4930 - val_loss: 7.5627 - val_accuracy: 0.5097\n",
      "Epoch 16/50\n",
      "4118/4118 [==============================] - 1s 170us/sample - loss: 7.8861 - accuracy: 0.4842 - val_loss: 7.5627 - val_accuracy: 0.5097\n",
      "Epoch 17/50\n",
      "4118/4118 [==============================] - 1s 156us/sample - loss: 7.7569 - accuracy: 0.4944 - val_loss: 7.5627 - val_accuracy: 0.5097\n",
      "Epoch 18/50\n",
      "4118/4118 [==============================] - 1s 154us/sample - loss: 7.7021 - accuracy: 0.4976 - val_loss: 7.5627 - val_accuracy: 0.5097\n",
      "Epoch 19/50\n",
      "4118/4118 [==============================] - 1s 158us/sample - loss: 7.6914 - accuracy: 0.4988 - val_loss: 7.5627 - val_accuracy: 0.5097\n",
      "Epoch 20/50\n",
      "4118/4118 [==============================] - 1s 159us/sample - loss: 7.6563 - accuracy: 0.4995 - val_loss: 7.5627 - val_accuracy: 0.5097\n",
      "Epoch 21/50\n",
      "4118/4118 [==============================] - 1s 174us/sample - loss: 7.6599 - accuracy: 0.5005 - val_loss: 7.5627 - val_accuracy: 0.5097\n",
      "Epoch 22/50\n",
      "4118/4118 [==============================] - 1s 167us/sample - loss: 7.7201 - accuracy: 0.4966 - val_loss: 7.5627 - val_accuracy: 0.5097\n",
      "Epoch 23/50\n",
      "4118/4118 [==============================] - 1s 178us/sample - loss: 7.6710 - accuracy: 0.5002 - val_loss: 7.5627 - val_accuracy: 0.5097\n",
      "Epoch 24/50\n",
      "4118/4118 [==============================] - 1s 157us/sample - loss: 7.6523 - accuracy: 0.5019 - val_loss: 7.5627 - val_accuracy: 0.5097\n",
      "Epoch 25/50\n",
      "4118/4118 [==============================] - 1s 157us/sample - loss: 7.6736 - accuracy: 0.4998 - val_loss: 7.5627 - val_accuracy: 0.5097\n",
      "Epoch 26/50\n",
      "4118/4118 [==============================] - 1s 157us/sample - loss: 7.7309 - accuracy: 0.4951 - val_loss: 7.5627 - val_accuracy: 0.5097\n",
      "Epoch 27/50\n",
      "4118/4118 [==============================] - 1s 155us/sample - loss: 7.7493 - accuracy: 0.4898 - val_loss: 7.5627 - val_accuracy: 0.5097\n",
      "Epoch 28/50\n",
      "4118/4118 [==============================] - 1s 183us/sample - loss: 7.6264 - accuracy: 0.4983 - val_loss: 3.6089 - val_accuracy: 0.5097\n",
      "Epoch 29/50\n",
      "4118/4118 [==============================] - 1s 179us/sample - loss: 7.5775 - accuracy: 0.5017 - val_loss: 7.8096 - val_accuracy: 0.4903\n",
      "Epoch 30/50\n",
      "4118/4118 [==============================] - 1s 182us/sample - loss: 7.7989 - accuracy: 0.4869 - val_loss: 7.8155 - val_accuracy: 0.4903\n",
      "Epoch 31/50\n",
      "4118/4118 [==============================] - 1s 165us/sample - loss: 7.5768 - accuracy: 0.5012 - val_loss: 7.8155 - val_accuracy: 0.4903\n",
      "Epoch 32/50\n",
      "4118/4118 [==============================] - 1s 164us/sample - loss: 7.4034 - accuracy: 0.5134 - val_loss: 7.8155 - val_accuracy: 0.4903\n",
      "Epoch 33/50\n",
      "4118/4118 [==============================] - 1s 173us/sample - loss: 7.3924 - accuracy: 0.5119 - val_loss: 7.8155 - val_accuracy: 0.4903\n",
      "Epoch 34/50\n",
      "4118/4118 [==============================] - 1s 166us/sample - loss: 7.5392 - accuracy: 0.5010 - val_loss: 7.8155 - val_accuracy: 0.4903\n",
      "Epoch 35/50\n",
      "4118/4118 [==============================] - 1s 164us/sample - loss: 7.4404 - accuracy: 0.5080 - val_loss: 7.8155 - val_accuracy: 0.4903\n",
      "Epoch 36/50\n",
      "4118/4118 [==============================] - 1s 151us/sample - loss: 7.5271 - accuracy: 0.5032 - val_loss: 7.8155 - val_accuracy: 0.4903\n",
      "Epoch 37/50\n",
      "4118/4118 [==============================] - 1s 161us/sample - loss: 7.3595 - accuracy: 0.5114 - val_loss: 7.8155 - val_accuracy: 0.4903\n",
      "Epoch 38/50\n",
      "4118/4118 [==============================] - 1s 161us/sample - loss: 7.4319 - accuracy: 0.5036 - val_loss: 7.8155 - val_accuracy: 0.4903\n",
      "Epoch 39/50\n",
      "4118/4118 [==============================] - 1s 159us/sample - loss: 7.4226 - accuracy: 0.5068 - val_loss: 7.8155 - val_accuracy: 0.4903\n",
      "Epoch 40/50\n",
      "4118/4118 [==============================] - 1s 158us/sample - loss: 7.4582 - accuracy: 0.5024 - val_loss: 7.8155 - val_accuracy: 0.4903\n",
      "Epoch 41/50\n",
      "4118/4118 [==============================] - 1s 159us/sample - loss: 7.4193 - accuracy: 0.5032 - val_loss: 7.8155 - val_accuracy: 0.4903\n",
      "Epoch 42/50\n",
      "4118/4118 [==============================] - 1s 175us/sample - loss: 7.3435 - accuracy: 0.5061 - val_loss: 7.8155 - val_accuracy: 0.4903\n",
      "Epoch 43/50\n",
      "4118/4118 [==============================] - 1s 170us/sample - loss: 7.4118 - accuracy: 0.4993 - val_loss: 7.5627 - val_accuracy: 0.5097\n",
      "Epoch 44/50\n",
      "4118/4118 [==============================] - 1s 183us/sample - loss: 7.0113 - accuracy: 0.5168 - val_loss: 3.0823 - val_accuracy: 0.4903\n",
      "Epoch 45/50\n",
      "4118/4118 [==============================] - 1s 170us/sample - loss: 7.0238 - accuracy: 0.5036 - val_loss: 7.8155 - val_accuracy: 0.4903\n",
      "Epoch 46/50\n",
      "4118/4118 [==============================] - 1s 161us/sample - loss: 6.6723 - accuracy: 0.4947 - val_loss: 7.8155 - val_accuracy: 0.4903\n",
      "Epoch 47/50\n",
      "4118/4118 [==============================] - 1s 159us/sample - loss: 6.5609 - accuracy: 0.4966 - val_loss: 7.8155 - val_accuracy: 0.4903\n",
      "Epoch 48/50\n",
      "4118/4118 [==============================] - 1s 175us/sample - loss: 6.3738 - accuracy: 0.5019 - val_loss: 7.8155 - val_accuracy: 0.4903\n",
      "Epoch 49/50\n",
      "4118/4118 [==============================] - 1s 160us/sample - loss: 6.3599 - accuracy: 0.4830 - val_loss: 7.8155 - val_accuracy: 0.4903\n",
      "Epoch 50/50\n",
      "4118/4118 [==============================] - 1s 162us/sample - loss: 6.0512 - accuracy: 0.5073 - val_loss: 7.8155 - val_accuracy: 0.4903\n"
     ]
    }
   ],
   "source": [
    "# start with 50 epochs (number of times the entire training dataset is passed through the model) bc this is a good starting point\n",
    "# 50 ensures sufficient training\n",
    "# batch size 32 means there is 32 samples per gradient update\n",
    "# 32 for the batch size is a common choice to provide a balance between speed and stability\n",
    "# we use 20% of the training data for our validation to monitor performance on unseen data during training\n",
    "# verbose =1 to display progress bar \n",
    "\n",
    "history = dnn_model.fit(x_train, y_train, epochs=50, batch_size=32, validation_split=0.2, verbose=1)"
   ]
  },
  {
   "cell_type": "markdown",
   "metadata": {},
   "source": [
    "## Model Predictions"
   ]
  },
  {
   "cell_type": "code",
   "execution_count": 16,
   "metadata": {},
   "outputs": [
    {
     "name": "stdout",
     "output_type": "stream",
     "text": [
      "WARNING:tensorflow:Falling back from v2 loop because of error: Failed to find data adapter that can handle input: <class 'pandas.core.frame.DataFrame'>, <class 'NoneType'>\n"
     ]
    }
   ],
   "source": [
    "# Here we actually make the predictions on the test set\n",
    "# model outputs the probability for the positive class\n",
    "# also convert the probabilities to binary class predictions with a threshold of 0.5\n",
    "\n",
    "y_pred = (dnn_model.predict(x_test) > 0.5).astype(\"int32\")"
   ]
  },
  {
   "cell_type": "markdown",
   "metadata": {},
   "source": [
    "## Raw probabilities for the positive class"
   ]
  },
  {
   "cell_type": "code",
   "execution_count": 17,
   "metadata": {},
   "outputs": [
    {
     "name": "stdout",
     "output_type": "stream",
     "text": [
      "WARNING:tensorflow:Falling back from v2 loop because of error: Failed to find data adapter that can handle input: <class 'pandas.core.frame.DataFrame'>, <class 'NoneType'>\n"
     ]
    }
   ],
   "source": [
    "# We use these probabilities for calculating the ROC-AUC score and other performance metrics that require probabilities\n",
    "# ravel() flattens the matrix to a 1D array of probabilities\n",
    "\n",
    "y_prob = dnn_model.predict(x_test).ravel()"
   ]
  },
  {
   "cell_type": "markdown",
   "metadata": {},
   "source": [
    "## Evaluate Model performance"
   ]
  },
  {
   "cell_type": "code",
   "execution_count": 18,
   "metadata": {},
   "outputs": [],
   "source": [
    "from sklearn.metrics import classification_report, accuracy_score, roc_auc_score\n",
    "import matplotlib.pyplot as plt"
   ]
  },
  {
   "cell_type": "code",
   "execution_count": 19,
   "metadata": {},
   "outputs": [
    {
     "name": "stderr",
     "output_type": "stream",
     "text": [
      "/Users/kevin/anaconda3/envs/tf_env/lib/python3.7/site-packages/sklearn/metrics/_classification.py:1318: UndefinedMetricWarning: Precision and F-score are ill-defined and being set to 0.0 in labels with no predicted samples. Use `zero_division` parameter to control this behavior.\n",
      "  _warn_prf(average, modifier, msg_start, len(result))\n",
      "/Users/kevin/anaconda3/envs/tf_env/lib/python3.7/site-packages/sklearn/metrics/_classification.py:1318: UndefinedMetricWarning: Precision and F-score are ill-defined and being set to 0.0 in labels with no predicted samples. Use `zero_division` parameter to control this behavior.\n",
      "  _warn_prf(average, modifier, msg_start, len(result))\n",
      "/Users/kevin/anaconda3/envs/tf_env/lib/python3.7/site-packages/sklearn/metrics/_classification.py:1318: UndefinedMetricWarning: Precision and F-score are ill-defined and being set to 0.0 in labels with no predicted samples. Use `zero_division` parameter to control this behavior.\n",
      "  _warn_prf(average, modifier, msg_start, len(result))\n"
     ]
    },
    {
     "data": {
      "text/plain": [
       "('DNN ROC AUC Score on Test Set:', 0.5)"
      ]
     },
     "execution_count": 19,
     "metadata": {},
     "output_type": "execute_result"
    }
   ],
   "source": [
    "('DNN Accuracy on Test Set:', accuracy_score(y_test, y_pred))\n",
    "('DNN Classification Report on Test Set:\\n', classification_report(y_test, y_pred))\n",
    "('DNN ROC AUC Score on Test Set:', roc_auc_score(y_test, y_prob))"
   ]
  },
  {
   "cell_type": "markdown",
   "metadata": {},
   "source": [
    "## Plot Validation and Training Metrics for visual presentation "
   ]
  },
  {
   "cell_type": "code",
   "execution_count": 20,
   "metadata": {},
   "outputs": [
    {
     "data": {
      "image/png": "[encoded data removed]",
      "text/plain": [
       "<Figure size 1000x600 with 1 Axes>"
      ]
     },
     "metadata": {},
     "output_type": "display_data"
    }
   ],
   "source": [
    "plt.figure(figsize=(10,6))\n",
    "\n",
    "# training accuracy over epochs\n",
    "plt.plot(history.history['accuracy'])\n",
    "\n",
    "# validation accuracy over epochs\n",
    "plt.plot(history.history['val_accuracy'])\n",
    "\n",
    "plt.title('Exoplanet DNN Model Accuracy')\n",
    "plt.ylabel('Accuracy')\n",
    "plt.xlabel('Epoch')\n",
    "plt.legend(['Train', 'Validation'], loc='upper left')\n",
    "plt.show()"
   ]
  },
  {
   "cell_type": "code",
   "execution_count": 21,
   "metadata": {},
   "outputs": [
    {
     "data": {
      "image/png": "[encoded data removed]",
      "text/plain": [
       "<Figure size 1000x600 with 1 Axes>"
      ]
     },
     "metadata": {},
     "output_type": "display_data"
    }
   ],
   "source": [
    "# Display loss separately \n",
    "# Loss is a fundamental measure of how well a machine learning model's predictions match the actual outcomes\n",
    "# Loss quantifies the difference between pred values and actual values \n",
    "# Goal of training a model is to MINIMIZE LOSS\n",
    "# By minimizing loss we can improve the model's accuracy and predictive power\n",
    "# Loss guides hyperparamter tuning\n",
    "\n",
    "plt.figure(figsize=(10,6))\n",
    "\n",
    "# training loss over epochs\n",
    "plt.plot(history.history['loss'])\n",
    "\n",
    "# validation loss over epochs\n",
    "plt.plot(history.history['val_loss'])\n",
    "\n",
    "plt.title('Exoplanet DNN Model Loss')\n",
    "plt.ylabel('Loss')\n",
    "plt.xlabel('Epoch')\n",
    "plt.legend(['Train', 'Validation'], loc='upper left')\n",
    "plt.show()"
   ]
  }
 ],
 "metadata": {
  "kernelspec": {
   "display_name": "Python (tf_env)",
   "language": "python",
   "name": "tf_env"
  },
  "language_info": {
   "codemirror_mode": {
    "name": "ipython",
    "version": 3
   },
   "file_extension": ".py",
   "mimetype": "text/x-python",
   "name": "python",
   "nbconvert_exporter": "python",
   "pygments_lexer": "ipython3",
   "version": "3.7.12"
  }
 },
 "nbformat": 4,
 "nbformat_minor": 4
}
