{
 "cells": [
  {
   "cell_type": "markdown",
   "id": "e53d7d09-3165-4c07-99fd-413eb6fbc86e",
   "metadata": {},
   "source": [
    "# Logistic Regression Including All Variables"
   ]
  },
  {
   "cell_type": "code",
   "execution_count": 1,
   "id": "8a97ac8c-5432-4397-94c7-b813d29f6fd7",
   "metadata": {},
   "outputs": [
    {
     "data": {
      "text/html": [
       "<div>\n",
       "<style scoped>\n",
       "    .dataframe tbody tr th:only-of-type {\n",
       "        vertical-align: middle;\n",
       "    }\n",
       "\n",
       "    .dataframe tbody tr th {\n",
       "        vertical-align: top;\n",
       "    }\n",
       "\n",
       "    .dataframe thead th {\n",
       "        text-align: right;\n",
       "    }\n",
       "</style>\n",
       "<table border=\"1\" class=\"dataframe\">\n",
       "  <thead>\n",
       "    <tr style=\"text-align: right;\">\n",
       "      <th></th>\n",
       "      <th>Number of Stars</th>\n",
       "      <th>Number of Planets</th>\n",
       "      <th>Number of Moons</th>\n",
       "      <th>Galactic Latitude [deg]</th>\n",
       "      <th>Galactic Longitude [deg]</th>\n",
       "      <th>Ecliptic Latitude [deg]</th>\n",
       "      <th>Ecliptic Longitude [deg]</th>\n",
       "      <th>Number of Photometry Time Series</th>\n",
       "      <th>Number of Radial Velocity Time Series</th>\n",
       "      <th>Number of Stellar Spectra Measurements</th>\n",
       "      <th>Number of Emission Spectroscopy Measurements</th>\n",
       "      <th>Number of Transmission Spectroscopy Measurements</th>\n",
       "      <th>Circumbinary Flag</th>\n",
       "      <th>Controversial Flag</th>\n",
       "      <th>Discovery Year</th>\n",
       "      <th>Detected by Transits</th>\n",
       "    </tr>\n",
       "  </thead>\n",
       "  <tbody>\n",
       "    <tr>\n",
       "      <th>0</th>\n",
       "      <td>3.094076</td>\n",
       "      <td>-0.666894</td>\n",
       "      <td>0.0</td>\n",
       "      <td>2.424559</td>\n",
       "      <td>1.234306</td>\n",
       "      <td>-0.145901</td>\n",
       "      <td>-0.624689</td>\n",
       "      <td>0.613405</td>\n",
       "      <td>1.731519</td>\n",
       "      <td>-0.261600</td>\n",
       "      <td>-0.012466</td>\n",
       "      <td>-0.044364</td>\n",
       "      <td>0</td>\n",
       "      <td>0</td>\n",
       "      <td>2007</td>\n",
       "      <td>0</td>\n",
       "    </tr>\n",
       "    <tr>\n",
       "      <th>1</th>\n",
       "      <td>-0.256668</td>\n",
       "      <td>-0.666894</td>\n",
       "      <td>0.0</td>\n",
       "      <td>1.186720</td>\n",
       "      <td>-0.283545</td>\n",
       "      <td>1.148661</td>\n",
       "      <td>-0.992906</td>\n",
       "      <td>0.613405</td>\n",
       "      <td>0.729626</td>\n",
       "      <td>-0.261600</td>\n",
       "      <td>-0.012466</td>\n",
       "      <td>-0.044364</td>\n",
       "      <td>0</td>\n",
       "      <td>0</td>\n",
       "      <td>2009</td>\n",
       "      <td>0</td>\n",
       "    </tr>\n",
       "    <tr>\n",
       "      <th>2</th>\n",
       "      <td>-0.256668</td>\n",
       "      <td>-0.666894</td>\n",
       "      <td>0.0</td>\n",
       "      <td>-0.877523</td>\n",
       "      <td>-0.306068</td>\n",
       "      <td>0.308947</td>\n",
       "      <td>-2.327878</td>\n",
       "      <td>0.613405</td>\n",
       "      <td>0.729626</td>\n",
       "      <td>-0.261600</td>\n",
       "      <td>-0.012466</td>\n",
       "      <td>-0.044364</td>\n",
       "      <td>0</td>\n",
       "      <td>0</td>\n",
       "      <td>2008</td>\n",
       "      <td>0</td>\n",
       "    </tr>\n",
       "    <tr>\n",
       "      <th>3</th>\n",
       "      <td>-0.256668</td>\n",
       "      <td>0.216988</td>\n",
       "      <td>0.0</td>\n",
       "      <td>1.382856</td>\n",
       "      <td>-0.669803</td>\n",
       "      <td>0.872499</td>\n",
       "      <td>-0.152934</td>\n",
       "      <td>0.613405</td>\n",
       "      <td>3.735304</td>\n",
       "      <td>0.591749</td>\n",
       "      <td>-0.012466</td>\n",
       "      <td>-0.044364</td>\n",
       "      <td>0</td>\n",
       "      <td>0</td>\n",
       "      <td>2002</td>\n",
       "      <td>0</td>\n",
       "    </tr>\n",
       "    <tr>\n",
       "      <th>4</th>\n",
       "      <td>6.444820</td>\n",
       "      <td>-0.666894</td>\n",
       "      <td>0.0</td>\n",
       "      <td>0.261241</td>\n",
       "      <td>-0.531444</td>\n",
       "      <td>1.023143</td>\n",
       "      <td>0.855489</td>\n",
       "      <td>0.613405</td>\n",
       "      <td>3.735304</td>\n",
       "      <td>2.298449</td>\n",
       "      <td>-0.012466</td>\n",
       "      <td>-0.044364</td>\n",
       "      <td>0</td>\n",
       "      <td>0</td>\n",
       "      <td>1996</td>\n",
       "      <td>0</td>\n",
       "    </tr>\n",
       "  </tbody>\n",
       "</table>\n",
       "</div>"
      ],
      "text/plain": [
       "   Number of Stars  Number of Planets  Number of Moons  \\\n",
       "0         3.094076          -0.666894              0.0   \n",
       "1        -0.256668          -0.666894              0.0   \n",
       "2        -0.256668          -0.666894              0.0   \n",
       "3        -0.256668           0.216988              0.0   \n",
       "4         6.444820          -0.666894              0.0   \n",
       "\n",
       "   Galactic Latitude [deg]  Galactic Longitude [deg]  Ecliptic Latitude [deg]  \\\n",
       "0                 2.424559                  1.234306                -0.145901   \n",
       "1                 1.186720                 -0.283545                 1.148661   \n",
       "2                -0.877523                 -0.306068                 0.308947   \n",
       "3                 1.382856                 -0.669803                 0.872499   \n",
       "4                 0.261241                 -0.531444                 1.023143   \n",
       "\n",
       "   Ecliptic Longitude [deg]  Number of Photometry Time Series  \\\n",
       "0                 -0.624689                          0.613405   \n",
       "1                 -0.992906                          0.613405   \n",
       "2                 -2.327878                          0.613405   \n",
       "3                 -0.152934                          0.613405   \n",
       "4                  0.855489                          0.613405   \n",
       "\n",
       "   Number of Radial Velocity Time Series  \\\n",
       "0                               1.731519   \n",
       "1                               0.729626   \n",
       "2                               0.729626   \n",
       "3                               3.735304   \n",
       "4                               3.735304   \n",
       "\n",
       "   Number of Stellar Spectra Measurements  \\\n",
       "0                               -0.261600   \n",
       "1                               -0.261600   \n",
       "2                               -0.261600   \n",
       "3                                0.591749   \n",
       "4                                2.298449   \n",
       "\n",
       "   Number of Emission Spectroscopy Measurements  \\\n",
       "0                                     -0.012466   \n",
       "1                                     -0.012466   \n",
       "2                                     -0.012466   \n",
       "3                                     -0.012466   \n",
       "4                                     -0.012466   \n",
       "\n",
       "   Number of Transmission Spectroscopy Measurements  Circumbinary Flag  \\\n",
       "0                                         -0.044364                  0   \n",
       "1                                         -0.044364                  0   \n",
       "2                                         -0.044364                  0   \n",
       "3                                         -0.044364                  0   \n",
       "4                                         -0.044364                  0   \n",
       "\n",
       "   Controversial Flag  Discovery Year  Detected by Transits  \n",
       "0                   0            2007                     0  \n",
       "1                   0            2009                     0  \n",
       "2                   0            2008                     0  \n",
       "3                   0            2002                     0  \n",
       "4                   0            1996                     0  "
      ]
     },
     "execution_count": 1,
     "metadata": {},
     "output_type": "execute_result"
    }
   ],
   "source": [
    "import pandas as pd\n",
    "composite_preprocessed = pd.read_csv('Composite_preprocessed_NO_MV_BALANCED.csv')\n",
    "composite_preprocessed.head()"
   ]
  },
  {
   "cell_type": "markdown",
   "id": "729d0b2b-eb44-436e-8f56-4d9b24ca4303",
   "metadata": {},
   "source": [
    "# Train Test Split"
   ]
  },
  {
   "cell_type": "code",
   "execution_count": 2,
   "id": "d064c96d-09ca-4113-b4a0-f1f29c1d1144",
   "metadata": {},
   "outputs": [],
   "source": [
    "# we are trying to predict whether an exoplanet has been detected by transits\n",
    "targets = composite_preprocessed['Detected by Transits']\n",
    "# training features are all variables except the targets\n",
    "features = composite_preprocessed.drop(['Detected by Transits'], axis=1)"
   ]
  },
  {
   "cell_type": "code",
   "execution_count": 3,
   "id": "4423bbdd-d8b7-4d2b-8642-abc79da22147",
   "metadata": {},
   "outputs": [
    {
     "data": {
      "text/plain": [
       "((5148, 15), (5148,))"
      ]
     },
     "execution_count": 3,
     "metadata": {},
     "output_type": "execute_result"
    }
   ],
   "source": [
    "# Splitting dataset into training and testing addresses overfitting\n",
    "# shuffling is necessary to remove dependencies that come from order of data\n",
    "from sklearn.model_selection import train_test_split\n",
    "x_train, x_test, y_train, y_test = train_test_split(features, targets, train_size = 0.8, random_state = 42)\n",
    "\n",
    "x_train.shape, y_train.shape"
   ]
  },
  {
   "cell_type": "markdown",
   "id": "84e98919-5fb5-4a7e-9e15-5428a8367649",
   "metadata": {},
   "source": [
    "# Fitting the Logistic Regression"
   ]
  },
  {
   "cell_type": "code",
   "execution_count": 4,
   "id": "bb93d919-7759-4fd8-9a88-cc2b0190695e",
   "metadata": {},
   "outputs": [
    {
     "name": "stderr",
     "output_type": "stream",
     "text": [
      "/Users/kevin/anaconda3/envs/py310_ds/lib/python3.10/site-packages/sklearn/linear_model/_logistic.py:444: ConvergenceWarning: lbfgs failed to converge (status=1):\n",
      "STOP: TOTAL NO. of ITERATIONS REACHED LIMIT.\n",
      "\n",
      "Increase the number of iterations (max_iter) or scale the data as shown in:\n",
      "    https://scikit-learn.org/stable/modules/preprocessing.html\n",
      "Please also refer to the documentation for alternative solver options:\n",
      "    https://scikit-learn.org/stable/modules/linear_model.html#logistic-regression\n",
      "  n_iter_i = _check_optimize_result(\n"
     ]
    },
    {
     "data": {
      "text/html": [
       "<style>#sk-container-id-1 {color: black;background-color: white;}#sk-container-id-1 pre{padding: 0;}#sk-container-id-1 div.sk-toggleable {background-color: white;}#sk-container-id-1 label.sk-toggleable__label {cursor: pointer;display: block;width: 100%;margin-bottom: 0;padding: 0.3em;box-sizing: border-box;text-align: center;}#sk-container-id-1 label.sk-toggleable__label-arrow:before {content: \"▸\";float: left;margin-right: 0.25em;color: #696969;}#sk-container-id-1 label.sk-toggleable__label-arrow:hover:before {color: black;}#sk-container-id-1 div.sk-estimator:hover label.sk-toggleable__label-arrow:before {color: black;}#sk-container-id-1 div.sk-toggleable__content {max-height: 0;max-width: 0;overflow: hidden;text-align: left;background-color: #f0f8ff;}#sk-container-id-1 div.sk-toggleable__content pre {margin: 0.2em;color: black;border-radius: 0.25em;background-color: #f0f8ff;}#sk-container-id-1 input.sk-toggleable__control:checked~div.sk-toggleable__content {max-height: 200px;max-width: 100%;overflow: auto;}#sk-container-id-1 input.sk-toggleable__control:checked~label.sk-toggleable__label-arrow:before {content: \"▾\";}#sk-container-id-1 div.sk-estimator input.sk-toggleable__control:checked~label.sk-toggleable__label {background-color: #d4ebff;}#sk-container-id-1 div.sk-label input.sk-toggleable__control:checked~label.sk-toggleable__label {background-color: #d4ebff;}#sk-container-id-1 input.sk-hidden--visually {border: 0;clip: rect(1px 1px 1px 1px);clip: rect(1px, 1px, 1px, 1px);height: 1px;margin: -1px;overflow: hidden;padding: 0;position: absolute;width: 1px;}#sk-container-id-1 div.sk-estimator {font-family: monospace;background-color: #f0f8ff;border: 1px dotted black;border-radius: 0.25em;box-sizing: border-box;margin-bottom: 0.5em;}#sk-container-id-1 div.sk-estimator:hover {background-color: #d4ebff;}#sk-container-id-1 div.sk-parallel-item::after {content: \"\";width: 100%;border-bottom: 1px solid gray;flex-grow: 1;}#sk-container-id-1 div.sk-label:hover label.sk-toggleable__label {background-color: #d4ebff;}#sk-container-id-1 div.sk-serial::before {content: \"\";position: absolute;border-left: 1px solid gray;box-sizing: border-box;top: 0;bottom: 0;left: 50%;z-index: 0;}#sk-container-id-1 div.sk-serial {display: flex;flex-direction: column;align-items: center;background-color: white;padding-right: 0.2em;padding-left: 0.2em;position: relative;}#sk-container-id-1 div.sk-item {position: relative;z-index: 1;}#sk-container-id-1 div.sk-parallel {display: flex;align-items: stretch;justify-content: center;background-color: white;position: relative;}#sk-container-id-1 div.sk-item::before, #sk-container-id-1 div.sk-parallel-item::before {content: \"\";position: absolute;border-left: 1px solid gray;box-sizing: border-box;top: 0;bottom: 0;left: 50%;z-index: -1;}#sk-container-id-1 div.sk-parallel-item {display: flex;flex-direction: column;z-index: 1;position: relative;background-color: white;}#sk-container-id-1 div.sk-parallel-item:first-child::after {align-self: flex-end;width: 50%;}#sk-container-id-1 div.sk-parallel-item:last-child::after {align-self: flex-start;width: 50%;}#sk-container-id-1 div.sk-parallel-item:only-child::after {width: 0;}#sk-container-id-1 div.sk-dashed-wrapped {border: 1px dashed gray;margin: 0 0.4em 0.5em 0.4em;box-sizing: border-box;padding-bottom: 0.4em;background-color: white;}#sk-container-id-1 div.sk-label label {font-family: monospace;font-weight: bold;display: inline-block;line-height: 1.2em;}#sk-container-id-1 div.sk-label-container {text-align: center;}#sk-container-id-1 div.sk-container {/* jupyter's `normalize.less` sets `[hidden] { display: none; }` but bootstrap.min.css set `[hidden] { display: none !important; }` so we also need the `!important` here to be able to override the default hidden behavior on the sphinx rendered scikit-learn.org. See: https://github.com/scikit-learn/scikit-learn/issues/21755 */display: inline-block !important;position: relative;}#sk-container-id-1 div.sk-text-repr-fallback {display: none;}</style><div id=\"sk-container-id-1\" class=\"sk-top-container\"><div class=\"sk-text-repr-fallback\"><pre>LogisticRegression()</pre><b>In a Jupyter environment, please rerun this cell to show the HTML representation or trust the notebook. <br />On GitHub, the HTML representation is unable to render, please try loading this page with nbviewer.org.</b></div><div class=\"sk-container\" hidden><div class=\"sk-item\"><div class=\"sk-estimator sk-toggleable\"><input class=\"sk-toggleable__control sk-hidden--visually\" id=\"sk-estimator-id-1\" type=\"checkbox\" checked><label for=\"sk-estimator-id-1\" class=\"sk-toggleable__label sk-toggleable__label-arrow\">LogisticRegression</label><div class=\"sk-toggleable__content\"><pre>LogisticRegression()</pre></div></div></div></div></div>"
      ],
      "text/plain": [
       "LogisticRegression()"
      ]
     },
     "execution_count": 4,
     "metadata": {},
     "output_type": "execute_result"
    }
   ],
   "source": [
    "from sklearn.linear_model import LogisticRegression\n",
    "from sklearn import metrics\n",
    "\n",
    "logreg = LogisticRegression()\n",
    "logreg.fit(x_train,y_train)"
   ]
  },
  {
   "cell_type": "code",
   "execution_count": 5,
   "id": "9ea24ffe-61a2-4a78-8e1a-5a0a65e08021",
   "metadata": {},
   "outputs": [
    {
     "data": {
      "text/plain": [
       "0.8512043512043512"
      ]
     },
     "execution_count": 5,
     "metadata": {},
     "output_type": "execute_result"
    }
   ],
   "source": [
    "logreg.score(x_train, y_train)"
   ]
  },
  {
   "cell_type": "markdown",
   "id": "a9f94102-c0ae-4017-bbd5-e4cc8388258f",
   "metadata": {},
   "source": [
    "### 85% of the model's training outputs match the targets!\n",
    "### Still important to manually calculate the accuracy"
   ]
  },
  {
   "cell_type": "code",
   "execution_count": 6,
   "id": "109952ad-bc3d-47ed-b209-78d42ce20baf",
   "metadata": {},
   "outputs": [
    {
     "data": {
      "text/plain": [
       "array([0, 1, 1, ..., 0, 0, 0])"
      ]
     },
     "execution_count": 6,
     "metadata": {},
     "output_type": "execute_result"
    }
   ],
   "source": [
    "model_outputs = logreg.predict(x_train)\n",
    "# view the predicted class labels of the regression\n",
    "model_outputs"
   ]
  },
  {
   "cell_type": "code",
   "execution_count": 7,
   "id": "ed32012b-a22b-484e-8994-69a79cc0ee16",
   "metadata": {},
   "outputs": [
    {
     "data": {
      "text/plain": [
       "915      True\n",
       "5904    False\n",
       "2083     True\n",
       "2480     True\n",
       "509      True\n",
       "        ...  \n",
       "3772     True\n",
       "5191     True\n",
       "5226     True\n",
       "5390     True\n",
       "860      True\n",
       "Name: Detected by Transits, Length: 5148, dtype: bool"
      ]
     },
     "execution_count": 7,
     "metadata": {},
     "output_type": "execute_result"
    }
   ],
   "source": [
    "model_outputs == y_train"
   ]
  },
  {
   "cell_type": "code",
   "execution_count": 8,
   "id": "22a72fdd-b1a9-4b24-9d01-f30f27ea413c",
   "metadata": {},
   "outputs": [
    {
     "data": {
      "text/plain": [
       "0.8512043512043512"
      ]
     },
     "execution_count": 8,
     "metadata": {},
     "output_type": "execute_result"
    }
   ],
   "source": [
    "# sum to measure correct predictions\n",
    "import numpy as np\n",
    "# number correct / total number model predictions\n",
    "np.sum([model_outputs == y_train]) / model_outputs.shape[0]"
   ]
  },
  {
   "cell_type": "markdown",
   "id": "258849ee-acc6-41a7-8abc-3e2cad767940",
   "metadata": {},
   "source": [
    "### Same accuracy!"
   ]
  },
  {
   "cell_type": "markdown",
   "id": "15211f1a-845c-4783-95b3-7b35cdd80060",
   "metadata": {},
   "source": [
    "# Analyze Summary Table with coefficients (weights) and intercept (bias)"
   ]
  },
  {
   "cell_type": "code",
   "execution_count": 9,
   "id": "e3d2a6b4-f1fb-493f-bf97-f32c112627ad",
   "metadata": {},
   "outputs": [
    {
     "data": {
      "text/plain": [
       "(array([-0.00526204]),\n",
       " array([[-1.42124490e-01,  4.72468078e-01,  0.00000000e+00,\n",
       "         -2.59846887e-01,  5.41492684e-01,  1.95242277e+00,\n",
       "          3.45094625e-01, -2.69072288e+00, -1.63784458e+00,\n",
       "         -1.77303369e+00,  8.01769322e-02,  2.77559367e-01,\n",
       "         -1.53029290e-01, -1.09417269e-01, -5.71383407e-04]]))"
      ]
     },
     "execution_count": 9,
     "metadata": {},
     "output_type": "execute_result"
    }
   ],
   "source": [
    "logreg.intercept_, logreg.coef_"
   ]
  },
  {
   "cell_type": "markdown",
   "id": "be26f527-5d45-4eed-a3c1-da9e02fdd9ba",
   "metadata": {},
   "source": [
    "### Match up coefs with features"
   ]
  },
  {
   "cell_type": "code",
   "execution_count": 10,
   "id": "3a53cd0f-15cd-4b09-be2d-dd898348b4de",
   "metadata": {},
   "outputs": [],
   "source": [
    "feature_name = features.columns.values\n",
    "summary_table = pd.DataFrame(columns=['Feature Name'], data = feature_name)"
   ]
  },
  {
   "cell_type": "markdown",
   "id": "513b5b98-5c14-43ce-a309-b4c1e94f3609",
   "metadata": {},
   "source": [
    "### Transpose bc by default np arrays are rows and not columns"
   ]
  },
  {
   "cell_type": "code",
   "execution_count": 11,
   "id": "8941e1bd-fb23-4176-99a0-068f5fddd609",
   "metadata": {},
   "outputs": [],
   "source": [
    "summary_table['Coefficients'] = np.transpose(logreg.coef_)"
   ]
  },
  {
   "cell_type": "markdown",
   "id": "fa73d2cf-f82f-4e01-bae8-6ac4d9a7cf1c",
   "metadata": {},
   "source": [
    "### Insert intercept as 0th index ; Move all indices up by 1 "
   ]
  },
  {
   "cell_type": "code",
   "execution_count": 12,
   "id": "ba5522f7-ee72-4167-9d2b-2fa03c542616",
   "metadata": {},
   "outputs": [
    {
     "data": {
      "text/html": [
       "<div>\n",
       "<style scoped>\n",
       "    .dataframe tbody tr th:only-of-type {\n",
       "        vertical-align: middle;\n",
       "    }\n",
       "\n",
       "    .dataframe tbody tr th {\n",
       "        vertical-align: top;\n",
       "    }\n",
       "\n",
       "    .dataframe thead th {\n",
       "        text-align: right;\n",
       "    }\n",
       "</style>\n",
       "<table border=\"1\" class=\"dataframe\">\n",
       "  <thead>\n",
       "    <tr style=\"text-align: right;\">\n",
       "      <th></th>\n",
       "      <th>Feature Name</th>\n",
       "      <th>Coefficients</th>\n",
       "    </tr>\n",
       "  </thead>\n",
       "  <tbody>\n",
       "    <tr>\n",
       "      <th>0</th>\n",
       "      <td>Intercept</td>\n",
       "      <td>-0.005262</td>\n",
       "    </tr>\n",
       "    <tr>\n",
       "      <th>1</th>\n",
       "      <td>Number of Stars</td>\n",
       "      <td>-0.142124</td>\n",
       "    </tr>\n",
       "    <tr>\n",
       "      <th>2</th>\n",
       "      <td>Number of Planets</td>\n",
       "      <td>0.472468</td>\n",
       "    </tr>\n",
       "    <tr>\n",
       "      <th>3</th>\n",
       "      <td>Number of Moons</td>\n",
       "      <td>0.000000</td>\n",
       "    </tr>\n",
       "    <tr>\n",
       "      <th>4</th>\n",
       "      <td>Galactic Latitude [deg]</td>\n",
       "      <td>-0.259847</td>\n",
       "    </tr>\n",
       "    <tr>\n",
       "      <th>5</th>\n",
       "      <td>Galactic Longitude [deg]</td>\n",
       "      <td>0.541493</td>\n",
       "    </tr>\n",
       "    <tr>\n",
       "      <th>6</th>\n",
       "      <td>Ecliptic Latitude [deg]</td>\n",
       "      <td>1.952423</td>\n",
       "    </tr>\n",
       "    <tr>\n",
       "      <th>7</th>\n",
       "      <td>Ecliptic Longitude [deg]</td>\n",
       "      <td>0.345095</td>\n",
       "    </tr>\n",
       "    <tr>\n",
       "      <th>8</th>\n",
       "      <td>Number of Photometry Time Series</td>\n",
       "      <td>-2.690723</td>\n",
       "    </tr>\n",
       "    <tr>\n",
       "      <th>9</th>\n",
       "      <td>Number of Radial Velocity Time Series</td>\n",
       "      <td>-1.637845</td>\n",
       "    </tr>\n",
       "    <tr>\n",
       "      <th>10</th>\n",
       "      <td>Number of Stellar Spectra Measurements</td>\n",
       "      <td>-1.773034</td>\n",
       "    </tr>\n",
       "    <tr>\n",
       "      <th>11</th>\n",
       "      <td>Number of Emission Spectroscopy Measurements</td>\n",
       "      <td>0.080177</td>\n",
       "    </tr>\n",
       "    <tr>\n",
       "      <th>12</th>\n",
       "      <td>Number of Transmission Spectroscopy Measurements</td>\n",
       "      <td>0.277559</td>\n",
       "    </tr>\n",
       "    <tr>\n",
       "      <th>13</th>\n",
       "      <td>Circumbinary Flag</td>\n",
       "      <td>-0.153029</td>\n",
       "    </tr>\n",
       "    <tr>\n",
       "      <th>14</th>\n",
       "      <td>Controversial Flag</td>\n",
       "      <td>-0.109417</td>\n",
       "    </tr>\n",
       "    <tr>\n",
       "      <th>15</th>\n",
       "      <td>Discovery Year</td>\n",
       "      <td>-0.000571</td>\n",
       "    </tr>\n",
       "  </tbody>\n",
       "</table>\n",
       "</div>"
      ],
      "text/plain": [
       "                                        Feature Name  Coefficients\n",
       "0                                          Intercept     -0.005262\n",
       "1                                    Number of Stars     -0.142124\n",
       "2                                  Number of Planets      0.472468\n",
       "3                                    Number of Moons      0.000000\n",
       "4                            Galactic Latitude [deg]     -0.259847\n",
       "5                           Galactic Longitude [deg]      0.541493\n",
       "6                            Ecliptic Latitude [deg]      1.952423\n",
       "7                           Ecliptic Longitude [deg]      0.345095\n",
       "8                   Number of Photometry Time Series     -2.690723\n",
       "9              Number of Radial Velocity Time Series     -1.637845\n",
       "10            Number of Stellar Spectra Measurements     -1.773034\n",
       "11      Number of Emission Spectroscopy Measurements      0.080177\n",
       "12  Number of Transmission Spectroscopy Measurements      0.277559\n",
       "13                                 Circumbinary Flag     -0.153029\n",
       "14                                Controversial Flag     -0.109417\n",
       "15                                    Discovery Year     -0.000571"
      ]
     },
     "execution_count": 12,
     "metadata": {},
     "output_type": "execute_result"
    }
   ],
   "source": [
    "summary_table.index += 1\n",
    "summary_table.loc[0] = ['Intercept', logreg.intercept_[0]]\n",
    "summary_table = summary_table.sort_index()\n",
    "summary_table"
   ]
  },
  {
   "cell_type": "markdown",
   "id": "3a81f6d9-5e35-49cc-b79f-801e2bad3494",
   "metadata": {},
   "source": [
    "## The closer the coefficient is to 0, the less impact (less weight on the model) \n",
    "## Now we calculate log odds \n",
    "## Log odds tell us the strength of the relationship between the feature and the outcome (detected by transits T/F)"
   ]
  },
  {
   "cell_type": "code",
   "execution_count": 13,
   "id": "103c2988-77d1-4c2b-a94a-80ea1eac869b",
   "metadata": {},
   "outputs": [
    {
     "data": {
      "text/html": [
       "<div>\n",
       "<style scoped>\n",
       "    .dataframe tbody tr th:only-of-type {\n",
       "        vertical-align: middle;\n",
       "    }\n",
       "\n",
       "    .dataframe tbody tr th {\n",
       "        vertical-align: top;\n",
       "    }\n",
       "\n",
       "    .dataframe thead th {\n",
       "        text-align: right;\n",
       "    }\n",
       "</style>\n",
       "<table border=\"1\" class=\"dataframe\">\n",
       "  <thead>\n",
       "    <tr style=\"text-align: right;\">\n",
       "      <th></th>\n",
       "      <th>Feature Name</th>\n",
       "      <th>Coefficients</th>\n",
       "      <th>Odds_ratio</th>\n",
       "    </tr>\n",
       "  </thead>\n",
       "  <tbody>\n",
       "    <tr>\n",
       "      <th>6</th>\n",
       "      <td>Ecliptic Latitude [deg]</td>\n",
       "      <td>1.952423</td>\n",
       "      <td>7.045737</td>\n",
       "    </tr>\n",
       "    <tr>\n",
       "      <th>5</th>\n",
       "      <td>Galactic Longitude [deg]</td>\n",
       "      <td>0.541493</td>\n",
       "      <td>1.718570</td>\n",
       "    </tr>\n",
       "    <tr>\n",
       "      <th>2</th>\n",
       "      <td>Number of Planets</td>\n",
       "      <td>0.472468</td>\n",
       "      <td>1.603948</td>\n",
       "    </tr>\n",
       "    <tr>\n",
       "      <th>7</th>\n",
       "      <td>Ecliptic Longitude [deg]</td>\n",
       "      <td>0.345095</td>\n",
       "      <td>1.412124</td>\n",
       "    </tr>\n",
       "    <tr>\n",
       "      <th>12</th>\n",
       "      <td>Number of Transmission Spectroscopy Measurements</td>\n",
       "      <td>0.277559</td>\n",
       "      <td>1.319904</td>\n",
       "    </tr>\n",
       "    <tr>\n",
       "      <th>11</th>\n",
       "      <td>Number of Emission Spectroscopy Measurements</td>\n",
       "      <td>0.080177</td>\n",
       "      <td>1.083479</td>\n",
       "    </tr>\n",
       "    <tr>\n",
       "      <th>3</th>\n",
       "      <td>Number of Moons</td>\n",
       "      <td>0.000000</td>\n",
       "      <td>1.000000</td>\n",
       "    </tr>\n",
       "    <tr>\n",
       "      <th>15</th>\n",
       "      <td>Discovery Year</td>\n",
       "      <td>-0.000571</td>\n",
       "      <td>0.999429</td>\n",
       "    </tr>\n",
       "    <tr>\n",
       "      <th>0</th>\n",
       "      <td>Intercept</td>\n",
       "      <td>-0.005262</td>\n",
       "      <td>0.994752</td>\n",
       "    </tr>\n",
       "    <tr>\n",
       "      <th>14</th>\n",
       "      <td>Controversial Flag</td>\n",
       "      <td>-0.109417</td>\n",
       "      <td>0.896356</td>\n",
       "    </tr>\n",
       "    <tr>\n",
       "      <th>1</th>\n",
       "      <td>Number of Stars</td>\n",
       "      <td>-0.142124</td>\n",
       "      <td>0.867513</td>\n",
       "    </tr>\n",
       "    <tr>\n",
       "      <th>13</th>\n",
       "      <td>Circumbinary Flag</td>\n",
       "      <td>-0.153029</td>\n",
       "      <td>0.858105</td>\n",
       "    </tr>\n",
       "    <tr>\n",
       "      <th>4</th>\n",
       "      <td>Galactic Latitude [deg]</td>\n",
       "      <td>-0.259847</td>\n",
       "      <td>0.771170</td>\n",
       "    </tr>\n",
       "    <tr>\n",
       "      <th>9</th>\n",
       "      <td>Number of Radial Velocity Time Series</td>\n",
       "      <td>-1.637845</td>\n",
       "      <td>0.194399</td>\n",
       "    </tr>\n",
       "    <tr>\n",
       "      <th>10</th>\n",
       "      <td>Number of Stellar Spectra Measurements</td>\n",
       "      <td>-1.773034</td>\n",
       "      <td>0.169817</td>\n",
       "    </tr>\n",
       "    <tr>\n",
       "      <th>8</th>\n",
       "      <td>Number of Photometry Time Series</td>\n",
       "      <td>-2.690723</td>\n",
       "      <td>0.067832</td>\n",
       "    </tr>\n",
       "  </tbody>\n",
       "</table>\n",
       "</div>"
      ],
      "text/plain": [
       "                                        Feature Name  Coefficients  Odds_ratio\n",
       "6                            Ecliptic Latitude [deg]      1.952423    7.045737\n",
       "5                           Galactic Longitude [deg]      0.541493    1.718570\n",
       "2                                  Number of Planets      0.472468    1.603948\n",
       "7                           Ecliptic Longitude [deg]      0.345095    1.412124\n",
       "12  Number of Transmission Spectroscopy Measurements      0.277559    1.319904\n",
       "11      Number of Emission Spectroscopy Measurements      0.080177    1.083479\n",
       "3                                    Number of Moons      0.000000    1.000000\n",
       "15                                    Discovery Year     -0.000571    0.999429\n",
       "0                                          Intercept     -0.005262    0.994752\n",
       "14                                Controversial Flag     -0.109417    0.896356\n",
       "1                                    Number of Stars     -0.142124    0.867513\n",
       "13                                 Circumbinary Flag     -0.153029    0.858105\n",
       "4                            Galactic Latitude [deg]     -0.259847    0.771170\n",
       "9              Number of Radial Velocity Time Series     -1.637845    0.194399\n",
       "10            Number of Stellar Spectra Measurements     -1.773034    0.169817\n",
       "8                   Number of Photometry Time Series     -2.690723    0.067832"
      ]
     },
     "execution_count": 13,
     "metadata": {},
     "output_type": "execute_result"
    }
   ],
   "source": [
    "summary_table['Odds_ratio'] = np.exp(summary_table['Coefficients'])\n",
    "summary_ordered = summary_table.sort_values('Odds_ratio', ascending=False)\n",
    "summary_ordered"
   ]
  },
  {
   "cell_type": "markdown",
   "id": "7685cee3-d59c-4cfe-ada0-233ced2954f3",
   "metadata": {},
   "source": [
    "## A feature is not important if:\n",
    "## Coef ~ 0 (means this coefficient, even at its highest value will have close to 0 effect on the outcome);\n",
    "## Odds ratio ~ 1 (means this coefficient, even at its highest value will only have minimal effect on the odds of the outcome)"
   ]
  },
  {
   "cell_type": "markdown",
   "id": "1404fa05-a327-4c06-a5ec-0b99da81cb57",
   "metadata": {},
   "source": [
    "## Based on the summary table, and after checking p-values, we can exclude:\n",
    "### Number of Moons; Discovery Year; "
   ]
  }
 ],
 "metadata": {
  "kernelspec": {
   "display_name": "Python (py310_ds)",
   "language": "python",
   "name": "myenv"
  },
  "language_info": {
   "codemirror_mode": {
    "name": "ipython",
    "version": 3
   },
   "file_extension": ".py",
   "mimetype": "text/x-python",
   "name": "python",
   "nbconvert_exporter": "python",
   "pygments_lexer": "ipython3",
   "version": "3.10.14"
  }
 },
 "nbformat": 4,
 "nbformat_minor": 5
}
