{
 "cells": [
  {
   "cell_type": "markdown",
   "metadata": {},
   "source": [
    "# Deep Neural Network for Exoplanet Discovery Method Classification\n",
    "## Identifying Patterns in Exoplanet Characteristics to Determine Discovery Methods"
   ]
  },
  {
   "cell_type": "code",
   "execution_count": 1,
   "metadata": {},
   "outputs": [
    {
     "name": "stderr",
     "output_type": "stream",
     "text": [
      "/Users/kevin/anaconda3/envs/tf_env/lib/python3.7/site-packages/tqdm/auto.py:22: TqdmWarning: IProgress not found. Please update jupyter and ipywidgets. See https://ipywidgets.readthedocs.io/en/stable/user_install.html\n",
      "  from .autonotebook import tqdm as notebook_tqdm\n"
     ]
    }
   ],
   "source": [
    "import numpy as np\n",
    "import tensorflow as tf\n",
    "import pandas as pd\n",
    "import optuna as opt"
   ]
  },
  {
   "cell_type": "markdown",
   "metadata": {},
   "source": [
    "## Data"
   ]
  },
  {
   "cell_type": "code",
   "execution_count": 2,
   "metadata": {
    "scrolled": true
   },
   "outputs": [
    {
     "data": {
      "text/html": [
       "<div>\n",
       "<style scoped>\n",
       "    .dataframe tbody tr th:only-of-type {\n",
       "        vertical-align: middle;\n",
       "    }\n",
       "\n",
       "    .dataframe tbody tr th {\n",
       "        vertical-align: top;\n",
       "    }\n",
       "\n",
       "    .dataframe thead th {\n",
       "        text-align: right;\n",
       "    }\n",
       "</style>\n",
       "<table border=\"1\" class=\"dataframe\">\n",
       "  <thead>\n",
       "    <tr style=\"text-align: right;\">\n",
       "      <th></th>\n",
       "      <th>Number of Stars</th>\n",
       "      <th>Number of Planets</th>\n",
       "      <th>Number of Moons</th>\n",
       "      <th>Galactic Latitude [deg]</th>\n",
       "      <th>Galactic Longitude [deg]</th>\n",
       "      <th>Ecliptic Latitude [deg]</th>\n",
       "      <th>Ecliptic Longitude [deg]</th>\n",
       "      <th>Number of Photometry Time Series</th>\n",
       "      <th>Number of Radial Velocity Time Series</th>\n",
       "      <th>Number of Stellar Spectra Measurements</th>\n",
       "      <th>Number of Emission Spectroscopy Measurements</th>\n",
       "      <th>Number of Transmission Spectroscopy Measurements</th>\n",
       "      <th>Circumbinary Flag</th>\n",
       "      <th>Controversial Flag</th>\n",
       "      <th>Discovery Year</th>\n",
       "      <th>Detected by Transits</th>\n",
       "    </tr>\n",
       "  </thead>\n",
       "  <tbody>\n",
       "    <tr>\n",
       "      <th>0</th>\n",
       "      <td>3.094076</td>\n",
       "      <td>-0.666894</td>\n",
       "      <td>0.0</td>\n",
       "      <td>2.424559</td>\n",
       "      <td>1.234306</td>\n",
       "      <td>-0.145901</td>\n",
       "      <td>-0.624689</td>\n",
       "      <td>0.613405</td>\n",
       "      <td>1.731519</td>\n",
       "      <td>-0.261600</td>\n",
       "      <td>-0.012466</td>\n",
       "      <td>-0.044364</td>\n",
       "      <td>0</td>\n",
       "      <td>0</td>\n",
       "      <td>2007</td>\n",
       "      <td>0</td>\n",
       "    </tr>\n",
       "    <tr>\n",
       "      <th>1</th>\n",
       "      <td>-0.256668</td>\n",
       "      <td>-0.666894</td>\n",
       "      <td>0.0</td>\n",
       "      <td>1.186720</td>\n",
       "      <td>-0.283545</td>\n",
       "      <td>1.148661</td>\n",
       "      <td>-0.992906</td>\n",
       "      <td>0.613405</td>\n",
       "      <td>0.729626</td>\n",
       "      <td>-0.261600</td>\n",
       "      <td>-0.012466</td>\n",
       "      <td>-0.044364</td>\n",
       "      <td>0</td>\n",
       "      <td>0</td>\n",
       "      <td>2009</td>\n",
       "      <td>0</td>\n",
       "    </tr>\n",
       "    <tr>\n",
       "      <th>2</th>\n",
       "      <td>-0.256668</td>\n",
       "      <td>-0.666894</td>\n",
       "      <td>0.0</td>\n",
       "      <td>-0.877523</td>\n",
       "      <td>-0.306068</td>\n",
       "      <td>0.308947</td>\n",
       "      <td>-2.327878</td>\n",
       "      <td>0.613405</td>\n",
       "      <td>0.729626</td>\n",
       "      <td>-0.261600</td>\n",
       "      <td>-0.012466</td>\n",
       "      <td>-0.044364</td>\n",
       "      <td>0</td>\n",
       "      <td>0</td>\n",
       "      <td>2008</td>\n",
       "      <td>0</td>\n",
       "    </tr>\n",
       "    <tr>\n",
       "      <th>3</th>\n",
       "      <td>-0.256668</td>\n",
       "      <td>0.216988</td>\n",
       "      <td>0.0</td>\n",
       "      <td>1.382856</td>\n",
       "      <td>-0.669803</td>\n",
       "      <td>0.872499</td>\n",
       "      <td>-0.152934</td>\n",
       "      <td>0.613405</td>\n",
       "      <td>3.735304</td>\n",
       "      <td>0.591749</td>\n",
       "      <td>-0.012466</td>\n",
       "      <td>-0.044364</td>\n",
       "      <td>0</td>\n",
       "      <td>0</td>\n",
       "      <td>2002</td>\n",
       "      <td>0</td>\n",
       "    </tr>\n",
       "    <tr>\n",
       "      <th>4</th>\n",
       "      <td>6.444820</td>\n",
       "      <td>-0.666894</td>\n",
       "      <td>0.0</td>\n",
       "      <td>0.261241</td>\n",
       "      <td>-0.531444</td>\n",
       "      <td>1.023143</td>\n",
       "      <td>0.855489</td>\n",
       "      <td>0.613405</td>\n",
       "      <td>3.735304</td>\n",
       "      <td>2.298449</td>\n",
       "      <td>-0.012466</td>\n",
       "      <td>-0.044364</td>\n",
       "      <td>0</td>\n",
       "      <td>0</td>\n",
       "      <td>1996</td>\n",
       "      <td>0</td>\n",
       "    </tr>\n",
       "  </tbody>\n",
       "</table>\n",
       "</div>"
      ],
      "text/plain": [
       "   Number of Stars  Number of Planets  Number of Moons  \\\n",
       "0         3.094076          -0.666894              0.0   \n",
       "1        -0.256668          -0.666894              0.0   \n",
       "2        -0.256668          -0.666894              0.0   \n",
       "3        -0.256668           0.216988              0.0   \n",
       "4         6.444820          -0.666894              0.0   \n",
       "\n",
       "   Galactic Latitude [deg]  Galactic Longitude [deg]  Ecliptic Latitude [deg]  \\\n",
       "0                 2.424559                  1.234306                -0.145901   \n",
       "1                 1.186720                 -0.283545                 1.148661   \n",
       "2                -0.877523                 -0.306068                 0.308947   \n",
       "3                 1.382856                 -0.669803                 0.872499   \n",
       "4                 0.261241                 -0.531444                 1.023143   \n",
       "\n",
       "   Ecliptic Longitude [deg]  Number of Photometry Time Series  \\\n",
       "0                 -0.624689                          0.613405   \n",
       "1                 -0.992906                          0.613405   \n",
       "2                 -2.327878                          0.613405   \n",
       "3                 -0.152934                          0.613405   \n",
       "4                  0.855489                          0.613405   \n",
       "\n",
       "   Number of Radial Velocity Time Series  \\\n",
       "0                               1.731519   \n",
       "1                               0.729626   \n",
       "2                               0.729626   \n",
       "3                               3.735304   \n",
       "4                               3.735304   \n",
       "\n",
       "   Number of Stellar Spectra Measurements  \\\n",
       "0                               -0.261600   \n",
       "1                               -0.261600   \n",
       "2                               -0.261600   \n",
       "3                                0.591749   \n",
       "4                                2.298449   \n",
       "\n",
       "   Number of Emission Spectroscopy Measurements  \\\n",
       "0                                     -0.012466   \n",
       "1                                     -0.012466   \n",
       "2                                     -0.012466   \n",
       "3                                     -0.012466   \n",
       "4                                     -0.012466   \n",
       "\n",
       "   Number of Transmission Spectroscopy Measurements  Circumbinary Flag  \\\n",
       "0                                         -0.044364                  0   \n",
       "1                                         -0.044364                  0   \n",
       "2                                         -0.044364                  0   \n",
       "3                                         -0.044364                  0   \n",
       "4                                         -0.044364                  0   \n",
       "\n",
       "   Controversial Flag  Discovery Year  Detected by Transits  \n",
       "0                   0            2007                     0  \n",
       "1                   0            2009                     0  \n",
       "2                   0            2008                     0  \n",
       "3                   0            2002                     0  \n",
       "4                   0            1996                     0  "
      ]
     },
     "execution_count": 2,
     "metadata": {},
     "output_type": "execute_result"
    }
   ],
   "source": [
    "# data preprocessed in another jupytr nb \n",
    "\n",
    "composite_preprocessed = pd.read_csv('Composite_preprocessed_NO_MV_BALANCED.csv')\n",
    "composite_preprocessed.head()"
   ]
  },
  {
   "cell_type": "markdown",
   "metadata": {},
   "source": [
    "### 2 possible results ; Either the exoplanet was discovered by transits (1) or it wasn't (0) ; binary classification\n",
    "### so we have 1 neuron in the output layer  \n",
    "### We will use the features from the XGBoost refined features model \n",
    "### This ensures consistency, reduces complexity, and leverages the feature selection process that has already been validated with my refined features XGBoost model\n",
    "### This would also allow for a fair comparison between models and is likely to result in better performance for the DNN"
   ]
  },
  {
   "cell_type": "markdown",
   "metadata": {},
   "source": [
    "## Remove unimportant features\n",
    "### From the logistic regression model, 'Number of Moons' can be excluded because it does not provide value to the model"
   ]
  },
  {
   "cell_type": "code",
   "execution_count": 3,
   "metadata": {},
   "outputs": [],
   "source": [
    "remove = ['Number of Radial Velocity Time Series',\n",
    "          'Number of Stellar Spectra Measurements',\n",
    "          'Controversial Flag',\n",
    "          'Circumbinary Flag',\n",
    "          'Number of Moons']\n",
    "\n",
    "composite_unnecessary_removed = composite_preprocessed.drop(remove, axis=1)"
   ]
  },
  {
   "cell_type": "markdown",
   "metadata": {},
   "source": [
    "## Train Test Split"
   ]
  },
  {
   "cell_type": "code",
   "execution_count": 4,
   "metadata": {},
   "outputs": [],
   "source": [
    "# we are trying to predict whether an exoplanet has been detected by transits (0 or 1)\n",
    "# target variable is if the exoplanet was discovered by transits\n",
    "\n",
    "targets = composite_unnecessary_removed['Detected by Transits']\n",
    "\n",
    "# training features are all variables except the targets\n",
    "\n",
    "features = composite_unnecessary_removed.drop(['Detected by Transits'], axis=1)"
   ]
  },
  {
   "cell_type": "markdown",
   "metadata": {},
   "source": [
    "## Observe Feature Correlations"
   ]
  },
  {
   "cell_type": "code",
   "execution_count": 5,
   "metadata": {},
   "outputs": [
    {
     "data": {
      "text/html": [
       "<div>\n",
       "<style scoped>\n",
       "    .dataframe tbody tr th:only-of-type {\n",
       "        vertical-align: middle;\n",
       "    }\n",
       "\n",
       "    .dataframe tbody tr th {\n",
       "        vertical-align: top;\n",
       "    }\n",
       "\n",
       "    .dataframe thead th {\n",
       "        text-align: right;\n",
       "    }\n",
       "</style>\n",
       "<table border=\"1\" class=\"dataframe\">\n",
       "  <thead>\n",
       "    <tr style=\"text-align: right;\">\n",
       "      <th></th>\n",
       "      <th>Number of Stars</th>\n",
       "      <th>Number of Planets</th>\n",
       "      <th>Galactic Latitude [deg]</th>\n",
       "      <th>Galactic Longitude [deg]</th>\n",
       "      <th>Ecliptic Latitude [deg]</th>\n",
       "      <th>Ecliptic Longitude [deg]</th>\n",
       "      <th>Number of Photometry Time Series</th>\n",
       "      <th>Number of Emission Spectroscopy Measurements</th>\n",
       "      <th>Number of Transmission Spectroscopy Measurements</th>\n",
       "      <th>Discovery Year</th>\n",
       "    </tr>\n",
       "  </thead>\n",
       "  <tbody>\n",
       "    <tr>\n",
       "      <th>Number of Stars</th>\n",
       "      <td>1.000000</td>\n",
       "      <td>0.109074</td>\n",
       "      <td>-0.044988</td>\n",
       "      <td>0.104236</td>\n",
       "      <td>-0.087528</td>\n",
       "      <td>-0.069450</td>\n",
       "      <td>0.057734</td>\n",
       "      <td>-0.003200</td>\n",
       "      <td>-0.002096</td>\n",
       "      <td>-0.147575</td>\n",
       "    </tr>\n",
       "    <tr>\n",
       "      <th>Number of Planets</th>\n",
       "      <td>0.109074</td>\n",
       "      <td>1.000000</td>\n",
       "      <td>-0.055511</td>\n",
       "      <td>0.008589</td>\n",
       "      <td>0.026680</td>\n",
       "      <td>-0.023926</td>\n",
       "      <td>-0.002505</td>\n",
       "      <td>0.057797</td>\n",
       "      <td>0.076409</td>\n",
       "      <td>-0.072274</td>\n",
       "    </tr>\n",
       "    <tr>\n",
       "      <th>Galactic Latitude [deg]</th>\n",
       "      <td>-0.044988</td>\n",
       "      <td>-0.055511</td>\n",
       "      <td>1.000000</td>\n",
       "      <td>-0.019213</td>\n",
       "      <td>0.463063</td>\n",
       "      <td>0.174632</td>\n",
       "      <td>-0.090369</td>\n",
       "      <td>-0.025691</td>\n",
       "      <td>-0.008918</td>\n",
       "      <td>0.031820</td>\n",
       "    </tr>\n",
       "    <tr>\n",
       "      <th>Galactic Longitude [deg]</th>\n",
       "      <td>0.104236</td>\n",
       "      <td>0.008589</td>\n",
       "      <td>-0.019213</td>\n",
       "      <td>1.000000</td>\n",
       "      <td>-0.657044</td>\n",
       "      <td>-0.408779</td>\n",
       "      <td>0.131333</td>\n",
       "      <td>-0.008283</td>\n",
       "      <td>-0.026088</td>\n",
       "      <td>-0.106558</td>\n",
       "    </tr>\n",
       "    <tr>\n",
       "      <th>Ecliptic Latitude [deg]</th>\n",
       "      <td>-0.087528</td>\n",
       "      <td>0.026680</td>\n",
       "      <td>0.463063</td>\n",
       "      <td>-0.657044</td>\n",
       "      <td>1.000000</td>\n",
       "      <td>0.498442</td>\n",
       "      <td>-0.222283</td>\n",
       "      <td>-0.006864</td>\n",
       "      <td>0.025212</td>\n",
       "      <td>0.081113</td>\n",
       "    </tr>\n",
       "    <tr>\n",
       "      <th>Ecliptic Longitude [deg]</th>\n",
       "      <td>-0.069450</td>\n",
       "      <td>-0.023926</td>\n",
       "      <td>0.174632</td>\n",
       "      <td>-0.408779</td>\n",
       "      <td>0.498442</td>\n",
       "      <td>1.000000</td>\n",
       "      <td>-0.119612</td>\n",
       "      <td>0.013811</td>\n",
       "      <td>0.031078</td>\n",
       "      <td>0.058041</td>\n",
       "    </tr>\n",
       "    <tr>\n",
       "      <th>Number of Photometry Time Series</th>\n",
       "      <td>0.057734</td>\n",
       "      <td>-0.002505</td>\n",
       "      <td>-0.090369</td>\n",
       "      <td>0.131333</td>\n",
       "      <td>-0.222283</td>\n",
       "      <td>-0.119612</td>\n",
       "      <td>1.000000</td>\n",
       "      <td>-0.004172</td>\n",
       "      <td>-0.014848</td>\n",
       "      <td>-0.252983</td>\n",
       "    </tr>\n",
       "    <tr>\n",
       "      <th>Number of Emission Spectroscopy Measurements</th>\n",
       "      <td>-0.003200</td>\n",
       "      <td>0.057797</td>\n",
       "      <td>-0.025691</td>\n",
       "      <td>-0.008283</td>\n",
       "      <td>-0.006864</td>\n",
       "      <td>0.013811</td>\n",
       "      <td>-0.004172</td>\n",
       "      <td>1.000000</td>\n",
       "      <td>-0.000553</td>\n",
       "      <td>0.000791</td>\n",
       "    </tr>\n",
       "    <tr>\n",
       "      <th>Number of Transmission Spectroscopy Measurements</th>\n",
       "      <td>-0.002096</td>\n",
       "      <td>0.076409</td>\n",
       "      <td>-0.008918</td>\n",
       "      <td>-0.026088</td>\n",
       "      <td>0.025212</td>\n",
       "      <td>0.031078</td>\n",
       "      <td>-0.014848</td>\n",
       "      <td>-0.000553</td>\n",
       "      <td>1.000000</td>\n",
       "      <td>-0.015425</td>\n",
       "    </tr>\n",
       "    <tr>\n",
       "      <th>Discovery Year</th>\n",
       "      <td>-0.147575</td>\n",
       "      <td>-0.072274</td>\n",
       "      <td>0.031820</td>\n",
       "      <td>-0.106558</td>\n",
       "      <td>0.081113</td>\n",
       "      <td>0.058041</td>\n",
       "      <td>-0.252983</td>\n",
       "      <td>0.000791</td>\n",
       "      <td>-0.015425</td>\n",
       "      <td>1.000000</td>\n",
       "    </tr>\n",
       "  </tbody>\n",
       "</table>\n",
       "</div>"
      ],
      "text/plain": [
       "                                                  Number of Stars  \\\n",
       "Number of Stars                                          1.000000   \n",
       "Number of Planets                                        0.109074   \n",
       "Galactic Latitude [deg]                                 -0.044988   \n",
       "Galactic Longitude [deg]                                 0.104236   \n",
       "Ecliptic Latitude [deg]                                 -0.087528   \n",
       "Ecliptic Longitude [deg]                                -0.069450   \n",
       "Number of Photometry Time Series                         0.057734   \n",
       "Number of Emission Spectroscopy Measurements            -0.003200   \n",
       "Number of Transmission Spectroscopy Measurements        -0.002096   \n",
       "Discovery Year                                          -0.147575   \n",
       "\n",
       "                                                  Number of Planets  \\\n",
       "Number of Stars                                            0.109074   \n",
       "Number of Planets                                          1.000000   \n",
       "Galactic Latitude [deg]                                   -0.055511   \n",
       "Galactic Longitude [deg]                                   0.008589   \n",
       "Ecliptic Latitude [deg]                                    0.026680   \n",
       "Ecliptic Longitude [deg]                                  -0.023926   \n",
       "Number of Photometry Time Series                          -0.002505   \n",
       "Number of Emission Spectroscopy Measurements               0.057797   \n",
       "Number of Transmission Spectroscopy Measurements           0.076409   \n",
       "Discovery Year                                            -0.072274   \n",
       "\n",
       "                                                  Galactic Latitude [deg]  \\\n",
       "Number of Stars                                                 -0.044988   \n",
       "Number of Planets                                               -0.055511   \n",
       "Galactic Latitude [deg]                                          1.000000   \n",
       "Galactic Longitude [deg]                                        -0.019213   \n",
       "Ecliptic Latitude [deg]                                          0.463063   \n",
       "Ecliptic Longitude [deg]                                         0.174632   \n",
       "Number of Photometry Time Series                                -0.090369   \n",
       "Number of Emission Spectroscopy Measurements                    -0.025691   \n",
       "Number of Transmission Spectroscopy Measurements                -0.008918   \n",
       "Discovery Year                                                   0.031820   \n",
       "\n",
       "                                                  Galactic Longitude [deg]  \\\n",
       "Number of Stars                                                   0.104236   \n",
       "Number of Planets                                                 0.008589   \n",
       "Galactic Latitude [deg]                                          -0.019213   \n",
       "Galactic Longitude [deg]                                          1.000000   \n",
       "Ecliptic Latitude [deg]                                          -0.657044   \n",
       "Ecliptic Longitude [deg]                                         -0.408779   \n",
       "Number of Photometry Time Series                                  0.131333   \n",
       "Number of Emission Spectroscopy Measurements                     -0.008283   \n",
       "Number of Transmission Spectroscopy Measurements                 -0.026088   \n",
       "Discovery Year                                                   -0.106558   \n",
       "\n",
       "                                                  Ecliptic Latitude [deg]  \\\n",
       "Number of Stars                                                 -0.087528   \n",
       "Number of Planets                                                0.026680   \n",
       "Galactic Latitude [deg]                                          0.463063   \n",
       "Galactic Longitude [deg]                                        -0.657044   \n",
       "Ecliptic Latitude [deg]                                          1.000000   \n",
       "Ecliptic Longitude [deg]                                         0.498442   \n",
       "Number of Photometry Time Series                                -0.222283   \n",
       "Number of Emission Spectroscopy Measurements                    -0.006864   \n",
       "Number of Transmission Spectroscopy Measurements                 0.025212   \n",
       "Discovery Year                                                   0.081113   \n",
       "\n",
       "                                                  Ecliptic Longitude [deg]  \\\n",
       "Number of Stars                                                  -0.069450   \n",
       "Number of Planets                                                -0.023926   \n",
       "Galactic Latitude [deg]                                           0.174632   \n",
       "Galactic Longitude [deg]                                         -0.408779   \n",
       "Ecliptic Latitude [deg]                                           0.498442   \n",
       "Ecliptic Longitude [deg]                                          1.000000   \n",
       "Number of Photometry Time Series                                 -0.119612   \n",
       "Number of Emission Spectroscopy Measurements                      0.013811   \n",
       "Number of Transmission Spectroscopy Measurements                  0.031078   \n",
       "Discovery Year                                                    0.058041   \n",
       "\n",
       "                                                  Number of Photometry Time Series  \\\n",
       "Number of Stars                                                           0.057734   \n",
       "Number of Planets                                                        -0.002505   \n",
       "Galactic Latitude [deg]                                                  -0.090369   \n",
       "Galactic Longitude [deg]                                                  0.131333   \n",
       "Ecliptic Latitude [deg]                                                  -0.222283   \n",
       "Ecliptic Longitude [deg]                                                 -0.119612   \n",
       "Number of Photometry Time Series                                          1.000000   \n",
       "Number of Emission Spectroscopy Measurements                             -0.004172   \n",
       "Number of Transmission Spectroscopy Measurements                         -0.014848   \n",
       "Discovery Year                                                           -0.252983   \n",
       "\n",
       "                                                  Number of Emission Spectroscopy Measurements  \\\n",
       "Number of Stars                                                                      -0.003200   \n",
       "Number of Planets                                                                     0.057797   \n",
       "Galactic Latitude [deg]                                                              -0.025691   \n",
       "Galactic Longitude [deg]                                                             -0.008283   \n",
       "Ecliptic Latitude [deg]                                                              -0.006864   \n",
       "Ecliptic Longitude [deg]                                                              0.013811   \n",
       "Number of Photometry Time Series                                                     -0.004172   \n",
       "Number of Emission Spectroscopy Measurements                                          1.000000   \n",
       "Number of Transmission Spectroscopy Measurements                                     -0.000553   \n",
       "Discovery Year                                                                        0.000791   \n",
       "\n",
       "                                                  Number of Transmission Spectroscopy Measurements  \\\n",
       "Number of Stars                                                                          -0.002096   \n",
       "Number of Planets                                                                         0.076409   \n",
       "Galactic Latitude [deg]                                                                  -0.008918   \n",
       "Galactic Longitude [deg]                                                                 -0.026088   \n",
       "Ecliptic Latitude [deg]                                                                   0.025212   \n",
       "Ecliptic Longitude [deg]                                                                  0.031078   \n",
       "Number of Photometry Time Series                                                         -0.014848   \n",
       "Number of Emission Spectroscopy Measurements                                             -0.000553   \n",
       "Number of Transmission Spectroscopy Measurements                                          1.000000   \n",
       "Discovery Year                                                                           -0.015425   \n",
       "\n",
       "                                                  Discovery Year  \n",
       "Number of Stars                                        -0.147575  \n",
       "Number of Planets                                      -0.072274  \n",
       "Galactic Latitude [deg]                                 0.031820  \n",
       "Galactic Longitude [deg]                               -0.106558  \n",
       "Ecliptic Latitude [deg]                                 0.081113  \n",
       "Ecliptic Longitude [deg]                                0.058041  \n",
       "Number of Photometry Time Series                       -0.252983  \n",
       "Number of Emission Spectroscopy Measurements            0.000791  \n",
       "Number of Transmission Spectroscopy Measurements       -0.015425  \n",
       "Discovery Year                                          1.000000  "
      ]
     },
     "execution_count": 5,
     "metadata": {},
     "output_type": "execute_result"
    }
   ],
   "source": [
    "features.corr()"
   ]
  },
  {
   "cell_type": "markdown",
   "metadata": {},
   "source": [
    "### Moderate correlation between Ecliptic Longtiude aand Ecliptic Latitude"
   ]
  },
  {
   "cell_type": "markdown",
   "metadata": {},
   "source": [
    "## Split data"
   ]
  },
  {
   "cell_type": "code",
   "execution_count": 6,
   "metadata": {},
   "outputs": [],
   "source": [
    "# Splitting dataset into training, testing and validation addresses overfitting\n",
    "# shuffling is necessary to remove dependencies that come from order of data\n",
    "\n",
    "from sklearn.model_selection import train_test_split\n",
    "x_train, x_test, y_train, y_test = train_test_split(features, targets, train_size = 0.8, random_state = 42, shuffle=True)\n",
    "\n",
    "# tensorflow models expect data in the form of a np array; NOT a pd dataframe \n",
    "# so we have to convert\n",
    "\n",
    "x_train_nparr, x_test_nparr, y_train_nparr, y_test_nparr = np.array(x_train), np.array(x_test), np.array(y_train), np.array(y_test)\n"
   ]
  },
  {
   "cell_type": "markdown",
   "metadata": {},
   "source": [
    "## DNN Configuration"
   ]
  },
  {
   "cell_type": "code",
   "execution_count": 7,
   "metadata": {},
   "outputs": [],
   "source": [
    "from tensorflow.keras.models import Sequential\n",
    "from tensorflow.keras.layers import Dense, Dropout\n",
    "from tensorflow.keras.optimizers import Adam\n",
    "\n",
    "# we use optuna for hyperparameter optimization\n",
    "from optuna.integration import TFKerasPruningCallback"
   ]
  },
  {
   "cell_type": "markdown",
   "metadata": {},
   "source": [
    "### Create DNN"
   ]
  },
  {
   "cell_type": "code",
   "execution_count": 8,
   "metadata": {},
   "outputs": [
    {
     "name": "stderr",
     "output_type": "stream",
     "text": [
      "[I 2024-08-02 16:27:49,255] A new study created in memory with name: no-name-e81dd2ef-d144-4400-8793-5c417d695520\n",
      "2024-08-02 16:27:49.281548: I tensorflow/core/platform/cpu_feature_guard.cc:145] This TensorFlow binary is optimized with Intel(R) MKL-DNN to use the following CPU instructions in performance critical operations:  SSE4.1 SSE4.2 AVX AVX2 FMA\n",
      "To enable them in non-MKL-DNN operations, rebuild TensorFlow with the appropriate compiler flags.\n",
      "2024-08-02 16:27:49.282749: I tensorflow/core/common_runtime/process_util.cc:115] Creating new thread pool with default inter op setting: 8. Tune using inter_op_parallelism_threads for best performance.\n"
     ]
    },
    {
     "name": "stdout",
     "output_type": "stream",
     "text": [
      "Train on 4633 samples, validate on 515 samples\n",
      "Epoch 1/10\n",
      "4633/4633 - 3s - loss: 20.2072 - accuracy: 0.5534 - val_loss: 2.0505 - val_accuracy: 0.5165\n",
      "Epoch 2/10\n",
      "4633/4633 - 2s - loss: 9.5028 - accuracy: 0.6378 - val_loss: 0.6057 - val_accuracy: 0.8777\n",
      "Epoch 3/10\n",
      "4633/4633 - 2s - loss: 4.2847 - accuracy: 0.6980 - val_loss: 0.4817 - val_accuracy: 0.8447\n",
      "Epoch 4/10\n",
      "4633/4633 - 2s - loss: 1.4372 - accuracy: 0.7578 - val_loss: 0.8533 - val_accuracy: 0.6641\n",
      "Epoch 5/10\n",
      "4633/4633 - 2s - loss: 0.4921 - accuracy: 0.7984 - val_loss: 0.3630 - val_accuracy: 0.8738\n",
      "Epoch 6/10\n",
      "4633/4633 - 2s - loss: 0.4619 - accuracy: 0.7975 - val_loss: 0.6768 - val_accuracy: 0.5184\n",
      "Epoch 7/10\n",
      "4633/4633 - 2s - loss: 0.4502 - accuracy: 0.8047 - val_loss: 0.3477 - val_accuracy: 0.8777\n",
      "Epoch 8/10\n",
      "4633/4633 - 2s - loss: 0.4298 - accuracy: 0.8252 - val_loss: 0.4742 - val_accuracy: 0.8835\n",
      "Epoch 9/10\n",
      "4633/4633 - 2s - loss: 0.4230 - accuracy: 0.8206 - val_loss: 0.3697 - val_accuracy: 0.8932\n",
      "Epoch 10/10\n",
      "4633/4633 - 2s - loss: 0.3948 - accuracy: 0.8383 - val_loss: 0.3161 - val_accuracy: 0.8757\n"
     ]
    },
    {
     "name": "stderr",
     "output_type": "stream",
     "text": [
      "[I 2024-08-02 16:28:13,082] Trial 0 finished with value: 0.893203854560852 and parameters: {'units': 25, 'dropout': 0.05, 'epochs': 10, 'batch_size': 5}. Best is trial 0 with value: 0.893203854560852.\n"
     ]
    },
    {
     "name": "stdout",
     "output_type": "stream",
     "text": [
      "Train on 4633 samples, validate on 515 samples\n",
      "Epoch 1/15\n",
      "4633/4633 - 3s - loss: 30.2444 - accuracy: 0.5200 - val_loss: 3.0771 - val_accuracy: 0.5301\n",
      "Epoch 2/15\n",
      "4633/4633 - 2s - loss: 8.5295 - accuracy: 0.5763 - val_loss: 1.1060 - val_accuracy: 0.5670\n",
      "Epoch 3/15\n",
      "4633/4633 - 2s - loss: 1.5059 - accuracy: 0.7116 - val_loss: 0.4257 - val_accuracy: 0.8641\n",
      "Epoch 4/15\n",
      "4633/4633 - 2s - loss: 0.5508 - accuracy: 0.7695 - val_loss: 0.4197 - val_accuracy: 0.8874\n",
      "Epoch 5/15\n",
      "4633/4633 - 2s - loss: 0.5149 - accuracy: 0.7803 - val_loss: 1.0572 - val_accuracy: 0.5612\n",
      "Epoch 6/15\n",
      "4633/4633 - 2s - loss: 0.5001 - accuracy: 0.7742 - val_loss: 0.4120 - val_accuracy: 0.8816\n",
      "Epoch 7/15\n",
      "4633/4633 - 2s - loss: 0.4576 - accuracy: 0.8085 - val_loss: 0.4134 - val_accuracy: 0.8874\n",
      "Epoch 8/15\n",
      "4633/4633 - 2s - loss: 0.4319 - accuracy: 0.8176 - val_loss: 0.3991 - val_accuracy: 0.7961\n",
      "Epoch 9/15\n",
      "4633/4633 - 2s - loss: 0.4397 - accuracy: 0.8172 - val_loss: 0.4201 - val_accuracy: 0.7709\n",
      "Epoch 10/15\n",
      "4633/4633 - 2s - loss: 0.4492 - accuracy: 0.8118 - val_loss: 0.3889 - val_accuracy: 0.8796\n",
      "Epoch 11/15\n",
      "4633/4633 - 2s - loss: 0.4269 - accuracy: 0.8174 - val_loss: 0.3380 - val_accuracy: 0.8583\n",
      "Epoch 12/15\n",
      "4633/4633 - 2s - loss: 0.4139 - accuracy: 0.8247 - val_loss: 0.3283 - val_accuracy: 0.8583\n",
      "Epoch 13/15\n",
      "4633/4633 - 2s - loss: 0.3927 - accuracy: 0.8435 - val_loss: 0.3571 - val_accuracy: 0.8621\n",
      "Epoch 14/15\n",
      "4633/4633 - 2s - loss: 0.3996 - accuracy: 0.8357 - val_loss: 0.3585 - val_accuracy: 0.8913\n",
      "Epoch 15/15\n",
      "4633/4633 - 2s - loss: 0.4085 - accuracy: 0.8254 - val_loss: 0.3449 - val_accuracy: 0.8971\n"
     ]
    },
    {
     "name": "stderr",
     "output_type": "stream",
     "text": [
      "[I 2024-08-02 16:28:47,371] Trial 1 finished with value: 0.8970873951911926 and parameters: {'units': 60, 'dropout': 0.1, 'epochs': 15, 'batch_size': 5}. Best is trial 1 with value: 0.8970873951911926.\n"
     ]
    },
    {
     "name": "stdout",
     "output_type": "stream",
     "text": [
      "Train on 4633 samples, validate on 515 samples\n",
      "Epoch 1/10\n",
      "4633/4633 - 1s - loss: 111.0978 - accuracy: 0.5213 - val_loss: 1.8515 - val_accuracy: 0.4971\n",
      "Epoch 2/10\n",
      "4633/4633 - 0s - loss: 64.0433 - accuracy: 0.5053 - val_loss: 8.0581 - val_accuracy: 0.4874\n",
      "Epoch 3/10\n",
      "4633/4633 - 0s - loss: 34.6817 - accuracy: 0.5128 - val_loss: 1.2869 - val_accuracy: 0.5146\n",
      "Epoch 4/10\n",
      "4633/4633 - 0s - loss: 16.2555 - accuracy: 0.5215 - val_loss: 0.4986 - val_accuracy: 0.7650\n",
      "Epoch 5/10\n",
      "4633/4633 - 0s - loss: 5.6761 - accuracy: 0.5584 - val_loss: 0.4602 - val_accuracy: 0.8485\n",
      "Epoch 6/10\n",
      "4633/4633 - 1s - loss: 1.4140 - accuracy: 0.6464 - val_loss: 0.4291 - val_accuracy: 0.8447\n",
      "Epoch 7/10\n",
      "4633/4633 - 1s - loss: 0.5457 - accuracy: 0.7628 - val_loss: 0.4823 - val_accuracy: 0.7689\n",
      "Epoch 8/10\n",
      "4633/4633 - 0s - loss: 0.4846 - accuracy: 0.7872 - val_loss: 0.4157 - val_accuracy: 0.7942\n",
      "Epoch 9/10\n",
      "4633/4633 - 0s - loss: 0.4846 - accuracy: 0.7880 - val_loss: 0.4080 - val_accuracy: 0.7942\n",
      "Epoch 10/10\n",
      "4633/4633 - 0s - loss: 0.4956 - accuracy: 0.7792 - val_loss: 0.4844 - val_accuracy: 0.7534\n"
     ]
    },
    {
     "name": "stderr",
     "output_type": "stream",
     "text": [
      "[I 2024-08-02 16:28:53,213] Trial 2 finished with value: 0.8485437035560608 and parameters: {'units': 60, 'dropout': 0.35000000000000003, 'epochs': 10, 'batch_size': 30}. Best is trial 1 with value: 0.8970873951911926.\n"
     ]
    },
    {
     "name": "stdout",
     "output_type": "stream",
     "text": [
      "Train on 4633 samples, validate on 515 samples\n",
      "Epoch 1/30\n",
      "4633/4633 - 2s - loss: 49.3039 - accuracy: 0.5133 - val_loss: 8.0533 - val_accuracy: 0.5126\n",
      "Epoch 2/30\n",
      "4633/4633 - 1s - loss: 16.9930 - accuracy: 0.5156 - val_loss: 3.4317 - val_accuracy: 0.4932\n",
      "Epoch 3/30\n",
      "4633/4633 - 1s - loss: 2.8224 - accuracy: 0.6106 - val_loss: 0.5445 - val_accuracy: 0.7592\n",
      "Epoch 4/30\n",
      "4633/4633 - 1s - loss: 0.6130 - accuracy: 0.7270 - val_loss: 0.4189 - val_accuracy: 0.8544\n",
      "Epoch 5/30\n",
      "4633/4633 - 1s - loss: 0.5379 - accuracy: 0.7481 - val_loss: 0.4862 - val_accuracy: 0.7612\n",
      "Epoch 6/30\n",
      "4633/4633 - 1s - loss: 0.4892 - accuracy: 0.7770 - val_loss: 0.4117 - val_accuracy: 0.8505\n",
      "Epoch 7/30\n",
      "4633/4633 - 1s - loss: 0.5324 - accuracy: 0.7468 - val_loss: 0.4918 - val_accuracy: 0.8893\n",
      "Epoch 8/30\n",
      "4633/4633 - 1s - loss: 0.4869 - accuracy: 0.7844 - val_loss: 0.5633 - val_accuracy: 0.7320\n",
      "Epoch 9/30\n",
      "4633/4633 - 1s - loss: 0.4923 - accuracy: 0.7710 - val_loss: 0.3724 - val_accuracy: 0.8621\n",
      "Epoch 10/30\n",
      "4633/4633 - 1s - loss: 0.4842 - accuracy: 0.7883 - val_loss: 0.4616 - val_accuracy: 0.7728\n",
      "Epoch 11/30\n",
      "4633/4633 - 1s - loss: 0.4571 - accuracy: 0.8101 - val_loss: 0.3912 - val_accuracy: 0.8583\n",
      "Epoch 12/30\n",
      "4633/4633 - 1s - loss: 0.4616 - accuracy: 0.8049 - val_loss: 0.3732 - val_accuracy: 0.8583\n",
      "Epoch 13/30\n",
      "4633/4633 - 1s - loss: 0.4544 - accuracy: 0.8051 - val_loss: 0.4096 - val_accuracy: 0.8893\n",
      "Epoch 14/30\n",
      "4633/4633 - 1s - loss: 0.4732 - accuracy: 0.7889 - val_loss: 0.5356 - val_accuracy: 0.7204\n",
      "Epoch 15/30\n",
      "4633/4633 - 1s - loss: 0.4528 - accuracy: 0.8088 - val_loss: 0.3741 - val_accuracy: 0.8718\n",
      "Epoch 16/30\n",
      "4633/4633 - 1s - loss: 0.4438 - accuracy: 0.8174 - val_loss: 0.3776 - val_accuracy: 0.7942\n",
      "Epoch 17/30\n",
      "4633/4633 - 1s - loss: 0.4508 - accuracy: 0.8062 - val_loss: 0.4451 - val_accuracy: 0.8932\n",
      "Epoch 18/30\n",
      "4633/4633 - 1s - loss: 0.4400 - accuracy: 0.8107 - val_loss: 0.3541 - val_accuracy: 0.8718\n",
      "Epoch 19/30\n",
      "4633/4633 - 1s - loss: 0.4215 - accuracy: 0.8241 - val_loss: 0.3345 - val_accuracy: 0.8699\n",
      "Epoch 20/30\n",
      "4633/4633 - 1s - loss: 0.4331 - accuracy: 0.8217 - val_loss: 0.3387 - val_accuracy: 0.8699\n",
      "Epoch 21/30\n",
      "4633/4633 - 1s - loss: 0.4271 - accuracy: 0.8234 - val_loss: 0.3921 - val_accuracy: 0.8913\n",
      "Epoch 22/30\n",
      "4633/4633 - 1s - loss: 0.4151 - accuracy: 0.8273 - val_loss: 0.3760 - val_accuracy: 0.8951\n",
      "Epoch 23/30\n",
      "4633/4633 - 1s - loss: 0.4010 - accuracy: 0.8362 - val_loss: 0.3434 - val_accuracy: 0.8641\n",
      "Epoch 24/30\n",
      "4633/4633 - 1s - loss: 0.4051 - accuracy: 0.8368 - val_loss: 0.3336 - val_accuracy: 0.8680\n",
      "Epoch 25/30\n",
      "4633/4633 - 1s - loss: 0.4003 - accuracy: 0.8461 - val_loss: 0.3171 - val_accuracy: 0.8777\n",
      "Epoch 26/30\n",
      "4633/4633 - 1s - loss: 0.3908 - accuracy: 0.8517 - val_loss: 0.3177 - val_accuracy: 0.8738\n",
      "Epoch 27/30\n",
      "4633/4633 - 1s - loss: 0.3841 - accuracy: 0.8513 - val_loss: 0.2947 - val_accuracy: 0.8971\n",
      "Epoch 28/30\n",
      "4633/4633 - 1s - loss: 0.3864 - accuracy: 0.8515 - val_loss: 0.3178 - val_accuracy: 0.8777\n",
      "Epoch 29/30\n",
      "4633/4633 - 1s - loss: 0.3905 - accuracy: 0.8515 - val_loss: 0.3188 - val_accuracy: 0.8893\n",
      "Epoch 30/30\n",
      "4633/4633 - 1s - loss: 0.3830 - accuracy: 0.8500 - val_loss: 0.3064 - val_accuracy: 0.8951\n"
     ]
    },
    {
     "name": "stderr",
     "output_type": "stream",
     "text": [
      "[I 2024-08-02 16:29:13,603] Trial 3 finished with value: 0.8970873951911926 and parameters: {'units': 100, 'dropout': 0.35000000000000003, 'epochs': 30, 'batch_size': 20}. Best is trial 1 with value: 0.8970873951911926.\n"
     ]
    },
    {
     "name": "stdout",
     "output_type": "stream",
     "text": [
      "Train on 4633 samples, validate on 515 samples\n",
      "Epoch 1/40\n",
      "4633/4633 - 4s - loss: 28.4537 - accuracy: 0.5236 - val_loss: 1.2799 - val_accuracy: 0.5126\n",
      "Epoch 2/40\n",
      "4633/4633 - 3s - loss: 1.5742 - accuracy: 0.6613 - val_loss: 0.6061 - val_accuracy: 0.5165\n",
      "Epoch 3/40\n",
      "4633/4633 - 2s - loss: 0.6223 - accuracy: 0.7017 - val_loss: 0.6105 - val_accuracy: 0.5320\n",
      "Epoch 4/40\n",
      "4633/4633 - 3s - loss: 0.5840 - accuracy: 0.7162 - val_loss: 0.4380 - val_accuracy: 0.7631\n",
      "Epoch 5/40\n",
      "4633/4633 - 3s - loss: 0.5375 - accuracy: 0.7468 - val_loss: 0.4188 - val_accuracy: 0.8330\n",
      "Epoch 6/40\n",
      "4633/4633 - 3s - loss: 0.5322 - accuracy: 0.7537 - val_loss: 0.4263 - val_accuracy: 0.7748\n",
      "Epoch 7/40\n",
      "4633/4633 - 3s - loss: 0.5007 - accuracy: 0.7794 - val_loss: 0.3991 - val_accuracy: 0.7709\n",
      "Epoch 8/40\n",
      "4633/4633 - 3s - loss: 0.4648 - accuracy: 0.8036 - val_loss: 0.4014 - val_accuracy: 0.8563\n",
      "Epoch 9/40\n",
      "4633/4633 - 5s - loss: 0.4868 - accuracy: 0.7811 - val_loss: 0.3980 - val_accuracy: 0.8621\n",
      "Epoch 10/40\n",
      "4633/4633 - 4s - loss: 0.5037 - accuracy: 0.7835 - val_loss: 0.4171 - val_accuracy: 0.8563\n",
      "Epoch 11/40\n",
      "4633/4633 - 6s - loss: 0.4775 - accuracy: 0.7891 - val_loss: 0.3680 - val_accuracy: 0.8738\n",
      "Epoch 12/40\n",
      "4633/4633 - 5s - loss: 0.4557 - accuracy: 0.8068 - val_loss: 0.4511 - val_accuracy: 0.8951\n",
      "Epoch 13/40\n",
      "4633/4633 - 5s - loss: 0.4569 - accuracy: 0.8057 - val_loss: 0.4360 - val_accuracy: 0.8291\n",
      "Epoch 14/40\n",
      "4633/4633 - 4s - loss: 0.4523 - accuracy: 0.8114 - val_loss: 0.4360 - val_accuracy: 0.7845\n",
      "Epoch 15/40\n",
      "4633/4633 - 5s - loss: 0.4466 - accuracy: 0.8042 - val_loss: 0.3449 - val_accuracy: 0.8660\n",
      "Epoch 16/40\n",
      "4633/4633 - 6s - loss: 0.4387 - accuracy: 0.8070 - val_loss: 0.3079 - val_accuracy: 0.8913\n",
      "Epoch 17/40\n",
      "4633/4633 - 6s - loss: 0.4128 - accuracy: 0.8176 - val_loss: 0.4232 - val_accuracy: 0.7592\n",
      "Epoch 18/40\n",
      "4633/4633 - 7s - loss: 0.4128 - accuracy: 0.8267 - val_loss: 0.3144 - val_accuracy: 0.8757\n",
      "Epoch 19/40\n",
      "4633/4633 - 7s - loss: 0.4250 - accuracy: 0.8241 - val_loss: 0.4173 - val_accuracy: 0.8874\n",
      "Epoch 20/40\n",
      "4633/4633 - 4s - loss: 0.4691 - accuracy: 0.8193 - val_loss: 0.3667 - val_accuracy: 0.8854\n",
      "Epoch 21/40\n",
      "4633/4633 - 6s - loss: 0.4680 - accuracy: 0.8036 - val_loss: 0.4053 - val_accuracy: 0.8233\n",
      "Epoch 22/40\n",
      "4633/4633 - 10s - loss: 0.4520 - accuracy: 0.8114 - val_loss: 0.3983 - val_accuracy: 0.8136\n",
      "Epoch 23/40\n",
      "4633/4633 - 15s - loss: 0.4447 - accuracy: 0.8124 - val_loss: 0.3603 - val_accuracy: 0.8544\n",
      "Epoch 24/40\n",
      "4633/4633 - 19s - loss: 0.4461 - accuracy: 0.8090 - val_loss: 0.5016 - val_accuracy: 0.7689\n",
      "Epoch 25/40\n",
      "4633/4633 - 11s - loss: 0.4348 - accuracy: 0.8200 - val_loss: 0.3328 - val_accuracy: 0.8893\n",
      "Epoch 26/40\n",
      "4633/4633 - 7s - loss: 0.4347 - accuracy: 0.8170 - val_loss: 0.3201 - val_accuracy: 0.8893\n",
      "Epoch 27/40\n",
      "4633/4633 - 13s - loss: 0.4277 - accuracy: 0.8252 - val_loss: 0.3487 - val_accuracy: 0.8680\n",
      "Epoch 28/40\n",
      "4633/4633 - 5s - loss: 0.4214 - accuracy: 0.8282 - val_loss: 0.3114 - val_accuracy: 0.8563\n",
      "Epoch 29/40\n",
      "4633/4633 - 6s - loss: 0.4446 - accuracy: 0.8122 - val_loss: 0.3275 - val_accuracy: 0.8893\n",
      "Epoch 30/40\n",
      "4633/4633 - 10s - loss: 0.4285 - accuracy: 0.8167 - val_loss: 0.3098 - val_accuracy: 0.8874\n",
      "Epoch 31/40\n",
      "4633/4633 - 9s - loss: 0.4449 - accuracy: 0.8129 - val_loss: 0.3254 - val_accuracy: 0.8660\n",
      "Epoch 32/40\n",
      "4633/4633 - 8s - loss: 0.4318 - accuracy: 0.8159 - val_loss: 0.3329 - val_accuracy: 0.8718\n",
      "Epoch 33/40\n",
      "4633/4633 - 7s - loss: 0.4363 - accuracy: 0.8215 - val_loss: 0.3937 - val_accuracy: 0.8000\n",
      "Epoch 34/40\n",
      "4633/4633 - 6s - loss: 0.4363 - accuracy: 0.8120 - val_loss: 0.3174 - val_accuracy: 0.8893\n",
      "Epoch 35/40\n",
      "4633/4633 - 5s - loss: 0.4422 - accuracy: 0.8142 - val_loss: 0.4141 - val_accuracy: 0.7942\n",
      "Epoch 36/40\n",
      "4633/4633 - 6s - loss: 0.4194 - accuracy: 0.8314 - val_loss: 0.3283 - val_accuracy: 0.8699\n",
      "Epoch 37/40\n",
      "4633/4633 - 6s - loss: 0.4198 - accuracy: 0.8271 - val_loss: 0.3010 - val_accuracy: 0.8893\n",
      "Epoch 38/40\n",
      "4633/4633 - 6s - loss: 0.4960 - accuracy: 0.7790 - val_loss: 0.3901 - val_accuracy: 0.8155\n",
      "Epoch 39/40\n",
      "4633/4633 - 3s - loss: 0.4704 - accuracy: 0.7947 - val_loss: 0.3186 - val_accuracy: 0.8893\n",
      "Epoch 40/40\n",
      "4633/4633 - 3s - loss: 0.4379 - accuracy: 0.8167 - val_loss: 0.3137 - val_accuracy: 0.8893\n"
     ]
    },
    {
     "name": "stderr",
     "output_type": "stream",
     "text": [
      "[I 2024-08-02 16:33:20,138] Trial 4 finished with value: 0.8951456546783447 and parameters: {'units': 90, 'dropout': 0.25, 'epochs': 40, 'batch_size': 5}. Best is trial 1 with value: 0.8970873951911926.\n"
     ]
    },
    {
     "name": "stdout",
     "output_type": "stream",
     "text": [
      "Train on 4633 samples, validate on 515 samples\n",
      "Epoch 1/15\n",
      "4633/4633 - 5s - loss: 44.6041 - accuracy: 0.5137 - val_loss: 0.8352 - val_accuracy: 0.5534\n",
      "Epoch 2/15\n",
      "4633/4633 - 2s - loss: 0.7691 - accuracy: 0.6037 - val_loss: 0.8359 - val_accuracy: 0.5126\n",
      "Epoch 3/15\n"
     ]
    },
    {
     "name": "stderr",
     "output_type": "stream",
     "text": [
      "[I 2024-08-02 16:33:29,211] Trial 5 pruned. Trial was pruned at epoch 2.\n"
     ]
    },
    {
     "name": "stdout",
     "output_type": "stream",
     "text": [
      "Train on 4633 samples, validate on 515 samples\n",
      "Epoch 1/40\n",
      "4633/4633 - 2s - loss: 30.6077 - accuracy: 0.5174 - val_loss: 1.4400 - val_accuracy: 0.6583\n",
      "Epoch 2/40\n",
      "4633/4633 - 1s - loss: 14.0414 - accuracy: 0.5435 - val_loss: 2.6123 - val_accuracy: 0.5165\n",
      "Epoch 3/40\n",
      "4633/4633 - 1s - loss: 4.7957 - accuracy: 0.6268 - val_loss: 0.7544 - val_accuracy: 0.8447\n",
      "Epoch 4/40\n",
      "4633/4633 - 1s - loss: 1.4086 - accuracy: 0.7330 - val_loss: 0.4728 - val_accuracy: 0.8583\n",
      "Epoch 5/40\n",
      "4633/4633 - 1s - loss: 0.5722 - accuracy: 0.7665 - val_loss: 0.4597 - val_accuracy: 0.8816\n",
      "Epoch 6/40\n",
      "4633/4633 - 1s - loss: 0.4554 - accuracy: 0.8094 - val_loss: 0.3850 - val_accuracy: 0.8544\n",
      "Epoch 7/40\n",
      "4633/4633 - 1s - loss: 0.4326 - accuracy: 0.8237 - val_loss: 0.3873 - val_accuracy: 0.8660\n",
      "Epoch 8/40\n",
      "4633/4633 - 1s - loss: 0.4363 - accuracy: 0.8180 - val_loss: 0.3877 - val_accuracy: 0.7981\n",
      "Epoch 9/40\n",
      "4633/4633 - 1s - loss: 0.4192 - accuracy: 0.8325 - val_loss: 0.4067 - val_accuracy: 0.7845\n",
      "Epoch 10/40\n",
      "4633/4633 - 1s - loss: 0.4261 - accuracy: 0.8232 - val_loss: 0.3601 - val_accuracy: 0.8505\n",
      "Epoch 11/40\n",
      "4633/4633 - 2s - loss: 0.4047 - accuracy: 0.8420 - val_loss: 0.3728 - val_accuracy: 0.8641\n",
      "Epoch 12/40\n",
      "4633/4633 - 3s - loss: 0.4181 - accuracy: 0.8303 - val_loss: 0.4113 - val_accuracy: 0.7670\n",
      "Epoch 13/40\n",
      "4633/4633 - 1s - loss: 0.3925 - accuracy: 0.8524 - val_loss: 0.3422 - val_accuracy: 0.8893\n",
      "Epoch 14/40\n",
      "4633/4633 - 1s - loss: 0.3794 - accuracy: 0.8547 - val_loss: 0.3199 - val_accuracy: 0.8738\n",
      "Epoch 15/40\n",
      "4633/4633 - 1s - loss: 0.4011 - accuracy: 0.8351 - val_loss: 0.3580 - val_accuracy: 0.8505\n",
      "Epoch 16/40\n",
      "4633/4633 - 1s - loss: 0.4060 - accuracy: 0.8360 - val_loss: 0.4470 - val_accuracy: 0.7689\n",
      "Epoch 17/40\n",
      "4633/4633 - 1s - loss: 0.3968 - accuracy: 0.8416 - val_loss: 0.3421 - val_accuracy: 0.8660\n",
      "Epoch 18/40\n",
      "4633/4633 - 1s - loss: 0.3797 - accuracy: 0.8528 - val_loss: 0.3192 - val_accuracy: 0.8951\n",
      "Epoch 19/40\n",
      "4633/4633 - 1s - loss: 0.3762 - accuracy: 0.8534 - val_loss: 0.3108 - val_accuracy: 0.8913\n",
      "Epoch 20/40\n",
      "4633/4633 - 1s - loss: 0.3652 - accuracy: 0.8571 - val_loss: 0.3995 - val_accuracy: 0.7981\n",
      "Epoch 21/40\n",
      "4633/4633 - 1s - loss: 0.3520 - accuracy: 0.8627 - val_loss: 0.2918 - val_accuracy: 0.8913\n",
      "Epoch 22/40\n",
      "4633/4633 - 1s - loss: 0.3507 - accuracy: 0.8610 - val_loss: 0.2911 - val_accuracy: 0.8951\n",
      "Epoch 23/40\n",
      "4633/4633 - 1s - loss: 0.3366 - accuracy: 0.8701 - val_loss: 0.3636 - val_accuracy: 0.8000\n",
      "Epoch 24/40\n",
      "4633/4633 - 1s - loss: 0.3349 - accuracy: 0.8668 - val_loss: 0.2748 - val_accuracy: 0.8971\n",
      "Epoch 25/40\n",
      "4633/4633 - 1s - loss: 0.3337 - accuracy: 0.8720 - val_loss: 0.2819 - val_accuracy: 0.8971\n",
      "Epoch 26/40\n",
      "4633/4633 - 2s - loss: 0.3514 - accuracy: 0.8610 - val_loss: 0.3310 - val_accuracy: 0.8524\n",
      "Epoch 27/40\n",
      "4633/4633 - 2s - loss: 0.3638 - accuracy: 0.8500 - val_loss: 0.2800 - val_accuracy: 0.8854\n",
      "Epoch 28/40\n",
      "4633/4633 - 2s - loss: 0.3418 - accuracy: 0.8608 - val_loss: 0.3135 - val_accuracy: 0.8913\n",
      "Epoch 29/40\n",
      "4633/4633 - 3s - loss: 0.3461 - accuracy: 0.8515 - val_loss: 0.3873 - val_accuracy: 0.7922\n",
      "Epoch 30/40\n",
      "4633/4633 - 2s - loss: 0.3503 - accuracy: 0.8470 - val_loss: 0.2641 - val_accuracy: 0.8932\n",
      "Epoch 31/40\n",
      "4633/4633 - 3s - loss: 0.3335 - accuracy: 0.8569 - val_loss: 0.2570 - val_accuracy: 0.8971\n",
      "Epoch 32/40\n",
      "4633/4633 - 3s - loss: 0.3509 - accuracy: 0.8465 - val_loss: 0.2660 - val_accuracy: 0.8990\n",
      "Epoch 33/40\n",
      "4633/4633 - 2s - loss: 0.3418 - accuracy: 0.8496 - val_loss: 0.3196 - val_accuracy: 0.8699\n",
      "Epoch 34/40\n",
      "4633/4633 - 2s - loss: 0.3295 - accuracy: 0.8606 - val_loss: 0.3603 - val_accuracy: 0.7922\n",
      "Epoch 35/40\n",
      "4633/4633 - 2s - loss: 0.3345 - accuracy: 0.8545 - val_loss: 0.2828 - val_accuracy: 0.8680\n",
      "Epoch 36/40\n",
      "4633/4633 - 3s - loss: 0.3268 - accuracy: 0.8575 - val_loss: 0.3287 - val_accuracy: 0.8913\n",
      "Epoch 37/40\n",
      "4633/4633 - 3s - loss: 0.3305 - accuracy: 0.8547 - val_loss: 0.2643 - val_accuracy: 0.8932\n",
      "Epoch 38/40\n",
      "4633/4633 - 2s - loss: 0.3375 - accuracy: 0.8487 - val_loss: 0.2947 - val_accuracy: 0.8660\n",
      "Epoch 39/40\n",
      "4633/4633 - 2s - loss: 0.3357 - accuracy: 0.8485 - val_loss: 0.2760 - val_accuracy: 0.8816\n",
      "Epoch 40/40\n",
      "4633/4633 - 3s - loss: 0.3319 - accuracy: 0.8519 - val_loss: 0.2662 - val_accuracy: 0.9029\n"
     ]
    },
    {
     "name": "stderr",
     "output_type": "stream",
     "text": [
      "[I 2024-08-02 16:34:38,321] Trial 6 finished with value: 0.9029126167297363 and parameters: {'units': 70, 'dropout': 0.1, 'epochs': 40, 'batch_size': 10}. Best is trial 6 with value: 0.9029126167297363.\n"
     ]
    },
    {
     "name": "stdout",
     "output_type": "stream",
     "text": [
      "Train on 4633 samples, validate on 515 samples\n",
      "Epoch 1/15\n"
     ]
    },
    {
     "name": "stderr",
     "output_type": "stream",
     "text": [
      "[I 2024-08-02 16:34:40,346] Trial 7 pruned. Trial was pruned at epoch 0.\n"
     ]
    },
    {
     "name": "stdout",
     "output_type": "stream",
     "text": [
      "Train on 4633 samples, validate on 515 samples\n",
      "Epoch 1/35\n",
      "4633/4633 - 4s - loss: 46.7602 - accuracy: 0.4964 - val_loss: 0.6169 - val_accuracy: 0.7417\n",
      "Epoch 2/35\n",
      "4633/4633 - 2s - loss: 1.7058 - accuracy: 0.6182 - val_loss: 0.7149 - val_accuracy: 0.5126\n",
      "Epoch 3/35\n"
     ]
    },
    {
     "name": "stderr",
     "output_type": "stream",
     "text": [
      "[I 2024-08-02 16:34:48,439] Trial 8 pruned. Trial was pruned at epoch 2.\n"
     ]
    },
    {
     "name": "stdout",
     "output_type": "stream",
     "text": [
      "Train on 4633 samples, validate on 515 samples\n",
      "Epoch 1/5\n",
      "4633/4633 - 2s - loss: 87.0011 - accuracy: 0.4999 - val_loss: 0.4238 - val_accuracy: 0.7961\n",
      "Epoch 2/5\n",
      "4633/4633 - 0s - loss: 36.6154 - accuracy: 0.5038 - val_loss: 0.6125 - val_accuracy: 0.7165\n",
      "Epoch 3/5\n"
     ]
    },
    {
     "name": "stderr",
     "output_type": "stream",
     "text": [
      "[I 2024-08-02 16:34:51,091] Trial 9 pruned. Trial was pruned at epoch 2.\n"
     ]
    },
    {
     "name": "stdout",
     "output_type": "stream",
     "text": [
      "Train on 4633 samples, validate on 515 samples\n",
      "Epoch 1/50\n"
     ]
    },
    {
     "name": "stderr",
     "output_type": "stream",
     "text": [
      "[I 2024-08-02 16:34:53,141] Trial 10 pruned. Trial was pruned at epoch 0.\n"
     ]
    },
    {
     "name": "stdout",
     "output_type": "stream",
     "text": [
      "Train on 4633 samples, validate on 515 samples\n",
      "Epoch 1/25\n",
      "4633/4633 - 2s - loss: 50.8600 - accuracy: 0.5001 - val_loss: 1.8180 - val_accuracy: 0.5592\n",
      "Epoch 2/25\n",
      "4633/4633 - 1s - loss: 17.7905 - accuracy: 0.5267 - val_loss: 1.0346 - val_accuracy: 0.5301\n",
      "Epoch 3/25\n"
     ]
    },
    {
     "name": "stderr",
     "output_type": "stream",
     "text": [
      "[I 2024-08-02 16:34:59,839] Trial 11 pruned. Trial was pruned at epoch 2.\n"
     ]
    },
    {
     "name": "stdout",
     "output_type": "stream",
     "text": [
      "Train on 4633 samples, validate on 515 samples\n",
      "Epoch 1/45\n",
      "4633/4633 - 2s - loss: 1.8081 - accuracy: 0.6508 - val_loss: 0.4517 - val_accuracy: 0.8621\n",
      "Epoch 2/45\n",
      "4633/4633 - 1s - loss: 0.6559 - accuracy: 0.7272 - val_loss: 0.4644 - val_accuracy: 0.8854\n",
      "Epoch 3/45\n",
      "4633/4633 - 1s - loss: 0.5301 - accuracy: 0.7919 - val_loss: 0.3499 - val_accuracy: 0.8718\n",
      "Epoch 4/45\n",
      "4633/4633 - 1s - loss: 0.7310 - accuracy: 0.7671 - val_loss: 0.3402 - val_accuracy: 0.8816\n",
      "Epoch 5/45\n",
      "4633/4633 - 1s - loss: 0.5870 - accuracy: 0.7731 - val_loss: 0.3329 - val_accuracy: 0.8621\n",
      "Epoch 6/45\n",
      "4633/4633 - 1s - loss: 0.4796 - accuracy: 0.8221 - val_loss: 0.3063 - val_accuracy: 0.8738\n",
      "Epoch 7/45\n",
      "4633/4633 - 1s - loss: 0.7000 - accuracy: 0.7662 - val_loss: 0.4580 - val_accuracy: 0.7883\n",
      "Epoch 8/45\n",
      "4633/4633 - 1s - loss: 0.6249 - accuracy: 0.8021 - val_loss: 0.3233 - val_accuracy: 0.8699\n",
      "Epoch 9/45\n",
      "4633/4633 - 1s - loss: 0.6284 - accuracy: 0.7826 - val_loss: 0.5147 - val_accuracy: 0.8932\n",
      "Epoch 10/45\n",
      "4633/4633 - 1s - loss: 0.4840 - accuracy: 0.8325 - val_loss: 0.3401 - val_accuracy: 0.8505\n",
      "Epoch 11/45\n",
      "4633/4633 - 1s - loss: 0.6159 - accuracy: 0.7911 - val_loss: 2.9747 - val_accuracy: 0.5146\n",
      "Epoch 12/45\n",
      "4633/4633 - 1s - loss: 0.6266 - accuracy: 0.8120 - val_loss: 1.4417 - val_accuracy: 0.6524\n",
      "Epoch 13/45\n",
      "4633/4633 - 1s - loss: 0.5837 - accuracy: 0.8088 - val_loss: 0.4403 - val_accuracy: 0.8932\n",
      "Epoch 14/45\n",
      "4633/4633 - 1s - loss: 0.5490 - accuracy: 0.8109 - val_loss: 0.4557 - val_accuracy: 0.8951\n",
      "Epoch 15/45\n",
      "4633/4633 - 1s - loss: 0.6135 - accuracy: 0.7980 - val_loss: 0.3998 - val_accuracy: 0.8485\n",
      "Epoch 16/45\n",
      "4633/4633 - 1s - loss: 0.5210 - accuracy: 0.8351 - val_loss: 0.3428 - val_accuracy: 0.8583\n",
      "Epoch 17/45\n",
      "4633/4633 - 1s - loss: 0.6407 - accuracy: 0.7965 - val_loss: 0.4677 - val_accuracy: 0.8951\n",
      "Epoch 18/45\n",
      "4633/4633 - 1s - loss: 0.5237 - accuracy: 0.8321 - val_loss: 0.5676 - val_accuracy: 0.8252\n",
      "Epoch 19/45\n",
      "4633/4633 - 1s - loss: 0.7149 - accuracy: 0.7889 - val_loss: 1.5255 - val_accuracy: 0.5204\n",
      "Epoch 20/45\n",
      "4633/4633 - 1s - loss: 0.5892 - accuracy: 0.8273 - val_loss: 0.5579 - val_accuracy: 0.8058\n",
      "Epoch 21/45\n",
      "4633/4633 - 1s - loss: 0.6740 - accuracy: 0.8085 - val_loss: 0.3357 - val_accuracy: 0.8699\n",
      "Epoch 22/45\n",
      "4633/4633 - 2s - loss: 0.4614 - accuracy: 0.8452 - val_loss: 0.6227 - val_accuracy: 0.7592\n",
      "Epoch 23/45\n",
      "4633/4633 - 2s - loss: 0.5785 - accuracy: 0.8144 - val_loss: 0.6514 - val_accuracy: 0.7573\n",
      "Epoch 24/45\n",
      "4633/4633 - 1s - loss: 0.6081 - accuracy: 0.8165 - val_loss: 0.3727 - val_accuracy: 0.8602\n",
      "Epoch 25/45\n",
      "4633/4633 - 2s - loss: 0.5141 - accuracy: 0.8316 - val_loss: 0.3345 - val_accuracy: 0.8913\n",
      "Epoch 26/45\n",
      "4633/4633 - 2s - loss: 0.6462 - accuracy: 0.8057 - val_loss: 1.8160 - val_accuracy: 0.6505\n",
      "Epoch 27/45\n",
      "4633/4633 - 2s - loss: 0.5604 - accuracy: 0.8342 - val_loss: 0.4721 - val_accuracy: 0.8932\n",
      "Epoch 28/45\n",
      "4633/4633 - 3s - loss: 0.5158 - accuracy: 0.8332 - val_loss: 0.7496 - val_accuracy: 0.7806\n",
      "Epoch 29/45\n",
      "4633/4633 - 3s - loss: 0.5573 - accuracy: 0.8193 - val_loss: 0.3373 - val_accuracy: 0.8913\n",
      "Epoch 30/45\n",
      "4633/4633 - 4s - loss: 0.6217 - accuracy: 0.8096 - val_loss: 0.4910 - val_accuracy: 0.8951\n",
      "Epoch 31/45\n",
      "4633/4633 - 4s - loss: 0.5291 - accuracy: 0.8273 - val_loss: 0.4401 - val_accuracy: 0.8951\n",
      "Epoch 32/45\n",
      "4633/4633 - 5s - loss: 0.5481 - accuracy: 0.8211 - val_loss: 0.8763 - val_accuracy: 0.6000\n",
      "Epoch 33/45\n",
      "4633/4633 - 1s - loss: 0.5735 - accuracy: 0.8262 - val_loss: 1.2563 - val_accuracy: 0.7301\n",
      "Epoch 34/45\n",
      "4633/4633 - 1s - loss: 0.5897 - accuracy: 0.8088 - val_loss: 0.6020 - val_accuracy: 0.8039\n",
      "Epoch 35/45\n",
      "4633/4633 - 1s - loss: 0.6396 - accuracy: 0.8135 - val_loss: 1.1564 - val_accuracy: 0.7534\n",
      "Epoch 36/45\n",
      "4633/4633 - 1s - loss: 0.6251 - accuracy: 0.8155 - val_loss: 0.5855 - val_accuracy: 0.8078\n",
      "Epoch 37/45\n",
      "4633/4633 - 1s - loss: 0.6029 - accuracy: 0.8202 - val_loss: 0.3506 - val_accuracy: 0.8893\n",
      "Epoch 38/45\n",
      "4633/4633 - 2s - loss: 0.6000 - accuracy: 0.8232 - val_loss: 0.4005 - val_accuracy: 0.8932\n",
      "Epoch 39/45\n",
      "4633/4633 - 1s - loss: 0.6625 - accuracy: 0.8135 - val_loss: 0.5048 - val_accuracy: 0.8350\n",
      "Epoch 40/45\n"
     ]
    },
    {
     "name": "stderr",
     "output_type": "stream",
     "text": [
      "[I 2024-08-02 16:35:58,703] Trial 12 pruned. Trial was pruned at epoch 39.\n"
     ]
    },
    {
     "name": "stdout",
     "output_type": "stream",
     "text": [
      "Train on 4633 samples, validate on 515 samples\n",
      "Epoch 1/25\n",
      "4633/4633 - 2s - loss: 41.4369 - accuracy: 0.5105 - val_loss: 0.6530 - val_accuracy: 0.7398\n",
      "Epoch 2/25\n",
      "4633/4633 - 1s - loss: 16.4342 - accuracy: 0.5260 - val_loss: 3.1343 - val_accuracy: 0.5049\n",
      "Epoch 3/25\n"
     ]
    },
    {
     "name": "stderr",
     "output_type": "stream",
     "text": [
      "[I 2024-08-02 16:36:03,941] Trial 13 pruned. Trial was pruned at epoch 2.\n"
     ]
    },
    {
     "name": "stdout",
     "output_type": "stream",
     "text": [
      "Train on 4633 samples, validate on 515 samples\n",
      "Epoch 1/20\n",
      "4633/4633 - 2s - loss: 30.1074 - accuracy: 0.6102 - val_loss: 0.5281 - val_accuracy: 0.7670\n",
      "Epoch 2/20\n",
      "4633/4633 - 1s - loss: 6.0641 - accuracy: 0.7071 - val_loss: 0.4622 - val_accuracy: 0.8272\n",
      "Epoch 3/20\n",
      "4633/4633 - 1s - loss: 0.6541 - accuracy: 0.7263 - val_loss: 0.4491 - val_accuracy: 0.8175\n",
      "Epoch 4/20\n",
      "4633/4633 - 1s - loss: 0.5252 - accuracy: 0.7563 - val_loss: 0.4551 - val_accuracy: 0.7786\n",
      "Epoch 5/20\n",
      "4633/4633 - 1s - loss: 0.5093 - accuracy: 0.7565 - val_loss: 0.5104 - val_accuracy: 0.8893\n",
      "Epoch 6/20\n",
      "4633/4633 - 1s - loss: 0.5041 - accuracy: 0.7814 - val_loss: 0.3989 - val_accuracy: 0.8583\n",
      "Epoch 7/20\n",
      "4633/4633 - 1s - loss: 0.4877 - accuracy: 0.7995 - val_loss: 0.5257 - val_accuracy: 0.7417\n",
      "Epoch 8/20\n",
      "4633/4633 - 1s - loss: 0.4960 - accuracy: 0.7939 - val_loss: 0.4235 - val_accuracy: 0.8835\n",
      "Epoch 9/20\n",
      "4633/4633 - 1s - loss: 0.4766 - accuracy: 0.8042 - val_loss: 0.3897 - val_accuracy: 0.8816\n",
      "Epoch 10/20\n",
      "4633/4633 - 4s - loss: 0.4721 - accuracy: 0.8101 - val_loss: 0.6317 - val_accuracy: 0.7379\n",
      "Epoch 11/20\n",
      "4633/4633 - 4s - loss: 0.4700 - accuracy: 0.8092 - val_loss: 0.3794 - val_accuracy: 0.8874\n",
      "Epoch 12/20\n",
      "4633/4633 - 2s - loss: 0.4557 - accuracy: 0.8174 - val_loss: 0.3864 - val_accuracy: 0.8641\n",
      "Epoch 13/20\n",
      "4633/4633 - 2s - loss: 0.4417 - accuracy: 0.8267 - val_loss: 0.3556 - val_accuracy: 0.8777\n",
      "Epoch 14/20\n",
      "4633/4633 - 4s - loss: 0.4499 - accuracy: 0.8198 - val_loss: 0.3568 - val_accuracy: 0.8874\n",
      "Epoch 15/20\n",
      "4633/4633 - 2s - loss: 0.4338 - accuracy: 0.8338 - val_loss: 0.3651 - val_accuracy: 0.8757\n",
      "Epoch 16/20\n",
      "4633/4633 - 4s - loss: 0.4523 - accuracy: 0.8278 - val_loss: 0.3620 - val_accuracy: 0.8854\n",
      "Epoch 17/20\n",
      "4633/4633 - 3s - loss: 0.4301 - accuracy: 0.8344 - val_loss: 0.3516 - val_accuracy: 0.8932\n",
      "Epoch 18/20\n",
      "4633/4633 - 3s - loss: 0.4248 - accuracy: 0.8355 - val_loss: 0.3329 - val_accuracy: 0.8932\n",
      "Epoch 19/20\n",
      "4633/4633 - 6s - loss: 0.4202 - accuracy: 0.8379 - val_loss: 0.4472 - val_accuracy: 0.8990\n",
      "Epoch 20/20\n",
      "4633/4633 - 3s - loss: 0.4193 - accuracy: 0.8407 - val_loss: 0.3368 - val_accuracy: 0.8932\n"
     ]
    },
    {
     "name": "stderr",
     "output_type": "stream",
     "text": [
      "[I 2024-08-02 16:36:52,298] Trial 14 finished with value: 0.8990291357040405 and parameters: {'units': 10, 'dropout': 0.1, 'epochs': 20, 'batch_size': 10}. Best is trial 6 with value: 0.9029126167297363.\n"
     ]
    },
    {
     "name": "stdout",
     "output_type": "stream",
     "text": [
      "Train on 4633 samples, validate on 515 samples\n",
      "Epoch 1/35\n",
      "4633/4633 - 9s - loss: 0.6759 - accuracy: 0.6771 - val_loss: 0.4609 - val_accuracy: 0.7476\n",
      "Epoch 2/35\n",
      "4633/4633 - 7s - loss: 0.5135 - accuracy: 0.7708 - val_loss: 0.6256 - val_accuracy: 0.5670\n",
      "Epoch 3/35\n"
     ]
    },
    {
     "name": "stderr",
     "output_type": "stream",
     "text": [
      "[I 2024-08-02 16:37:15,548] Trial 15 pruned. Trial was pruned at epoch 2.\n"
     ]
    },
    {
     "name": "stdout",
     "output_type": "stream",
     "text": [
      "Train on 4633 samples, validate on 515 samples\n",
      "Epoch 1/20\n"
     ]
    },
    {
     "name": "stderr",
     "output_type": "stream",
     "text": [
      "[I 2024-08-02 16:37:18,642] Trial 16 pruned. Trial was pruned at epoch 0.\n"
     ]
    },
    {
     "name": "stdout",
     "output_type": "stream",
     "text": [
      "Train on 4633 samples, validate on 515 samples\n",
      "Epoch 1/50\n"
     ]
    },
    {
     "name": "stderr",
     "output_type": "stream",
     "text": [
      "[I 2024-08-02 16:37:20,881] Trial 17 pruned. Trial was pruned at epoch 0.\n"
     ]
    },
    {
     "name": "stdout",
     "output_type": "stream",
     "text": [
      "Train on 4633 samples, validate on 515 samples\n",
      "Epoch 1/40\n",
      "4633/4633 - 2s - loss: 45.3818 - accuracy: 0.5008 - val_loss: 0.7194 - val_accuracy: 0.5883\n",
      "Epoch 2/40\n",
      "4633/4633 - 1s - loss: 7.0924 - accuracy: 0.5815 - val_loss: 0.6554 - val_accuracy: 0.7301\n",
      "Epoch 3/40\n"
     ]
    },
    {
     "name": "stderr",
     "output_type": "stream",
     "text": [
      "[I 2024-08-02 16:37:25,658] Trial 18 pruned. Trial was pruned at epoch 2.\n"
     ]
    },
    {
     "name": "stdout",
     "output_type": "stream",
     "text": [
      "Train on 4633 samples, validate on 515 samples\n",
      "Epoch 1/30\n",
      "4633/4633 - 3s - loss: 81.2352 - accuracy: 0.4986 - val_loss: 1.2676 - val_accuracy: 0.5340\n",
      "Epoch 2/30\n",
      "4633/4633 - 1s - loss: 17.3427 - accuracy: 0.5213 - val_loss: 0.4444 - val_accuracy: 0.8136\n",
      "Epoch 3/30\n",
      "4633/4633 - 1s - loss: 1.2216 - accuracy: 0.6704 - val_loss: 0.4958 - val_accuracy: 0.8874\n",
      "Epoch 4/30\n",
      "4633/4633 - 3s - loss: 0.5273 - accuracy: 0.7570 - val_loss: 0.5042 - val_accuracy: 0.8854\n",
      "Epoch 5/30\n",
      "4633/4633 - 1s - loss: 0.5204 - accuracy: 0.7555 - val_loss: 0.4584 - val_accuracy: 0.8136\n",
      "Epoch 6/30\n",
      "4633/4633 - 2s - loss: 0.5588 - accuracy: 0.7285 - val_loss: 0.5641 - val_accuracy: 0.7029\n",
      "Epoch 7/30\n",
      "4633/4633 - 2s - loss: 0.5452 - accuracy: 0.7369 - val_loss: 0.4958 - val_accuracy: 0.7573\n",
      "Epoch 8/30\n",
      "4633/4633 - 3s - loss: 0.4972 - accuracy: 0.7775 - val_loss: 0.5013 - val_accuracy: 0.7670\n",
      "Epoch 9/30\n",
      "4633/4633 - 3s - loss: 0.5027 - accuracy: 0.7634 - val_loss: 0.4441 - val_accuracy: 0.8660\n",
      "Epoch 10/30\n",
      "4633/4633 - 2s - loss: 0.4927 - accuracy: 0.7807 - val_loss: 0.4580 - val_accuracy: 0.7689\n",
      "Epoch 11/30\n",
      "4633/4633 - 3s - loss: 0.4766 - accuracy: 0.7848 - val_loss: 0.3809 - val_accuracy: 0.8699\n",
      "Epoch 12/30\n",
      "4633/4633 - 2s - loss: 0.4971 - accuracy: 0.7742 - val_loss: 0.3991 - val_accuracy: 0.8583\n",
      "Epoch 13/30\n",
      "4633/4633 - 2s - loss: 0.4815 - accuracy: 0.7919 - val_loss: 0.5022 - val_accuracy: 0.7534\n",
      "Epoch 14/30\n",
      "4633/4633 - 4s - loss: 0.4724 - accuracy: 0.7906 - val_loss: 0.4362 - val_accuracy: 0.8078\n",
      "Epoch 15/30\n",
      "4633/4633 - 4s - loss: 0.4654 - accuracy: 0.8010 - val_loss: 0.4263 - val_accuracy: 0.7786\n",
      "Epoch 16/30\n",
      "4633/4633 - 5s - loss: 0.4568 - accuracy: 0.7980 - val_loss: 0.3837 - val_accuracy: 0.8932\n",
      "Epoch 17/30\n",
      "4633/4633 - 5s - loss: 0.4529 - accuracy: 0.8042 - val_loss: 0.3424 - val_accuracy: 0.8621\n",
      "Epoch 18/30\n",
      "4633/4633 - 5s - loss: 0.4379 - accuracy: 0.8144 - val_loss: 0.3615 - val_accuracy: 0.8641\n",
      "Epoch 19/30\n",
      "4633/4633 - 6s - loss: 0.4633 - accuracy: 0.7988 - val_loss: 0.3985 - val_accuracy: 0.8311\n",
      "Epoch 20/30\n",
      "4633/4633 - 7s - loss: 0.4744 - accuracy: 0.8008 - val_loss: 0.4254 - val_accuracy: 0.8777\n",
      "Epoch 21/30\n",
      "4633/4633 - 4s - loss: 0.4576 - accuracy: 0.8131 - val_loss: 0.3382 - val_accuracy: 0.8951\n",
      "Epoch 22/30\n",
      "4633/4633 - 3s - loss: 0.4733 - accuracy: 0.7962 - val_loss: 0.3792 - val_accuracy: 0.8932\n",
      "Epoch 23/30\n",
      "4633/4633 - 2s - loss: 0.4505 - accuracy: 0.8042 - val_loss: 0.3194 - val_accuracy: 0.8757\n",
      "Epoch 24/30\n",
      "4633/4633 - 3s - loss: 0.4640 - accuracy: 0.7962 - val_loss: 0.4598 - val_accuracy: 0.7767\n",
      "Epoch 25/30\n",
      "4633/4633 - 2s - loss: 0.4255 - accuracy: 0.8032 - val_loss: 0.2972 - val_accuracy: 0.8699\n",
      "Epoch 26/30\n",
      "4633/4633 - 2s - loss: 0.4378 - accuracy: 0.8118 - val_loss: 0.3891 - val_accuracy: 0.8874\n",
      "Epoch 27/30\n",
      "4633/4633 - 2s - loss: 0.4335 - accuracy: 0.8144 - val_loss: 0.3194 - val_accuracy: 0.8893\n",
      "Epoch 28/30\n",
      "4633/4633 - 2s - loss: 0.4079 - accuracy: 0.8133 - val_loss: 0.2820 - val_accuracy: 0.8796\n",
      "Epoch 29/30\n",
      "4633/4633 - 3s - loss: 0.4263 - accuracy: 0.7911 - val_loss: 0.3203 - val_accuracy: 0.8893\n",
      "Epoch 30/30\n",
      "4633/4633 - 7s - loss: 0.4230 - accuracy: 0.8116 - val_loss: 0.3494 - val_accuracy: 0.8524\n"
     ]
    },
    {
     "name": "stderr",
     "output_type": "stream",
     "text": [
      "[I 2024-08-02 16:39:03,162] Trial 19 finished with value: 0.8951456546783447 and parameters: {'units': 30, 'dropout': 0.30000000000000004, 'epochs': 30, 'batch_size': 10}. Best is trial 6 with value: 0.9029126167297363.\n"
     ]
    },
    {
     "name": "stdout",
     "output_type": "stream",
     "text": [
      "Train on 4633 samples, validate on 515 samples\n",
      "Epoch 1/40\n"
     ]
    },
    {
     "name": "stderr",
     "output_type": "stream",
     "text": [
      "[I 2024-08-02 16:39:06,478] Trial 20 pruned. Trial was pruned at epoch 0.\n"
     ]
    },
    {
     "name": "stdout",
     "output_type": "stream",
     "text": [
      "Train on 4633 samples, validate on 515 samples\n",
      "Epoch 1/20\n",
      "4633/4633 - 8s - loss: 33.0877 - accuracy: 0.5036 - val_loss: 0.8003 - val_accuracy: 0.7456\n",
      "Epoch 2/20\n",
      "4633/4633 - 6s - loss: 9.8509 - accuracy: 0.5750 - val_loss: 1.3679 - val_accuracy: 0.7495\n",
      "Epoch 3/20\n"
     ]
    },
    {
     "name": "stderr",
     "output_type": "stream",
     "text": [
      "[I 2024-08-02 16:39:26,974] Trial 21 pruned. Trial was pruned at epoch 2.\n"
     ]
    },
    {
     "name": "stdout",
     "output_type": "stream",
     "text": [
      "Train on 4633 samples, validate on 515 samples\n",
      "Epoch 1/20\n"
     ]
    },
    {
     "name": "stderr",
     "output_type": "stream",
     "text": [
      "[I 2024-08-02 16:39:30,693] Trial 22 pruned. Trial was pruned at epoch 0.\n"
     ]
    },
    {
     "name": "stdout",
     "output_type": "stream",
     "text": [
      "Train on 4633 samples, validate on 515 samples\n",
      "Epoch 1/15\n"
     ]
    },
    {
     "name": "stderr",
     "output_type": "stream",
     "text": [
      "[I 2024-08-02 16:39:36,032] Trial 23 pruned. Trial was pruned at epoch 0.\n"
     ]
    },
    {
     "name": "stdout",
     "output_type": "stream",
     "text": [
      "Train on 4633 samples, validate on 515 samples\n",
      "Epoch 1/5\n",
      "4633/4633 - 8s - loss: 38.8351 - accuracy: 0.5221 - val_loss: 0.5408 - val_accuracy: 0.7165\n",
      "Epoch 2/5\n",
      "4633/4633 - 5s - loss: 4.6921 - accuracy: 0.6050 - val_loss: 0.4544 - val_accuracy: 0.7650\n",
      "Epoch 3/5\n"
     ]
    },
    {
     "name": "stderr",
     "output_type": "stream",
     "text": [
      "[I 2024-08-02 16:39:53,279] Trial 24 pruned. Trial was pruned at epoch 2.\n"
     ]
    },
    {
     "name": "stdout",
     "output_type": "stream",
     "text": [
      "Train on 4633 samples, validate on 515 samples\n",
      "Epoch 1/25\n"
     ]
    },
    {
     "name": "stderr",
     "output_type": "stream",
     "text": [
      "[I 2024-08-02 16:39:56,731] Trial 25 pruned. Trial was pruned at epoch 0.\n"
     ]
    },
    {
     "name": "stdout",
     "output_type": "stream",
     "text": [
      "Train on 4633 samples, validate on 515 samples\n",
      "Epoch 1/10\n",
      "4633/4633 - 5s - loss: 7.2778 - accuracy: 0.6741 - val_loss: 0.5596 - val_accuracy: 0.6136\n",
      "Epoch 2/10\n",
      "4633/4633 - 4s - loss: 0.6823 - accuracy: 0.7261 - val_loss: 0.4592 - val_accuracy: 0.7767\n",
      "Epoch 3/10\n",
      "4633/4633 - 5s - loss: 0.5315 - accuracy: 0.7956 - val_loss: 0.5035 - val_accuracy: 0.8893\n",
      "Epoch 4/10\n",
      "4633/4633 - 5s - loss: 0.5622 - accuracy: 0.7833 - val_loss: 0.3602 - val_accuracy: 0.8039\n",
      "Epoch 5/10\n",
      "4633/4633 - 4s - loss: 0.7252 - accuracy: 0.7762 - val_loss: 0.3353 - val_accuracy: 0.8913\n",
      "Epoch 6/10\n",
      "4633/4633 - 4s - loss: 0.5025 - accuracy: 0.8185 - val_loss: 0.4419 - val_accuracy: 0.8019\n",
      "Epoch 7/10\n",
      "4633/4633 - 5s - loss: 0.5157 - accuracy: 0.8165 - val_loss: 0.3330 - val_accuracy: 0.8524\n",
      "Epoch 8/10\n",
      "4633/4633 - 5s - loss: 0.5383 - accuracy: 0.8047 - val_loss: 2.0723 - val_accuracy: 0.5650\n",
      "Epoch 9/10\n",
      "4633/4633 - 6s - loss: 0.5336 - accuracy: 0.8090 - val_loss: 0.3119 - val_accuracy: 0.8641\n",
      "Epoch 10/10\n",
      "4633/4633 - 4s - loss: 0.4645 - accuracy: 0.8344 - val_loss: 0.9718 - val_accuracy: 0.5359\n"
     ]
    },
    {
     "name": "stderr",
     "output_type": "stream",
     "text": [
      "[I 2024-08-02 16:40:44,859] Trial 26 finished with value: 0.8912621140480042 and parameters: {'units': 65, 'dropout': 0.0, 'epochs': 10, 'batch_size': 15}. Best is trial 6 with value: 0.9029126167297363.\n"
     ]
    },
    {
     "name": "stdout",
     "output_type": "stream",
     "text": [
      "Train on 4633 samples, validate on 515 samples\n",
      "Epoch 1/35\n",
      "4633/4633 - 6s - loss: 11.5107 - accuracy: 0.5504 - val_loss: 0.5341 - val_accuracy: 0.8835\n",
      "Epoch 2/35\n",
      "4633/4633 - 5s - loss: 3.1902 - accuracy: 0.6477 - val_loss: 0.5669 - val_accuracy: 0.8854\n",
      "Epoch 3/35\n",
      "4633/4633 - 4s - loss: 0.7995 - accuracy: 0.7451 - val_loss: 0.4233 - val_accuracy: 0.8854\n",
      "Epoch 4/35\n",
      "4633/4633 - 6s - loss: 0.5449 - accuracy: 0.7857 - val_loss: 0.9862 - val_accuracy: 0.5165\n",
      "Epoch 5/35\n",
      "4633/4633 - 5s - loss: 0.5258 - accuracy: 0.7779 - val_loss: 0.5351 - val_accuracy: 0.7282\n",
      "Epoch 6/35\n",
      "4633/4633 - 4s - loss: 0.5093 - accuracy: 0.7693 - val_loss: 0.3760 - val_accuracy: 0.8524\n",
      "Epoch 7/35\n",
      "4633/4633 - 5s - loss: 0.4743 - accuracy: 0.7949 - val_loss: 0.4087 - val_accuracy: 0.7845\n",
      "Epoch 8/35\n",
      "4633/4633 - 5s - loss: 0.4425 - accuracy: 0.8073 - val_loss: 0.5344 - val_accuracy: 0.7650\n",
      "Epoch 9/35\n",
      "4633/4633 - 6s - loss: 0.4067 - accuracy: 0.8323 - val_loss: 0.4043 - val_accuracy: 0.7825\n",
      "Epoch 10/35\n",
      "4633/4633 - 7s - loss: 0.3798 - accuracy: 0.8450 - val_loss: 0.3184 - val_accuracy: 0.8874\n",
      "Epoch 11/35\n",
      "4633/4633 - 6s - loss: 0.3684 - accuracy: 0.8556 - val_loss: 0.3414 - val_accuracy: 0.8466\n",
      "Epoch 12/35\n",
      "4633/4633 - 5s - loss: 0.3632 - accuracy: 0.8556 - val_loss: 0.2901 - val_accuracy: 0.8913\n",
      "Epoch 13/35\n",
      "4633/4633 - 6s - loss: 0.3572 - accuracy: 0.8588 - val_loss: 0.2984 - val_accuracy: 0.8893\n",
      "Epoch 14/35\n",
      "4633/4633 - 6s - loss: 0.3595 - accuracy: 0.8485 - val_loss: 0.3056 - val_accuracy: 0.8796\n",
      "Epoch 15/35\n",
      "4633/4633 - 5s - loss: 0.3594 - accuracy: 0.8476 - val_loss: 0.2904 - val_accuracy: 0.8913\n",
      "Epoch 16/35\n",
      "4633/4633 - 5s - loss: 0.3492 - accuracy: 0.8584 - val_loss: 0.2809 - val_accuracy: 0.8932\n",
      "Epoch 17/35\n",
      "4633/4633 - 8s - loss: 0.4234 - accuracy: 0.8338 - val_loss: 0.2800 - val_accuracy: 0.8932\n",
      "Epoch 18/35\n",
      "4633/4633 - 10s - loss: 0.4405 - accuracy: 0.8368 - val_loss: 0.3741 - val_accuracy: 0.8932\n",
      "Epoch 19/35\n",
      "4633/4633 - 6s - loss: 0.4364 - accuracy: 0.8319 - val_loss: 0.3405 - val_accuracy: 0.8893\n",
      "Epoch 20/35\n",
      "4633/4633 - 4s - loss: 0.4097 - accuracy: 0.8422 - val_loss: 0.3280 - val_accuracy: 0.8816\n",
      "Epoch 21/35\n",
      "4633/4633 - 5s - loss: 0.3991 - accuracy: 0.8422 - val_loss: 0.3368 - val_accuracy: 0.8699\n",
      "Epoch 22/35\n"
     ]
    },
    {
     "name": "stderr",
     "output_type": "stream",
     "text": [
      "[I 2024-08-02 16:42:50,697] Trial 27 pruned. Trial was pruned at epoch 21.\n"
     ]
    },
    {
     "name": "stdout",
     "output_type": "stream",
     "text": [
      "Train on 4633 samples, validate on 515 samples\n",
      "Epoch 1/20\n",
      "4633/4633 - 4s - loss: 36.4442 - accuracy: 0.4971 - val_loss: 0.6611 - val_accuracy: 0.7553\n",
      "Epoch 2/20\n",
      "4633/4633 - 2s - loss: 11.9478 - accuracy: 0.5232 - val_loss: 0.7289 - val_accuracy: 0.7515\n",
      "Epoch 3/20\n"
     ]
    },
    {
     "name": "stderr",
     "output_type": "stream",
     "text": [
      "[I 2024-08-02 16:42:59,490] Trial 28 pruned. Trial was pruned at epoch 2.\n"
     ]
    },
    {
     "name": "stdout",
     "output_type": "stream",
     "text": [
      "Train on 4633 samples, validate on 515 samples\n",
      "Epoch 1/15\n",
      "4633/4633 - 10s - loss: 18.6432 - accuracy: 0.5422 - val_loss: 0.4673 - val_accuracy: 0.8583\n",
      "Epoch 2/15\n",
      "4633/4633 - 5s - loss: 7.1239 - accuracy: 0.6378 - val_loss: 0.7034 - val_accuracy: 0.7612\n",
      "Epoch 3/15\n",
      "4633/4633 - 5s - loss: 3.1116 - accuracy: 0.6963 - val_loss: 0.4417 - val_accuracy: 0.8660\n",
      "Epoch 4/15\n",
      "4633/4633 - 4s - loss: 1.2263 - accuracy: 0.7311 - val_loss: 0.4372 - val_accuracy: 0.8757\n",
      "Epoch 5/15\n",
      "4633/4633 - 4s - loss: 0.5435 - accuracy: 0.7805 - val_loss: 0.3927 - val_accuracy: 0.8505\n",
      "Epoch 6/15\n",
      "4633/4633 - 3s - loss: 0.4929 - accuracy: 0.7846 - val_loss: 0.5330 - val_accuracy: 0.7437\n",
      "Epoch 7/15\n",
      "4633/4633 - 3s - loss: 0.4652 - accuracy: 0.8034 - val_loss: 0.3627 - val_accuracy: 0.8738\n",
      "Epoch 8/15\n",
      "4633/4633 - 3s - loss: 0.4158 - accuracy: 0.8273 - val_loss: 0.3702 - val_accuracy: 0.8097\n",
      "Epoch 9/15\n",
      "4633/4633 - 4s - loss: 0.4011 - accuracy: 0.8388 - val_loss: 0.3305 - val_accuracy: 0.8680\n",
      "Epoch 10/15\n",
      "4633/4633 - 4s - loss: 0.3830 - accuracy: 0.8472 - val_loss: 0.3221 - val_accuracy: 0.8913\n",
      "Epoch 11/15\n",
      "4633/4633 - 3s - loss: 0.3665 - accuracy: 0.8595 - val_loss: 0.3135 - val_accuracy: 0.8699\n",
      "Epoch 12/15\n",
      "4633/4633 - 3s - loss: 0.3694 - accuracy: 0.8526 - val_loss: 0.3998 - val_accuracy: 0.7845\n",
      "Epoch 13/15\n",
      "4633/4633 - 3s - loss: 0.3991 - accuracy: 0.8437 - val_loss: 0.3566 - val_accuracy: 0.8874\n",
      "Epoch 14/15\n",
      "4633/4633 - 3s - loss: 0.3999 - accuracy: 0.8344 - val_loss: 0.4215 - val_accuracy: 0.7981\n",
      "Epoch 15/15\n",
      "4633/4633 - 4s - loss: 0.3874 - accuracy: 0.8383 - val_loss: 0.3121 - val_accuracy: 0.8777\n"
     ]
    },
    {
     "name": "stderr",
     "output_type": "stream",
     "text": [
      "[I 2024-08-02 16:44:02,208] Trial 29 finished with value: 0.8912621140480042 and parameters: {'units': 35, 'dropout': 0.05, 'epochs': 15, 'batch_size': 5}. Best is trial 6 with value: 0.9029126167297363.\n"
     ]
    },
    {
     "name": "stdout",
     "output_type": "stream",
     "text": [
      "Train on 4633 samples, validate on 515 samples\n",
      "Epoch 1/45\n"
     ]
    },
    {
     "name": "stderr",
     "output_type": "stream",
     "text": [
      "[I 2024-08-02 16:44:04,442] Trial 30 pruned. Trial was pruned at epoch 0.\n"
     ]
    },
    {
     "name": "stdout",
     "output_type": "stream",
     "text": [
      "Train on 4633 samples, validate on 515 samples\n",
      "Epoch 1/30\n"
     ]
    },
    {
     "name": "stderr",
     "output_type": "stream",
     "text": [
      "[I 2024-08-02 16:44:08,659] Trial 31 pruned. Trial was pruned at epoch 0.\n"
     ]
    },
    {
     "name": "stdout",
     "output_type": "stream",
     "text": [
      "Train on 4633 samples, validate on 515 samples\n",
      "Epoch 1/30\n"
     ]
    },
    {
     "name": "stderr",
     "output_type": "stream",
     "text": [
      "[I 2024-08-02 16:44:11,744] Trial 32 pruned. Trial was pruned at epoch 0.\n"
     ]
    },
    {
     "name": "stdout",
     "output_type": "stream",
     "text": [
      "Train on 4633 samples, validate on 515 samples\n",
      "Epoch 1/10\n"
     ]
    },
    {
     "name": "stderr",
     "output_type": "stream",
     "text": [
      "[I 2024-08-02 16:44:14,460] Trial 33 pruned. Trial was pruned at epoch 0.\n"
     ]
    },
    {
     "name": "stdout",
     "output_type": "stream",
     "text": [
      "Train on 4633 samples, validate on 515 samples\n",
      "Epoch 1/25\n"
     ]
    },
    {
     "name": "stderr",
     "output_type": "stream",
     "text": [
      "[I 2024-08-02 16:44:19,801] Trial 34 pruned. Trial was pruned at epoch 0.\n"
     ]
    },
    {
     "name": "stdout",
     "output_type": "stream",
     "text": [
      "Train on 4633 samples, validate on 515 samples\n",
      "Epoch 1/40\n",
      "4633/4633 - 13s - loss: 46.2106 - accuracy: 0.5087 - val_loss: 0.5162 - val_accuracy: 0.7728\n",
      "Epoch 2/40\n",
      "4633/4633 - 6s - loss: 3.5832 - accuracy: 0.6011 - val_loss: 0.5479 - val_accuracy: 0.6485\n",
      "Epoch 3/40\n"
     ]
    },
    {
     "name": "stderr",
     "output_type": "stream",
     "text": [
      "[I 2024-08-02 16:44:45,099] Trial 35 pruned. Trial was pruned at epoch 2.\n"
     ]
    },
    {
     "name": "stdout",
     "output_type": "stream",
     "text": [
      "Train on 4633 samples, validate on 515 samples\n",
      "Epoch 1/15\n"
     ]
    },
    {
     "name": "stderr",
     "output_type": "stream",
     "text": [
      "[I 2024-08-02 16:44:48,131] Trial 36 pruned. Trial was pruned at epoch 0.\n"
     ]
    },
    {
     "name": "stdout",
     "output_type": "stream",
     "text": [
      "Train on 4633 samples, validate on 515 samples\n",
      "Epoch 1/35\n",
      "4633/4633 - 8s - loss: 40.2164 - accuracy: 0.5014 - val_loss: 0.6361 - val_accuracy: 0.7495\n",
      "Epoch 2/35\n",
      "4633/4633 - 8s - loss: 1.3443 - accuracy: 0.5990 - val_loss: 0.5835 - val_accuracy: 0.5165\n",
      "Epoch 3/35\n"
     ]
    },
    {
     "name": "stderr",
     "output_type": "stream",
     "text": [
      "[I 2024-08-02 16:45:09,656] Trial 37 pruned. Trial was pruned at epoch 2.\n"
     ]
    },
    {
     "name": "stdout",
     "output_type": "stream",
     "text": [
      "Train on 4633 samples, validate on 515 samples\n",
      "Epoch 1/45\n",
      "4633/4633 - 4s - loss: 61.3922 - accuracy: 0.5148 - val_loss: 0.6605 - val_accuracy: 0.7379\n",
      "Epoch 2/45\n",
      "4633/4633 - 2s - loss: 22.1783 - accuracy: 0.5111 - val_loss: 1.0559 - val_accuracy: 0.6447\n",
      "Epoch 3/45\n"
     ]
    },
    {
     "name": "stderr",
     "output_type": "stream",
     "text": [
      "[I 2024-08-02 16:45:17,568] Trial 38 pruned. Trial was pruned at epoch 2.\n"
     ]
    },
    {
     "name": "stdout",
     "output_type": "stream",
     "text": [
      "Train on 4633 samples, validate on 515 samples\n",
      "Epoch 1/20\n"
     ]
    },
    {
     "name": "stderr",
     "output_type": "stream",
     "text": [
      "[I 2024-08-02 16:45:20,930] Trial 39 pruned. Trial was pruned at epoch 0.\n"
     ]
    },
    {
     "name": "stdout",
     "output_type": "stream",
     "text": [
      "Train on 4633 samples, validate on 515 samples\n",
      "Epoch 1/30\n"
     ]
    },
    {
     "name": "stderr",
     "output_type": "stream",
     "text": [
      "[I 2024-08-02 16:45:24,330] Trial 40 pruned. Trial was pruned at epoch 0.\n"
     ]
    },
    {
     "name": "stdout",
     "output_type": "stream",
     "text": [
      "Train on 4633 samples, validate on 515 samples\n",
      "Epoch 1/40\n",
      "4633/4633 - 10s - loss: 44.2724 - accuracy: 0.4999 - val_loss: 1.2140 - val_accuracy: 0.5534\n",
      "Epoch 2/40\n",
      "4633/4633 - 5s - loss: 1.2032 - accuracy: 0.5782 - val_loss: 0.5526 - val_accuracy: 0.7107\n",
      "Epoch 3/40\n"
     ]
    },
    {
     "name": "stderr",
     "output_type": "stream",
     "text": [
      "[I 2024-08-02 16:45:44,649] Trial 41 pruned. Trial was pruned at epoch 2.\n"
     ]
    },
    {
     "name": "stdout",
     "output_type": "stream",
     "text": [
      "Train on 4633 samples, validate on 515 samples\n",
      "Epoch 1/45\n",
      "4633/4633 - 8s - loss: 31.5212 - accuracy: 0.5150 - val_loss: 0.8944 - val_accuracy: 0.5592\n",
      "Epoch 2/45\n",
      "4633/4633 - 5s - loss: 2.6557 - accuracy: 0.6385 - val_loss: 0.4259 - val_accuracy: 0.7689\n",
      "Epoch 3/45\n"
     ]
    },
    {
     "name": "stderr",
     "output_type": "stream",
     "text": [
      "[I 2024-08-02 16:46:02,351] Trial 42 pruned. Trial was pruned at epoch 2.\n"
     ]
    },
    {
     "name": "stdout",
     "output_type": "stream",
     "text": [
      "Train on 4633 samples, validate on 515 samples\n",
      "Epoch 1/35\n"
     ]
    },
    {
     "name": "stderr",
     "output_type": "stream",
     "text": [
      "[I 2024-08-02 16:46:06,347] Trial 43 pruned. Trial was pruned at epoch 0.\n"
     ]
    },
    {
     "name": "stdout",
     "output_type": "stream",
     "text": [
      "Train on 4633 samples, validate on 515 samples\n",
      "Epoch 1/50\n",
      "4633/4633 - 7s - loss: 17.4518 - accuracy: 0.5387 - val_loss: 0.5789 - val_accuracy: 0.8466\n",
      "Epoch 2/50\n",
      "4633/4633 - 8s - loss: 7.5153 - accuracy: 0.6013 - val_loss: 1.5440 - val_accuracy: 0.7553\n",
      "Epoch 3/50\n",
      "4633/4633 - 9s - loss: 2.7761 - accuracy: 0.6965 - val_loss: 0.5968 - val_accuracy: 0.8660\n",
      "Epoch 4/50\n",
      "4633/4633 - 8s - loss: 1.0347 - accuracy: 0.7470 - val_loss: 0.7222 - val_accuracy: 0.5786\n",
      "Epoch 5/50\n",
      "4633/4633 - 5s - loss: 0.5858 - accuracy: 0.7626 - val_loss: 0.5613 - val_accuracy: 0.7437\n",
      "Epoch 6/50\n",
      "4633/4633 - 5s - loss: 0.4700 - accuracy: 0.8038 - val_loss: 0.4234 - val_accuracy: 0.7709\n",
      "Epoch 7/50\n",
      "4633/4633 - 5s - loss: 0.4361 - accuracy: 0.8204 - val_loss: 0.4506 - val_accuracy: 0.7592\n",
      "Epoch 8/50\n",
      "4633/4633 - 5s - loss: 0.4290 - accuracy: 0.8284 - val_loss: 0.3156 - val_accuracy: 0.8699\n",
      "Epoch 9/50\n",
      "4633/4633 - 5s - loss: 0.4014 - accuracy: 0.8420 - val_loss: 0.3584 - val_accuracy: 0.8194\n",
      "Epoch 10/50\n",
      "4633/4633 - 3s - loss: 0.4131 - accuracy: 0.8252 - val_loss: 0.4176 - val_accuracy: 0.7786\n",
      "Epoch 11/50\n",
      "4633/4633 - 3s - loss: 0.3958 - accuracy: 0.8385 - val_loss: 0.3222 - val_accuracy: 0.8718\n",
      "Epoch 12/50\n",
      "4633/4633 - 3s - loss: 0.4026 - accuracy: 0.8401 - val_loss: 0.3247 - val_accuracy: 0.8718\n",
      "Epoch 13/50\n",
      "4633/4633 - 3s - loss: 0.4012 - accuracy: 0.8360 - val_loss: 0.3607 - val_accuracy: 0.8913\n",
      "Epoch 14/50\n",
      "4633/4633 - 3s - loss: 0.3994 - accuracy: 0.8364 - val_loss: 0.3049 - val_accuracy: 0.8816\n",
      "Epoch 15/50\n",
      "4633/4633 - 4s - loss: 0.3826 - accuracy: 0.8455 - val_loss: 0.4899 - val_accuracy: 0.7456\n",
      "Epoch 16/50\n",
      "4633/4633 - 5s - loss: 0.3815 - accuracy: 0.8403 - val_loss: 0.3494 - val_accuracy: 0.8874\n",
      "Epoch 17/50\n",
      "4633/4633 - 5s - loss: 0.3823 - accuracy: 0.8442 - val_loss: 0.3169 - val_accuracy: 0.8854\n",
      "Epoch 18/50\n",
      "4633/4633 - 4s - loss: 0.3690 - accuracy: 0.8498 - val_loss: 0.3214 - val_accuracy: 0.8971\n",
      "Epoch 19/50\n",
      "4633/4633 - 4s - loss: 0.3529 - accuracy: 0.8591 - val_loss: 0.2976 - val_accuracy: 0.8738\n",
      "Epoch 20/50\n",
      "4633/4633 - 4s - loss: 0.3740 - accuracy: 0.8489 - val_loss: 0.3346 - val_accuracy: 0.8718\n",
      "Epoch 21/50\n",
      "4633/4633 - 4s - loss: 0.3539 - accuracy: 0.8558 - val_loss: 0.2904 - val_accuracy: 0.8796\n",
      "Epoch 22/50\n",
      "4633/4633 - 4s - loss: 0.3556 - accuracy: 0.8539 - val_loss: 0.2839 - val_accuracy: 0.8816\n",
      "Epoch 23/50\n",
      "4633/4633 - 4s - loss: 0.3436 - accuracy: 0.8610 - val_loss: 0.3335 - val_accuracy: 0.8893\n",
      "Epoch 24/50\n",
      "4633/4633 - 4s - loss: 0.3890 - accuracy: 0.8539 - val_loss: 0.4103 - val_accuracy: 0.8738\n",
      "Epoch 25/50\n",
      "4633/4633 - 4s - loss: 0.4087 - accuracy: 0.8405 - val_loss: 0.4217 - val_accuracy: 0.8893\n",
      "Epoch 26/50\n",
      "4633/4633 - 5s - loss: 0.3693 - accuracy: 0.8489 - val_loss: 0.2955 - val_accuracy: 0.8796\n",
      "Epoch 27/50\n",
      "4633/4633 - 4s - loss: 0.3488 - accuracy: 0.8534 - val_loss: 0.3427 - val_accuracy: 0.8447\n",
      "Epoch 28/50\n",
      "4633/4633 - 4s - loss: 0.3895 - accuracy: 0.8420 - val_loss: 0.3397 - val_accuracy: 0.8524\n",
      "Epoch 29/50\n",
      "4633/4633 - 5s - loss: 0.3668 - accuracy: 0.8478 - val_loss: 0.2922 - val_accuracy: 0.8913\n",
      "Epoch 30/50\n",
      "4633/4633 - 4s - loss: 0.3612 - accuracy: 0.8534 - val_loss: 0.3420 - val_accuracy: 0.8699\n",
      "Epoch 31/50\n",
      "4633/4633 - 4s - loss: 0.3770 - accuracy: 0.8528 - val_loss: 0.4135 - val_accuracy: 0.7922\n",
      "Epoch 32/50\n",
      "4633/4633 - 4s - loss: 0.3828 - accuracy: 0.8478 - val_loss: 0.3171 - val_accuracy: 0.8854\n",
      "Epoch 33/50\n",
      "4633/4633 - 4s - loss: 0.3837 - accuracy: 0.8429 - val_loss: 0.3141 - val_accuracy: 0.8874\n",
      "Epoch 34/50\n",
      "4633/4633 - 4s - loss: 0.3725 - accuracy: 0.8485 - val_loss: 0.2913 - val_accuracy: 0.8757\n",
      "Epoch 35/50\n",
      "4633/4633 - 4s - loss: 0.3742 - accuracy: 0.8416 - val_loss: 0.3198 - val_accuracy: 0.8660\n",
      "Epoch 36/50\n",
      "4633/4633 - 4s - loss: 0.3725 - accuracy: 0.8483 - val_loss: 0.3048 - val_accuracy: 0.8835\n",
      "Epoch 37/50\n",
      "4633/4633 - 4s - loss: 0.3738 - accuracy: 0.8411 - val_loss: 0.3338 - val_accuracy: 0.8913\n",
      "Epoch 38/50\n",
      "4633/4633 - 4s - loss: 0.3648 - accuracy: 0.8474 - val_loss: 0.3540 - val_accuracy: 0.8485\n",
      "Epoch 39/50\n",
      "4633/4633 - 4s - loss: 0.3628 - accuracy: 0.8429 - val_loss: 0.2861 - val_accuracy: 0.8699\n",
      "Epoch 40/50\n",
      "4633/4633 - 10s - loss: 0.3602 - accuracy: 0.8455 - val_loss: 0.3245 - val_accuracy: 0.8680\n",
      "Epoch 41/50\n",
      "4633/4633 - 8s - loss: 0.3592 - accuracy: 0.8472 - val_loss: 0.3250 - val_accuracy: 0.8913\n",
      "Epoch 42/50\n",
      "4633/4633 - 3s - loss: 0.3579 - accuracy: 0.8427 - val_loss: 0.3150 - val_accuracy: 0.8913\n",
      "Epoch 43/50\n",
      "4633/4633 - 4s - loss: 0.3618 - accuracy: 0.8468 - val_loss: 0.3202 - val_accuracy: 0.8680\n",
      "Epoch 44/50\n",
      "4633/4633 - 4s - loss: 0.3505 - accuracy: 0.8513 - val_loss: 0.2857 - val_accuracy: 0.8699\n",
      "Epoch 45/50\n",
      "4633/4633 - 4s - loss: 0.3509 - accuracy: 0.8517 - val_loss: 0.2745 - val_accuracy: 0.8835\n",
      "Epoch 46/50\n",
      "4633/4633 - 4s - loss: 0.3502 - accuracy: 0.8450 - val_loss: 0.2728 - val_accuracy: 0.8757\n",
      "Epoch 47/50\n",
      "4633/4633 - 4s - loss: 0.3668 - accuracy: 0.8444 - val_loss: 0.2689 - val_accuracy: 0.8796\n",
      "Epoch 48/50\n",
      "4633/4633 - 4s - loss: 0.3575 - accuracy: 0.8498 - val_loss: 0.2906 - val_accuracy: 0.8777\n",
      "Epoch 49/50\n",
      "4633/4633 - 4s - loss: 0.3812 - accuracy: 0.8416 - val_loss: 0.3386 - val_accuracy: 0.8951\n",
      "Epoch 50/50\n",
      "4633/4633 - 4s - loss: 0.3861 - accuracy: 0.8427 - val_loss: 0.3002 - val_accuracy: 0.8796\n"
     ]
    },
    {
     "name": "stderr",
     "output_type": "stream",
     "text": [
      "[I 2024-08-02 16:49:52,614] Trial 44 finished with value: 0.8970873951911926 and parameters: {'units': 85, 'dropout': 0.05, 'epochs': 50, 'batch_size': 5}. Best is trial 6 with value: 0.9029126167297363.\n"
     ]
    },
    {
     "name": "stdout",
     "output_type": "stream",
     "text": [
      "Train on 4633 samples, validate on 515 samples\n",
      "Epoch 1/50\n",
      "4633/4633 - 3s - loss: 24.4033 - accuracy: 0.5292 - val_loss: 0.9078 - val_accuracy: 0.5417\n",
      "Epoch 2/50\n"
     ]
    },
    {
     "name": "stderr",
     "output_type": "stream",
     "text": [
      "[I 2024-08-02 16:49:57,838] Trial 45 pruned. Trial was pruned at epoch 1.\n"
     ]
    },
    {
     "name": "stdout",
     "output_type": "stream",
     "text": [
      "Train on 4633 samples, validate on 515 samples\n",
      "Epoch 1/50\n"
     ]
    },
    {
     "name": "stderr",
     "output_type": "stream",
     "text": [
      "/Users/kevin/anaconda3/envs/tf_env/lib/python3.7/site-packages/optuna_integration/tfkeras.py:53: UserWarning: The metric 'val_accuracy' is not in the evaluation logs for pruning. Please make sure you set the correct metric name.\n",
      "  warnings.warn(message)\n",
      "[W 2024-08-02 16:49:59,494] Trial 46 failed with parameters: {'units': 85, 'dropout': 0.0, 'epochs': 50, 'batch_size': 5} because of the following error: KeyboardInterrupt().\n",
      "Traceback (most recent call last):\n",
      "  File \"/Users/kevin/anaconda3/envs/tf_env/lib/python3.7/site-packages/optuna/study/_optimize.py\", line 196, in _run_trial\n",
      "    value_or_values = func(trial)\n",
      "  File \"/var/folders/0h/qrfpw0p522n_hd8ccn5ffyvh0000gn/T/ipykernel_54356/401901747.py\", line 59, in objective\n",
      "    verbose=2\n",
      "  File \"/Users/kevin/anaconda3/envs/tf_env/lib/python3.7/site-packages/tensorflow_core/python/keras/engine/training.py\", line 728, in fit\n",
      "    use_multiprocessing=use_multiprocessing)\n",
      "  File \"/Users/kevin/anaconda3/envs/tf_env/lib/python3.7/site-packages/tensorflow_core/python/keras/engine/training_v2.py\", line 324, in fit\n",
      "    total_epochs=epochs)\n",
      "  File \"/Users/kevin/anaconda3/envs/tf_env/lib/python3.7/site-packages/tensorflow_core/python/keras/engine/training_v2.py\", line 123, in run_one_epoch\n",
      "    batch_outs = execution_function(iterator)\n",
      "  File \"/Users/kevin/anaconda3/envs/tf_env/lib/python3.7/site-packages/tensorflow_core/python/keras/engine/training_v2_utils.py\", line 86, in execution_function\n",
      "    distributed_function(input_fn))\n",
      "  File \"/Users/kevin/anaconda3/envs/tf_env/lib/python3.7/site-packages/tensorflow_core/python/eager/def_function.py\", line 457, in __call__\n",
      "    result = self._call(*args, **kwds)\n",
      "  File \"/Users/kevin/anaconda3/envs/tf_env/lib/python3.7/site-packages/tensorflow_core/python/eager/def_function.py\", line 487, in _call\n",
      "    return self._stateless_fn(*args, **kwds)  # pylint: disable=not-callable\n",
      "  File \"/Users/kevin/anaconda3/envs/tf_env/lib/python3.7/site-packages/tensorflow_core/python/eager/function.py\", line 1823, in __call__\n",
      "    return graph_function._filtered_call(args, kwargs)  # pylint: disable=protected-access\n",
      "  File \"/Users/kevin/anaconda3/envs/tf_env/lib/python3.7/site-packages/tensorflow_core/python/eager/function.py\", line 1141, in _filtered_call\n",
      "    self.captured_inputs)\n",
      "  File \"/Users/kevin/anaconda3/envs/tf_env/lib/python3.7/site-packages/tensorflow_core/python/eager/function.py\", line 1224, in _call_flat\n",
      "    ctx, args, cancellation_manager=cancellation_manager)\n",
      "  File \"/Users/kevin/anaconda3/envs/tf_env/lib/python3.7/site-packages/tensorflow_core/python/eager/function.py\", line 511, in call\n",
      "    ctx=ctx)\n",
      "  File \"/Users/kevin/anaconda3/envs/tf_env/lib/python3.7/site-packages/tensorflow_core/python/eager/execute.py\", line 61, in quick_execute\n",
      "    num_outputs)\n",
      "KeyboardInterrupt\n",
      "[W 2024-08-02 16:49:59,513] Trial 46 failed with value None.\n"
     ]
    },
    {
     "ename": "KeyboardInterrupt",
     "evalue": "",
     "output_type": "error",
     "traceback": [
      "\u001b[0;31m---------------------------------------------------------------------------\u001b[0m",
      "\u001b[0;31mKeyboardInterrupt\u001b[0m                         Traceback (most recent call last)",
      "\u001b[0;32m/var/folders/0h/qrfpw0p522n_hd8ccn5ffyvh0000gn/T/ipykernel_54356/401901747.py\u001b[0m in \u001b[0;36m<module>\u001b[0;34m\u001b[0m\n\u001b[1;32m     64\u001b[0m \u001b[0;31m# create a study and optimize the objective function\u001b[0m\u001b[0;34m\u001b[0m\u001b[0;34m\u001b[0m\u001b[0;34m\u001b[0m\u001b[0m\n\u001b[1;32m     65\u001b[0m \u001b[0mstudy\u001b[0m \u001b[0;34m=\u001b[0m \u001b[0mopt\u001b[0m\u001b[0;34m.\u001b[0m\u001b[0mcreate_study\u001b[0m\u001b[0;34m(\u001b[0m\u001b[0mdirection\u001b[0m\u001b[0;34m=\u001b[0m\u001b[0;34m'maximize'\u001b[0m\u001b[0;34m)\u001b[0m\u001b[0;34m\u001b[0m\u001b[0;34m\u001b[0m\u001b[0m\n\u001b[0;32m---> 66\u001b[0;31m \u001b[0mstudy\u001b[0m\u001b[0;34m.\u001b[0m\u001b[0moptimize\u001b[0m\u001b[0;34m(\u001b[0m\u001b[0mobjective\u001b[0m\u001b[0;34m,\u001b[0m \u001b[0mn_trials\u001b[0m\u001b[0;34m=\u001b[0m\u001b[0;36m100\u001b[0m\u001b[0;34m)\u001b[0m\u001b[0;34m\u001b[0m\u001b[0;34m\u001b[0m\u001b[0m\n\u001b[0m\u001b[1;32m     67\u001b[0m \u001b[0;34m\u001b[0m\u001b[0m\n\u001b[1;32m     68\u001b[0m \u001b[0;34m(\u001b[0m\u001b[0;34mf'Best trial: {study.best_trial.value}'\u001b[0m\u001b[0;34m,\u001b[0m \u001b[0;34mf'Best hyperparameters: {study.best_trial.params}'\u001b[0m\u001b[0;34m)\u001b[0m\u001b[0;34m\u001b[0m\u001b[0;34m\u001b[0m\u001b[0m\n",
      "\u001b[0;32m~/anaconda3/envs/tf_env/lib/python3.7/site-packages/optuna/study/study.py\u001b[0m in \u001b[0;36moptimize\u001b[0;34m(self, func, n_trials, timeout, n_jobs, catch, callbacks, gc_after_trial, show_progress_bar)\u001b[0m\n\u001b[1;32m    458\u001b[0m             \u001b[0mcallbacks\u001b[0m\u001b[0;34m=\u001b[0m\u001b[0mcallbacks\u001b[0m\u001b[0;34m,\u001b[0m\u001b[0;34m\u001b[0m\u001b[0;34m\u001b[0m\u001b[0m\n\u001b[1;32m    459\u001b[0m             \u001b[0mgc_after_trial\u001b[0m\u001b[0;34m=\u001b[0m\u001b[0mgc_after_trial\u001b[0m\u001b[0;34m,\u001b[0m\u001b[0;34m\u001b[0m\u001b[0;34m\u001b[0m\u001b[0m\n\u001b[0;32m--> 460\u001b[0;31m             \u001b[0mshow_progress_bar\u001b[0m\u001b[0;34m=\u001b[0m\u001b[0mshow_progress_bar\u001b[0m\u001b[0;34m,\u001b[0m\u001b[0;34m\u001b[0m\u001b[0;34m\u001b[0m\u001b[0m\n\u001b[0m\u001b[1;32m    461\u001b[0m         )\n\u001b[1;32m    462\u001b[0m \u001b[0;34m\u001b[0m\u001b[0m\n",
      "\u001b[0;32m~/anaconda3/envs/tf_env/lib/python3.7/site-packages/optuna/study/_optimize.py\u001b[0m in \u001b[0;36m_optimize\u001b[0;34m(study, func, n_trials, timeout, n_jobs, catch, callbacks, gc_after_trial, show_progress_bar)\u001b[0m\n\u001b[1;32m     70\u001b[0m                 \u001b[0mreseed_sampler_rng\u001b[0m\u001b[0;34m=\u001b[0m\u001b[0;32mFalse\u001b[0m\u001b[0;34m,\u001b[0m\u001b[0;34m\u001b[0m\u001b[0;34m\u001b[0m\u001b[0m\n\u001b[1;32m     71\u001b[0m                 \u001b[0mtime_start\u001b[0m\u001b[0;34m=\u001b[0m\u001b[0;32mNone\u001b[0m\u001b[0;34m,\u001b[0m\u001b[0;34m\u001b[0m\u001b[0;34m\u001b[0m\u001b[0m\n\u001b[0;32m---> 72\u001b[0;31m                 \u001b[0mprogress_bar\u001b[0m\u001b[0;34m=\u001b[0m\u001b[0mprogress_bar\u001b[0m\u001b[0;34m,\u001b[0m\u001b[0;34m\u001b[0m\u001b[0;34m\u001b[0m\u001b[0m\n\u001b[0m\u001b[1;32m     73\u001b[0m             )\n\u001b[1;32m     74\u001b[0m         \u001b[0;32melse\u001b[0m\u001b[0;34m:\u001b[0m\u001b[0;34m\u001b[0m\u001b[0;34m\u001b[0m\u001b[0m\n",
      "\u001b[0;32m~/anaconda3/envs/tf_env/lib/python3.7/site-packages/optuna/study/_optimize.py\u001b[0m in \u001b[0;36m_optimize_sequential\u001b[0;34m(study, func, n_trials, timeout, catch, callbacks, gc_after_trial, reseed_sampler_rng, time_start, progress_bar)\u001b[0m\n\u001b[1;32m    157\u001b[0m \u001b[0;34m\u001b[0m\u001b[0m\n\u001b[1;32m    158\u001b[0m         \u001b[0;32mtry\u001b[0m\u001b[0;34m:\u001b[0m\u001b[0;34m\u001b[0m\u001b[0;34m\u001b[0m\u001b[0m\n\u001b[0;32m--> 159\u001b[0;31m             \u001b[0mfrozen_trial\u001b[0m \u001b[0;34m=\u001b[0m \u001b[0m_run_trial\u001b[0m\u001b[0;34m(\u001b[0m\u001b[0mstudy\u001b[0m\u001b[0;34m,\u001b[0m \u001b[0mfunc\u001b[0m\u001b[0;34m,\u001b[0m \u001b[0mcatch\u001b[0m\u001b[0;34m)\u001b[0m\u001b[0;34m\u001b[0m\u001b[0;34m\u001b[0m\u001b[0m\n\u001b[0m\u001b[1;32m    160\u001b[0m         \u001b[0;32mfinally\u001b[0m\u001b[0;34m:\u001b[0m\u001b[0;34m\u001b[0m\u001b[0;34m\u001b[0m\u001b[0m\n\u001b[1;32m    161\u001b[0m             \u001b[0;31m# The following line mitigates memory problems that can be occurred in some\u001b[0m\u001b[0;34m\u001b[0m\u001b[0;34m\u001b[0m\u001b[0;34m\u001b[0m\u001b[0m\n",
      "\u001b[0;32m~/anaconda3/envs/tf_env/lib/python3.7/site-packages/optuna/study/_optimize.py\u001b[0m in \u001b[0;36m_run_trial\u001b[0;34m(study, func, catch)\u001b[0m\n\u001b[1;32m    245\u001b[0m         \u001b[0;32mand\u001b[0m \u001b[0;32mnot\u001b[0m \u001b[0misinstance\u001b[0m\u001b[0;34m(\u001b[0m\u001b[0mfunc_err\u001b[0m\u001b[0;34m,\u001b[0m \u001b[0mcatch\u001b[0m\u001b[0;34m)\u001b[0m\u001b[0;34m\u001b[0m\u001b[0;34m\u001b[0m\u001b[0m\n\u001b[1;32m    246\u001b[0m     ):\n\u001b[0;32m--> 247\u001b[0;31m         \u001b[0;32mraise\u001b[0m \u001b[0mfunc_err\u001b[0m\u001b[0;34m\u001b[0m\u001b[0;34m\u001b[0m\u001b[0m\n\u001b[0m\u001b[1;32m    248\u001b[0m     \u001b[0;32mreturn\u001b[0m \u001b[0mfrozen_trial\u001b[0m\u001b[0;34m\u001b[0m\u001b[0;34m\u001b[0m\u001b[0m\n\u001b[1;32m    249\u001b[0m \u001b[0;34m\u001b[0m\u001b[0m\n",
      "\u001b[0;32m~/anaconda3/envs/tf_env/lib/python3.7/site-packages/optuna/study/_optimize.py\u001b[0m in \u001b[0;36m_run_trial\u001b[0;34m(study, func, catch)\u001b[0m\n\u001b[1;32m    194\u001b[0m     \u001b[0;32mwith\u001b[0m \u001b[0mget_heartbeat_thread\u001b[0m\u001b[0;34m(\u001b[0m\u001b[0mtrial\u001b[0m\u001b[0;34m.\u001b[0m\u001b[0m_trial_id\u001b[0m\u001b[0;34m,\u001b[0m \u001b[0mstudy\u001b[0m\u001b[0;34m.\u001b[0m\u001b[0m_storage\u001b[0m\u001b[0;34m)\u001b[0m\u001b[0;34m:\u001b[0m\u001b[0;34m\u001b[0m\u001b[0;34m\u001b[0m\u001b[0m\n\u001b[1;32m    195\u001b[0m         \u001b[0;32mtry\u001b[0m\u001b[0;34m:\u001b[0m\u001b[0;34m\u001b[0m\u001b[0;34m\u001b[0m\u001b[0m\n\u001b[0;32m--> 196\u001b[0;31m             \u001b[0mvalue_or_values\u001b[0m \u001b[0;34m=\u001b[0m \u001b[0mfunc\u001b[0m\u001b[0;34m(\u001b[0m\u001b[0mtrial\u001b[0m\u001b[0;34m)\u001b[0m\u001b[0;34m\u001b[0m\u001b[0;34m\u001b[0m\u001b[0m\n\u001b[0m\u001b[1;32m    197\u001b[0m         \u001b[0;32mexcept\u001b[0m \u001b[0mexceptions\u001b[0m\u001b[0;34m.\u001b[0m\u001b[0mTrialPruned\u001b[0m \u001b[0;32mas\u001b[0m \u001b[0me\u001b[0m\u001b[0;34m:\u001b[0m\u001b[0;34m\u001b[0m\u001b[0;34m\u001b[0m\u001b[0m\n\u001b[1;32m    198\u001b[0m             \u001b[0;31m# TODO(mamu): Handle multi-objective cases.\u001b[0m\u001b[0;34m\u001b[0m\u001b[0;34m\u001b[0m\u001b[0;34m\u001b[0m\u001b[0m\n",
      "\u001b[0;32m/var/folders/0h/qrfpw0p522n_hd8ccn5ffyvh0000gn/T/ipykernel_54356/401901747.py\u001b[0m in \u001b[0;36mobjective\u001b[0;34m(trial)\u001b[0m\n\u001b[1;32m     57\u001b[0m             \u001b[0mvalidation_split\u001b[0m\u001b[0;34m=\u001b[0m\u001b[0;36m0.1\u001b[0m\u001b[0;34m,\u001b[0m\u001b[0;34m\u001b[0m\u001b[0;34m\u001b[0m\u001b[0m\n\u001b[1;32m     58\u001b[0m             \u001b[0mcallbacks\u001b[0m\u001b[0;34m=\u001b[0m\u001b[0;34m[\u001b[0m\u001b[0mTFKerasPruningCallback\u001b[0m\u001b[0;34m(\u001b[0m\u001b[0mtrial\u001b[0m\u001b[0;34m,\u001b[0m \u001b[0;34m'val_accuracy'\u001b[0m\u001b[0;34m)\u001b[0m\u001b[0;34m]\u001b[0m\u001b[0;34m,\u001b[0m\u001b[0;34m\u001b[0m\u001b[0;34m\u001b[0m\u001b[0m\n\u001b[0;32m---> 59\u001b[0;31m             \u001b[0mverbose\u001b[0m\u001b[0;34m=\u001b[0m\u001b[0;36m2\u001b[0m\u001b[0;34m\u001b[0m\u001b[0;34m\u001b[0m\u001b[0m\n\u001b[0m\u001b[1;32m     60\u001b[0m     )\n\u001b[1;32m     61\u001b[0m     \u001b[0mval_accuracy\u001b[0m \u001b[0;34m=\u001b[0m \u001b[0mmax\u001b[0m\u001b[0;34m(\u001b[0m\u001b[0mtraining\u001b[0m\u001b[0;34m.\u001b[0m\u001b[0mhistory\u001b[0m\u001b[0;34m[\u001b[0m\u001b[0;34m'val_accuracy'\u001b[0m\u001b[0;34m]\u001b[0m\u001b[0;34m)\u001b[0m\u001b[0;34m\u001b[0m\u001b[0;34m\u001b[0m\u001b[0m\n",
      "\u001b[0;32m~/anaconda3/envs/tf_env/lib/python3.7/site-packages/tensorflow_core/python/keras/engine/training.py\u001b[0m in \u001b[0;36mfit\u001b[0;34m(self, x, y, batch_size, epochs, verbose, callbacks, validation_split, validation_data, shuffle, class_weight, sample_weight, initial_epoch, steps_per_epoch, validation_steps, validation_freq, max_queue_size, workers, use_multiprocessing, **kwargs)\u001b[0m\n\u001b[1;32m    726\u001b[0m         \u001b[0mmax_queue_size\u001b[0m\u001b[0;34m=\u001b[0m\u001b[0mmax_queue_size\u001b[0m\u001b[0;34m,\u001b[0m\u001b[0;34m\u001b[0m\u001b[0;34m\u001b[0m\u001b[0m\n\u001b[1;32m    727\u001b[0m         \u001b[0mworkers\u001b[0m\u001b[0;34m=\u001b[0m\u001b[0mworkers\u001b[0m\u001b[0;34m,\u001b[0m\u001b[0;34m\u001b[0m\u001b[0;34m\u001b[0m\u001b[0m\n\u001b[0;32m--> 728\u001b[0;31m         use_multiprocessing=use_multiprocessing)\n\u001b[0m\u001b[1;32m    729\u001b[0m \u001b[0;34m\u001b[0m\u001b[0m\n\u001b[1;32m    730\u001b[0m   def evaluate(self,\n",
      "\u001b[0;32m~/anaconda3/envs/tf_env/lib/python3.7/site-packages/tensorflow_core/python/keras/engine/training_v2.py\u001b[0m in \u001b[0;36mfit\u001b[0;34m(self, model, x, y, batch_size, epochs, verbose, callbacks, validation_split, validation_data, shuffle, class_weight, sample_weight, initial_epoch, steps_per_epoch, validation_steps, validation_freq, **kwargs)\u001b[0m\n\u001b[1;32m    322\u001b[0m                 \u001b[0mmode\u001b[0m\u001b[0;34m=\u001b[0m\u001b[0mModeKeys\u001b[0m\u001b[0;34m.\u001b[0m\u001b[0mTRAIN\u001b[0m\u001b[0;34m,\u001b[0m\u001b[0;34m\u001b[0m\u001b[0;34m\u001b[0m\u001b[0m\n\u001b[1;32m    323\u001b[0m                 \u001b[0mtraining_context\u001b[0m\u001b[0;34m=\u001b[0m\u001b[0mtraining_context\u001b[0m\u001b[0;34m,\u001b[0m\u001b[0;34m\u001b[0m\u001b[0;34m\u001b[0m\u001b[0m\n\u001b[0;32m--> 324\u001b[0;31m                 total_epochs=epochs)\n\u001b[0m\u001b[1;32m    325\u001b[0m             \u001b[0mcbks\u001b[0m\u001b[0;34m.\u001b[0m\u001b[0mmake_logs\u001b[0m\u001b[0;34m(\u001b[0m\u001b[0mmodel\u001b[0m\u001b[0;34m,\u001b[0m \u001b[0mepoch_logs\u001b[0m\u001b[0;34m,\u001b[0m \u001b[0mtraining_result\u001b[0m\u001b[0;34m,\u001b[0m \u001b[0mModeKeys\u001b[0m\u001b[0;34m.\u001b[0m\u001b[0mTRAIN\u001b[0m\u001b[0;34m)\u001b[0m\u001b[0;34m\u001b[0m\u001b[0;34m\u001b[0m\u001b[0m\n\u001b[1;32m    326\u001b[0m \u001b[0;34m\u001b[0m\u001b[0m\n",
      "\u001b[0;32m~/anaconda3/envs/tf_env/lib/python3.7/site-packages/tensorflow_core/python/keras/engine/training_v2.py\u001b[0m in \u001b[0;36mrun_one_epoch\u001b[0;34m(model, iterator, execution_function, dataset_size, batch_size, strategy, steps_per_epoch, num_samples, mode, training_context, total_epochs)\u001b[0m\n\u001b[1;32m    121\u001b[0m         step=step, mode=mode, size=current_batch_size) as batch_logs:\n\u001b[1;32m    122\u001b[0m       \u001b[0;32mtry\u001b[0m\u001b[0;34m:\u001b[0m\u001b[0;34m\u001b[0m\u001b[0;34m\u001b[0m\u001b[0m\n\u001b[0;32m--> 123\u001b[0;31m         \u001b[0mbatch_outs\u001b[0m \u001b[0;34m=\u001b[0m \u001b[0mexecution_function\u001b[0m\u001b[0;34m(\u001b[0m\u001b[0miterator\u001b[0m\u001b[0;34m)\u001b[0m\u001b[0;34m\u001b[0m\u001b[0;34m\u001b[0m\u001b[0m\n\u001b[0m\u001b[1;32m    124\u001b[0m       \u001b[0;32mexcept\u001b[0m \u001b[0;34m(\u001b[0m\u001b[0mStopIteration\u001b[0m\u001b[0;34m,\u001b[0m \u001b[0merrors\u001b[0m\u001b[0;34m.\u001b[0m\u001b[0mOutOfRangeError\u001b[0m\u001b[0;34m)\u001b[0m\u001b[0;34m:\u001b[0m\u001b[0;34m\u001b[0m\u001b[0;34m\u001b[0m\u001b[0m\n\u001b[1;32m    125\u001b[0m         \u001b[0;31m# TODO(kaftan): File bug about tf function and errors.OutOfRangeError?\u001b[0m\u001b[0;34m\u001b[0m\u001b[0;34m\u001b[0m\u001b[0;34m\u001b[0m\u001b[0m\n",
      "\u001b[0;32m~/anaconda3/envs/tf_env/lib/python3.7/site-packages/tensorflow_core/python/keras/engine/training_v2_utils.py\u001b[0m in \u001b[0;36mexecution_function\u001b[0;34m(input_fn)\u001b[0m\n\u001b[1;32m     84\u001b[0m     \u001b[0;31m# `numpy` translates Tensors to values in Eager mode.\u001b[0m\u001b[0;34m\u001b[0m\u001b[0;34m\u001b[0m\u001b[0;34m\u001b[0m\u001b[0m\n\u001b[1;32m     85\u001b[0m     return nest.map_structure(_non_none_constant_value,\n\u001b[0;32m---> 86\u001b[0;31m                               distributed_function(input_fn))\n\u001b[0m\u001b[1;32m     87\u001b[0m \u001b[0;34m\u001b[0m\u001b[0m\n\u001b[1;32m     88\u001b[0m   \u001b[0;32mreturn\u001b[0m \u001b[0mexecution_function\u001b[0m\u001b[0;34m\u001b[0m\u001b[0;34m\u001b[0m\u001b[0m\n",
      "\u001b[0;32m~/anaconda3/envs/tf_env/lib/python3.7/site-packages/tensorflow_core/python/eager/def_function.py\u001b[0m in \u001b[0;36m__call__\u001b[0;34m(self, *args, **kwds)\u001b[0m\n\u001b[1;32m    455\u001b[0m \u001b[0;34m\u001b[0m\u001b[0m\n\u001b[1;32m    456\u001b[0m     \u001b[0mtracing_count\u001b[0m \u001b[0;34m=\u001b[0m \u001b[0mself\u001b[0m\u001b[0;34m.\u001b[0m\u001b[0m_get_tracing_count\u001b[0m\u001b[0;34m(\u001b[0m\u001b[0;34m)\u001b[0m\u001b[0;34m\u001b[0m\u001b[0;34m\u001b[0m\u001b[0m\n\u001b[0;32m--> 457\u001b[0;31m     \u001b[0mresult\u001b[0m \u001b[0;34m=\u001b[0m \u001b[0mself\u001b[0m\u001b[0;34m.\u001b[0m\u001b[0m_call\u001b[0m\u001b[0;34m(\u001b[0m\u001b[0;34m*\u001b[0m\u001b[0margs\u001b[0m\u001b[0;34m,\u001b[0m \u001b[0;34m**\u001b[0m\u001b[0mkwds\u001b[0m\u001b[0;34m)\u001b[0m\u001b[0;34m\u001b[0m\u001b[0;34m\u001b[0m\u001b[0m\n\u001b[0m\u001b[1;32m    458\u001b[0m     \u001b[0;32mif\u001b[0m \u001b[0mtracing_count\u001b[0m \u001b[0;34m==\u001b[0m \u001b[0mself\u001b[0m\u001b[0;34m.\u001b[0m\u001b[0m_get_tracing_count\u001b[0m\u001b[0;34m(\u001b[0m\u001b[0;34m)\u001b[0m\u001b[0;34m:\u001b[0m\u001b[0;34m\u001b[0m\u001b[0;34m\u001b[0m\u001b[0m\n\u001b[1;32m    459\u001b[0m       \u001b[0mself\u001b[0m\u001b[0;34m.\u001b[0m\u001b[0m_call_counter\u001b[0m\u001b[0;34m.\u001b[0m\u001b[0mcalled_without_tracing\u001b[0m\u001b[0;34m(\u001b[0m\u001b[0;34m)\u001b[0m\u001b[0;34m\u001b[0m\u001b[0;34m\u001b[0m\u001b[0m\n",
      "\u001b[0;32m~/anaconda3/envs/tf_env/lib/python3.7/site-packages/tensorflow_core/python/eager/def_function.py\u001b[0m in \u001b[0;36m_call\u001b[0;34m(self, *args, **kwds)\u001b[0m\n\u001b[1;32m    485\u001b[0m       \u001b[0;31m# In this case we have created variables on the first call, so we run the\u001b[0m\u001b[0;34m\u001b[0m\u001b[0;34m\u001b[0m\u001b[0;34m\u001b[0m\u001b[0m\n\u001b[1;32m    486\u001b[0m       \u001b[0;31m# defunned version which is guaranteed to never create variables.\u001b[0m\u001b[0;34m\u001b[0m\u001b[0;34m\u001b[0m\u001b[0;34m\u001b[0m\u001b[0m\n\u001b[0;32m--> 487\u001b[0;31m       \u001b[0;32mreturn\u001b[0m \u001b[0mself\u001b[0m\u001b[0;34m.\u001b[0m\u001b[0m_stateless_fn\u001b[0m\u001b[0;34m(\u001b[0m\u001b[0;34m*\u001b[0m\u001b[0margs\u001b[0m\u001b[0;34m,\u001b[0m \u001b[0;34m**\u001b[0m\u001b[0mkwds\u001b[0m\u001b[0;34m)\u001b[0m  \u001b[0;31m# pylint: disable=not-callable\u001b[0m\u001b[0;34m\u001b[0m\u001b[0;34m\u001b[0m\u001b[0m\n\u001b[0m\u001b[1;32m    488\u001b[0m     \u001b[0;32melif\u001b[0m \u001b[0mself\u001b[0m\u001b[0;34m.\u001b[0m\u001b[0m_stateful_fn\u001b[0m \u001b[0;32mis\u001b[0m \u001b[0;32mnot\u001b[0m \u001b[0;32mNone\u001b[0m\u001b[0;34m:\u001b[0m\u001b[0;34m\u001b[0m\u001b[0;34m\u001b[0m\u001b[0m\n\u001b[1;32m    489\u001b[0m       \u001b[0;31m# Release the lock early so that multiple threads can perform the call\u001b[0m\u001b[0;34m\u001b[0m\u001b[0;34m\u001b[0m\u001b[0;34m\u001b[0m\u001b[0m\n",
      "\u001b[0;32m~/anaconda3/envs/tf_env/lib/python3.7/site-packages/tensorflow_core/python/eager/function.py\u001b[0m in \u001b[0;36m__call__\u001b[0;34m(self, *args, **kwargs)\u001b[0m\n\u001b[1;32m   1821\u001b[0m     \u001b[0;34m\"\"\"Calls a graph function specialized to the inputs.\"\"\"\u001b[0m\u001b[0;34m\u001b[0m\u001b[0;34m\u001b[0m\u001b[0m\n\u001b[1;32m   1822\u001b[0m     \u001b[0mgraph_function\u001b[0m\u001b[0;34m,\u001b[0m \u001b[0margs\u001b[0m\u001b[0;34m,\u001b[0m \u001b[0mkwargs\u001b[0m \u001b[0;34m=\u001b[0m \u001b[0mself\u001b[0m\u001b[0;34m.\u001b[0m\u001b[0m_maybe_define_function\u001b[0m\u001b[0;34m(\u001b[0m\u001b[0margs\u001b[0m\u001b[0;34m,\u001b[0m \u001b[0mkwargs\u001b[0m\u001b[0;34m)\u001b[0m\u001b[0;34m\u001b[0m\u001b[0;34m\u001b[0m\u001b[0m\n\u001b[0;32m-> 1823\u001b[0;31m     \u001b[0;32mreturn\u001b[0m \u001b[0mgraph_function\u001b[0m\u001b[0;34m.\u001b[0m\u001b[0m_filtered_call\u001b[0m\u001b[0;34m(\u001b[0m\u001b[0margs\u001b[0m\u001b[0;34m,\u001b[0m \u001b[0mkwargs\u001b[0m\u001b[0;34m)\u001b[0m  \u001b[0;31m# pylint: disable=protected-access\u001b[0m\u001b[0;34m\u001b[0m\u001b[0;34m\u001b[0m\u001b[0m\n\u001b[0m\u001b[1;32m   1824\u001b[0m \u001b[0;34m\u001b[0m\u001b[0m\n\u001b[1;32m   1825\u001b[0m   \u001b[0;34m@\u001b[0m\u001b[0mproperty\u001b[0m\u001b[0;34m\u001b[0m\u001b[0;34m\u001b[0m\u001b[0m\n",
      "\u001b[0;32m~/anaconda3/envs/tf_env/lib/python3.7/site-packages/tensorflow_core/python/eager/function.py\u001b[0m in \u001b[0;36m_filtered_call\u001b[0;34m(self, args, kwargs)\u001b[0m\n\u001b[1;32m   1139\u001b[0m          if isinstance(t, (ops.Tensor,\n\u001b[1;32m   1140\u001b[0m                            resource_variable_ops.BaseResourceVariable))),\n\u001b[0;32m-> 1141\u001b[0;31m         self.captured_inputs)\n\u001b[0m\u001b[1;32m   1142\u001b[0m \u001b[0;34m\u001b[0m\u001b[0m\n\u001b[1;32m   1143\u001b[0m   \u001b[0;32mdef\u001b[0m \u001b[0m_call_flat\u001b[0m\u001b[0;34m(\u001b[0m\u001b[0mself\u001b[0m\u001b[0;34m,\u001b[0m \u001b[0margs\u001b[0m\u001b[0;34m,\u001b[0m \u001b[0mcaptured_inputs\u001b[0m\u001b[0;34m,\u001b[0m \u001b[0mcancellation_manager\u001b[0m\u001b[0;34m=\u001b[0m\u001b[0;32mNone\u001b[0m\u001b[0;34m)\u001b[0m\u001b[0;34m:\u001b[0m\u001b[0;34m\u001b[0m\u001b[0;34m\u001b[0m\u001b[0m\n",
      "\u001b[0;32m~/anaconda3/envs/tf_env/lib/python3.7/site-packages/tensorflow_core/python/eager/function.py\u001b[0m in \u001b[0;36m_call_flat\u001b[0;34m(self, args, captured_inputs, cancellation_manager)\u001b[0m\n\u001b[1;32m   1222\u001b[0m     \u001b[0;32mif\u001b[0m \u001b[0mexecuting_eagerly\u001b[0m\u001b[0;34m:\u001b[0m\u001b[0;34m\u001b[0m\u001b[0;34m\u001b[0m\u001b[0m\n\u001b[1;32m   1223\u001b[0m       flat_outputs = forward_function.call(\n\u001b[0;32m-> 1224\u001b[0;31m           ctx, args, cancellation_manager=cancellation_manager)\n\u001b[0m\u001b[1;32m   1225\u001b[0m     \u001b[0;32melse\u001b[0m\u001b[0;34m:\u001b[0m\u001b[0;34m\u001b[0m\u001b[0;34m\u001b[0m\u001b[0m\n\u001b[1;32m   1226\u001b[0m       \u001b[0mgradient_name\u001b[0m \u001b[0;34m=\u001b[0m \u001b[0mself\u001b[0m\u001b[0;34m.\u001b[0m\u001b[0m_delayed_rewrite_functions\u001b[0m\u001b[0;34m.\u001b[0m\u001b[0mregister\u001b[0m\u001b[0;34m(\u001b[0m\u001b[0;34m)\u001b[0m\u001b[0;34m\u001b[0m\u001b[0;34m\u001b[0m\u001b[0m\n",
      "\u001b[0;32m~/anaconda3/envs/tf_env/lib/python3.7/site-packages/tensorflow_core/python/eager/function.py\u001b[0m in \u001b[0;36mcall\u001b[0;34m(self, ctx, args, cancellation_manager)\u001b[0m\n\u001b[1;32m    509\u001b[0m               \u001b[0minputs\u001b[0m\u001b[0;34m=\u001b[0m\u001b[0margs\u001b[0m\u001b[0;34m,\u001b[0m\u001b[0;34m\u001b[0m\u001b[0;34m\u001b[0m\u001b[0m\n\u001b[1;32m    510\u001b[0m               \u001b[0mattrs\u001b[0m\u001b[0;34m=\u001b[0m\u001b[0;34m(\u001b[0m\u001b[0;34m\"executor_type\"\u001b[0m\u001b[0;34m,\u001b[0m \u001b[0mexecutor_type\u001b[0m\u001b[0;34m,\u001b[0m \u001b[0;34m\"config_proto\"\u001b[0m\u001b[0;34m,\u001b[0m \u001b[0mconfig\u001b[0m\u001b[0;34m)\u001b[0m\u001b[0;34m,\u001b[0m\u001b[0;34m\u001b[0m\u001b[0;34m\u001b[0m\u001b[0m\n\u001b[0;32m--> 511\u001b[0;31m               ctx=ctx)\n\u001b[0m\u001b[1;32m    512\u001b[0m         \u001b[0;32melse\u001b[0m\u001b[0;34m:\u001b[0m\u001b[0;34m\u001b[0m\u001b[0;34m\u001b[0m\u001b[0m\n\u001b[1;32m    513\u001b[0m           outputs = execute.execute_with_cancellation(\n",
      "\u001b[0;32m~/anaconda3/envs/tf_env/lib/python3.7/site-packages/tensorflow_core/python/eager/execute.py\u001b[0m in \u001b[0;36mquick_execute\u001b[0;34m(op_name, num_outputs, inputs, attrs, ctx, name)\u001b[0m\n\u001b[1;32m     59\u001b[0m     tensors = pywrap_tensorflow.TFE_Py_Execute(ctx._handle, device_name,\n\u001b[1;32m     60\u001b[0m                                                \u001b[0mop_name\u001b[0m\u001b[0;34m,\u001b[0m \u001b[0minputs\u001b[0m\u001b[0;34m,\u001b[0m \u001b[0mattrs\u001b[0m\u001b[0;34m,\u001b[0m\u001b[0;34m\u001b[0m\u001b[0;34m\u001b[0m\u001b[0m\n\u001b[0;32m---> 61\u001b[0;31m                                                num_outputs)\n\u001b[0m\u001b[1;32m     62\u001b[0m   \u001b[0;32mexcept\u001b[0m \u001b[0mcore\u001b[0m\u001b[0;34m.\u001b[0m\u001b[0m_NotOkStatusException\u001b[0m \u001b[0;32mas\u001b[0m \u001b[0me\u001b[0m\u001b[0;34m:\u001b[0m\u001b[0;34m\u001b[0m\u001b[0;34m\u001b[0m\u001b[0m\n\u001b[1;32m     63\u001b[0m     \u001b[0;32mif\u001b[0m \u001b[0mname\u001b[0m \u001b[0;32mis\u001b[0m \u001b[0;32mnot\u001b[0m \u001b[0;32mNone\u001b[0m\u001b[0;34m:\u001b[0m\u001b[0;34m\u001b[0m\u001b[0;34m\u001b[0m\u001b[0m\n",
      "\u001b[0;31mKeyboardInterrupt\u001b[0m: "
     ]
    }
   ],
   "source": [
    "# Initializes a Sequential Model (linear stack of layers)\n",
    "# Simplest way to build a model in Keras, where you can just keep adding layers sequentially\n",
    "\n",
    "input_size = x_train.shape[1] # 10 input features in our data \n",
    "# hidden_layer_size = 50 # start off with 50 neurons per hidden layer\n",
    "output_size = 1 # because 2 possible classifications denoted by 0 and 1 in a single output; DNN calculates probability the exoplanet is 0 or 1 and the higher probability is the output \n",
    "\n",
    "# dropout_rate = 0.05 # dropout rate we will use in the model as a measure to prevent overfitting\n",
    "\n",
    "def create_dnn(trial):\n",
    "\n",
    "    # since we use optuna, we have to toss in the values we want it to test during the optimization process\n",
    "\n",
    "    # units = neurons in the hidden later, 32 to 512 jumping 32 at a time \n",
    "    units = trial.suggest_int('units', 10, 100, step=5)\n",
    "\n",
    "    # dropout rate is self explanatory\n",
    "    dropout_rate = trial.suggest_float('dropout', 0.0, 0.5, step=0.05)\n",
    "    \n",
    "    dnn_model = Sequential([\n",
    "    # input layer for the input data; 10 features so 10 inputs for the first dense layer \n",
    "    # in a dense layer, each feature becomes an input to the next layer, which consists of neurons\n",
    "    # the line below defines the input layer and creates the first dense layer consisting of 50 neurons\n",
    "    # we use Rectified Linear Unit (ReLU) as the activation function because ReLU helps mitigate the vanishing gradient problem\n",
    "# and allows the model to learn complex paterns\n",
    "    tf.keras.layers.Dense(units, activation='relu', input_shape = (input_size,)),\n",
    "\n",
    "# add a dropout layer with dropout rate of 0.1 \n",
    "# This essentially just means 10% of the neurons will be randomly set to 0 during training\n",
    "# Dropout is a regularization technique used to prevent overfitting \n",
    "# This helps prevent the model from overfitting by randomly dropping neurons during training\n",
    "    tf.keras.layers.Dropout(dropout_rate),\n",
    "    \n",
    "# we only use 1 hidden layer of neurons because 2 lowers validation accuracy;\n",
    "    \n",
    "    # output layer with 1 neuron for binary classification\n",
    "    tf.keras.layers.Dense(output_size, activation='sigmoid')\n",
    "    ])\n",
    "# next, choose the optimizer and loss function\n",
    "# adam is usually the most optimal\n",
    "# loss will be binary_crossentropy for binary classification\n",
    "# the metric we care about is accuracy\n",
    "    dnn_model.compile(optimizer='adam', loss='binary_crossentropy', metrics=['accuracy'])\n",
    "    return dnn_model\n",
    "\n",
    "def objective(trial):\n",
    "    model = create_dnn(trial)\n",
    "\n",
    "\n",
    "    # suggest number of epochs and batch size\n",
    "    epochs = trial.suggest_int('epochs', 5, 50, step=5)\n",
    "    batch_size = trial.suggest_int('batch_size', 5,30,step=5)\n",
    "    training = model.fit(x_train_nparr, \n",
    "            y_train_nparr, \n",
    "            epochs=epochs, \n",
    "            batch_size=batch_size, \n",
    "            validation_split=0.1, \n",
    "            callbacks=[TFKerasPruningCallback(trial, 'val_accuracy')], \n",
    "            verbose=2\n",
    "    )\n",
    "    val_accuracy = max(training.history['val_accuracy'])\n",
    "    return val_accuracy\n",
    "\n",
    "# create a study and optimize the objective function\n",
    "study = opt.create_study(direction='maximize')\n",
    "study.optimize(objective, n_trials=100)\n",
    "\n",
    "(f'Best trial: {study.best_trial.value}', f'Best hyperparameters: {study.best_trial.params}')\n"
   ]
  },
  {
   "cell_type": "markdown",
   "metadata": {},
   "source": [
    "### Extract the best hyperparameters determined by Optuna"
   ]
  },
  {
   "cell_type": "code",
   "execution_count": null,
   "metadata": {},
   "outputs": [],
   "source": [
    "best_params = study.best_trial.params"
   ]
  },
  {
   "cell_type": "markdown",
   "metadata": {},
   "source": [
    "### Train the model now using the best hyperparameters"
   ]
  },
  {
   "cell_type": "code",
   "execution_count": null,
   "metadata": {},
   "outputs": [],
   "source": [
    "best_dnn = Sequential([\n",
    "    \n",
    "    tf.keras.layers.Dense(units= best_params['units'], activation='relu', input_shape = (input_size,)),\n",
    "\n",
    "    tf.keras.layers.Dropout(best_params['dropout']),\n",
    "    \n",
    "    tf.keras.layers.Dense(output_size, activation='sigmoid')\n",
    "    ])\n",
    "\n",
    "best_dnn.compile(optimizer='adam', loss='binary_crossentropy', metrics=['accuracy'])"
   ]
  },
  {
   "cell_type": "markdown",
   "metadata": {},
   "source": [
    "### Fit the best model"
   ]
  },
  {
   "cell_type": "code",
   "execution_count": null,
   "metadata": {},
   "outputs": [],
   "source": [
    "best_dnn_model = best_dnn.fit(\n",
    "        x_train_nparr, \n",
    "        y_train_nparr, \n",
    "        epochs=best_params['epochs'], \n",
    "        batch_size=best_params['batch_size'], \n",
    "        validation_split=0.1, \n",
    "        verbose=2\n",
    "    )"
   ]
  },
  {
   "cell_type": "markdown",
   "metadata": {},
   "source": [
    "## Model Predictions"
   ]
  },
  {
   "cell_type": "code",
   "execution_count": null,
   "metadata": {},
   "outputs": [],
   "source": [
    "# Here we actually make the predictions on the test set\n",
    "# model outputs the probability for the positive class\n",
    "# also convert the probabilities to binary class predictions with a threshold of 0.5\n",
    "\n",
    "y_pred_prob = best_dnn_model.predict(x_test_nparr)"
   ]
  },
  {
   "cell_type": "markdown",
   "metadata": {},
   "source": [
    "## Raw probabilities for the positive class"
   ]
  },
  {
   "cell_type": "code",
   "execution_count": null,
   "metadata": {},
   "outputs": [],
   "source": [
    "# We use these probabilities for calculating the ROC-AUC score and other performance metrics that require probabilities\n",
    "# ravel() flattens the matrix to a 1D array of probabilities\n",
    "\n",
    "y_pred = (y_pred_prob > 0.5).astype(\"int32\")"
   ]
  },
  {
   "cell_type": "markdown",
   "metadata": {},
   "source": [
    "## Evaluate Model performance"
   ]
  },
  {
   "cell_type": "code",
   "execution_count": null,
   "metadata": {},
   "outputs": [],
   "source": [
    "from sklearn.metrics import classification_report, accuracy_score, roc_auc_score\n",
    "import matplotlib.pyplot as plt"
   ]
  },
  {
   "cell_type": "code",
   "execution_count": null,
   "metadata": {},
   "outputs": [],
   "source": [
    "('DNN Accuracy on Test Set:', accuracy_score(y_test_nparr, y_pred)),\n",
    "('DNN Classification Report on Test Set:\\n', classification_report(y_test_nparr, y_pred)),\n",
    "('DNN ROC AUC Score on Test Set:', roc_auc_score(y_test_nparr, y_pred_prob))"
   ]
  },
  {
   "cell_type": "markdown",
   "metadata": {},
   "source": [
    "## Plot Validation and Training Metrics for visual presentation "
   ]
  },
  {
   "cell_type": "code",
   "execution_count": null,
   "metadata": {},
   "outputs": [],
   "source": [
    "plt.figure(figsize=(10,6))\n",
    "\n",
    "# training accuracy over epochs\n",
    "plt.plot(best_dnn_model.history['accuracy'])\n",
    "\n",
    "# validation accuracy over epochs\n",
    "plt.plot(best_dnn_model.history['val_accuracy'])\n",
    "\n",
    "plt.title('Exoplanet DNN Model Accuracy')\n",
    "plt.ylabel('Accuracy')\n",
    "plt.xlabel('Epoch')\n",
    "plt.legend(['Train', 'Validation'], loc='upper left')\n",
    "plt.show()"
   ]
  },
  {
   "cell_type": "code",
   "execution_count": null,
   "metadata": {},
   "outputs": [],
   "source": [
    "# Display loss separately \n",
    "# Loss is a fundamental measure of how well a machine learning model's predictions match the actual outcomes\n",
    "# Loss quantifies the difference between pred values and actual values \n",
    "# Goal of training a model is to MINIMIZE LOSS\n",
    "# By minimizing loss we can improve the model's accuracy and predictive power\n",
    "# Loss guides hyperparamter tuning\n",
    "\n",
    "plt.figure(figsize=(10,6))\n",
    "\n",
    "# training loss over epochs\n",
    "plt.plot(best_dnn_model.history['loss'])\n",
    "\n",
    "# validation loss over epochs\n",
    "plt.plot(best_dnn_model.history['val_loss'])\n",
    "\n",
    "plt.title('Exoplanet DNN Model Loss')\n",
    "plt.ylabel('Loss')\n",
    "plt.xlabel('Epoch')\n",
    "plt.legend(['Train', 'Validation'], loc='upper left')\n",
    "plt.show()"
   ]
  }
 ],
 "metadata": {
  "kernelspec": {
   "display_name": "Python (tf_env)",
   "language": "python",
   "name": "tf_env"
  },
  "language_info": {
   "codemirror_mode": {
    "name": "ipython",
    "version": 3
   },
   "file_extension": ".py",
   "mimetype": "text/x-python",
   "name": "python",
   "nbconvert_exporter": "python",
   "pygments_lexer": "ipython3",
   "version": "3.7.12"
  }
 },
 "nbformat": 4,
 "nbformat_minor": 4
}
