{
 "cells": [
  {
   "cell_type": "code",
   "execution_count": 1,
   "id": "42153274-7526-423a-bc55-c23c906faf26",
   "metadata": {},
   "outputs": [
    {
     "ename": "SyntaxError",
     "evalue": "invalid syntax (_metadata_requests.py, line 1492)",
     "output_type": "error",
     "traceback": [
      "Traceback \u001b[0;36m(most recent call last)\u001b[0m:\n",
      "  File \u001b[1;32m\"/Users/kevin/anaconda3/envs/tf_env/lib/python3.7/site-packages/IPython/core/interactiveshell.py\"\u001b[0m, line \u001b[1;32m3457\u001b[0m, in \u001b[1;35mrun_code\u001b[0m\n    exec(code_obj, self.user_global_ns, self.user_ns)\n",
      "  File \u001b[1;32m\"/var/folders/0h/qrfpw0p522n_hd8ccn5ffyvh0000gn/T/ipykernel_33186/1408527180.py\"\u001b[0m, line \u001b[1;32m2\u001b[0m, in \u001b[1;35m<module>\u001b[0m\n    from imblearn.over_sampling import SMOTE\n",
      "  File \u001b[1;32m\"/Users/kevin/anaconda3/envs/tf_env/lib/python3.7/site-packages/imblearn/__init__.py\"\u001b[0m, line \u001b[1;32m52\u001b[0m, in \u001b[1;35m<module>\u001b[0m\n    from . import (\n",
      "  File \u001b[1;32m\"/Users/kevin/anaconda3/envs/tf_env/lib/python3.7/site-packages/imblearn/ensemble/__init__.py\"\u001b[0m, line \u001b[1;32m6\u001b[0m, in \u001b[1;35m<module>\u001b[0m\n    from ._bagging import BalancedBaggingClassifier\n",
      "  File \u001b[1;32m\"/Users/kevin/anaconda3/envs/tf_env/lib/python3.7/site-packages/imblearn/ensemble/_bagging.py\"\u001b[0m, line \u001b[1;32m30\u001b[0m, in \u001b[1;35m<module>\u001b[0m\n    from ..pipeline import Pipeline\n",
      "\u001b[0;36m  File \u001b[0;32m\"/Users/kevin/anaconda3/envs/tf_env/lib/python3.7/site-packages/imblearn/pipeline.py\"\u001b[0;36m, line \u001b[0;32m22\u001b[0;36m, in \u001b[0;35m<module>\u001b[0;36m\u001b[0m\n\u001b[0;31m    from .utils._metadata_requests import (\u001b[0m\n",
      "\u001b[0;36m  File \u001b[0;32m\"/Users/kevin/anaconda3/envs/tf_env/lib/python3.7/site-packages/imblearn/utils/_metadata_requests.py\"\u001b[0;36m, line \u001b[0;32m1492\u001b[0m\n\u001b[0;31m    def process_routing(_obj, _method, /, **kwargs):\u001b[0m\n\u001b[0m                                       ^\u001b[0m\n\u001b[0;31mSyntaxError\u001b[0m\u001b[0;31m:\u001b[0m invalid syntax\n"
     ]
    }
   ],
   "source": [
    "import pandas as pd\n",
    "from imblearn.over_sampling import SMOTE"
   ]
  },
  {
   "cell_type": "code",
   "execution_count": 4,
   "id": "225a2390-23b3-46ef-b3aa-ee1eba1cc0b7",
   "metadata": {},
   "outputs": [
    {
     "data": {
      "text/plain": [
       "Transit                          4168\n",
       "Radial Velocity                  1088\n",
       "Microlensing                      210\n",
       "Imaging                            68\n",
       "Transit Timing Variations          29\n",
       "Eclipse Timing Variations          17\n",
       "Orbital Brightness Modulation       9\n",
       "Pulsar Timing                       7\n",
       "Astrometry                          3\n",
       "Pulsation Timing Variations         2\n",
       "Disk Kinematics                     1\n",
       "Name: Discovery Method, dtype: int64"
      ]
     },
     "execution_count": 4,
     "metadata": {},
     "output_type": "execute_result"
    }
   ],
   "source": [
    "# need to try various models to see which has the greater performance\n",
    "\n",
    "# load the preprocessed data\n",
    "composite_preprocessed = pd.read_csv('Composite_preprocessed.csv')\n"
   ]
  },
  {
   "cell_type": "code",
   "execution_count": 3,
   "id": "2b627150-bdf1-46ee-9877-f1245ba0cdcd",
   "metadata": {},
   "outputs": [],
   "source": [
    "# we expect that half of these features will not have merit in predicting discovery method \n",
    "# Discovery Facility, Discovery Year, and Stellar Luminosity I predict will be most indicative of discovery method\n",
    "# The model will tell us which features are important for the analysis\n"
   ]
  }
 ],
 "metadata": {
  "kernelspec": {
   "display_name": "Python (tf_env)",
   "language": "python",
   "name": "tf_env"
  },
  "language_info": {
   "codemirror_mode": {
    "name": "ipython",
    "version": 3
   },
   "file_extension": ".py",
   "mimetype": "text/x-python",
   "name": "python",
   "nbconvert_exporter": "python",
   "pygments_lexer": "ipython3",
   "version": "3.7.16"
  }
 },
 "nbformat": 4,
 "nbformat_minor": 5
}
